{
 "cells": [
  {
   "cell_type": "markdown",
   "metadata": {},
   "source": [
    "# VacationPy\n",
    "----\n",
    "\n",
    "#### Note\n",
    "* Instructions have been included for each segment. You do not have to follow them exactly, but they are included to help you think through the steps."
   ]
  },
  {
   "cell_type": "code",
   "execution_count": 1,
   "metadata": {},
   "outputs": [],
   "source": [
    "# Dependencies and Setup\n",
    "#jupyter nbextension enable py gmaps\n",
    "import matplotlib.pyplot as plt\n",
    "import pandas as pd\n",
    "import numpy as np\n",
    "import requests\n",
    "\n",
    "import os\n",
    "\n",
    "# Import API key\n",
    "from api_keys import g_key"
   ]
  },
  {
   "cell_type": "code",
   "execution_count": 2,
   "metadata": {},
   "outputs": [],
   "source": [
    "import gmaps"
   ]
  },
  {
   "cell_type": "markdown",
   "metadata": {},
   "source": [
    "### Store Part I results into DataFrame\n",
    "* Load the csv exported in Part I to a DataFrame"
   ]
  },
  {
   "cell_type": "code",
   "execution_count": 3,
   "metadata": {},
   "outputs": [
    {
     "data": {
      "text/html": [
       "<div>\n",
       "<style scoped>\n",
       "    .dataframe tbody tr th:only-of-type {\n",
       "        vertical-align: middle;\n",
       "    }\n",
       "\n",
       "    .dataframe tbody tr th {\n",
       "        vertical-align: top;\n",
       "    }\n",
       "\n",
       "    .dataframe thead th {\n",
       "        text-align: right;\n",
       "    }\n",
       "</style>\n",
       "<table border=\"1\" class=\"dataframe\">\n",
       "  <thead>\n",
       "    <tr style=\"text-align: right;\">\n",
       "      <th></th>\n",
       "      <th>City Name</th>\n",
       "      <th>Country</th>\n",
       "      <th>City ID</th>\n",
       "      <th>Latitude</th>\n",
       "      <th>Longitude</th>\n",
       "      <th>Max Temperature</th>\n",
       "      <th>Humidity</th>\n",
       "      <th>Cloudiness (%)</th>\n",
       "      <th>Wind Speed</th>\n",
       "    </tr>\n",
       "  </thead>\n",
       "  <tbody>\n",
       "    <tr>\n",
       "      <th>0</th>\n",
       "      <td>La Ronge</td>\n",
       "      <td>CA</td>\n",
       "      <td>6050066</td>\n",
       "      <td>55.10</td>\n",
       "      <td>-105.28</td>\n",
       "      <td>39.20</td>\n",
       "      <td>27</td>\n",
       "      <td>75</td>\n",
       "      <td>10.29</td>\n",
       "    </tr>\n",
       "    <tr>\n",
       "      <th>1</th>\n",
       "      <td>Antón Lizardo</td>\n",
       "      <td>MX</td>\n",
       "      <td>3532821</td>\n",
       "      <td>19.05</td>\n",
       "      <td>-95.98</td>\n",
       "      <td>86.00</td>\n",
       "      <td>66</td>\n",
       "      <td>40</td>\n",
       "      <td>13.87</td>\n",
       "    </tr>\n",
       "    <tr>\n",
       "      <th>2</th>\n",
       "      <td>Albany</td>\n",
       "      <td>US</td>\n",
       "      <td>5106841</td>\n",
       "      <td>42.60</td>\n",
       "      <td>-73.97</td>\n",
       "      <td>46.99</td>\n",
       "      <td>97</td>\n",
       "      <td>99</td>\n",
       "      <td>12.84</td>\n",
       "    </tr>\n",
       "    <tr>\n",
       "      <th>3</th>\n",
       "      <td>Borogontsy</td>\n",
       "      <td>RU</td>\n",
       "      <td>2026160</td>\n",
       "      <td>62.67</td>\n",
       "      <td>131.17</td>\n",
       "      <td>32.79</td>\n",
       "      <td>94</td>\n",
       "      <td>100</td>\n",
       "      <td>5.73</td>\n",
       "    </tr>\n",
       "    <tr>\n",
       "      <th>4</th>\n",
       "      <td>Bluff</td>\n",
       "      <td>NZ</td>\n",
       "      <td>2206939</td>\n",
       "      <td>-46.60</td>\n",
       "      <td>168.33</td>\n",
       "      <td>49.91</td>\n",
       "      <td>76</td>\n",
       "      <td>46</td>\n",
       "      <td>11.50</td>\n",
       "    </tr>\n",
       "    <tr>\n",
       "      <th>...</th>\n",
       "      <td>...</td>\n",
       "      <td>...</td>\n",
       "      <td>...</td>\n",
       "      <td>...</td>\n",
       "      <td>...</td>\n",
       "      <td>...</td>\n",
       "      <td>...</td>\n",
       "      <td>...</td>\n",
       "      <td>...</td>\n",
       "    </tr>\n",
       "    <tr>\n",
       "      <th>562</th>\n",
       "      <td>Andrychów</td>\n",
       "      <td>PL</td>\n",
       "      <td>3104115</td>\n",
       "      <td>49.85</td>\n",
       "      <td>19.34</td>\n",
       "      <td>51.80</td>\n",
       "      <td>93</td>\n",
       "      <td>75</td>\n",
       "      <td>20.80</td>\n",
       "    </tr>\n",
       "    <tr>\n",
       "      <th>563</th>\n",
       "      <td>Keti Bandar</td>\n",
       "      <td>PK</td>\n",
       "      <td>1174451</td>\n",
       "      <td>24.14</td>\n",
       "      <td>67.45</td>\n",
       "      <td>80.67</td>\n",
       "      <td>88</td>\n",
       "      <td>90</td>\n",
       "      <td>12.86</td>\n",
       "    </tr>\n",
       "    <tr>\n",
       "      <th>564</th>\n",
       "      <td>Abu Dhabi</td>\n",
       "      <td>AE</td>\n",
       "      <td>292968</td>\n",
       "      <td>24.47</td>\n",
       "      <td>54.37</td>\n",
       "      <td>86.00</td>\n",
       "      <td>51</td>\n",
       "      <td>23</td>\n",
       "      <td>12.75</td>\n",
       "    </tr>\n",
       "    <tr>\n",
       "      <th>565</th>\n",
       "      <td>Ibrā’</td>\n",
       "      <td>OM</td>\n",
       "      <td>287832</td>\n",
       "      <td>22.69</td>\n",
       "      <td>58.53</td>\n",
       "      <td>81.95</td>\n",
       "      <td>54</td>\n",
       "      <td>2</td>\n",
       "      <td>2.37</td>\n",
       "    </tr>\n",
       "    <tr>\n",
       "      <th>566</th>\n",
       "      <td>Grand-Santi</td>\n",
       "      <td>GF</td>\n",
       "      <td>3381538</td>\n",
       "      <td>4.25</td>\n",
       "      <td>-54.38</td>\n",
       "      <td>74.79</td>\n",
       "      <td>96</td>\n",
       "      <td>100</td>\n",
       "      <td>4.85</td>\n",
       "    </tr>\n",
       "  </tbody>\n",
       "</table>\n",
       "<p>567 rows × 9 columns</p>\n",
       "</div>"
      ],
      "text/plain": [
       "         City Name Country  City ID  Latitude  Longitude  Max Temperature  \\\n",
       "0         La Ronge      CA  6050066     55.10    -105.28            39.20   \n",
       "1    Antón Lizardo      MX  3532821     19.05     -95.98            86.00   \n",
       "2           Albany      US  5106841     42.60     -73.97            46.99   \n",
       "3       Borogontsy      RU  2026160     62.67     131.17            32.79   \n",
       "4            Bluff      NZ  2206939    -46.60     168.33            49.91   \n",
       "..             ...     ...      ...       ...        ...              ...   \n",
       "562      Andrychów      PL  3104115     49.85      19.34            51.80   \n",
       "563    Keti Bandar      PK  1174451     24.14      67.45            80.67   \n",
       "564      Abu Dhabi      AE   292968     24.47      54.37            86.00   \n",
       "565          Ibrā’      OM   287832     22.69      58.53            81.95   \n",
       "566    Grand-Santi      GF  3381538      4.25     -54.38            74.79   \n",
       "\n",
       "     Humidity  Cloudiness (%)  Wind Speed  \n",
       "0          27              75       10.29  \n",
       "1          66              40       13.87  \n",
       "2          97              99       12.84  \n",
       "3          94             100        5.73  \n",
       "4          76              46       11.50  \n",
       "..        ...             ...         ...  \n",
       "562        93              75       20.80  \n",
       "563        88              90       12.86  \n",
       "564        51              23       12.75  \n",
       "565        54               2        2.37  \n",
       "566        96             100        4.85  \n",
       "\n",
       "[567 rows x 9 columns]"
      ]
     },
     "execution_count": 3,
     "metadata": {},
     "output_type": "execute_result"
    }
   ],
   "source": [
    "data = \"../output_data/WeatherPy_Log.csv\"\n",
    "data_df= pd.read_csv(data)\n",
    "data_df"
   ]
  },
  {
   "cell_type": "code",
   "execution_count": 10,
   "metadata": {},
   "outputs": [
    {
     "data": {
      "text/plain": [
       "'<table border=\"1\" class=\"dataframe\">\\n  <thead>\\n    <tr style=\"text-align: right;\">\\n      <th></th>\\n      <th>City Name</th>\\n      <th>Country</th>\\n      <th>City ID</th>\\n      <th>Latitude</th>\\n      <th>Longitude</th>\\n      <th>Max Temperature</th>\\n      <th>Humidity</th>\\n      <th>Cloudiness (%)</th>\\n      <th>Wind Speed</th>\\n    </tr>\\n  </thead>\\n  <tbody>\\n    <tr>\\n      <th>0</th>\\n      <td>La Ronge</td>\\n      <td>CA</td>\\n      <td>6050066</td>\\n      <td>55.10</td>\\n      <td>-105.28</td>\\n      <td>39.20</td>\\n      <td>27</td>\\n      <td>75</td>\\n      <td>10.29</td>\\n    </tr>\\n    <tr>\\n      <th>1</th>\\n      <td>Antón Lizardo</td>\\n      <td>MX</td>\\n      <td>3532821</td>\\n      <td>19.05</td>\\n      <td>-95.98</td>\\n      <td>86.00</td>\\n      <td>66</td>\\n      <td>40</td>\\n      <td>13.87</td>\\n    </tr>\\n    <tr>\\n      <th>2</th>\\n      <td>Albany</td>\\n      <td>US</td>\\n      <td>5106841</td>\\n      <td>42.60</td>\\n      <td>-73.97</td>\\n      <td>46.99</td>\\n      <td>97</td>\\n      <td>99</td>\\n      <td>12.84</td>\\n    </tr>\\n    <tr>\\n      <th>3</th>\\n      <td>Borogontsy</td>\\n      <td>RU</td>\\n      <td>2026160</td>\\n      <td>62.67</td>\\n      <td>131.17</td>\\n      <td>32.79</td>\\n      <td>94</td>\\n      <td>100</td>\\n      <td>5.73</td>\\n    </tr>\\n    <tr>\\n      <th>4</th>\\n      <td>Bluff</td>\\n      <td>NZ</td>\\n      <td>2206939</td>\\n      <td>-46.60</td>\\n      <td>168.33</td>\\n      <td>49.91</td>\\n      <td>76</td>\\n      <td>46</td>\\n      <td>11.50</td>\\n    </tr>\\n    <tr>\\n      <th>5</th>\\n      <td>Salisbury</td>\\n      <td>GB</td>\\n      <td>2638664</td>\\n      <td>51.07</td>\\n      <td>-1.80</td>\\n      <td>44.60</td>\\n      <td>60</td>\\n      <td>0</td>\\n      <td>10.29</td>\\n    </tr>\\n    <tr>\\n      <th>6</th>\\n      <td>São Filipe</td>\\n      <td>CV</td>\\n      <td>3374210</td>\\n      <td>14.90</td>\\n      <td>-24.50</td>\\n      <td>73.63</td>\\n      <td>74</td>\\n      <td>0</td>\\n      <td>11.50</td>\\n    </tr>\\n    <tr>\\n      <th>7</th>\\n      <td>Kalabo</td>\\n      <td>ZM</td>\\n      <td>915471</td>\\n      <td>-14.97</td>\\n      <td>22.68</td>\\n      <td>62.78</td>\\n      <td>55</td>\\n      <td>13</td>\\n      <td>5.28</td>\\n    </tr>\\n    <tr>\\n      <th>8</th>\\n      <td>Port Elizabeth</td>\\n      <td>ZA</td>\\n      <td>964420</td>\\n      <td>-33.92</td>\\n      <td>25.57</td>\\n      <td>60.80</td>\\n      <td>87</td>\\n      <td>81</td>\\n      <td>9.17</td>\\n    </tr>\\n    <tr>\\n      <th>9</th>\\n      <td>Touros</td>\\n      <td>BR</td>\\n      <td>3386213</td>\\n      <td>-5.20</td>\\n      <td>-35.46</td>\\n      <td>78.80</td>\\n      <td>83</td>\\n      <td>20</td>\\n      <td>6.93</td>\\n    </tr>\\n    <tr>\\n      <th>10</th>\\n      <td>Namatanai</td>\\n      <td>PG</td>\\n      <td>2090021</td>\\n      <td>-3.67</td>\\n      <td>152.43</td>\\n      <td>82.72</td>\\n      <td>82</td>\\n      <td>99</td>\\n      <td>7.49</td>\\n    </tr>\\n    <tr>\\n      <th>11</th>\\n      <td>Bredasdorp</td>\\n      <td>ZA</td>\\n      <td>1015776</td>\\n      <td>-34.53</td>\\n      <td>20.04</td>\\n      <td>62.60</td>\\n      <td>77</td>\\n      <td>100</td>\\n      <td>4.70</td>\\n    </tr>\\n    <tr>\\n      <th>12</th>\\n      <td>Saldanha</td>\\n      <td>ZA</td>\\n      <td>3361934</td>\\n      <td>-33.01</td>\\n      <td>17.94</td>\\n      <td>60.80</td>\\n      <td>87</td>\\n      <td>62</td>\\n      <td>5.82</td>\\n    </tr>\\n    <tr>\\n      <th>13</th>\\n      <td>Rikitea</td>\\n      <td>PF</td>\\n      <td>4030556</td>\\n      <td>-23.12</td>\\n      <td>-134.97</td>\\n      <td>74.12</td>\\n      <td>66</td>\\n      <td>49</td>\\n      <td>6.71</td>\\n    </tr>\\n    <tr>\\n      <th>14</th>\\n      <td>Dikson</td>\\n      <td>RU</td>\\n      <td>1507390</td>\\n      <td>73.51</td>\\n      <td>80.55</td>\\n      <td>25.25</td>\\n      <td>99</td>\\n      <td>68</td>\\n      <td>1.88</td>\\n    </tr>\\n    <tr>\\n      <th>15</th>\\n      <td>Byron Bay</td>\\n      <td>AU</td>\\n      <td>2172880</td>\\n      <td>-28.65</td>\\n      <td>153.62</td>\\n      <td>55.40</td>\\n      <td>82</td>\\n      <td>90</td>\\n      <td>9.17</td>\\n    </tr>\\n    <tr>\\n      <th>16</th>\\n      <td>Hobart</td>\\n      <td>AU</td>\\n      <td>2163355</td>\\n      <td>-42.88</td>\\n      <td>147.33</td>\\n      <td>55.40</td>\\n      <td>66</td>\\n      <td>75</td>\\n      <td>12.75</td>\\n    </tr>\\n    <tr>\\n      <th>17</th>\\n      <td>Klaksvík</td>\\n      <td>FO</td>\\n      <td>2618795</td>\\n      <td>62.23</td>\\n      <td>-6.59</td>\\n      <td>37.40</td>\\n      <td>64</td>\\n      <td>96</td>\\n      <td>16.11</td>\\n    </tr>\\n    <tr>\\n      <th>18</th>\\n      <td>Laas</td>\\n      <td>IT</td>\\n      <td>3175096</td>\\n      <td>46.62</td>\\n      <td>10.70</td>\\n      <td>46.99</td>\\n      <td>100</td>\\n      <td>90</td>\\n      <td>5.82</td>\\n    </tr>\\n    <tr>\\n      <th>19</th>\\n      <td>Lüderitz</td>\\n      <td>NaN</td>\\n      <td>3355672</td>\\n      <td>-26.65</td>\\n      <td>15.16</td>\\n      <td>62.60</td>\\n      <td>77</td>\\n      <td>0</td>\\n      <td>3.36</td>\\n    </tr>\\n    <tr>\\n      <th>20</th>\\n      <td>Kapaa</td>\\n      <td>US</td>\\n      <td>5848280</td>\\n      <td>22.08</td>\\n      <td>-159.32</td>\\n      <td>80.60</td>\\n      <td>74</td>\\n      <td>75</td>\\n      <td>13.87</td>\\n    </tr>\\n    <tr>\\n      <th>21</th>\\n      <td>Punta Arenas</td>\\n      <td>CL</td>\\n      <td>3874787</td>\\n      <td>-53.15</td>\\n      <td>-70.92</td>\\n      <td>41.00</td>\\n      <td>80</td>\\n      <td>20</td>\\n      <td>11.41</td>\\n    </tr>\\n    <tr>\\n      <th>22</th>\\n      <td>Comodoro Rivadavia</td>\\n      <td>AR</td>\\n      <td>3860443</td>\\n      <td>-45.87</td>\\n      <td>-67.50</td>\\n      <td>57.20</td>\\n      <td>50</td>\\n      <td>20</td>\\n      <td>10.29</td>\\n    </tr>\\n    <tr>\\n      <th>23</th>\\n      <td>Rypefjord</td>\\n      <td>NO</td>\\n      <td>847634</td>\\n      <td>70.63</td>\\n      <td>23.67</td>\\n      <td>32.00</td>\\n      <td>98</td>\\n      <td>75</td>\\n      <td>25.28</td>\\n    </tr>\\n    <tr>\\n      <th>24</th>\\n      <td>Sena Madureira</td>\\n      <td>BR</td>\\n      <td>3662155</td>\\n      <td>-9.07</td>\\n      <td>-68.66</td>\\n      <td>83.03</td>\\n      <td>69</td>\\n      <td>87</td>\\n      <td>0.09</td>\\n    </tr>\\n    <tr>\\n      <th>25</th>\\n      <td>Ushuaia</td>\\n      <td>AR</td>\\n      <td>3833367</td>\\n      <td>-54.80</td>\\n      <td>-68.30</td>\\n      <td>41.00</td>\\n      <td>86</td>\\n      <td>75</td>\\n      <td>26.40</td>\\n    </tr>\\n    <tr>\\n      <th>26</th>\\n      <td>Jinchang</td>\\n      <td>CN</td>\\n      <td>1805733</td>\\n      <td>38.50</td>\\n      <td>102.17</td>\\n      <td>47.25</td>\\n      <td>37</td>\\n      <td>77</td>\\n      <td>2.46</td>\\n    </tr>\\n    <tr>\\n      <th>27</th>\\n      <td>Nantucket</td>\\n      <td>US</td>\\n      <td>4944903</td>\\n      <td>41.28</td>\\n      <td>-70.10</td>\\n      <td>53.01</td>\\n      <td>93</td>\\n      <td>90</td>\\n      <td>8.05</td>\\n    </tr>\\n    <tr>\\n      <th>28</th>\\n      <td>Ilula</td>\\n      <td>TZ</td>\\n      <td>159179</td>\\n      <td>-7.68</td>\\n      <td>36.04</td>\\n      <td>66.20</td>\\n      <td>72</td>\\n      <td>27</td>\\n      <td>6.93</td>\\n    </tr>\\n    <tr>\\n      <th>29</th>\\n      <td>Bundaberg</td>\\n      <td>AU</td>\\n      <td>2173323</td>\\n      <td>-24.85</td>\\n      <td>152.35</td>\\n      <td>62.01</td>\\n      <td>72</td>\\n      <td>79</td>\\n      <td>5.82</td>\\n    </tr>\\n    <tr>\\n      <th>30</th>\\n      <td>Bambous Virieux</td>\\n      <td>MU</td>\\n      <td>1106677</td>\\n      <td>-20.34</td>\\n      <td>57.76</td>\\n      <td>71.60</td>\\n      <td>60</td>\\n      <td>40</td>\\n      <td>6.93</td>\\n    </tr>\\n    <tr>\\n      <th>31</th>\\n      <td>Albi</td>\\n      <td>FR</td>\\n      <td>3038261</td>\\n      <td>43.93</td>\\n      <td>2.15</td>\\n      <td>53.01</td>\\n      <td>98</td>\\n      <td>100</td>\\n      <td>3.00</td>\\n    </tr>\\n    <tr>\\n      <th>32</th>\\n      <td>Vao</td>\\n      <td>NC</td>\\n      <td>2137773</td>\\n      <td>-22.67</td>\\n      <td>167.48</td>\\n      <td>73.44</td>\\n      <td>73</td>\\n      <td>23</td>\\n      <td>17.54</td>\\n    </tr>\\n    <tr>\\n      <th>33</th>\\n      <td>Butaritari</td>\\n      <td>KI</td>\\n      <td>2110227</td>\\n      <td>3.07</td>\\n      <td>172.79</td>\\n      <td>83.57</td>\\n      <td>77</td>\\n      <td>31</td>\\n      <td>11.95</td>\\n    </tr>\\n    <tr>\\n      <th>34</th>\\n      <td>Zhigansk</td>\\n      <td>RU</td>\\n      <td>2012530</td>\\n      <td>66.77</td>\\n      <td>123.37</td>\\n      <td>26.26</td>\\n      <td>97</td>\\n      <td>95</td>\\n      <td>15.55</td>\\n    </tr>\\n    <tr>\\n      <th>35</th>\\n      <td>Alugan</td>\\n      <td>PH</td>\\n      <td>1731248</td>\\n      <td>12.22</td>\\n      <td>125.48</td>\\n      <td>81.90</td>\\n      <td>81</td>\\n      <td>24</td>\\n      <td>5.12</td>\\n    </tr>\\n    <tr>\\n      <th>36</th>\\n      <td>Yellowknife</td>\\n      <td>CA</td>\\n      <td>6185377</td>\\n      <td>62.46</td>\\n      <td>-114.35</td>\\n      <td>46.40</td>\\n      <td>45</td>\\n      <td>75</td>\\n      <td>14.99</td>\\n    </tr>\\n    <tr>\\n      <th>37</th>\\n      <td>Bichura</td>\\n      <td>RU</td>\\n      <td>2026708</td>\\n      <td>50.59</td>\\n      <td>107.60</td>\\n      <td>46.24</td>\\n      <td>54</td>\\n      <td>100</td>\\n      <td>2.84</td>\\n    </tr>\\n    <tr>\\n      <th>38</th>\\n      <td>Mersing</td>\\n      <td>MY</td>\\n      <td>1732826</td>\\n      <td>2.43</td>\\n      <td>103.84</td>\\n      <td>78.80</td>\\n      <td>94</td>\\n      <td>100</td>\\n      <td>5.82</td>\\n    </tr>\\n    <tr>\\n      <th>39</th>\\n      <td>Ishigaki</td>\\n      <td>JP</td>\\n      <td>1861416</td>\\n      <td>24.34</td>\\n      <td>124.16</td>\\n      <td>75.20</td>\\n      <td>100</td>\\n      <td>75</td>\\n      <td>19.46</td>\\n    </tr>\\n    <tr>\\n      <th>40</th>\\n      <td>Puerto Ayora</td>\\n      <td>EC</td>\\n      <td>3652764</td>\\n      <td>-0.74</td>\\n      <td>-90.35</td>\\n      <td>80.60</td>\\n      <td>78</td>\\n      <td>75</td>\\n      <td>17.22</td>\\n    </tr>\\n    <tr>\\n      <th>41</th>\\n      <td>Marawi</td>\\n      <td>PH</td>\\n      <td>1701054</td>\\n      <td>8.00</td>\\n      <td>124.29</td>\\n      <td>78.01</td>\\n      <td>92</td>\\n      <td>100</td>\\n      <td>4.00</td>\\n    </tr>\\n    <tr>\\n      <th>42</th>\\n      <td>Mataura</td>\\n      <td>NZ</td>\\n      <td>6201424</td>\\n      <td>-46.19</td>\\n      <td>168.86</td>\\n      <td>45.54</td>\\n      <td>85</td>\\n      <td>100</td>\\n      <td>1.28</td>\\n    </tr>\\n    <tr>\\n      <th>43</th>\\n      <td>Boa Vista</td>\\n      <td>BR</td>\\n      <td>3664980</td>\\n      <td>2.82</td>\\n      <td>-60.67</td>\\n      <td>86.00</td>\\n      <td>62</td>\\n      <td>75</td>\\n      <td>2.24</td>\\n    </tr>\\n    <tr>\\n      <th>44</th>\\n      <td>Katsuura</td>\\n      <td>JP</td>\\n      <td>2112309</td>\\n      <td>35.13</td>\\n      <td>140.30</td>\\n      <td>66.99</td>\\n      <td>93</td>\\n      <td>40</td>\\n      <td>4.70</td>\\n    </tr>\\n    <tr>\\n      <th>45</th>\\n      <td>Açucena</td>\\n      <td>BR</td>\\n      <td>3473183</td>\\n      <td>-19.07</td>\\n      <td>-42.55</td>\\n      <td>61.03</td>\\n      <td>88</td>\\n      <td>73</td>\\n      <td>1.07</td>\\n    </tr>\\n    <tr>\\n      <th>46</th>\\n      <td>Grindavik</td>\\n      <td>IS</td>\\n      <td>3416888</td>\\n      <td>63.84</td>\\n      <td>-22.43</td>\\n      <td>42.80</td>\\n      <td>93</td>\\n      <td>90</td>\\n      <td>18.34</td>\\n    </tr>\\n    <tr>\\n      <th>47</th>\\n      <td>Thompson</td>\\n      <td>CA</td>\\n      <td>6165406</td>\\n      <td>55.74</td>\\n      <td>-97.86</td>\\n      <td>37.40</td>\\n      <td>23</td>\\n      <td>5</td>\\n      <td>9.17</td>\\n    </tr>\\n    <tr>\\n      <th>48</th>\\n      <td>Muravlenko</td>\\n      <td>RU</td>\\n      <td>1540711</td>\\n      <td>63.79</td>\\n      <td>74.52</td>\\n      <td>41.67</td>\\n      <td>84</td>\\n      <td>93</td>\\n      <td>16.62</td>\\n    </tr>\\n    <tr>\\n      <th>49</th>\\n      <td>Bengkulu</td>\\n      <td>ID</td>\\n      <td>1649150</td>\\n      <td>-3.80</td>\\n      <td>102.27</td>\\n      <td>75.90</td>\\n      <td>85</td>\\n      <td>62</td>\\n      <td>4.29</td>\\n    </tr>\\n    <tr>\\n      <th>50</th>\\n      <td>Fort Myers Beach</td>\\n      <td>US</td>\\n      <td>4155996</td>\\n      <td>26.45</td>\\n      <td>-81.95</td>\\n      <td>90.00</td>\\n      <td>40</td>\\n      <td>40</td>\\n      <td>12.75</td>\\n    </tr>\\n    <tr>\\n      <th>51</th>\\n      <td>Keetmanshoop</td>\\n      <td>NaN</td>\\n      <td>3356264</td>\\n      <td>-26.58</td>\\n      <td>18.13</td>\\n      <td>69.80</td>\\n      <td>30</td>\\n      <td>0</td>\\n      <td>10.29</td>\\n    </tr>\\n    <tr>\\n      <th>52</th>\\n      <td>Mehamn</td>\\n      <td>NO</td>\\n      <td>778707</td>\\n      <td>71.04</td>\\n      <td>27.85</td>\\n      <td>33.80</td>\\n      <td>86</td>\\n      <td>90</td>\\n      <td>39.15</td>\\n    </tr>\\n    <tr>\\n      <th>53</th>\\n      <td>Khatanga</td>\\n      <td>RU</td>\\n      <td>2022572</td>\\n      <td>71.97</td>\\n      <td>102.50</td>\\n      <td>20.75</td>\\n      <td>96</td>\\n      <td>0</td>\\n      <td>7.16</td>\\n    </tr>\\n    <tr>\\n      <th>54</th>\\n      <td>Qaanaaq</td>\\n      <td>GL</td>\\n      <td>3831208</td>\\n      <td>77.48</td>\\n      <td>-69.36</td>\\n      <td>12.60</td>\\n      <td>81</td>\\n      <td>0</td>\\n      <td>3.31</td>\\n    </tr>\\n    <tr>\\n      <th>55</th>\\n      <td>Cabo San Lucas</td>\\n      <td>MX</td>\\n      <td>3985710</td>\\n      <td>22.89</td>\\n      <td>-109.91</td>\\n      <td>87.80</td>\\n      <td>22</td>\\n      <td>20</td>\\n      <td>18.34</td>\\n    </tr>\\n    <tr>\\n      <th>56</th>\\n      <td>Flinders</td>\\n      <td>AU</td>\\n      <td>6255012</td>\\n      <td>-34.58</td>\\n      <td>150.86</td>\\n      <td>46.99</td>\\n      <td>85</td>\\n      <td>10</td>\\n      <td>1.99</td>\\n    </tr>\\n    <tr>\\n      <th>57</th>\\n      <td>Chui</td>\\n      <td>UY</td>\\n      <td>3443061</td>\\n      <td>-33.70</td>\\n      <td>-53.46</td>\\n      <td>56.41</td>\\n      <td>70</td>\\n      <td>21</td>\\n      <td>6.64</td>\\n    </tr>\\n    <tr>\\n      <th>58</th>\\n      <td>Tuatapere</td>\\n      <td>NZ</td>\\n      <td>2180815</td>\\n      <td>-46.13</td>\\n      <td>167.68</td>\\n      <td>46.89</td>\\n      <td>83</td>\\n      <td>16</td>\\n      <td>3.91</td>\\n    </tr>\\n    <tr>\\n      <th>59</th>\\n      <td>Ciudad Bolivar</td>\\n      <td>VE</td>\\n      <td>3645532</td>\\n      <td>8.12</td>\\n      <td>-63.55</td>\\n      <td>92.23</td>\\n      <td>43</td>\\n      <td>82</td>\\n      <td>13.24</td>\\n    </tr>\\n    <tr>\\n      <th>60</th>\\n      <td>Adrar</td>\\n      <td>MR</td>\\n      <td>2381972</td>\\n      <td>20.50</td>\\n      <td>-10.07</td>\\n      <td>88.50</td>\\n      <td>15</td>\\n      <td>0</td>\\n      <td>11.95</td>\\n    </tr>\\n    <tr>\\n      <th>61</th>\\n      <td>Esperance</td>\\n      <td>AU</td>\\n      <td>2071860</td>\\n      <td>-33.87</td>\\n      <td>121.90</td>\\n      <td>57.20</td>\\n      <td>87</td>\\n      <td>90</td>\\n      <td>2.24</td>\\n    </tr>\\n    <tr>\\n      <th>62</th>\\n      <td>George Town</td>\\n      <td>MY</td>\\n      <td>1735106</td>\\n      <td>5.41</td>\\n      <td>100.34</td>\\n      <td>78.80</td>\\n      <td>94</td>\\n      <td>40</td>\\n      <td>5.82</td>\\n    </tr>\\n    <tr>\\n      <th>63</th>\\n      <td>Fortuna</td>\\n      <td>US</td>\\n      <td>5563839</td>\\n      <td>40.60</td>\\n      <td>-124.16</td>\\n      <td>62.60</td>\\n      <td>63</td>\\n      <td>75</td>\\n      <td>17.22</td>\\n    </tr>\\n    <tr>\\n      <th>64</th>\\n      <td>Williams Lake</td>\\n      <td>CA</td>\\n      <td>6182212</td>\\n      <td>52.14</td>\\n      <td>-122.14</td>\\n      <td>60.80</td>\\n      <td>23</td>\\n      <td>20</td>\\n      <td>11.41</td>\\n    </tr>\\n    <tr>\\n      <th>65</th>\\n      <td>Port Hedland</td>\\n      <td>AU</td>\\n      <td>2063042</td>\\n      <td>-20.32</td>\\n      <td>118.57</td>\\n      <td>64.40</td>\\n      <td>45</td>\\n      <td>0</td>\\n      <td>5.82</td>\\n    </tr>\\n    <tr>\\n      <th>66</th>\\n      <td>Atuona</td>\\n      <td>PF</td>\\n      <td>4020109</td>\\n      <td>-9.80</td>\\n      <td>-139.03</td>\\n      <td>81.03</td>\\n      <td>75</td>\\n      <td>15</td>\\n      <td>17.13</td>\\n    </tr>\\n    <tr>\\n      <th>67</th>\\n      <td>Lagunas</td>\\n      <td>PE</td>\\n      <td>3695844</td>\\n      <td>-5.23</td>\\n      <td>-75.68</td>\\n      <td>88.05</td>\\n      <td>60</td>\\n      <td>55</td>\\n      <td>1.48</td>\\n    </tr>\\n    <tr>\\n      <th>68</th>\\n      <td>Maltahöhe</td>\\n      <td>NaN</td>\\n      <td>3355624</td>\\n      <td>-24.83</td>\\n      <td>16.98</td>\\n      <td>61.57</td>\\n      <td>44</td>\\n      <td>9</td>\\n      <td>4.18</td>\\n    </tr>\\n    <tr>\\n      <th>69</th>\\n      <td>Bedburg</td>\\n      <td>DE</td>\\n      <td>2951648</td>\\n      <td>50.99</td>\\n      <td>6.57</td>\\n      <td>44.60</td>\\n      <td>42</td>\\n      <td>10</td>\\n      <td>10.29</td>\\n    </tr>\\n    <tr>\\n      <th>70</th>\\n      <td>Tasiilaq</td>\\n      <td>GL</td>\\n      <td>3424607</td>\\n      <td>65.61</td>\\n      <td>-37.64</td>\\n      <td>30.20</td>\\n      <td>80</td>\\n      <td>99</td>\\n      <td>17.22</td>\\n    </tr>\\n    <tr>\\n      <th>71</th>\\n      <td>Naze</td>\\n      <td>JP</td>\\n      <td>1855540</td>\\n      <td>28.37</td>\\n      <td>129.48</td>\\n      <td>71.60</td>\\n      <td>94</td>\\n      <td>91</td>\\n      <td>3.36</td>\\n    </tr>\\n    <tr>\\n      <th>72</th>\\n      <td>Puquio</td>\\n      <td>PE</td>\\n      <td>3931223</td>\\n      <td>-14.70</td>\\n      <td>-74.13</td>\\n      <td>56.01</td>\\n      <td>52</td>\\n      <td>29</td>\\n      <td>8.97</td>\\n    </tr>\\n    <tr>\\n      <th>73</th>\\n      <td>Hilo</td>\\n      <td>US</td>\\n      <td>5855927</td>\\n      <td>19.73</td>\\n      <td>-155.09</td>\\n      <td>73.40</td>\\n      <td>78</td>\\n      <td>90</td>\\n      <td>5.82</td>\\n    </tr>\\n    <tr>\\n      <th>74</th>\\n      <td>Klamath Falls</td>\\n      <td>US</td>\\n      <td>5735238</td>\\n      <td>42.22</td>\\n      <td>-121.78</td>\\n      <td>57.20</td>\\n      <td>35</td>\\n      <td>75</td>\\n      <td>23.04</td>\\n    </tr>\\n    <tr>\\n      <th>75</th>\\n      <td>Dunedin</td>\\n      <td>NZ</td>\\n      <td>2191562</td>\\n      <td>-45.87</td>\\n      <td>170.50</td>\\n      <td>53.01</td>\\n      <td>83</td>\\n      <td>100</td>\\n      <td>2.15</td>\\n    </tr>\\n    <tr>\\n      <th>76</th>\\n      <td>Broome</td>\\n      <td>US</td>\\n      <td>5110365</td>\\n      <td>42.25</td>\\n      <td>-75.83</td>\\n      <td>42.80</td>\\n      <td>70</td>\\n      <td>90</td>\\n      <td>13.87</td>\\n    </tr>\\n    <tr>\\n      <th>77</th>\\n      <td>Labuan</td>\\n      <td>MY</td>\\n      <td>1733782</td>\\n      <td>5.28</td>\\n      <td>115.24</td>\\n      <td>73.40</td>\\n      <td>94</td>\\n      <td>75</td>\\n      <td>6.93</td>\\n    </tr>\\n    <tr>\\n      <th>78</th>\\n      <td>Luohe</td>\\n      <td>CN</td>\\n      <td>1801934</td>\\n      <td>33.57</td>\\n      <td>114.04</td>\\n      <td>59.13</td>\\n      <td>39</td>\\n      <td>0</td>\\n      <td>10.36</td>\\n    </tr>\\n    <tr>\\n      <th>79</th>\\n      <td>Vanimo</td>\\n      <td>PG</td>\\n      <td>2084442</td>\\n      <td>-2.67</td>\\n      <td>141.30</td>\\n      <td>80.74</td>\\n      <td>84</td>\\n      <td>74</td>\\n      <td>4.52</td>\\n    </tr>\\n    <tr>\\n      <th>80</th>\\n      <td>Bakchar</td>\\n      <td>RU</td>\\n      <td>1511057</td>\\n      <td>57.02</td>\\n      <td>82.07</td>\\n      <td>59.97</td>\\n      <td>53</td>\\n      <td>31</td>\\n      <td>1.50</td>\\n    </tr>\\n    <tr>\\n      <th>81</th>\\n      <td>Busselton</td>\\n      <td>AU</td>\\n      <td>2075265</td>\\n      <td>-33.65</td>\\n      <td>115.33</td>\\n      <td>50.00</td>\\n      <td>79</td>\\n      <td>7</td>\\n      <td>9.37</td>\\n    </tr>\\n    <tr>\\n      <th>82</th>\\n      <td>Berdigestyakh</td>\\n      <td>RU</td>\\n      <td>2026861</td>\\n      <td>62.10</td>\\n      <td>126.70</td>\\n      <td>30.96</td>\\n      <td>93</td>\\n      <td>100</td>\\n      <td>9.28</td>\\n    </tr>\\n    <tr>\\n      <th>83</th>\\n      <td>Hithadhoo</td>\\n      <td>MV</td>\\n      <td>1282256</td>\\n      <td>-0.60</td>\\n      <td>73.08</td>\\n      <td>85.55</td>\\n      <td>75</td>\\n      <td>100</td>\\n      <td>14.18</td>\\n    </tr>\\n    <tr>\\n      <th>84</th>\\n      <td>Saskylakh</td>\\n      <td>RU</td>\\n      <td>2017155</td>\\n      <td>71.92</td>\\n      <td>114.08</td>\\n      <td>20.44</td>\\n      <td>97</td>\\n      <td>98</td>\\n      <td>11.54</td>\\n    </tr>\\n    <tr>\\n      <th>85</th>\\n      <td>Zhezkazgan</td>\\n      <td>KZ</td>\\n      <td>1516589</td>\\n      <td>47.80</td>\\n      <td>67.71</td>\\n      <td>66.85</td>\\n      <td>53</td>\\n      <td>100</td>\\n      <td>6.22</td>\\n    </tr>\\n    <tr>\\n      <th>86</th>\\n      <td>Ribeira Grande</td>\\n      <td>PT</td>\\n      <td>3372707</td>\\n      <td>38.52</td>\\n      <td>-28.70</td>\\n      <td>61.77</td>\\n      <td>79</td>\\n      <td>100</td>\\n      <td>15.97</td>\\n    </tr>\\n    <tr>\\n      <th>87</th>\\n      <td>Hasaki</td>\\n      <td>JP</td>\\n      <td>2112802</td>\\n      <td>35.73</td>\\n      <td>140.83</td>\\n      <td>66.20</td>\\n      <td>93</td>\\n      <td>75</td>\\n      <td>5.82</td>\\n    </tr>\\n    <tr>\\n      <th>88</th>\\n      <td>Cidreira</td>\\n      <td>BR</td>\\n      <td>3466165</td>\\n      <td>-30.18</td>\\n      <td>-50.21</td>\\n      <td>70.29</td>\\n      <td>80</td>\\n      <td>76</td>\\n      <td>8.28</td>\\n    </tr>\\n    <tr>\\n      <th>89</th>\\n      <td>Ureki</td>\\n      <td>GE</td>\\n      <td>611274</td>\\n      <td>42.00</td>\\n      <td>41.78</td>\\n      <td>57.20</td>\\n      <td>58</td>\\n      <td>0</td>\\n      <td>8.05</td>\\n    </tr>\\n    <tr>\\n      <th>90</th>\\n      <td>Castro</td>\\n      <td>BR</td>\\n      <td>3466704</td>\\n      <td>-24.79</td>\\n      <td>-50.01</td>\\n      <td>59.72</td>\\n      <td>86</td>\\n      <td>2</td>\\n      <td>4.25</td>\\n    </tr>\\n    <tr>\\n      <th>91</th>\\n      <td>Mauá</td>\\n      <td>BR</td>\\n      <td>3457381</td>\\n      <td>-23.67</td>\\n      <td>-46.46</td>\\n      <td>71.60</td>\\n      <td>49</td>\\n      <td>0</td>\\n      <td>4.70</td>\\n    </tr>\\n    <tr>\\n      <th>92</th>\\n      <td>Cape Town</td>\\n      <td>ZA</td>\\n      <td>3369157</td>\\n      <td>-33.93</td>\\n      <td>18.42</td>\\n      <td>63.00</td>\\n      <td>93</td>\\n      <td>93</td>\\n      <td>14.99</td>\\n    </tr>\\n    <tr>\\n      <th>93</th>\\n      <td>Bagdarin</td>\\n      <td>RU</td>\\n      <td>2027244</td>\\n      <td>54.43</td>\\n      <td>113.60</td>\\n      <td>33.40</td>\\n      <td>82</td>\\n      <td>78</td>\\n      <td>1.72</td>\\n    </tr>\\n    <tr>\\n      <th>94</th>\\n      <td>Florianópolis</td>\\n      <td>BR</td>\\n      <td>6323121</td>\\n      <td>-27.61</td>\\n      <td>-48.50</td>\\n      <td>73.40</td>\\n      <td>64</td>\\n      <td>63</td>\\n      <td>9.17</td>\\n    </tr>\\n    <tr>\\n      <th>95</th>\\n      <td>Sampit</td>\\n      <td>ID</td>\\n      <td>1628884</td>\\n      <td>-2.53</td>\\n      <td>112.95</td>\\n      <td>75.67</td>\\n      <td>98</td>\\n      <td>99</td>\\n      <td>1.83</td>\\n    </tr>\\n    <tr>\\n      <th>96</th>\\n      <td>Ahipara</td>\\n      <td>NZ</td>\\n      <td>2194098</td>\\n      <td>-35.17</td>\\n      <td>173.17</td>\\n      <td>61.47</td>\\n      <td>71</td>\\n      <td>100</td>\\n      <td>11.16</td>\\n    </tr>\\n    <tr>\\n      <th>97</th>\\n      <td>Marabu</td>\\n      <td>MY</td>\\n      <td>1738050</td>\\n      <td>4.41</td>\\n      <td>114.01</td>\\n      <td>77.00</td>\\n      <td>100</td>\\n      <td>75</td>\\n      <td>3.36</td>\\n    </tr>\\n    <tr>\\n      <th>98</th>\\n      <td>São João da Barra</td>\\n      <td>BR</td>\\n      <td>3448903</td>\\n      <td>-21.64</td>\\n      <td>-41.05</td>\\n      <td>73.40</td>\\n      <td>78</td>\\n      <td>0</td>\\n      <td>8.05</td>\\n    </tr>\\n    <tr>\\n      <th>99</th>\\n      <td>Toamasina</td>\\n      <td>MG</td>\\n      <td>1053384</td>\\n      <td>-18.17</td>\\n      <td>49.38</td>\\n      <td>72.07</td>\\n      <td>79</td>\\n      <td>100</td>\\n      <td>5.28</td>\\n    </tr>\\n    <tr>\\n      <th>100</th>\\n      <td>Goiás</td>\\n      <td>BR</td>\\n      <td>3462372</td>\\n      <td>-15.58</td>\\n      <td>-49.64</td>\\n      <td>69.35</td>\\n      <td>76</td>\\n      <td>1</td>\\n      <td>0.34</td>\\n    </tr>\\n    <tr>\\n      <th>101</th>\\n      <td>Nelson Bay</td>\\n      <td>AU</td>\\n      <td>2155562</td>\\n      <td>-32.72</td>\\n      <td>152.15</td>\\n      <td>48.99</td>\\n      <td>81</td>\\n      <td>20</td>\\n      <td>10.29</td>\\n    </tr>\\n    <tr>\\n      <th>102</th>\\n      <td>Evensk</td>\\n      <td>RU</td>\\n      <td>2125693</td>\\n      <td>61.95</td>\\n      <td>159.23</td>\\n      <td>32.72</td>\\n      <td>97</td>\\n      <td>100</td>\\n      <td>0.11</td>\\n    </tr>\\n    <tr>\\n      <th>103</th>\\n      <td>Vitim</td>\\n      <td>RU</td>\\n      <td>2013375</td>\\n      <td>59.45</td>\\n      <td>112.56</td>\\n      <td>34.92</td>\\n      <td>82</td>\\n      <td>31</td>\\n      <td>2.13</td>\\n    </tr>\\n    <tr>\\n      <th>104</th>\\n      <td>Linxia Chengguanzhen</td>\\n      <td>CN</td>\\n      <td>1803331</td>\\n      <td>35.60</td>\\n      <td>103.21</td>\\n      <td>44.94</td>\\n      <td>57</td>\\n      <td>0</td>\\n      <td>2.04</td>\\n    </tr>\\n    <tr>\\n      <th>105</th>\\n      <td>Olafsvik</td>\\n      <td>IS</td>\\n      <td>3414079</td>\\n      <td>64.89</td>\\n      <td>-23.71</td>\\n      <td>39.60</td>\\n      <td>79</td>\\n      <td>46</td>\\n      <td>5.14</td>\\n    </tr>\\n    <tr>\\n      <th>106</th>\\n      <td>New Norfolk</td>\\n      <td>AU</td>\\n      <td>2155415</td>\\n      <td>-42.78</td>\\n      <td>147.06</td>\\n      <td>54.00</td>\\n      <td>78</td>\\n      <td>55</td>\\n      <td>1.99</td>\\n    </tr>\\n    <tr>\\n      <th>107</th>\\n      <td>Ust-Maya</td>\\n      <td>RU</td>\\n      <td>2013918</td>\\n      <td>60.42</td>\\n      <td>134.53</td>\\n      <td>40.01</td>\\n      <td>72</td>\\n      <td>83</td>\\n      <td>7.07</td>\\n    </tr>\\n    <tr>\\n      <th>108</th>\\n      <td>Hirado</td>\\n      <td>JP</td>\\n      <td>1862555</td>\\n      <td>33.36</td>\\n      <td>129.55</td>\\n      <td>63.00</td>\\n      <td>93</td>\\n      <td>75</td>\\n      <td>2.24</td>\\n    </tr>\\n    <tr>\\n      <th>109</th>\\n      <td>Saint-Philippe</td>\\n      <td>RE</td>\\n      <td>935215</td>\\n      <td>-21.36</td>\\n      <td>55.77</td>\\n      <td>69.80</td>\\n      <td>56</td>\\n      <td>90</td>\\n      <td>9.17</td>\\n    </tr>\\n    <tr>\\n      <th>110</th>\\n      <td>Kumul</td>\\n      <td>CN</td>\\n      <td>1529484</td>\\n      <td>42.80</td>\\n      <td>93.45</td>\\n      <td>63.48</td>\\n      <td>20</td>\\n      <td>39</td>\\n      <td>7.38</td>\\n    </tr>\\n    <tr>\\n      <th>111</th>\\n      <td>Trebnje</td>\\n      <td>SI</td>\\n      <td>3188886</td>\\n      <td>45.90</td>\\n      <td>15.02</td>\\n      <td>64.40</td>\\n      <td>59</td>\\n      <td>34</td>\\n      <td>11.41</td>\\n    </tr>\\n    <tr>\\n      <th>112</th>\\n      <td>Ambanja</td>\\n      <td>MG</td>\\n      <td>1083724</td>\\n      <td>-13.68</td>\\n      <td>48.45</td>\\n      <td>73.80</td>\\n      <td>87</td>\\n      <td>39</td>\\n      <td>3.76</td>\\n    </tr>\\n    <tr>\\n      <th>113</th>\\n      <td>Airai</td>\\n      <td>TL</td>\\n      <td>1651810</td>\\n      <td>-8.93</td>\\n      <td>125.41</td>\\n      <td>58.12</td>\\n      <td>100</td>\\n      <td>100</td>\\n      <td>3.27</td>\\n    </tr>\\n    <tr>\\n      <th>114</th>\\n      <td>Jamestown</td>\\n      <td>US</td>\\n      <td>5122534</td>\\n      <td>42.10</td>\\n      <td>-79.24</td>\\n      <td>39.00</td>\\n      <td>86</td>\\n      <td>90</td>\\n      <td>14.99</td>\\n    </tr>\\n    <tr>\\n      <th>115</th>\\n      <td>Yinchuan</td>\\n      <td>CN</td>\\n      <td>1786657</td>\\n      <td>38.47</td>\\n      <td>106.27</td>\\n      <td>56.64</td>\\n      <td>29</td>\\n      <td>0</td>\\n      <td>7.45</td>\\n    </tr>\\n    <tr>\\n      <th>116</th>\\n      <td>Kaeo</td>\\n      <td>NZ</td>\\n      <td>2189343</td>\\n      <td>-35.10</td>\\n      <td>173.78</td>\\n      <td>62.01</td>\\n      <td>32</td>\\n      <td>100</td>\\n      <td>10.00</td>\\n    </tr>\\n    <tr>\\n      <th>117</th>\\n      <td>Ukiah</td>\\n      <td>US</td>\\n      <td>5404476</td>\\n      <td>39.15</td>\\n      <td>-123.21</td>\\n      <td>57.20</td>\\n      <td>82</td>\\n      <td>90</td>\\n      <td>10.29</td>\\n    </tr>\\n    <tr>\\n      <th>118</th>\\n      <td>Prieska</td>\\n      <td>ZA</td>\\n      <td>964090</td>\\n      <td>-29.66</td>\\n      <td>22.75</td>\\n      <td>62.33</td>\\n      <td>37</td>\\n      <td>0</td>\\n      <td>3.44</td>\\n    </tr>\\n    <tr>\\n      <th>119</th>\\n      <td>Harindānga</td>\\n      <td>IN</td>\\n      <td>1349090</td>\\n      <td>22.04</td>\\n      <td>88.32</td>\\n      <td>82.40</td>\\n      <td>83</td>\\n      <td>40</td>\\n      <td>3.36</td>\\n    </tr>\\n    <tr>\\n      <th>120</th>\\n      <td>Ubari</td>\\n      <td>LY</td>\\n      <td>2219235</td>\\n      <td>26.59</td>\\n      <td>12.78</td>\\n      <td>85.24</td>\\n      <td>14</td>\\n      <td>14</td>\\n      <td>10.67</td>\\n    </tr>\\n    <tr>\\n      <th>121</th>\\n      <td>Alcoentre</td>\\n      <td>PT</td>\\n      <td>2272143</td>\\n      <td>39.21</td>\\n      <td>-8.96</td>\\n      <td>61.00</td>\\n      <td>83</td>\\n      <td>97</td>\\n      <td>4.00</td>\\n    </tr>\\n    <tr>\\n      <th>122</th>\\n      <td>Geraldton</td>\\n      <td>AU</td>\\n      <td>2070998</td>\\n      <td>-28.77</td>\\n      <td>114.60</td>\\n      <td>51.80</td>\\n      <td>87</td>\\n      <td>2</td>\\n      <td>5.82</td>\\n    </tr>\\n    <tr>\\n      <th>123</th>\\n      <td>Lompoc</td>\\n      <td>US</td>\\n      <td>5367788</td>\\n      <td>34.64</td>\\n      <td>-120.46</td>\\n      <td>69.01</td>\\n      <td>63</td>\\n      <td>20</td>\\n      <td>10.29</td>\\n    </tr>\\n    <tr>\\n      <th>124</th>\\n      <td>Longyearbyen</td>\\n      <td>SJ</td>\\n      <td>2729907</td>\\n      <td>78.22</td>\\n      <td>15.64</td>\\n      <td>19.40</td>\\n      <td>67</td>\\n      <td>40</td>\\n      <td>4.50</td>\\n    </tr>\\n    <tr>\\n      <th>125</th>\\n      <td>Ilulissat</td>\\n      <td>GL</td>\\n      <td>3423146</td>\\n      <td>69.22</td>\\n      <td>-51.10</td>\\n      <td>55.40</td>\\n      <td>37</td>\\n      <td>46</td>\\n      <td>13.87</td>\\n    </tr>\\n    <tr>\\n      <th>126</th>\\n      <td>Port Alfred</td>\\n      <td>ZA</td>\\n      <td>964432</td>\\n      <td>-33.59</td>\\n      <td>26.89</td>\\n      <td>63.00</td>\\n      <td>89</td>\\n      <td>97</td>\\n      <td>1.99</td>\\n    </tr>\\n    <tr>\\n      <th>127</th>\\n      <td>Mar del Plata</td>\\n      <td>AR</td>\\n      <td>3430863</td>\\n      <td>-38.00</td>\\n      <td>-57.56</td>\\n      <td>57.99</td>\\n      <td>76</td>\\n      <td>40</td>\\n      <td>3.36</td>\\n    </tr>\\n    <tr>\\n      <th>128</th>\\n      <td>Faanui</td>\\n      <td>PF</td>\\n      <td>4034551</td>\\n      <td>-16.48</td>\\n      <td>-151.75</td>\\n      <td>81.57</td>\\n      <td>79</td>\\n      <td>2</td>\\n      <td>11.63</td>\\n    </tr>\\n    <tr>\\n      <th>129</th>\\n      <td>Iqaluit</td>\\n      <td>CA</td>\\n      <td>5983720</td>\\n      <td>63.75</td>\\n      <td>-68.51</td>\\n      <td>39.20</td>\\n      <td>64</td>\\n      <td>75</td>\\n      <td>16.11</td>\\n    </tr>\\n    <tr>\\n      <th>130</th>\\n      <td>Manbij</td>\\n      <td>SY</td>\\n      <td>167357</td>\\n      <td>36.53</td>\\n      <td>37.95</td>\\n      <td>59.00</td>\\n      <td>62</td>\\n      <td>0</td>\\n      <td>10.45</td>\\n    </tr>\\n    <tr>\\n      <th>131</th>\\n      <td>Hermanus</td>\\n      <td>ZA</td>\\n      <td>3366880</td>\\n      <td>-34.42</td>\\n      <td>19.23</td>\\n      <td>61.00</td>\\n      <td>86</td>\\n      <td>96</td>\\n      <td>9.42</td>\\n    </tr>\\n    <tr>\\n      <th>132</th>\\n      <td>Saint Anthony</td>\\n      <td>US</td>\\n      <td>5044290</td>\\n      <td>45.02</td>\\n      <td>-93.22</td>\\n      <td>55.99</td>\\n      <td>20</td>\\n      <td>1</td>\\n      <td>12.75</td>\\n    </tr>\\n    <tr>\\n      <th>133</th>\\n      <td>Miraflores</td>\\n      <td>MX</td>\\n      <td>3761194</td>\\n      <td>19.22</td>\\n      <td>-98.81</td>\\n      <td>73.40</td>\\n      <td>33</td>\\n      <td>75</td>\\n      <td>16.11</td>\\n    </tr>\\n    <tr>\\n      <th>134</th>\\n      <td>Bangassou</td>\\n      <td>CF</td>\\n      <td>240498</td>\\n      <td>4.74</td>\\n      <td>22.82</td>\\n      <td>69.71</td>\\n      <td>97</td>\\n      <td>100</td>\\n      <td>2.21</td>\\n    </tr>\\n    <tr>\\n      <th>135</th>\\n      <td>Dalianwan</td>\\n      <td>CN</td>\\n      <td>1921372</td>\\n      <td>39.03</td>\\n      <td>121.69</td>\\n      <td>48.20</td>\\n      <td>87</td>\\n      <td>0</td>\\n      <td>6.71</td>\\n    </tr>\\n    <tr>\\n      <th>136</th>\\n      <td>Pavlohrad</td>\\n      <td>UA</td>\\n      <td>697889</td>\\n      <td>48.52</td>\\n      <td>35.87</td>\\n      <td>57.20</td>\\n      <td>54</td>\\n      <td>0</td>\\n      <td>8.95</td>\\n    </tr>\\n    <tr>\\n      <th>137</th>\\n      <td>Sur</td>\\n      <td>OM</td>\\n      <td>286245</td>\\n      <td>22.57</td>\\n      <td>59.53</td>\\n      <td>84.83</td>\\n      <td>64</td>\\n      <td>0</td>\\n      <td>10.67</td>\\n    </tr>\\n    <tr>\\n      <th>138</th>\\n      <td>East London</td>\\n      <td>ZA</td>\\n      <td>1006984</td>\\n      <td>-33.02</td>\\n      <td>27.91</td>\\n      <td>65.48</td>\\n      <td>82</td>\\n      <td>42</td>\\n      <td>11.48</td>\\n    </tr>\\n    <tr>\\n      <th>139</th>\\n      <td>Yambio</td>\\n      <td>SS</td>\\n      <td>363656</td>\\n      <td>4.57</td>\\n      <td>28.40</td>\\n      <td>69.91</td>\\n      <td>97</td>\\n      <td>100</td>\\n      <td>3.31</td>\\n    </tr>\\n    <tr>\\n      <th>140</th>\\n      <td>Terre Haute</td>\\n      <td>US</td>\\n      <td>4265737</td>\\n      <td>39.47</td>\\n      <td>-87.41</td>\\n      <td>54.00</td>\\n      <td>62</td>\\n      <td>90</td>\\n      <td>9.17</td>\\n    </tr>\\n    <tr>\\n      <th>141</th>\\n      <td>Laminusa</td>\\n      <td>PH</td>\\n      <td>1707770</td>\\n      <td>5.55</td>\\n      <td>120.91</td>\\n      <td>84.02</td>\\n      <td>70</td>\\n      <td>99</td>\\n      <td>1.54</td>\\n    </tr>\\n    <tr>\\n      <th>142</th>\\n      <td>Hong Kong</td>\\n      <td>HK</td>\\n      <td>1819729</td>\\n      <td>22.29</td>\\n      <td>114.16</td>\\n      <td>78.01</td>\\n      <td>83</td>\\n      <td>100</td>\\n      <td>5.82</td>\\n    </tr>\\n    <tr>\\n      <th>143</th>\\n      <td>Vaini</td>\\n      <td>TO</td>\\n      <td>4032243</td>\\n      <td>-21.20</td>\\n      <td>-175.20</td>\\n      <td>78.80</td>\\n      <td>65</td>\\n      <td>20</td>\\n      <td>8.05</td>\\n    </tr>\\n    <tr>\\n      <th>144</th>\\n      <td>Tuktoyaktuk</td>\\n      <td>CA</td>\\n      <td>6170031</td>\\n      <td>69.45</td>\\n      <td>-133.04</td>\\n      <td>28.40</td>\\n      <td>92</td>\\n      <td>90</td>\\n      <td>11.41</td>\\n    </tr>\\n    <tr>\\n      <th>145</th>\\n      <td>Carnarvon</td>\\n      <td>AU</td>\\n      <td>2074865</td>\\n      <td>-24.87</td>\\n      <td>113.63</td>\\n      <td>69.19</td>\\n      <td>65</td>\\n      <td>0</td>\\n      <td>13.38</td>\\n    </tr>\\n    <tr>\\n      <th>146</th>\\n      <td>Aldan</td>\\n      <td>RU</td>\\n      <td>2027968</td>\\n      <td>58.60</td>\\n      <td>125.39</td>\\n      <td>29.43</td>\\n      <td>96</td>\\n      <td>100</td>\\n      <td>7.38</td>\\n    </tr>\\n    <tr>\\n      <th>147</th>\\n      <td>Sawtell</td>\\n      <td>AU</td>\\n      <td>2150163</td>\\n      <td>-30.38</td>\\n      <td>153.10</td>\\n      <td>55.40</td>\\n      <td>71</td>\\n      <td>33</td>\\n      <td>10.29</td>\\n    </tr>\\n    <tr>\\n      <th>148</th>\\n      <td>Bathsheba</td>\\n      <td>BB</td>\\n      <td>3374083</td>\\n      <td>13.22</td>\\n      <td>-59.52</td>\\n      <td>84.20</td>\\n      <td>66</td>\\n      <td>20</td>\\n      <td>20.80</td>\\n    </tr>\\n    <tr>\\n      <th>149</th>\\n      <td>Osoyoos</td>\\n      <td>CA</td>\\n      <td>6094665</td>\\n      <td>49.03</td>\\n      <td>-119.45</td>\\n      <td>75.20</td>\\n      <td>35</td>\\n      <td>40</td>\\n      <td>11.41</td>\\n    </tr>\\n    <tr>\\n      <th>150</th>\\n      <td>Upernavik</td>\\n      <td>GL</td>\\n      <td>3418910</td>\\n      <td>72.79</td>\\n      <td>-56.15</td>\\n      <td>28.60</td>\\n      <td>92</td>\\n      <td>100</td>\\n      <td>10.80</td>\\n    </tr>\\n    <tr>\\n      <th>151</th>\\n      <td>Barrow</td>\\n      <td>US</td>\\n      <td>5880054</td>\\n      <td>71.29</td>\\n      <td>-156.79</td>\\n      <td>28.40</td>\\n      <td>92</td>\\n      <td>90</td>\\n      <td>18.34</td>\\n    </tr>\\n    <tr>\\n      <th>152</th>\\n      <td>Bethel</td>\\n      <td>US</td>\\n      <td>5282297</td>\\n      <td>41.37</td>\\n      <td>-73.41</td>\\n      <td>57.00</td>\\n      <td>57</td>\\n      <td>90</td>\\n      <td>16.11</td>\\n    </tr>\\n    <tr>\\n      <th>153</th>\\n      <td>Fairbanks</td>\\n      <td>US</td>\\n      <td>5861897</td>\\n      <td>64.84</td>\\n      <td>-147.72</td>\\n      <td>77.00</td>\\n      <td>26</td>\\n      <td>1</td>\\n      <td>5.82</td>\\n    </tr>\\n    <tr>\\n      <th>154</th>\\n      <td>Nuuk</td>\\n      <td>GL</td>\\n      <td>3421319</td>\\n      <td>64.18</td>\\n      <td>-51.72</td>\\n      <td>44.60</td>\\n      <td>75</td>\\n      <td>100</td>\\n      <td>3.36</td>\\n    </tr>\\n    <tr>\\n      <th>155</th>\\n      <td>Qingdao</td>\\n      <td>CN</td>\\n      <td>1797929</td>\\n      <td>36.10</td>\\n      <td>120.37</td>\\n      <td>60.01</td>\\n      <td>62</td>\\n      <td>9</td>\\n      <td>4.47</td>\\n    </tr>\\n    <tr>\\n      <th>156</th>\\n      <td>Itarema</td>\\n      <td>BR</td>\\n      <td>3393692</td>\\n      <td>-2.92</td>\\n      <td>-39.92</td>\\n      <td>79.00</td>\\n      <td>84</td>\\n      <td>8</td>\\n      <td>11.14</td>\\n    </tr>\\n    <tr>\\n      <th>157</th>\\n      <td>Sitka</td>\\n      <td>US</td>\\n      <td>5557293</td>\\n      <td>57.05</td>\\n      <td>-135.33</td>\\n      <td>62.60</td>\\n      <td>48</td>\\n      <td>20</td>\\n      <td>4.56</td>\\n    </tr>\\n    <tr>\\n      <th>158</th>\\n      <td>Quebo</td>\\n      <td>GW</td>\\n      <td>2370473</td>\\n      <td>11.33</td>\\n      <td>-14.93</td>\\n      <td>75.36</td>\\n      <td>81</td>\\n      <td>98</td>\\n      <td>5.53</td>\\n    </tr>\\n    <tr>\\n      <th>159</th>\\n      <td>Provideniya</td>\\n      <td>RU</td>\\n      <td>4031574</td>\\n      <td>64.38</td>\\n      <td>-173.30</td>\\n      <td>42.80</td>\\n      <td>81</td>\\n      <td>40</td>\\n      <td>4.47</td>\\n    </tr>\\n    <tr>\\n      <th>160</th>\\n      <td>Codrington</td>\\n      <td>AU</td>\\n      <td>2171099</td>\\n      <td>-38.27</td>\\n      <td>141.97</td>\\n      <td>51.04</td>\\n      <td>73</td>\\n      <td>100</td>\\n      <td>14.81</td>\\n    </tr>\\n    <tr>\\n      <th>161</th>\\n      <td>Bauchi</td>\\n      <td>NG</td>\\n      <td>2347468</td>\\n      <td>10.50</td>\\n      <td>10.00</td>\\n      <td>85.12</td>\\n      <td>53</td>\\n      <td>30</td>\\n      <td>6.62</td>\\n    </tr>\\n    <tr>\\n      <th>162</th>\\n      <td>Ust-Kuyga</td>\\n      <td>RU</td>\\n      <td>2013921</td>\\n      <td>70.02</td>\\n      <td>135.60</td>\\n      <td>30.81</td>\\n      <td>97</td>\\n      <td>99</td>\\n      <td>4.43</td>\\n    </tr>\\n    <tr>\\n      <th>163</th>\\n      <td>Narsaq</td>\\n      <td>GL</td>\\n      <td>3421719</td>\\n      <td>60.92</td>\\n      <td>-46.05</td>\\n      <td>51.80</td>\\n      <td>29</td>\\n      <td>100</td>\\n      <td>41.38</td>\\n    </tr>\\n    <tr>\\n      <th>164</th>\\n      <td>Saint Paul Harbor</td>\\n      <td>US</td>\\n      <td>5866583</td>\\n      <td>57.79</td>\\n      <td>-152.41</td>\\n      <td>50.00</td>\\n      <td>61</td>\\n      <td>90</td>\\n      <td>6.93</td>\\n    </tr>\\n    <tr>\\n      <th>165</th>\\n      <td>Miguel Hidalgo</td>\\n      <td>MX</td>\\n      <td>3827408</td>\\n      <td>19.42</td>\\n      <td>-99.20</td>\\n      <td>71.60</td>\\n      <td>33</td>\\n      <td>75</td>\\n      <td>16.11</td>\\n    </tr>\\n    <tr>\\n      <th>166</th>\\n      <td>Teshie</td>\\n      <td>GH</td>\\n      <td>2294665</td>\\n      <td>5.58</td>\\n      <td>-0.11</td>\\n      <td>80.60</td>\\n      <td>83</td>\\n      <td>99</td>\\n      <td>12.75</td>\\n    </tr>\\n    <tr>\\n      <th>167</th>\\n      <td>Yeppoon</td>\\n      <td>AU</td>\\n      <td>2142316</td>\\n      <td>-23.13</td>\\n      <td>150.73</td>\\n      <td>60.80</td>\\n      <td>77</td>\\n      <td>5</td>\\n      <td>5.82</td>\\n    </tr>\\n    <tr>\\n      <th>168</th>\\n      <td>Pisco</td>\\n      <td>PE</td>\\n      <td>3932145</td>\\n      <td>-13.70</td>\\n      <td>-76.22</td>\\n      <td>75.20</td>\\n      <td>60</td>\\n      <td>84</td>\\n      <td>13.87</td>\\n    </tr>\\n    <tr>\\n      <th>169</th>\\n      <td>Makkah al Mukarramah</td>\\n      <td>SA</td>\\n      <td>104515</td>\\n      <td>21.43</td>\\n      <td>39.83</td>\\n      <td>86.02</td>\\n      <td>35</td>\\n      <td>77</td>\\n      <td>2.68</td>\\n    </tr>\\n    <tr>\\n      <th>170</th>\\n      <td>Rize</td>\\n      <td>TR</td>\\n      <td>740481</td>\\n      <td>40.90</td>\\n      <td>40.89</td>\\n      <td>36.50</td>\\n      <td>74</td>\\n      <td>0</td>\\n      <td>5.70</td>\\n    </tr>\\n    <tr>\\n      <th>171</th>\\n      <td>Hope</td>\\n      <td>US</td>\\n      <td>4115181</td>\\n      <td>33.67</td>\\n      <td>-93.59</td>\\n      <td>73.00</td>\\n      <td>29</td>\\n      <td>42</td>\\n      <td>5.01</td>\\n    </tr>\\n    <tr>\\n      <th>172</th>\\n      <td>Charagua</td>\\n      <td>BO</td>\\n      <td>3921141</td>\\n      <td>-19.80</td>\\n      <td>-63.22</td>\\n      <td>70.45</td>\\n      <td>69</td>\\n      <td>2</td>\\n      <td>5.75</td>\\n    </tr>\\n    <tr>\\n      <th>173</th>\\n      <td>Kyra</td>\\n      <td>RU</td>\\n      <td>2021041</td>\\n      <td>49.58</td>\\n      <td>111.98</td>\\n      <td>36.25</td>\\n      <td>71</td>\\n      <td>0</td>\\n      <td>3.13</td>\\n    </tr>\\n    <tr>\\n      <th>174</th>\\n      <td>Chubbuck</td>\\n      <td>US</td>\\n      <td>5588842</td>\\n      <td>42.92</td>\\n      <td>-112.47</td>\\n      <td>78.80</td>\\n      <td>21</td>\\n      <td>75</td>\\n      <td>14.99</td>\\n    </tr>\\n    <tr>\\n      <th>175</th>\\n      <td>Escuintla</td>\\n      <td>GT</td>\\n      <td>3595803</td>\\n      <td>14.30</td>\\n      <td>-90.78</td>\\n      <td>91.40</td>\\n      <td>66</td>\\n      <td>40</td>\\n      <td>11.41</td>\\n    </tr>\\n    <tr>\\n      <th>176</th>\\n      <td>Khakurinokhabl</td>\\n      <td>RU</td>\\n      <td>542415</td>\\n      <td>45.02</td>\\n      <td>40.23</td>\\n      <td>46.42</td>\\n      <td>69</td>\\n      <td>0</td>\\n      <td>5.03</td>\\n    </tr>\\n    <tr>\\n      <th>177</th>\\n      <td>Kwang Binh</td>\\n      <td>VN</td>\\n      <td>1582886</td>\\n      <td>17.48</td>\\n      <td>106.60</td>\\n      <td>79.34</td>\\n      <td>83</td>\\n      <td>100</td>\\n      <td>1.43</td>\\n    </tr>\\n    <tr>\\n      <th>178</th>\\n      <td>Xichang</td>\\n      <td>CN</td>\\n      <td>1789647</td>\\n      <td>27.90</td>\\n      <td>102.26</td>\\n      <td>57.60</td>\\n      <td>69</td>\\n      <td>100</td>\\n      <td>1.70</td>\\n    </tr>\\n    <tr>\\n      <th>179</th>\\n      <td>Gusau</td>\\n      <td>NG</td>\\n      <td>2339937</td>\\n      <td>12.16</td>\\n      <td>6.66</td>\\n      <td>80.83</td>\\n      <td>54</td>\\n      <td>61</td>\\n      <td>8.25</td>\\n    </tr>\\n    <tr>\\n      <th>180</th>\\n      <td>Kupino</td>\\n      <td>RU</td>\\n      <td>1501365</td>\\n      <td>54.37</td>\\n      <td>77.30</td>\\n      <td>64.29</td>\\n      <td>57</td>\\n      <td>0</td>\\n      <td>3.42</td>\\n    </tr>\\n    <tr>\\n      <th>181</th>\\n      <td>Arraial do Cabo</td>\\n      <td>BR</td>\\n      <td>3471451</td>\\n      <td>-22.97</td>\\n      <td>-42.03</td>\\n      <td>75.20</td>\\n      <td>73</td>\\n      <td>0</td>\\n      <td>12.75</td>\\n    </tr>\\n    <tr>\\n      <th>182</th>\\n      <td>West Fargo</td>\\n      <td>US</td>\\n      <td>5062458</td>\\n      <td>46.88</td>\\n      <td>-96.90</td>\\n      <td>48.20</td>\\n      <td>31</td>\\n      <td>1</td>\\n      <td>19.46</td>\\n    </tr>\\n    <tr>\\n      <th>183</th>\\n      <td>Quatre Cocos</td>\\n      <td>MU</td>\\n      <td>1106643</td>\\n      <td>-20.21</td>\\n      <td>57.76</td>\\n      <td>71.60</td>\\n      <td>60</td>\\n      <td>40</td>\\n      <td>6.93</td>\\n    </tr>\\n    <tr>\\n      <th>184</th>\\n      <td>Cañete</td>\\n      <td>CL</td>\\n      <td>3896924</td>\\n      <td>-37.80</td>\\n      <td>-73.40</td>\\n      <td>51.46</td>\\n      <td>82</td>\\n      <td>2</td>\\n      <td>5.37</td>\\n    </tr>\\n    <tr>\\n      <th>185</th>\\n      <td>Mazamari</td>\\n      <td>PE</td>\\n      <td>3935102</td>\\n      <td>-11.33</td>\\n      <td>-74.53</td>\\n      <td>79.00</td>\\n      <td>72</td>\\n      <td>46</td>\\n      <td>1.95</td>\\n    </tr>\\n    <tr>\\n      <th>186</th>\\n      <td>Meulaboh</td>\\n      <td>ID</td>\\n      <td>1214488</td>\\n      <td>4.14</td>\\n      <td>96.13</td>\\n      <td>77.11</td>\\n      <td>90</td>\\n      <td>80</td>\\n      <td>5.82</td>\\n    </tr>\\n    <tr>\\n      <th>187</th>\\n      <td>São Domingos</td>\\n      <td>BR</td>\\n      <td>3449293</td>\\n      <td>-13.40</td>\\n      <td>-46.32</td>\\n      <td>70.65</td>\\n      <td>80</td>\\n      <td>27</td>\\n      <td>7.43</td>\\n    </tr>\\n    <tr>\\n      <th>188</th>\\n      <td>Mujiayingzi</td>\\n      <td>CN</td>\\n      <td>2035707</td>\\n      <td>42.12</td>\\n      <td>118.78</td>\\n      <td>46.40</td>\\n      <td>51</td>\\n      <td>0</td>\\n      <td>16.69</td>\\n    </tr>\\n    <tr>\\n      <th>189</th>\\n      <td>Şabyā</td>\\n      <td>SA</td>\\n      <td>102651</td>\\n      <td>17.15</td>\\n      <td>42.63</td>\\n      <td>89.60</td>\\n      <td>66</td>\\n      <td>3</td>\\n      <td>3.36</td>\\n    </tr>\\n    <tr>\\n      <th>190</th>\\n      <td>Talnakh</td>\\n      <td>RU</td>\\n      <td>1490256</td>\\n      <td>69.49</td>\\n      <td>88.40</td>\\n      <td>30.20</td>\\n      <td>100</td>\\n      <td>75</td>\\n      <td>11.18</td>\\n    </tr>\\n    <tr>\\n      <th>191</th>\\n      <td>Leningradskiy</td>\\n      <td>RU</td>\\n      <td>2123814</td>\\n      <td>69.38</td>\\n      <td>178.42</td>\\n      <td>34.77</td>\\n      <td>95</td>\\n      <td>14</td>\\n      <td>6.46</td>\\n    </tr>\\n    <tr>\\n      <th>192</th>\\n      <td>Port Blair</td>\\n      <td>IN</td>\\n      <td>1259385</td>\\n      <td>11.67</td>\\n      <td>92.75</td>\\n      <td>81.72</td>\\n      <td>79</td>\\n      <td>79</td>\\n      <td>0.45</td>\\n    </tr>\\n    <tr>\\n      <th>193</th>\\n      <td>Newport</td>\\n      <td>GB</td>\\n      <td>2641598</td>\\n      <td>51.59</td>\\n      <td>-3.00</td>\\n      <td>46.99</td>\\n      <td>70</td>\\n      <td>2</td>\\n      <td>10.94</td>\\n    </tr>\\n    <tr>\\n      <th>194</th>\\n      <td>Shizunai-furukawachō</td>\\n      <td>JP</td>\\n      <td>2128025</td>\\n      <td>42.33</td>\\n      <td>142.37</td>\\n      <td>50.07</td>\\n      <td>84</td>\\n      <td>24</td>\\n      <td>3.11</td>\\n    </tr>\\n    <tr>\\n      <th>195</th>\\n      <td>Buala</td>\\n      <td>SB</td>\\n      <td>2109528</td>\\n      <td>-8.14</td>\\n      <td>159.59</td>\\n      <td>83.44</td>\\n      <td>79</td>\\n      <td>59</td>\\n      <td>8.84</td>\\n    </tr>\\n    <tr>\\n      <th>196</th>\\n      <td>Yārāda</td>\\n      <td>IN</td>\\n      <td>1252783</td>\\n      <td>17.65</td>\\n      <td>83.27</td>\\n      <td>82.40</td>\\n      <td>88</td>\\n      <td>40</td>\\n      <td>2.24</td>\\n    </tr>\\n    <tr>\\n      <th>197</th>\\n      <td>Villa María</td>\\n      <td>AR</td>\\n      <td>3832694</td>\\n      <td>-32.41</td>\\n      <td>-63.24</td>\\n      <td>57.00</td>\\n      <td>49</td>\\n      <td>0</td>\\n      <td>1.99</td>\\n    </tr>\\n    <tr>\\n      <th>198</th>\\n      <td>Souillac</td>\\n      <td>MU</td>\\n      <td>933995</td>\\n      <td>-20.52</td>\\n      <td>57.52</td>\\n      <td>71.60</td>\\n      <td>60</td>\\n      <td>40</td>\\n      <td>6.93</td>\\n    </tr>\\n    <tr>\\n      <th>199</th>\\n      <td>Boguchany</td>\\n      <td>RU</td>\\n      <td>1509844</td>\\n      <td>58.38</td>\\n      <td>97.45</td>\\n      <td>54.73</td>\\n      <td>77</td>\\n      <td>100</td>\\n      <td>4.94</td>\\n    </tr>\\n    <tr>\\n      <th>200</th>\\n      <td>Camabatela</td>\\n      <td>AO</td>\\n      <td>2242885</td>\\n      <td>-8.19</td>\\n      <td>15.38</td>\\n      <td>65.14</td>\\n      <td>80</td>\\n      <td>97</td>\\n      <td>2.15</td>\\n    </tr>\\n    <tr>\\n      <th>201</th>\\n      <td>San Cristobal</td>\\n      <td>VE</td>\\n      <td>3628473</td>\\n      <td>7.77</td>\\n      <td>-72.22</td>\\n      <td>93.20</td>\\n      <td>49</td>\\n      <td>20</td>\\n      <td>11.41</td>\\n    </tr>\\n    <tr>\\n      <th>202</th>\\n      <td>Hamilton</td>\\n      <td>US</td>\\n      <td>4513583</td>\\n      <td>39.18</td>\\n      <td>-84.53</td>\\n      <td>48.99</td>\\n      <td>52</td>\\n      <td>90</td>\\n      <td>9.17</td>\\n    </tr>\\n    <tr>\\n      <th>203</th>\\n      <td>Petropavlovsk-Kamchatskiy</td>\\n      <td>RU</td>\\n      <td>2122104</td>\\n      <td>53.05</td>\\n      <td>158.65</td>\\n      <td>41.00</td>\\n      <td>52</td>\\n      <td>49</td>\\n      <td>2.24</td>\\n    </tr>\\n    <tr>\\n      <th>204</th>\\n      <td>Orlik</td>\\n      <td>RU</td>\\n      <td>1496073</td>\\n      <td>52.52</td>\\n      <td>99.83</td>\\n      <td>44.73</td>\\n      <td>59</td>\\n      <td>86</td>\\n      <td>1.70</td>\\n    </tr>\\n    <tr>\\n      <th>205</th>\\n      <td>Morehead</td>\\n      <td>US</td>\\n      <td>4301317</td>\\n      <td>37.27</td>\\n      <td>-87.18</td>\\n      <td>60.01</td>\\n      <td>58</td>\\n      <td>75</td>\\n      <td>10.29</td>\\n    </tr>\\n    <tr>\\n      <th>206</th>\\n      <td>Najrān</td>\\n      <td>SA</td>\\n      <td>103630</td>\\n      <td>17.49</td>\\n      <td>44.13</td>\\n      <td>82.40</td>\\n      <td>30</td>\\n      <td>4</td>\\n      <td>1.99</td>\\n    </tr>\\n    <tr>\\n      <th>207</th>\\n      <td>Rawson</td>\\n      <td>AR</td>\\n      <td>3839307</td>\\n      <td>-43.30</td>\\n      <td>-65.10</td>\\n      <td>56.34</td>\\n      <td>40</td>\\n      <td>0</td>\\n      <td>11.27</td>\\n    </tr>\\n    <tr>\\n      <th>208</th>\\n      <td>Chernyshevskiy</td>\\n      <td>RU</td>\\n      <td>2025456</td>\\n      <td>63.01</td>\\n      <td>112.47</td>\\n      <td>26.44</td>\\n      <td>95</td>\\n      <td>0</td>\\n      <td>3.96</td>\\n    </tr>\\n    <tr>\\n      <th>209</th>\\n      <td>Chokurdakh</td>\\n      <td>RU</td>\\n      <td>2126123</td>\\n      <td>70.63</td>\\n      <td>147.92</td>\\n      <td>29.17</td>\\n      <td>98</td>\\n      <td>90</td>\\n      <td>11.01</td>\\n    </tr>\\n    <tr>\\n      <th>210</th>\\n      <td>Kohlu</td>\\n      <td>PK</td>\\n      <td>1173464</td>\\n      <td>29.90</td>\\n      <td>69.25</td>\\n      <td>75.79</td>\\n      <td>28</td>\\n      <td>7</td>\\n      <td>3.58</td>\\n    </tr>\\n    <tr>\\n      <th>211</th>\\n      <td>Lebu</td>\\n      <td>CL</td>\\n      <td>3883457</td>\\n      <td>-37.62</td>\\n      <td>-73.65</td>\\n      <td>54.12</td>\\n      <td>80</td>\\n      <td>0</td>\\n      <td>12.28</td>\\n    </tr>\\n    <tr>\\n      <th>212</th>\\n      <td>Ponta do Sol</td>\\n      <td>PT</td>\\n      <td>2264557</td>\\n      <td>32.67</td>\\n      <td>-17.10</td>\\n      <td>64.40</td>\\n      <td>55</td>\\n      <td>20</td>\\n      <td>12.75</td>\\n    </tr>\\n    <tr>\\n      <th>213</th>\\n      <td>Talcahuano</td>\\n      <td>CL</td>\\n      <td>3870282</td>\\n      <td>-36.72</td>\\n      <td>-73.12</td>\\n      <td>59.00</td>\\n      <td>72</td>\\n      <td>20</td>\\n      <td>14.99</td>\\n    </tr>\\n    <tr>\\n      <th>214</th>\\n      <td>Pochutla</td>\\n      <td>MX</td>\\n      <td>3517970</td>\\n      <td>15.74</td>\\n      <td>-96.47</td>\\n      <td>93.20</td>\\n      <td>41</td>\\n      <td>90</td>\\n      <td>6.64</td>\\n    </tr>\\n    <tr>\\n      <th>215</th>\\n      <td>Lima</td>\\n      <td>PE</td>\\n      <td>3936456</td>\\n      <td>-12.04</td>\\n      <td>-77.03</td>\\n      <td>75.20</td>\\n      <td>60</td>\\n      <td>35</td>\\n      <td>12.75</td>\\n    </tr>\\n    <tr>\\n      <th>216</th>\\n      <td>Garoowe</td>\\n      <td>SO</td>\\n      <td>58933</td>\\n      <td>8.41</td>\\n      <td>48.48</td>\\n      <td>83.28</td>\\n      <td>61</td>\\n      <td>62</td>\\n      <td>12.35</td>\\n    </tr>\\n    <tr>\\n      <th>217</th>\\n      <td>Constitución</td>\\n      <td>CL</td>\\n      <td>3893726</td>\\n      <td>-35.33</td>\\n      <td>-72.42</td>\\n      <td>55.92</td>\\n      <td>66</td>\\n      <td>99</td>\\n      <td>15.32</td>\\n    </tr>\\n    <tr>\\n      <th>218</th>\\n      <td>Gayéri</td>\\n      <td>BF</td>\\n      <td>2360541</td>\\n      <td>12.65</td>\\n      <td>0.49</td>\\n      <td>92.10</td>\\n      <td>44</td>\\n      <td>76</td>\\n      <td>15.03</td>\\n    </tr>\\n    <tr>\\n      <th>219</th>\\n      <td>Severo-Kuril\\'sk</td>\\n      <td>RU</td>\\n      <td>2121385</td>\\n      <td>50.68</td>\\n      <td>156.12</td>\\n      <td>36.37</td>\\n      <td>84</td>\\n      <td>59</td>\\n      <td>13.89</td>\\n    </tr>\\n    <tr>\\n      <th>220</th>\\n      <td>Lincoln</td>\\n      <td>US</td>\\n      <td>5072006</td>\\n      <td>40.80</td>\\n      <td>-96.67</td>\\n      <td>50.00</td>\\n      <td>37</td>\\n      <td>90</td>\\n      <td>3.36</td>\\n    </tr>\\n    <tr>\\n      <th>221</th>\\n      <td>Dubbo</td>\\n      <td>AU</td>\\n      <td>2168305</td>\\n      <td>-32.25</td>\\n      <td>148.62</td>\\n      <td>35.60</td>\\n      <td>93</td>\\n      <td>51</td>\\n      <td>4.70</td>\\n    </tr>\\n    <tr>\\n      <th>222</th>\\n      <td>Tilichiki</td>\\n      <td>RU</td>\\n      <td>2120591</td>\\n      <td>60.47</td>\\n      <td>166.10</td>\\n      <td>31.17</td>\\n      <td>100</td>\\n      <td>100</td>\\n      <td>5.53</td>\\n    </tr>\\n    <tr>\\n      <th>223</th>\\n      <td>Wamba</td>\\n      <td>NG</td>\\n      <td>2319257</td>\\n      <td>8.93</td>\\n      <td>8.60</td>\\n      <td>78.71</td>\\n      <td>74</td>\\n      <td>54</td>\\n      <td>1.36</td>\\n    </tr>\\n    <tr>\\n      <th>224</th>\\n      <td>Nālūt</td>\\n      <td>LY</td>\\n      <td>2214432</td>\\n      <td>30.33</td>\\n      <td>10.85</td>\\n      <td>83.66</td>\\n      <td>14</td>\\n      <td>82</td>\\n      <td>11.68</td>\\n    </tr>\\n    <tr>\\n      <th>225</th>\\n      <td>Lavrentiya</td>\\n      <td>RU</td>\\n      <td>4031637</td>\\n      <td>65.58</td>\\n      <td>-171.00</td>\\n      <td>37.58</td>\\n      <td>92</td>\\n      <td>0</td>\\n      <td>3.80</td>\\n    </tr>\\n    <tr>\\n      <th>226</th>\\n      <td>Clovis</td>\\n      <td>US</td>\\n      <td>5338122</td>\\n      <td>36.83</td>\\n      <td>-119.70</td>\\n      <td>87.01</td>\\n      <td>15</td>\\n      <td>20</td>\\n      <td>3.36</td>\\n    </tr>\\n    <tr>\\n      <th>227</th>\\n      <td>Clyde River</td>\\n      <td>CA</td>\\n      <td>5924351</td>\\n      <td>70.47</td>\\n      <td>-68.59</td>\\n      <td>14.00</td>\\n      <td>85</td>\\n      <td>90</td>\\n      <td>6.93</td>\\n    </tr>\\n    <tr>\\n      <th>228</th>\\n      <td>Richards Bay</td>\\n      <td>ZA</td>\\n      <td>962367</td>\\n      <td>-28.78</td>\\n      <td>32.04</td>\\n      <td>65.19</td>\\n      <td>61</td>\\n      <td>0</td>\\n      <td>3.06</td>\\n    </tr>\\n    <tr>\\n      <th>229</th>\\n      <td>Tezu</td>\\n      <td>IN</td>\\n      <td>1254709</td>\\n      <td>27.92</td>\\n      <td>96.17</td>\\n      <td>72.30</td>\\n      <td>64</td>\\n      <td>96</td>\\n      <td>3.91</td>\\n    </tr>\\n    <tr>\\n      <th>230</th>\\n      <td>Camocim</td>\\n      <td>BR</td>\\n      <td>3403687</td>\\n      <td>-2.90</td>\\n      <td>-40.84</td>\\n      <td>78.98</td>\\n      <td>89</td>\\n      <td>3</td>\\n      <td>9.53</td>\\n    </tr>\\n    <tr>\\n      <th>231</th>\\n      <td>Pijijiapan</td>\\n      <td>MX</td>\\n      <td>3521476</td>\\n      <td>15.70</td>\\n      <td>-93.23</td>\\n      <td>100.20</td>\\n      <td>29</td>\\n      <td>16</td>\\n      <td>2.13</td>\\n    </tr>\\n    <tr>\\n      <th>232</th>\\n      <td>Saint-François</td>\\n      <td>FR</td>\\n      <td>2980080</td>\\n      <td>46.42</td>\\n      <td>3.91</td>\\n      <td>44.01</td>\\n      <td>81</td>\\n      <td>90</td>\\n      <td>4.70</td>\\n    </tr>\\n    <tr>\\n      <th>233</th>\\n      <td>Hervey Bay</td>\\n      <td>AU</td>\\n      <td>2146219</td>\\n      <td>-25.30</td>\\n      <td>152.85</td>\\n      <td>60.01</td>\\n      <td>77</td>\\n      <td>60</td>\\n      <td>7.00</td>\\n    </tr>\\n    <tr>\\n      <th>234</th>\\n      <td>Letka</td>\\n      <td>RU</td>\\n      <td>535639</td>\\n      <td>59.60</td>\\n      <td>49.42</td>\\n      <td>46.45</td>\\n      <td>94</td>\\n      <td>0</td>\\n      <td>4.99</td>\\n    </tr>\\n    <tr>\\n      <th>235</th>\\n      <td>Plettenberg Bay</td>\\n      <td>ZA</td>\\n      <td>964712</td>\\n      <td>-34.05</td>\\n      <td>23.37</td>\\n      <td>62.92</td>\\n      <td>77</td>\\n      <td>67</td>\\n      <td>5.95</td>\\n    </tr>\\n    <tr>\\n      <th>236</th>\\n      <td>San Patricio</td>\\n      <td>MX</td>\\n      <td>3985168</td>\\n      <td>19.22</td>\\n      <td>-104.70</td>\\n      <td>82.40</td>\\n      <td>74</td>\\n      <td>5</td>\\n      <td>6.64</td>\\n    </tr>\\n    <tr>\\n      <th>237</th>\\n      <td>Poya</td>\\n      <td>NC</td>\\n      <td>2138522</td>\\n      <td>-21.35</td>\\n      <td>165.15</td>\\n      <td>73.54</td>\\n      <td>69</td>\\n      <td>28</td>\\n      <td>7.27</td>\\n    </tr>\\n    <tr>\\n      <th>238</th>\\n      <td>Callaway</td>\\n      <td>US</td>\\n      <td>4149635</td>\\n      <td>30.15</td>\\n      <td>-85.57</td>\\n      <td>84.00</td>\\n      <td>34</td>\\n      <td>1</td>\\n      <td>14.99</td>\\n    </tr>\\n    <tr>\\n      <th>239</th>\\n      <td>Kwinana</td>\\n      <td>AU</td>\\n      <td>2068079</td>\\n      <td>-32.25</td>\\n      <td>115.77</td>\\n      <td>59.00</td>\\n      <td>100</td>\\n      <td>0</td>\\n      <td>8.05</td>\\n    </tr>\\n    <tr>\\n      <th>240</th>\\n      <td>Altay</td>\\n      <td>CN</td>\\n      <td>1529651</td>\\n      <td>47.87</td>\\n      <td>88.12</td>\\n      <td>58.05</td>\\n      <td>30</td>\\n      <td>96</td>\\n      <td>5.55</td>\\n    </tr>\\n    <tr>\\n      <th>241</th>\\n      <td>Vestmannaeyjar</td>\\n      <td>IS</td>\\n      <td>3412093</td>\\n      <td>63.44</td>\\n      <td>-20.27</td>\\n      <td>45.25</td>\\n      <td>86</td>\\n      <td>99</td>\\n      <td>19.39</td>\\n    </tr>\\n    <tr>\\n      <th>242</th>\\n      <td>Duku</td>\\n      <td>NG</td>\\n      <td>2344415</td>\\n      <td>11.24</td>\\n      <td>4.91</td>\\n      <td>81.75</td>\\n      <td>65</td>\\n      <td>59</td>\\n      <td>2.39</td>\\n    </tr>\\n    <tr>\\n      <th>243</th>\\n      <td>Shingū</td>\\n      <td>JP</td>\\n      <td>1847947</td>\\n      <td>33.73</td>\\n      <td>135.98</td>\\n      <td>64.98</td>\\n      <td>60</td>\\n      <td>45</td>\\n      <td>2.82</td>\\n    </tr>\\n    <tr>\\n      <th>244</th>\\n      <td>Vila Velha</td>\\n      <td>BR</td>\\n      <td>3445026</td>\\n      <td>-20.33</td>\\n      <td>-40.29</td>\\n      <td>73.99</td>\\n      <td>78</td>\\n      <td>12</td>\\n      <td>3.36</td>\\n    </tr>\\n    <tr>\\n      <th>245</th>\\n      <td>Sapa</td>\\n      <td>PH</td>\\n      <td>1687343</td>\\n      <td>5.15</td>\\n      <td>120.32</td>\\n      <td>82.26</td>\\n      <td>77</td>\\n      <td>97</td>\\n      <td>3.02</td>\\n    </tr>\\n    <tr>\\n      <th>246</th>\\n      <td>Narón</td>\\n      <td>ES</td>\\n      <td>3115739</td>\\n      <td>43.52</td>\\n      <td>-8.15</td>\\n      <td>60.01</td>\\n      <td>77</td>\\n      <td>19</td>\\n      <td>4.70</td>\\n    </tr>\\n    <tr>\\n      <th>247</th>\\n      <td>Santa Cruz de la Sierra</td>\\n      <td>BO</td>\\n      <td>3904906</td>\\n      <td>-17.80</td>\\n      <td>-63.17</td>\\n      <td>80.60</td>\\n      <td>74</td>\\n      <td>75</td>\\n      <td>11.41</td>\\n    </tr>\\n    <tr>\\n      <th>248</th>\\n      <td>Kudahuvadhoo</td>\\n      <td>MV</td>\\n      <td>1337607</td>\\n      <td>2.67</td>\\n      <td>72.89</td>\\n      <td>84.43</td>\\n      <td>78</td>\\n      <td>100</td>\\n      <td>10.29</td>\\n    </tr>\\n    <tr>\\n      <th>249</th>\\n      <td>Novikovo</td>\\n      <td>RU</td>\\n      <td>487928</td>\\n      <td>51.15</td>\\n      <td>37.89</td>\\n      <td>53.42</td>\\n      <td>88</td>\\n      <td>0</td>\\n      <td>6.60</td>\\n    </tr>\\n    <tr>\\n      <th>250</th>\\n      <td>Karakol</td>\\n      <td>KG</td>\\n      <td>1528121</td>\\n      <td>42.49</td>\\n      <td>78.39</td>\\n      <td>49.48</td>\\n      <td>50</td>\\n      <td>0</td>\\n      <td>3.27</td>\\n    </tr>\\n    <tr>\\n      <th>251</th>\\n      <td>Gravelbourg</td>\\n      <td>CA</td>\\n      <td>5965462</td>\\n      <td>49.88</td>\\n      <td>-106.55</td>\\n      <td>47.19</td>\\n      <td>48</td>\\n      <td>100</td>\\n      <td>6.71</td>\\n    </tr>\\n    <tr>\\n      <th>252</th>\\n      <td>Penzance</td>\\n      <td>GB</td>\\n      <td>2640377</td>\\n      <td>50.12</td>\\n      <td>-5.54</td>\\n      <td>51.01</td>\\n      <td>65</td>\\n      <td>40</td>\\n      <td>10.29</td>\\n    </tr>\\n    <tr>\\n      <th>253</th>\\n      <td>Te Anau</td>\\n      <td>NZ</td>\\n      <td>2181625</td>\\n      <td>-45.42</td>\\n      <td>167.72</td>\\n      <td>44.29</td>\\n      <td>84</td>\\n      <td>82</td>\\n      <td>1.59</td>\\n    </tr>\\n    <tr>\\n      <th>254</th>\\n      <td>Oistins</td>\\n      <td>BB</td>\\n      <td>3373652</td>\\n      <td>13.07</td>\\n      <td>-59.53</td>\\n      <td>84.20</td>\\n      <td>66</td>\\n      <td>20</td>\\n      <td>20.80</td>\\n    </tr>\\n    <tr>\\n      <th>255</th>\\n      <td>Coquimbo</td>\\n      <td>CL</td>\\n      <td>3893629</td>\\n      <td>-29.95</td>\\n      <td>-71.34</td>\\n      <td>59.00</td>\\n      <td>77</td>\\n      <td>38</td>\\n      <td>8.05</td>\\n    </tr>\\n    <tr>\\n      <th>256</th>\\n      <td>Avarua</td>\\n      <td>CK</td>\\n      <td>4035715</td>\\n      <td>-21.21</td>\\n      <td>-159.78</td>\\n      <td>82.40</td>\\n      <td>83</td>\\n      <td>0</td>\\n      <td>9.17</td>\\n    </tr>\\n    <tr>\\n      <th>257</th>\\n      <td>Presidencia Roque Sáenz Peña</td>\\n      <td>AR</td>\\n      <td>3840300</td>\\n      <td>-26.79</td>\\n      <td>-60.44</td>\\n      <td>70.93</td>\\n      <td>82</td>\\n      <td>93</td>\\n      <td>4.34</td>\\n    </tr>\\n    <tr>\\n      <th>258</th>\\n      <td>Jieshi</td>\\n      <td>CN</td>\\n      <td>1805857</td>\\n      <td>22.81</td>\\n      <td>115.83</td>\\n      <td>77.31</td>\\n      <td>82</td>\\n      <td>100</td>\\n      <td>3.94</td>\\n    </tr>\\n    <tr>\\n      <th>259</th>\\n      <td>Oranjemund</td>\\n      <td>NaN</td>\\n      <td>3354071</td>\\n      <td>-28.55</td>\\n      <td>16.43</td>\\n      <td>60.73</td>\\n      <td>77</td>\\n      <td>0</td>\\n      <td>4.47</td>\\n    </tr>\\n    <tr>\\n      <th>260</th>\\n      <td>Cauquenes</td>\\n      <td>CL</td>\\n      <td>3896105</td>\\n      <td>-35.97</td>\\n      <td>-72.32</td>\\n      <td>53.92</td>\\n      <td>51</td>\\n      <td>84</td>\\n      <td>7.72</td>\\n    </tr>\\n    <tr>\\n      <th>261</th>\\n      <td>Kez</td>\\n      <td>RU</td>\\n      <td>550902</td>\\n      <td>57.90</td>\\n      <td>53.72</td>\\n      <td>52.88</td>\\n      <td>72</td>\\n      <td>98</td>\\n      <td>2.24</td>\\n    </tr>\\n    <tr>\\n      <th>262</th>\\n      <td>Bolong</td>\\n      <td>PH</td>\\n      <td>1724240</td>\\n      <td>7.10</td>\\n      <td>122.24</td>\\n      <td>77.00</td>\\n      <td>94</td>\\n      <td>75</td>\\n      <td>1.12</td>\\n    </tr>\\n    <tr>\\n      <th>263</th>\\n      <td>Camopi</td>\\n      <td>GF</td>\\n      <td>3382226</td>\\n      <td>3.17</td>\\n      <td>-52.32</td>\\n      <td>74.79</td>\\n      <td>96</td>\\n      <td>100</td>\\n      <td>3.98</td>\\n    </tr>\\n    <tr>\\n      <th>264</th>\\n      <td>Erdenet</td>\\n      <td>MN</td>\\n      <td>2031405</td>\\n      <td>49.03</td>\\n      <td>104.08</td>\\n      <td>46.29</td>\\n      <td>56</td>\\n      <td>82</td>\\n      <td>3.15</td>\\n    </tr>\\n    <tr>\\n      <th>265</th>\\n      <td>Sayyan</td>\\n      <td>YE</td>\\n      <td>70979</td>\\n      <td>15.17</td>\\n      <td>44.32</td>\\n      <td>63.86</td>\\n      <td>36</td>\\n      <td>0</td>\\n      <td>4.99</td>\\n    </tr>\\n    <tr>\\n      <th>266</th>\\n      <td>Gamba</td>\\n      <td>GA</td>\\n      <td>2400547</td>\\n      <td>-2.65</td>\\n      <td>10.00</td>\\n      <td>77.59</td>\\n      <td>88</td>\\n      <td>18</td>\\n      <td>3.33</td>\\n    </tr>\\n    <tr>\\n      <th>267</th>\\n      <td>Ilo</td>\\n      <td>PE</td>\\n      <td>3938415</td>\\n      <td>-17.64</td>\\n      <td>-71.34</td>\\n      <td>65.25</td>\\n      <td>76</td>\\n      <td>12</td>\\n      <td>3.22</td>\\n    </tr>\\n    <tr>\\n      <th>268</th>\\n      <td>Westport</td>\\n      <td>US</td>\\n      <td>4845585</td>\\n      <td>41.14</td>\\n      <td>-73.36</td>\\n      <td>59.00</td>\\n      <td>66</td>\\n      <td>40</td>\\n      <td>14.99</td>\\n    </tr>\\n    <tr>\\n      <th>269</th>\\n      <td>Chapecó</td>\\n      <td>BR</td>\\n      <td>3466296</td>\\n      <td>-27.10</td>\\n      <td>-52.62</td>\\n      <td>75.99</td>\\n      <td>55</td>\\n      <td>27</td>\\n      <td>2.21</td>\\n    </tr>\\n    <tr>\\n      <th>270</th>\\n      <td>Kologriv</td>\\n      <td>RU</td>\\n      <td>546282</td>\\n      <td>58.83</td>\\n      <td>44.32</td>\\n      <td>48.56</td>\\n      <td>96</td>\\n      <td>59</td>\\n      <td>6.78</td>\\n    </tr>\\n    <tr>\\n      <th>271</th>\\n      <td>Dali</td>\\n      <td>CN</td>\\n      <td>1814093</td>\\n      <td>25.70</td>\\n      <td>100.18</td>\\n      <td>57.92</td>\\n      <td>64</td>\\n      <td>76</td>\\n      <td>4.25</td>\\n    </tr>\\n    <tr>\\n      <th>272</th>\\n      <td>Nikolskoye</td>\\n      <td>RU</td>\\n      <td>546105</td>\\n      <td>59.70</td>\\n      <td>30.79</td>\\n      <td>39.20</td>\\n      <td>80</td>\\n      <td>90</td>\\n      <td>13.42</td>\\n    </tr>\\n    <tr>\\n      <th>273</th>\\n      <td>Tunceli</td>\\n      <td>TR</td>\\n      <td>298846</td>\\n      <td>39.11</td>\\n      <td>39.55</td>\\n      <td>50.00</td>\\n      <td>76</td>\\n      <td>4</td>\\n      <td>4.70</td>\\n    </tr>\\n    <tr>\\n      <th>274</th>\\n      <td>Banikoara</td>\\n      <td>BJ</td>\\n      <td>2395317</td>\\n      <td>11.30</td>\\n      <td>2.44</td>\\n      <td>83.37</td>\\n      <td>61</td>\\n      <td>4</td>\\n      <td>4.00</td>\\n    </tr>\\n    <tr>\\n      <th>275</th>\\n      <td>Hofn</td>\\n      <td>IS</td>\\n      <td>2630299</td>\\n      <td>64.25</td>\\n      <td>-15.21</td>\\n      <td>35.67</td>\\n      <td>85</td>\\n      <td>97</td>\\n      <td>18.63</td>\\n    </tr>\\n    <tr>\\n      <th>276</th>\\n      <td>Hobyo</td>\\n      <td>SO</td>\\n      <td>57000</td>\\n      <td>5.35</td>\\n      <td>48.53</td>\\n      <td>84.58</td>\\n      <td>79</td>\\n      <td>28</td>\\n      <td>16.17</td>\\n    </tr>\\n    <tr>\\n      <th>277</th>\\n      <td>Khorixas</td>\\n      <td>NaN</td>\\n      <td>3356213</td>\\n      <td>-20.37</td>\\n      <td>14.97</td>\\n      <td>73.27</td>\\n      <td>30</td>\\n      <td>81</td>\\n      <td>3.24</td>\\n    </tr>\\n    <tr>\\n      <th>278</th>\\n      <td>Kruisfontein</td>\\n      <td>ZA</td>\\n      <td>986717</td>\\n      <td>-34.00</td>\\n      <td>24.73</td>\\n      <td>61.02</td>\\n      <td>82</td>\\n      <td>97</td>\\n      <td>8.57</td>\\n    </tr>\\n    <tr>\\n      <th>279</th>\\n      <td>Honiara</td>\\n      <td>SB</td>\\n      <td>2108502</td>\\n      <td>-9.43</td>\\n      <td>159.95</td>\\n      <td>80.60</td>\\n      <td>78</td>\\n      <td>40</td>\\n      <td>4.70</td>\\n    </tr>\\n    <tr>\\n      <th>280</th>\\n      <td>Cherskiy</td>\\n      <td>RU</td>\\n      <td>2126199</td>\\n      <td>68.75</td>\\n      <td>161.30</td>\\n      <td>39.79</td>\\n      <td>68</td>\\n      <td>81</td>\\n      <td>24.23</td>\\n    </tr>\\n    <tr>\\n      <th>281</th>\\n      <td>Nikki</td>\\n      <td>BJ</td>\\n      <td>2392505</td>\\n      <td>9.94</td>\\n      <td>3.21</td>\\n      <td>79.79</td>\\n      <td>74</td>\\n      <td>67</td>\\n      <td>7.96</td>\\n    </tr>\\n    <tr>\\n      <th>282</th>\\n      <td>Bloemfontein</td>\\n      <td>ZA</td>\\n      <td>1018725</td>\\n      <td>-29.12</td>\\n      <td>26.21</td>\\n      <td>48.20</td>\\n      <td>70</td>\\n      <td>0</td>\\n      <td>3.36</td>\\n    </tr>\\n    <tr>\\n      <th>283</th>\\n      <td>Kavieng</td>\\n      <td>PG</td>\\n      <td>2094342</td>\\n      <td>-2.57</td>\\n      <td>150.80</td>\\n      <td>84.81</td>\\n      <td>72</td>\\n      <td>99</td>\\n      <td>3.65</td>\\n    </tr>\\n    <tr>\\n      <th>284</th>\\n      <td>Sirte</td>\\n      <td>LY</td>\\n      <td>2210554</td>\\n      <td>31.21</td>\\n      <td>16.59</td>\\n      <td>86.70</td>\\n      <td>15</td>\\n      <td>46</td>\\n      <td>17.09</td>\\n    </tr>\\n    <tr>\\n      <th>285</th>\\n      <td>Williston</td>\\n      <td>US</td>\\n      <td>5692947</td>\\n      <td>48.15</td>\\n      <td>-103.62</td>\\n      <td>53.01</td>\\n      <td>30</td>\\n      <td>99</td>\\n      <td>3.00</td>\\n    </tr>\\n    <tr>\\n      <th>286</th>\\n      <td>Rome</td>\\n      <td>US</td>\\n      <td>5134295</td>\\n      <td>43.21</td>\\n      <td>-75.46</td>\\n      <td>43.00</td>\\n      <td>70</td>\\n      <td>90</td>\\n      <td>18.34</td>\\n    </tr>\\n    <tr>\\n      <th>287</th>\\n      <td>Guerrero Negro</td>\\n      <td>MX</td>\\n      <td>4021858</td>\\n      <td>27.98</td>\\n      <td>-114.06</td>\\n      <td>71.96</td>\\n      <td>54</td>\\n      <td>4</td>\\n      <td>16.64</td>\\n    </tr>\\n    <tr>\\n      <th>288</th>\\n      <td>Druzhba</td>\\n      <td>UA</td>\\n      <td>709584</td>\\n      <td>52.04</td>\\n      <td>33.95</td>\\n      <td>57.60</td>\\n      <td>87</td>\\n      <td>29</td>\\n      <td>13.15</td>\\n    </tr>\\n    <tr>\\n      <th>289</th>\\n      <td>Nanortalik</td>\\n      <td>GL</td>\\n      <td>3421765</td>\\n      <td>60.14</td>\\n      <td>-45.24</td>\\n      <td>45.88</td>\\n      <td>66</td>\\n      <td>100</td>\\n      <td>19.66</td>\\n    </tr>\\n    <tr>\\n      <th>290</th>\\n      <td>Pervomayskoye</td>\\n      <td>RU</td>\\n      <td>797213</td>\\n      <td>43.92</td>\\n      <td>46.71</td>\\n      <td>54.97</td>\\n      <td>69</td>\\n      <td>2</td>\\n      <td>7.94</td>\\n    </tr>\\n    <tr>\\n      <th>291</th>\\n      <td>Madawaska</td>\\n      <td>US</td>\\n      <td>4970938</td>\\n      <td>47.36</td>\\n      <td>-68.33</td>\\n      <td>54.00</td>\\n      <td>37</td>\\n      <td>90</td>\\n      <td>2.42</td>\\n    </tr>\\n    <tr>\\n      <th>292</th>\\n      <td>Vallenar</td>\\n      <td>CL</td>\\n      <td>3868633</td>\\n      <td>-28.57</td>\\n      <td>-70.76</td>\\n      <td>64.13</td>\\n      <td>61</td>\\n      <td>61</td>\\n      <td>3.89</td>\\n    </tr>\\n    <tr>\\n      <th>293</th>\\n      <td>Vestmanna</td>\\n      <td>FO</td>\\n      <td>2610343</td>\\n      <td>62.16</td>\\n      <td>-7.17</td>\\n      <td>37.40</td>\\n      <td>64</td>\\n      <td>86</td>\\n      <td>13.87</td>\\n    </tr>\\n    <tr>\\n      <th>294</th>\\n      <td>Christchurch</td>\\n      <td>NZ</td>\\n      <td>2192362</td>\\n      <td>-43.53</td>\\n      <td>172.63</td>\\n      <td>55.00</td>\\n      <td>93</td>\\n      <td>98</td>\\n      <td>9.17</td>\\n    </tr>\\n    <tr>\\n      <th>295</th>\\n      <td>Ancud</td>\\n      <td>CL</td>\\n      <td>3899695</td>\\n      <td>-41.87</td>\\n      <td>-73.82</td>\\n      <td>51.01</td>\\n      <td>76</td>\\n      <td>90</td>\\n      <td>3.36</td>\\n    </tr>\\n    <tr>\\n      <th>296</th>\\n      <td>Gillette</td>\\n      <td>US</td>\\n      <td>5826027</td>\\n      <td>44.29</td>\\n      <td>-105.50</td>\\n      <td>37.40</td>\\n      <td>86</td>\\n      <td>90</td>\\n      <td>17.22</td>\\n    </tr>\\n    <tr>\\n      <th>297</th>\\n      <td>Ambilobe</td>\\n      <td>MG</td>\\n      <td>1082243</td>\\n      <td>-13.20</td>\\n      <td>49.05</td>\\n      <td>70.12</td>\\n      <td>80</td>\\n      <td>5</td>\\n      <td>4.92</td>\\n    </tr>\\n    <tr>\\n      <th>298</th>\\n      <td>Palmer</td>\\n      <td>US</td>\\n      <td>4946620</td>\\n      <td>42.16</td>\\n      <td>-72.33</td>\\n      <td>52.00</td>\\n      <td>71</td>\\n      <td>75</td>\\n      <td>5.82</td>\\n    </tr>\\n    <tr>\\n      <th>299</th>\\n      <td>Opuwo</td>\\n      <td>NaN</td>\\n      <td>3354077</td>\\n      <td>-18.06</td>\\n      <td>13.84</td>\\n      <td>69.58</td>\\n      <td>44</td>\\n      <td>69</td>\\n      <td>1.39</td>\\n    </tr>\\n    <tr>\\n      <th>300</th>\\n      <td>Portland</td>\\n      <td>US</td>\\n      <td>5746545</td>\\n      <td>45.52</td>\\n      <td>-122.68</td>\\n      <td>68.00</td>\\n      <td>37</td>\\n      <td>90</td>\\n      <td>11.41</td>\\n    </tr>\\n    <tr>\\n      <th>301</th>\\n      <td>Tigil\\'</td>\\n      <td>RU</td>\\n      <td>2120612</td>\\n      <td>57.80</td>\\n      <td>158.67</td>\\n      <td>41.47</td>\\n      <td>67</td>\\n      <td>0</td>\\n      <td>6.89</td>\\n    </tr>\\n    <tr>\\n      <th>302</th>\\n      <td>Mazara del Vallo</td>\\n      <td>IT</td>\\n      <td>6541759</td>\\n      <td>37.66</td>\\n      <td>12.59</td>\\n      <td>63.00</td>\\n      <td>93</td>\\n      <td>0</td>\\n      <td>1.12</td>\\n    </tr>\\n    <tr>\\n      <th>303</th>\\n      <td>Isangel</td>\\n      <td>VU</td>\\n      <td>2136825</td>\\n      <td>-19.55</td>\\n      <td>169.27</td>\\n      <td>73.40</td>\\n      <td>83</td>\\n      <td>20</td>\\n      <td>3.44</td>\\n    </tr>\\n    <tr>\\n      <th>304</th>\\n      <td>Anadyr</td>\\n      <td>RU</td>\\n      <td>2127202</td>\\n      <td>64.75</td>\\n      <td>177.48</td>\\n      <td>35.60</td>\\n      <td>94</td>\\n      <td>20</td>\\n      <td>13.42</td>\\n    </tr>\\n    <tr>\\n      <th>305</th>\\n      <td>Tommot</td>\\n      <td>RU</td>\\n      <td>2015179</td>\\n      <td>58.96</td>\\n      <td>126.29</td>\\n      <td>34.14</td>\\n      <td>88</td>\\n      <td>100</td>\\n      <td>8.21</td>\\n    </tr>\\n    <tr>\\n      <th>306</th>\\n      <td>Kaitangata</td>\\n      <td>NZ</td>\\n      <td>2208248</td>\\n      <td>-46.28</td>\\n      <td>169.85</td>\\n      <td>48.99</td>\\n      <td>87</td>\\n      <td>100</td>\\n      <td>3.00</td>\\n    </tr>\\n    <tr>\\n      <th>307</th>\\n      <td>Deputatsky</td>\\n      <td>RU</td>\\n      <td>2028164</td>\\n      <td>69.30</td>\\n      <td>139.90</td>\\n      <td>27.55</td>\\n      <td>99</td>\\n      <td>100</td>\\n      <td>3.29</td>\\n    </tr>\\n    <tr>\\n      <th>308</th>\\n      <td>Miramar</td>\\n      <td>US</td>\\n      <td>4164601</td>\\n      <td>25.99</td>\\n      <td>-80.23</td>\\n      <td>84.00</td>\\n      <td>58</td>\\n      <td>40</td>\\n      <td>17.22</td>\\n    </tr>\\n    <tr>\\n      <th>309</th>\\n      <td>Shalazhi</td>\\n      <td>RU</td>\\n      <td>495969</td>\\n      <td>43.10</td>\\n      <td>45.36</td>\\n      <td>51.80</td>\\n      <td>81</td>\\n      <td>24</td>\\n      <td>2.24</td>\\n    </tr>\\n    <tr>\\n      <th>310</th>\\n      <td>Whitianga</td>\\n      <td>NZ</td>\\n      <td>2179103</td>\\n      <td>-36.83</td>\\n      <td>175.70</td>\\n      <td>60.44</td>\\n      <td>75</td>\\n      <td>100</td>\\n      <td>15.05</td>\\n    </tr>\\n    <tr>\\n      <th>311</th>\\n      <td>Sisimiut</td>\\n      <td>GL</td>\\n      <td>3419842</td>\\n      <td>66.94</td>\\n      <td>-53.67</td>\\n      <td>43.11</td>\\n      <td>68</td>\\n      <td>62</td>\\n      <td>3.85</td>\\n    </tr>\\n    <tr>\\n      <th>312</th>\\n      <td>Mizdah</td>\\n      <td>LY</td>\\n      <td>2214827</td>\\n      <td>31.45</td>\\n      <td>12.98</td>\\n      <td>76.10</td>\\n      <td>31</td>\\n      <td>80</td>\\n      <td>3.24</td>\\n    </tr>\\n    <tr>\\n      <th>313</th>\\n      <td>Kavaratti</td>\\n      <td>IN</td>\\n      <td>1267390</td>\\n      <td>10.57</td>\\n      <td>72.64</td>\\n      <td>85.17</td>\\n      <td>74</td>\\n      <td>82</td>\\n      <td>10.11</td>\\n    </tr>\\n    <tr>\\n      <th>314</th>\\n      <td>Ende</td>\\n      <td>ID</td>\\n      <td>1644932</td>\\n      <td>-8.84</td>\\n      <td>121.66</td>\\n      <td>75.54</td>\\n      <td>76</td>\\n      <td>14</td>\\n      <td>1.88</td>\\n    </tr>\\n    <tr>\\n      <th>315</th>\\n      <td>Norman Wells</td>\\n      <td>CA</td>\\n      <td>6089245</td>\\n      <td>65.28</td>\\n      <td>-126.83</td>\\n      <td>57.20</td>\\n      <td>44</td>\\n      <td>5</td>\\n      <td>12.75</td>\\n    </tr>\\n    <tr>\\n      <th>316</th>\\n      <td>Mahébourg</td>\\n      <td>MU</td>\\n      <td>934322</td>\\n      <td>-20.41</td>\\n      <td>57.70</td>\\n      <td>71.60</td>\\n      <td>60</td>\\n      <td>40</td>\\n      <td>6.93</td>\\n    </tr>\\n    <tr>\\n      <th>317</th>\\n      <td>Saint-Augustin</td>\\n      <td>CA</td>\\n      <td>6137462</td>\\n      <td>51.23</td>\\n      <td>-58.65</td>\\n      <td>42.21</td>\\n      <td>72</td>\\n      <td>49</td>\\n      <td>18.05</td>\\n    </tr>\\n    <tr>\\n      <th>318</th>\\n      <td>Mount Gambier</td>\\n      <td>AU</td>\\n      <td>2156643</td>\\n      <td>-37.83</td>\\n      <td>140.77</td>\\n      <td>48.20</td>\\n      <td>87</td>\\n      <td>100</td>\\n      <td>11.41</td>\\n    </tr>\\n    <tr>\\n      <th>319</th>\\n      <td>Wufeng</td>\\n      <td>CN</td>\\n      <td>1784592</td>\\n      <td>27.45</td>\\n      <td>104.83</td>\\n      <td>50.54</td>\\n      <td>84</td>\\n      <td>97</td>\\n      <td>1.32</td>\\n    </tr>\\n    <tr>\\n      <th>320</th>\\n      <td>Moose Factory</td>\\n      <td>CA</td>\\n      <td>6078372</td>\\n      <td>51.26</td>\\n      <td>-80.61</td>\\n      <td>28.40</td>\\n      <td>46</td>\\n      <td>1</td>\\n      <td>11.41</td>\\n    </tr>\\n    <tr>\\n      <th>321</th>\\n      <td>Gondanglegi</td>\\n      <td>ID</td>\\n      <td>1640660</td>\\n      <td>-7.75</td>\\n      <td>112.01</td>\\n      <td>75.49</td>\\n      <td>89</td>\\n      <td>100</td>\\n      <td>8.23</td>\\n    </tr>\\n    <tr>\\n      <th>322</th>\\n      <td>Iranshahr</td>\\n      <td>IR</td>\\n      <td>1160939</td>\\n      <td>27.20</td>\\n      <td>60.68</td>\\n      <td>89.60</td>\\n      <td>21</td>\\n      <td>5</td>\\n      <td>6.93</td>\\n    </tr>\\n    <tr>\\n      <th>323</th>\\n      <td>Saint George</td>\\n      <td>US</td>\\n      <td>5546220</td>\\n      <td>37.10</td>\\n      <td>-113.58</td>\\n      <td>89.01</td>\\n      <td>14</td>\\n      <td>1</td>\\n      <td>25.28</td>\\n    </tr>\\n    <tr>\\n      <th>324</th>\\n      <td>Port-Cartier</td>\\n      <td>CA</td>\\n      <td>6111696</td>\\n      <td>50.03</td>\\n      <td>-66.87</td>\\n      <td>43.00</td>\\n      <td>60</td>\\n      <td>20</td>\\n      <td>16.11</td>\\n    </tr>\\n    <tr>\\n      <th>325</th>\\n      <td>Bela</td>\\n      <td>IN</td>\\n      <td>1276574</td>\\n      <td>25.93</td>\\n      <td>81.98</td>\\n      <td>83.89</td>\\n      <td>30</td>\\n      <td>59</td>\\n      <td>7.14</td>\\n    </tr>\\n    <tr>\\n      <th>326</th>\\n      <td>Davila</td>\\n      <td>PH</td>\\n      <td>1715335</td>\\n      <td>18.47</td>\\n      <td>120.58</td>\\n      <td>78.80</td>\\n      <td>94</td>\\n      <td>40</td>\\n      <td>2.24</td>\\n    </tr>\\n    <tr>\\n      <th>327</th>\\n      <td>Lata</td>\\n      <td>PT</td>\\n      <td>2738381</td>\\n      <td>40.16</td>\\n      <td>-8.33</td>\\n      <td>61.00</td>\\n      <td>88</td>\\n      <td>67</td>\\n      <td>5.01</td>\\n    </tr>\\n    <tr>\\n      <th>328</th>\\n      <td>Giyani</td>\\n      <td>ZA</td>\\n      <td>1001860</td>\\n      <td>-23.30</td>\\n      <td>30.72</td>\\n      <td>62.19</td>\\n      <td>49</td>\\n      <td>0</td>\\n      <td>3.40</td>\\n    </tr>\\n    <tr>\\n      <th>329</th>\\n      <td>Alice Springs</td>\\n      <td>AU</td>\\n      <td>2077895</td>\\n      <td>-23.70</td>\\n      <td>133.88</td>\\n      <td>50.00</td>\\n      <td>43</td>\\n      <td>100</td>\\n      <td>5.82</td>\\n    </tr>\\n    <tr>\\n      <th>330</th>\\n      <td>Pangnirtung</td>\\n      <td>CA</td>\\n      <td>6096551</td>\\n      <td>66.15</td>\\n      <td>-65.71</td>\\n      <td>44.60</td>\\n      <td>80</td>\\n      <td>90</td>\\n      <td>35.57</td>\\n    </tr>\\n    <tr>\\n      <th>331</th>\\n      <td>Oyama</td>\\n      <td>JP</td>\\n      <td>1853483</td>\\n      <td>36.30</td>\\n      <td>139.80</td>\\n      <td>72.00</td>\\n      <td>68</td>\\n      <td>75</td>\\n      <td>8.05</td>\\n    </tr>\\n    <tr>\\n      <th>332</th>\\n      <td>Inta</td>\\n      <td>RU</td>\\n      <td>1505579</td>\\n      <td>66.03</td>\\n      <td>60.17</td>\\n      <td>47.86</td>\\n      <td>82</td>\\n      <td>100</td>\\n      <td>7.18</td>\\n    </tr>\\n    <tr>\\n      <th>333</th>\\n      <td>Pio IX</td>\\n      <td>BR</td>\\n      <td>3392020</td>\\n      <td>-6.84</td>\\n      <td>-40.58</td>\\n      <td>71.94</td>\\n      <td>81</td>\\n      <td>18</td>\\n      <td>6.08</td>\\n    </tr>\\n    <tr>\\n      <th>334</th>\\n      <td>Kieta</td>\\n      <td>PG</td>\\n      <td>2094027</td>\\n      <td>-6.22</td>\\n      <td>155.63</td>\\n      <td>83.80</td>\\n      <td>74</td>\\n      <td>100</td>\\n      <td>5.01</td>\\n    </tr>\\n    <tr>\\n      <th>335</th>\\n      <td>Sechura</td>\\n      <td>PE</td>\\n      <td>3691954</td>\\n      <td>-5.56</td>\\n      <td>-80.82</td>\\n      <td>78.62</td>\\n      <td>61</td>\\n      <td>75</td>\\n      <td>17.34</td>\\n    </tr>\\n    <tr>\\n      <th>336</th>\\n      <td>Port Augusta</td>\\n      <td>AU</td>\\n      <td>2063056</td>\\n      <td>-32.50</td>\\n      <td>137.77</td>\\n      <td>44.60</td>\\n      <td>70</td>\\n      <td>65</td>\\n      <td>8.05</td>\\n    </tr>\\n    <tr>\\n      <th>337</th>\\n      <td>Saint-Pierre</td>\\n      <td>RE</td>\\n      <td>935214</td>\\n      <td>-21.34</td>\\n      <td>55.48</td>\\n      <td>69.80</td>\\n      <td>56</td>\\n      <td>90</td>\\n      <td>9.17</td>\\n    </tr>\\n    <tr>\\n      <th>338</th>\\n      <td>Labuhan</td>\\n      <td>ID</td>\\n      <td>8079926</td>\\n      <td>-6.88</td>\\n      <td>112.21</td>\\n      <td>78.24</td>\\n      <td>89</td>\\n      <td>90</td>\\n      <td>7.38</td>\\n    </tr>\\n    <tr>\\n      <th>339</th>\\n      <td>Neuquén</td>\\n      <td>AR</td>\\n      <td>3843123</td>\\n      <td>-38.95</td>\\n      <td>-68.06</td>\\n      <td>60.80</td>\\n      <td>38</td>\\n      <td>100</td>\\n      <td>5.82</td>\\n    </tr>\\n    <tr>\\n      <th>340</th>\\n      <td>Östersund</td>\\n      <td>SE</td>\\n      <td>2685750</td>\\n      <td>63.18</td>\\n      <td>14.64</td>\\n      <td>30.20</td>\\n      <td>80</td>\\n      <td>97</td>\\n      <td>13.87</td>\\n    </tr>\\n    <tr>\\n      <th>341</th>\\n      <td>Mahibadhoo</td>\\n      <td>MV</td>\\n      <td>1337605</td>\\n      <td>3.78</td>\\n      <td>72.97</td>\\n      <td>84.07</td>\\n      <td>76</td>\\n      <td>100</td>\\n      <td>9.01</td>\\n    </tr>\\n    <tr>\\n      <th>342</th>\\n      <td>Marsh Harbour</td>\\n      <td>BS</td>\\n      <td>3571913</td>\\n      <td>26.54</td>\\n      <td>-77.06</td>\\n      <td>75.45</td>\\n      <td>83</td>\\n      <td>100</td>\\n      <td>21.65</td>\\n    </tr>\\n    <tr>\\n      <th>343</th>\\n      <td>Kontagora</td>\\n      <td>NG</td>\\n      <td>2334008</td>\\n      <td>10.40</td>\\n      <td>5.47</td>\\n      <td>80.06</td>\\n      <td>66</td>\\n      <td>19</td>\\n      <td>6.89</td>\\n    </tr>\\n    <tr>\\n      <th>344</th>\\n      <td>Treinta y Tres</td>\\n      <td>UY</td>\\n      <td>3439781</td>\\n      <td>-33.23</td>\\n      <td>-54.38</td>\\n      <td>56.68</td>\\n      <td>74</td>\\n      <td>0</td>\\n      <td>7.58</td>\\n    </tr>\\n    <tr>\\n      <th>345</th>\\n      <td>Payo</td>\\n      <td>ID</td>\\n      <td>1638775</td>\\n      <td>-3.75</td>\\n      <td>103.64</td>\\n      <td>73.94</td>\\n      <td>90</td>\\n      <td>100</td>\\n      <td>1.86</td>\\n    </tr>\\n    <tr>\\n      <th>346</th>\\n      <td>Kichera</td>\\n      <td>RU</td>\\n      <td>2022129</td>\\n      <td>55.94</td>\\n      <td>110.10</td>\\n      <td>37.33</td>\\n      <td>77</td>\\n      <td>98</td>\\n      <td>1.74</td>\\n    </tr>\\n    <tr>\\n      <th>347</th>\\n      <td>Nyaunglebin</td>\\n      <td>MM</td>\\n      <td>1303406</td>\\n      <td>17.95</td>\\n      <td>96.73</td>\\n      <td>79.05</td>\\n      <td>80</td>\\n      <td>28</td>\\n      <td>3.24</td>\\n    </tr>\\n    <tr>\\n      <th>348</th>\\n      <td>Vanavara</td>\\n      <td>RU</td>\\n      <td>2013727</td>\\n      <td>60.34</td>\\n      <td>102.28</td>\\n      <td>49.21</td>\\n      <td>90</td>\\n      <td>99</td>\\n      <td>5.10</td>\\n    </tr>\\n    <tr>\\n      <th>349</th>\\n      <td>Lagoa</td>\\n      <td>PT</td>\\n      <td>3372964</td>\\n      <td>39.05</td>\\n      <td>-27.98</td>\\n      <td>61.16</td>\\n      <td>79</td>\\n      <td>100</td>\\n      <td>18.45</td>\\n    </tr>\\n    <tr>\\n      <th>350</th>\\n      <td>Allāhganj</td>\\n      <td>IN</td>\\n      <td>1278990</td>\\n      <td>27.55</td>\\n      <td>79.68</td>\\n      <td>83.07</td>\\n      <td>39</td>\\n      <td>12</td>\\n      <td>9.28</td>\\n    </tr>\\n    <tr>\\n      <th>351</th>\\n      <td>Kalianget</td>\\n      <td>ID</td>\\n      <td>1641977</td>\\n      <td>-7.05</td>\\n      <td>113.93</td>\\n      <td>81.90</td>\\n      <td>79</td>\\n      <td>90</td>\\n      <td>13.51</td>\\n    </tr>\\n    <tr>\\n      <th>352</th>\\n      <td>Saint-Joseph</td>\\n      <td>RE</td>\\n      <td>6690296</td>\\n      <td>-21.37</td>\\n      <td>55.62</td>\\n      <td>69.80</td>\\n      <td>56</td>\\n      <td>90</td>\\n      <td>9.17</td>\\n    </tr>\\n    <tr>\\n      <th>353</th>\\n      <td>Grand Gaube</td>\\n      <td>MU</td>\\n      <td>934479</td>\\n      <td>-20.01</td>\\n      <td>57.66</td>\\n      <td>69.01</td>\\n      <td>64</td>\\n      <td>100</td>\\n      <td>3.00</td>\\n    </tr>\\n    <tr>\\n      <th>354</th>\\n      <td>Arrondissement de Limoges</td>\\n      <td>FR</td>\\n      <td>2998285</td>\\n      <td>45.75</td>\\n      <td>1.33</td>\\n      <td>43.00</td>\\n      <td>81</td>\\n      <td>100</td>\\n      <td>19.46</td>\\n    </tr>\\n    <tr>\\n      <th>355</th>\\n      <td>Akdepe</td>\\n      <td>TM</td>\\n      <td>601551</td>\\n      <td>42.06</td>\\n      <td>59.38</td>\\n      <td>64.40</td>\\n      <td>63</td>\\n      <td>74</td>\\n      <td>11.41</td>\\n    </tr>\\n    <tr>\\n      <th>356</th>\\n      <td>Kahului</td>\\n      <td>US</td>\\n      <td>5847411</td>\\n      <td>20.89</td>\\n      <td>-156.47</td>\\n      <td>82.40</td>\\n      <td>51</td>\\n      <td>40</td>\\n      <td>24.16</td>\\n    </tr>\\n    <tr>\\n      <th>357</th>\\n      <td>Tay Ninh</td>\\n      <td>VN</td>\\n      <td>1566559</td>\\n      <td>11.30</td>\\n      <td>106.10</td>\\n      <td>80.74</td>\\n      <td>77</td>\\n      <td>50</td>\\n      <td>5.57</td>\\n    </tr>\\n    <tr>\\n      <th>358</th>\\n      <td>Havelock</td>\\n      <td>US</td>\\n      <td>4470244</td>\\n      <td>34.88</td>\\n      <td>-76.90</td>\\n      <td>73.40</td>\\n      <td>17</td>\\n      <td>1</td>\\n      <td>23.04</td>\\n    </tr>\\n    <tr>\\n      <th>359</th>\\n      <td>Hīt</td>\\n      <td>IQ</td>\\n      <td>95788</td>\\n      <td>33.64</td>\\n      <td>42.83</td>\\n      <td>75.04</td>\\n      <td>21</td>\\n      <td>0</td>\\n      <td>7.85</td>\\n    </tr>\\n    <tr>\\n      <th>360</th>\\n      <td>Bulgan</td>\\n      <td>MN</td>\\n      <td>2032201</td>\\n      <td>48.81</td>\\n      <td>103.53</td>\\n      <td>49.24</td>\\n      <td>51</td>\\n      <td>95</td>\\n      <td>1.68</td>\\n    </tr>\\n    <tr>\\n      <th>361</th>\\n      <td>Tiksi</td>\\n      <td>RU</td>\\n      <td>2015306</td>\\n      <td>71.69</td>\\n      <td>128.87</td>\\n      <td>28.11</td>\\n      <td>98</td>\\n      <td>100</td>\\n      <td>8.66</td>\\n    </tr>\\n    <tr>\\n      <th>362</th>\\n      <td>Vila</td>\\n      <td>PT</td>\\n      <td>7117100</td>\\n      <td>42.03</td>\\n      <td>-8.16</td>\\n      <td>55.99</td>\\n      <td>92</td>\\n      <td>91</td>\\n      <td>4.00</td>\\n    </tr>\\n    <tr>\\n      <th>363</th>\\n      <td>Calama</td>\\n      <td>CL</td>\\n      <td>3897347</td>\\n      <td>-22.47</td>\\n      <td>-68.93</td>\\n      <td>68.00</td>\\n      <td>16</td>\\n      <td>20</td>\\n      <td>24.16</td>\\n    </tr>\\n    <tr>\\n      <th>364</th>\\n      <td>Blankenberge</td>\\n      <td>BE</td>\\n      <td>2801858</td>\\n      <td>51.31</td>\\n      <td>3.13</td>\\n      <td>46.40</td>\\n      <td>52</td>\\n      <td>40</td>\\n      <td>17.22</td>\\n    </tr>\\n    <tr>\\n      <th>365</th>\\n      <td>Lunino</td>\\n      <td>RU</td>\\n      <td>533284</td>\\n      <td>53.59</td>\\n      <td>45.23</td>\\n      <td>50.00</td>\\n      <td>70</td>\\n      <td>0</td>\\n      <td>2.17</td>\\n    </tr>\\n    <tr>\\n      <th>366</th>\\n      <td>Lake City</td>\\n      <td>US</td>\\n      <td>4161187</td>\\n      <td>30.19</td>\\n      <td>-82.64</td>\\n      <td>82.99</td>\\n      <td>26</td>\\n      <td>1</td>\\n      <td>8.05</td>\\n    </tr>\\n    <tr>\\n      <th>367</th>\\n      <td>Gashua</td>\\n      <td>NG</td>\\n      <td>2341656</td>\\n      <td>12.87</td>\\n      <td>11.05</td>\\n      <td>82.81</td>\\n      <td>13</td>\\n      <td>15</td>\\n      <td>4.79</td>\\n    </tr>\\n    <tr>\\n      <th>368</th>\\n      <td>Asău</td>\\n      <td>RO</td>\\n      <td>686090</td>\\n      <td>46.43</td>\\n      <td>26.40</td>\\n      <td>64.00</td>\\n      <td>61</td>\\n      <td>100</td>\\n      <td>4.59</td>\\n    </tr>\\n    <tr>\\n      <th>369</th>\\n      <td>Neiafu</td>\\n      <td>TO</td>\\n      <td>4032420</td>\\n      <td>-18.65</td>\\n      <td>-173.98</td>\\n      <td>80.60</td>\\n      <td>78</td>\\n      <td>20</td>\\n      <td>2.24</td>\\n    </tr>\\n    <tr>\\n      <th>370</th>\\n      <td>Husavik</td>\\n      <td>IS</td>\\n      <td>2629833</td>\\n      <td>66.04</td>\\n      <td>-17.34</td>\\n      <td>33.80</td>\\n      <td>69</td>\\n      <td>90</td>\\n      <td>14.99</td>\\n    </tr>\\n    <tr>\\n      <th>371</th>\\n      <td>Pudozh</td>\\n      <td>RU</td>\\n      <td>504269</td>\\n      <td>61.81</td>\\n      <td>36.53</td>\\n      <td>56.16</td>\\n      <td>68</td>\\n      <td>100</td>\\n      <td>16.24</td>\\n    </tr>\\n    <tr>\\n      <th>372</th>\\n      <td>Kamennomostskiy</td>\\n      <td>RU</td>\\n      <td>553514</td>\\n      <td>44.30</td>\\n      <td>40.19</td>\\n      <td>47.35</td>\\n      <td>68</td>\\n      <td>0</td>\\n      <td>4.90</td>\\n    </tr>\\n    <tr>\\n      <th>373</th>\\n      <td>Mabaruma</td>\\n      <td>GY</td>\\n      <td>3377301</td>\\n      <td>8.20</td>\\n      <td>-59.78</td>\\n      <td>78.12</td>\\n      <td>84</td>\\n      <td>66</td>\\n      <td>6.76</td>\\n    </tr>\\n    <tr>\\n      <th>374</th>\\n      <td>Chapleau</td>\\n      <td>CA</td>\\n      <td>5919915</td>\\n      <td>47.84</td>\\n      <td>-83.40</td>\\n      <td>37.40</td>\\n      <td>23</td>\\n      <td>5</td>\\n      <td>8.05</td>\\n    </tr>\\n    <tr>\\n      <th>375</th>\\n      <td>Porto Nacional</td>\\n      <td>BR</td>\\n      <td>3452711</td>\\n      <td>-10.71</td>\\n      <td>-48.42</td>\\n      <td>82.40</td>\\n      <td>69</td>\\n      <td>20</td>\\n      <td>2.24</td>\\n    </tr>\\n    <tr>\\n      <th>376</th>\\n      <td>Livingston</td>\\n      <td>GB</td>\\n      <td>2644204</td>\\n      <td>55.90</td>\\n      <td>-3.52</td>\\n      <td>43.00</td>\\n      <td>60</td>\\n      <td>27</td>\\n      <td>4.70</td>\\n    </tr>\\n    <tr>\\n      <th>377</th>\\n      <td>Chaoyang</td>\\n      <td>CN</td>\\n      <td>2038120</td>\\n      <td>41.57</td>\\n      <td>120.46</td>\\n      <td>53.64</td>\\n      <td>39</td>\\n      <td>0</td>\\n      <td>13.29</td>\\n    </tr>\\n    <tr>\\n      <th>378</th>\\n      <td>West Odessa</td>\\n      <td>US</td>\\n      <td>5533366</td>\\n      <td>31.84</td>\\n      <td>-102.50</td>\\n      <td>84.20</td>\\n      <td>39</td>\\n      <td>20</td>\\n      <td>18.34</td>\\n    </tr>\\n    <tr>\\n      <th>379</th>\\n      <td>Khandyga</td>\\n      <td>RU</td>\\n      <td>2022773</td>\\n      <td>62.67</td>\\n      <td>135.60</td>\\n      <td>38.23</td>\\n      <td>78</td>\\n      <td>100</td>\\n      <td>2.35</td>\\n    </tr>\\n    <tr>\\n      <th>380</th>\\n      <td>Nabire</td>\\n      <td>ID</td>\\n      <td>1634614</td>\\n      <td>-3.37</td>\\n      <td>135.48</td>\\n      <td>77.94</td>\\n      <td>80</td>\\n      <td>43</td>\\n      <td>2.82</td>\\n    </tr>\\n    <tr>\\n      <th>381</th>\\n      <td>Terrace</td>\\n      <td>CA</td>\\n      <td>6162949</td>\\n      <td>54.52</td>\\n      <td>-128.60</td>\\n      <td>66.20</td>\\n      <td>22</td>\\n      <td>5</td>\\n      <td>14.99</td>\\n    </tr>\\n    <tr>\\n      <th>382</th>\\n      <td>Poum</td>\\n      <td>NC</td>\\n      <td>2138555</td>\\n      <td>-20.23</td>\\n      <td>164.02</td>\\n      <td>75.45</td>\\n      <td>69</td>\\n      <td>50</td>\\n      <td>17.45</td>\\n    </tr>\\n    <tr>\\n      <th>383</th>\\n      <td>Shimoda</td>\\n      <td>JP</td>\\n      <td>1852357</td>\\n      <td>34.67</td>\\n      <td>138.95</td>\\n      <td>70.00</td>\\n      <td>88</td>\\n      <td>3</td>\\n      <td>3.67</td>\\n    </tr>\\n    <tr>\\n      <th>384</th>\\n      <td>Moyale</td>\\n      <td>KE</td>\\n      <td>186180</td>\\n      <td>3.52</td>\\n      <td>39.06</td>\\n      <td>65.55</td>\\n      <td>100</td>\\n      <td>81</td>\\n      <td>5.66</td>\\n    </tr>\\n    <tr>\\n      <th>385</th>\\n      <td>Jumla</td>\\n      <td>NP</td>\\n      <td>1283285</td>\\n      <td>29.27</td>\\n      <td>82.18</td>\\n      <td>48.18</td>\\n      <td>68</td>\\n      <td>72</td>\\n      <td>0.87</td>\\n    </tr>\\n    <tr>\\n      <th>386</th>\\n      <td>Brigantine</td>\\n      <td>US</td>\\n      <td>4500920</td>\\n      <td>39.41</td>\\n      <td>-74.36</td>\\n      <td>60.80</td>\\n      <td>41</td>\\n      <td>75</td>\\n      <td>18.34</td>\\n    </tr>\\n    <tr>\\n      <th>387</th>\\n      <td>Rørvik</td>\\n      <td>NO</td>\\n      <td>3141310</td>\\n      <td>64.86</td>\\n      <td>11.24</td>\\n      <td>35.11</td>\\n      <td>90</td>\\n      <td>100</td>\\n      <td>11.43</td>\\n    </tr>\\n    <tr>\\n      <th>388</th>\\n      <td>Dunmore Town</td>\\n      <td>BS</td>\\n      <td>3572462</td>\\n      <td>25.50</td>\\n      <td>-76.65</td>\\n      <td>76.73</td>\\n      <td>81</td>\\n      <td>100</td>\\n      <td>8.61</td>\\n    </tr>\\n    <tr>\\n      <th>389</th>\\n      <td>Victoria Falls</td>\\n      <td>ZW</td>\\n      <td>879431</td>\\n      <td>-17.92</td>\\n      <td>25.84</td>\\n      <td>58.82</td>\\n      <td>79</td>\\n      <td>98</td>\\n      <td>2.15</td>\\n    </tr>\\n    <tr>\\n      <th>390</th>\\n      <td>Launceston</td>\\n      <td>AU</td>\\n      <td>2160517</td>\\n      <td>-41.45</td>\\n      <td>147.17</td>\\n      <td>53.01</td>\\n      <td>100</td>\\n      <td>90</td>\\n      <td>19.46</td>\\n    </tr>\\n    <tr>\\n      <th>391</th>\\n      <td>Orotukan</td>\\n      <td>RU</td>\\n      <td>2122414</td>\\n      <td>62.27</td>\\n      <td>151.70</td>\\n      <td>31.91</td>\\n      <td>94</td>\\n      <td>30</td>\\n      <td>6.02</td>\\n    </tr>\\n    <tr>\\n      <th>392</th>\\n      <td>Samarai</td>\\n      <td>PG</td>\\n      <td>2132606</td>\\n      <td>-10.62</td>\\n      <td>150.67</td>\\n      <td>80.04</td>\\n      <td>78</td>\\n      <td>15</td>\\n      <td>14.12</td>\\n    </tr>\\n    <tr>\\n      <th>393</th>\\n      <td>Port Lincoln</td>\\n      <td>AU</td>\\n      <td>2063036</td>\\n      <td>-34.73</td>\\n      <td>135.87</td>\\n      <td>55.63</td>\\n      <td>57</td>\\n      <td>100</td>\\n      <td>15.57</td>\\n    </tr>\\n    <tr>\\n      <th>394</th>\\n      <td>Osorno</td>\\n      <td>CL</td>\\n      <td>3877949</td>\\n      <td>-40.57</td>\\n      <td>-73.15</td>\\n      <td>53.60</td>\\n      <td>76</td>\\n      <td>100</td>\\n      <td>1.72</td>\\n    </tr>\\n    <tr>\\n      <th>395</th>\\n      <td>Cervo</td>\\n      <td>ES</td>\\n      <td>3125287</td>\\n      <td>43.67</td>\\n      <td>-7.41</td>\\n      <td>57.00</td>\\n      <td>1</td>\\n      <td>100</td>\\n      <td>5.01</td>\\n    </tr>\\n    <tr>\\n      <th>396</th>\\n      <td>Corinth</td>\\n      <td>GR</td>\\n      <td>259289</td>\\n      <td>37.94</td>\\n      <td>22.96</td>\\n      <td>72.00</td>\\n      <td>57</td>\\n      <td>100</td>\\n      <td>1.99</td>\\n    </tr>\\n    <tr>\\n      <th>397</th>\\n      <td>Okhotsk</td>\\n      <td>RU</td>\\n      <td>2122605</td>\\n      <td>59.38</td>\\n      <td>143.30</td>\\n      <td>40.08</td>\\n      <td>69</td>\\n      <td>93</td>\\n      <td>9.28</td>\\n    </tr>\\n    <tr>\\n      <th>398</th>\\n      <td>Darhan</td>\\n      <td>MN</td>\\n      <td>2031964</td>\\n      <td>49.49</td>\\n      <td>105.92</td>\\n      <td>51.91</td>\\n      <td>45</td>\\n      <td>100</td>\\n      <td>4.61</td>\\n    </tr>\\n    <tr>\\n      <th>399</th>\\n      <td>Biloela</td>\\n      <td>AU</td>\\n      <td>2175819</td>\\n      <td>-24.42</td>\\n      <td>150.50</td>\\n      <td>59.95</td>\\n      <td>74</td>\\n      <td>31</td>\\n      <td>13.27</td>\\n    </tr>\\n    <tr>\\n      <th>400</th>\\n      <td>St. George\\'s</td>\\n      <td>GD</td>\\n      <td>3579925</td>\\n      <td>12.06</td>\\n      <td>-61.75</td>\\n      <td>86.00</td>\\n      <td>70</td>\\n      <td>40</td>\\n      <td>11.41</td>\\n    </tr>\\n    <tr>\\n      <th>401</th>\\n      <td>Uvat</td>\\n      <td>RU</td>\\n      <td>1487939</td>\\n      <td>59.14</td>\\n      <td>68.90</td>\\n      <td>60.75</td>\\n      <td>82</td>\\n      <td>94</td>\\n      <td>2.46</td>\\n    </tr>\\n    <tr>\\n      <th>402</th>\\n      <td>San Fernando del Valle de Catamarca</td>\\n      <td>AR</td>\\n      <td>3837702</td>\\n      <td>-28.47</td>\\n      <td>-65.79</td>\\n      <td>71.01</td>\\n      <td>54</td>\\n      <td>1</td>\\n      <td>4.00</td>\\n    </tr>\\n    <tr>\\n      <th>403</th>\\n      <td>Wukari</td>\\n      <td>NG</td>\\n      <td>2318921</td>\\n      <td>7.85</td>\\n      <td>9.78</td>\\n      <td>80.69</td>\\n      <td>74</td>\\n      <td>36</td>\\n      <td>6.96</td>\\n    </tr>\\n    <tr>\\n      <th>404</th>\\n      <td>Pevek</td>\\n      <td>RU</td>\\n      <td>2122090</td>\\n      <td>69.70</td>\\n      <td>170.31</td>\\n      <td>35.91</td>\\n      <td>84</td>\\n      <td>0</td>\\n      <td>9.80</td>\\n    </tr>\\n    <tr>\\n      <th>405</th>\\n      <td>Caravelas</td>\\n      <td>BR</td>\\n      <td>3466980</td>\\n      <td>-17.71</td>\\n      <td>-39.25</td>\\n      <td>71.80</td>\\n      <td>68</td>\\n      <td>0</td>\\n      <td>4.09</td>\\n    </tr>\\n    <tr>\\n      <th>406</th>\\n      <td>Wakkanai</td>\\n      <td>JP</td>\\n      <td>2127515</td>\\n      <td>45.41</td>\\n      <td>141.67</td>\\n      <td>47.28</td>\\n      <td>93</td>\\n      <td>23</td>\\n      <td>11.14</td>\\n    </tr>\\n    <tr>\\n      <th>407</th>\\n      <td>Cap Malheureux</td>\\n      <td>MU</td>\\n      <td>934649</td>\\n      <td>-19.98</td>\\n      <td>57.61</td>\\n      <td>69.01</td>\\n      <td>64</td>\\n      <td>99</td>\\n      <td>3.00</td>\\n    </tr>\\n    <tr>\\n      <th>408</th>\\n      <td>Luk Pu</td>\\n      <td>CN</td>\\n      <td>1802177</td>\\n      <td>23.17</td>\\n      <td>112.28</td>\\n      <td>79.00</td>\\n      <td>99</td>\\n      <td>91</td>\\n      <td>3.22</td>\\n    </tr>\\n    <tr>\\n      <th>409</th>\\n      <td>Mnogovershinnyy</td>\\n      <td>RU</td>\\n      <td>2019935</td>\\n      <td>53.94</td>\\n      <td>139.92</td>\\n      <td>41.09</td>\\n      <td>83</td>\\n      <td>97</td>\\n      <td>3.74</td>\\n    </tr>\\n    <tr>\\n      <th>410</th>\\n      <td>San Ignacio</td>\\n      <td>BZ</td>\\n      <td>3581194</td>\\n      <td>17.16</td>\\n      <td>-89.07</td>\\n      <td>95.00</td>\\n      <td>49</td>\\n      <td>40</td>\\n      <td>9.17</td>\\n    </tr>\\n    <tr>\\n      <th>411</th>\\n      <td>Poli</td>\\n      <td>TZ</td>\\n      <td>150689</td>\\n      <td>-3.33</td>\\n      <td>36.80</td>\\n      <td>68.00</td>\\n      <td>100</td>\\n      <td>75</td>\\n      <td>3.36</td>\\n    </tr>\\n    <tr>\\n      <th>412</th>\\n      <td>El Escorial</td>\\n      <td>ES</td>\\n      <td>3110458</td>\\n      <td>40.59</td>\\n      <td>-4.15</td>\\n      <td>55.99</td>\\n      <td>94</td>\\n      <td>33</td>\\n      <td>2.30</td>\\n    </tr>\\n    <tr>\\n      <th>413</th>\\n      <td>Lorengau</td>\\n      <td>PG</td>\\n      <td>2092164</td>\\n      <td>-2.02</td>\\n      <td>147.27</td>\\n      <td>85.05</td>\\n      <td>70</td>\\n      <td>97</td>\\n      <td>4.09</td>\\n    </tr>\\n    <tr>\\n      <th>414</th>\\n      <td>Dingle</td>\\n      <td>PH</td>\\n      <td>1714733</td>\\n      <td>11.00</td>\\n      <td>122.67</td>\\n      <td>79.48</td>\\n      <td>85</td>\\n      <td>97</td>\\n      <td>5.35</td>\\n    </tr>\\n    <tr>\\n      <th>415</th>\\n      <td>Malanje</td>\\n      <td>AO</td>\\n      <td>2239862</td>\\n      <td>-9.54</td>\\n      <td>16.34</td>\\n      <td>65.75</td>\\n      <td>68</td>\\n      <td>49</td>\\n      <td>1.81</td>\\n    </tr>\\n    <tr>\\n      <th>416</th>\\n      <td>Fort Nelson</td>\\n      <td>CA</td>\\n      <td>5955902</td>\\n      <td>58.81</td>\\n      <td>-122.70</td>\\n      <td>60.80</td>\\n      <td>23</td>\\n      <td>20</td>\\n      <td>9.17</td>\\n    </tr>\\n    <tr>\\n      <th>417</th>\\n      <td>Umluj</td>\\n      <td>SA</td>\\n      <td>100926</td>\\n      <td>25.02</td>\\n      <td>37.27</td>\\n      <td>77.94</td>\\n      <td>47</td>\\n      <td>1</td>\\n      <td>8.66</td>\\n    </tr>\\n    <tr>\\n      <th>418</th>\\n      <td>Jatiroto</td>\\n      <td>ID</td>\\n      <td>1642692</td>\\n      <td>-7.88</td>\\n      <td>111.12</td>\\n      <td>73.08</td>\\n      <td>89</td>\\n      <td>73</td>\\n      <td>3.06</td>\\n    </tr>\\n    <tr>\\n      <th>419</th>\\n      <td>Diego de Almagro</td>\\n      <td>CL</td>\\n      <td>3892454</td>\\n      <td>-26.37</td>\\n      <td>-70.05</td>\\n      <td>60.87</td>\\n      <td>58</td>\\n      <td>0</td>\\n      <td>5.28</td>\\n    </tr>\\n    <tr>\\n      <th>420</th>\\n      <td>Mayo</td>\\n      <td>US</td>\\n      <td>4362001</td>\\n      <td>38.89</td>\\n      <td>-76.51</td>\\n      <td>57.20</td>\\n      <td>47</td>\\n      <td>75</td>\\n      <td>13.87</td>\\n    </tr>\\n    <tr>\\n      <th>421</th>\\n      <td>Nome</td>\\n      <td>US</td>\\n      <td>5870133</td>\\n      <td>64.50</td>\\n      <td>-165.41</td>\\n      <td>53.01</td>\\n      <td>70</td>\\n      <td>1</td>\\n      <td>10.29</td>\\n    </tr>\\n    <tr>\\n      <th>422</th>\\n      <td>Calvinia</td>\\n      <td>ZA</td>\\n      <td>3369174</td>\\n      <td>-31.47</td>\\n      <td>19.78</td>\\n      <td>62.51</td>\\n      <td>36</td>\\n      <td>3</td>\\n      <td>2.37</td>\\n    </tr>\\n    <tr>\\n      <th>423</th>\\n      <td>Sindou</td>\\n      <td>BF</td>\\n      <td>2355548</td>\\n      <td>10.67</td>\\n      <td>-5.17</td>\\n      <td>77.70</td>\\n      <td>73</td>\\n      <td>100</td>\\n      <td>3.49</td>\\n    </tr>\\n    <tr>\\n      <th>424</th>\\n      <td>Iracoubo</td>\\n      <td>GF</td>\\n      <td>3381428</td>\\n      <td>5.48</td>\\n      <td>-53.20</td>\\n      <td>78.51</td>\\n      <td>85</td>\\n      <td>98</td>\\n      <td>13.96</td>\\n    </tr>\\n    <tr>\\n      <th>425</th>\\n      <td>Zaysan</td>\\n      <td>KZ</td>\\n      <td>1517060</td>\\n      <td>47.47</td>\\n      <td>84.87</td>\\n      <td>62.44</td>\\n      <td>28</td>\\n      <td>100</td>\\n      <td>3.71</td>\\n    </tr>\\n    <tr>\\n      <th>426</th>\\n      <td>San Vicente</td>\\n      <td>AR</td>\\n      <td>3428068</td>\\n      <td>-26.62</td>\\n      <td>-54.13</td>\\n      <td>68.02</td>\\n      <td>75</td>\\n      <td>38</td>\\n      <td>3.20</td>\\n    </tr>\\n    <tr>\\n      <th>427</th>\\n      <td>Pacific Grove</td>\\n      <td>US</td>\\n      <td>5380437</td>\\n      <td>36.62</td>\\n      <td>-121.92</td>\\n      <td>75.00</td>\\n      <td>35</td>\\n      <td>1</td>\\n      <td>3.36</td>\\n    </tr>\\n    <tr>\\n      <th>428</th>\\n      <td>Benoy</td>\\n      <td>TD</td>\\n      <td>2435508</td>\\n      <td>8.98</td>\\n      <td>16.32</td>\\n      <td>82.54</td>\\n      <td>61</td>\\n      <td>69</td>\\n      <td>13.04</td>\\n    </tr>\\n    <tr>\\n      <th>429</th>\\n      <td>Elko</td>\\n      <td>US</td>\\n      <td>5703673</td>\\n      <td>41.00</td>\\n      <td>-115.50</td>\\n      <td>80.60</td>\\n      <td>11</td>\\n      <td>1</td>\\n      <td>20.80</td>\\n    </tr>\\n    <tr>\\n      <th>430</th>\\n      <td>Along</td>\\n      <td>IN</td>\\n      <td>1278969</td>\\n      <td>28.17</td>\\n      <td>94.77</td>\\n      <td>64.35</td>\\n      <td>80</td>\\n      <td>96</td>\\n      <td>1.92</td>\\n    </tr>\\n    <tr>\\n      <th>431</th>\\n      <td>Ulladulla</td>\\n      <td>AU</td>\\n      <td>2145554</td>\\n      <td>-35.35</td>\\n      <td>150.47</td>\\n      <td>46.40</td>\\n      <td>75</td>\\n      <td>19</td>\\n      <td>9.17</td>\\n    </tr>\\n    <tr>\\n      <th>432</th>\\n      <td>Manzanillo</td>\\n      <td>CU</td>\\n      <td>3547867</td>\\n      <td>20.34</td>\\n      <td>-77.12</td>\\n      <td>83.16</td>\\n      <td>72</td>\\n      <td>100</td>\\n      <td>7.09</td>\\n    </tr>\\n    <tr>\\n      <th>433</th>\\n      <td>Kutum</td>\\n      <td>SD</td>\\n      <td>371745</td>\\n      <td>14.20</td>\\n      <td>24.67</td>\\n      <td>71.35</td>\\n      <td>20</td>\\n      <td>0</td>\\n      <td>5.70</td>\\n    </tr>\\n    <tr>\\n      <th>434</th>\\n      <td>Grong</td>\\n      <td>NO</td>\\n      <td>3154907</td>\\n      <td>64.47</td>\\n      <td>12.31</td>\\n      <td>32.20</td>\\n      <td>97</td>\\n      <td>100</td>\\n      <td>5.53</td>\\n    </tr>\\n    <tr>\\n      <th>435</th>\\n      <td>Zhangjiakou</td>\\n      <td>CN</td>\\n      <td>2033196</td>\\n      <td>40.81</td>\\n      <td>114.88</td>\\n      <td>49.37</td>\\n      <td>42</td>\\n      <td>0</td>\\n      <td>5.79</td>\\n    </tr>\\n    <tr>\\n      <th>436</th>\\n      <td>Aswān</td>\\n      <td>EG</td>\\n      <td>359792</td>\\n      <td>24.09</td>\\n      <td>32.91</td>\\n      <td>79.16</td>\\n      <td>19</td>\\n      <td>79</td>\\n      <td>7.72</td>\\n    </tr>\\n    <tr>\\n      <th>437</th>\\n      <td>Caucayá</td>\\n      <td>CO</td>\\n      <td>3671437</td>\\n      <td>-0.19</td>\\n      <td>-74.78</td>\\n      <td>84.88</td>\\n      <td>75</td>\\n      <td>58</td>\\n      <td>0.51</td>\\n    </tr>\\n    <tr>\\n      <th>438</th>\\n      <td>Emerald</td>\\n      <td>AU</td>\\n      <td>2167426</td>\\n      <td>-23.53</td>\\n      <td>148.17</td>\\n      <td>57.00</td>\\n      <td>40</td>\\n      <td>34</td>\\n      <td>8.05</td>\\n    </tr>\\n    <tr>\\n      <th>439</th>\\n      <td>Kitami</td>\\n      <td>JP</td>\\n      <td>2129537</td>\\n      <td>43.80</td>\\n      <td>143.89</td>\\n      <td>50.00</td>\\n      <td>86</td>\\n      <td>4</td>\\n      <td>5.01</td>\\n    </tr>\\n    <tr>\\n      <th>440</th>\\n      <td>Andrews</td>\\n      <td>US</td>\\n      <td>5516288</td>\\n      <td>32.32</td>\\n      <td>-102.55</td>\\n      <td>84.20</td>\\n      <td>30</td>\\n      <td>1</td>\\n      <td>8.05</td>\\n    </tr>\\n    <tr>\\n      <th>441</th>\\n      <td>Samaná</td>\\n      <td>DO</td>\\n      <td>3492997</td>\\n      <td>19.21</td>\\n      <td>-69.34</td>\\n      <td>87.80</td>\\n      <td>66</td>\\n      <td>40</td>\\n      <td>6.93</td>\\n    </tr>\\n    <tr>\\n      <th>442</th>\\n      <td>Caledon</td>\\n      <td>ZA</td>\\n      <td>3369179</td>\\n      <td>-34.23</td>\\n      <td>19.43</td>\\n      <td>61.00</td>\\n      <td>86</td>\\n      <td>100</td>\\n      <td>6.04</td>\\n    </tr>\\n    <tr>\\n      <th>443</th>\\n      <td>Magán</td>\\n      <td>ES</td>\\n      <td>6361748</td>\\n      <td>39.97</td>\\n      <td>-3.93</td>\\n      <td>55.99</td>\\n      <td>93</td>\\n      <td>55</td>\\n      <td>5.82</td>\\n    </tr>\\n    <tr>\\n      <th>444</th>\\n      <td>Pangai</td>\\n      <td>TO</td>\\n      <td>4032369</td>\\n      <td>-19.80</td>\\n      <td>-174.35</td>\\n      <td>80.60</td>\\n      <td>61</td>\\n      <td>20</td>\\n      <td>4.70</td>\\n    </tr>\\n    <tr>\\n      <th>445</th>\\n      <td>Mount Isa</td>\\n      <td>AU</td>\\n      <td>2065594</td>\\n      <td>-20.73</td>\\n      <td>139.50</td>\\n      <td>44.60</td>\\n      <td>45</td>\\n      <td>0</td>\\n      <td>1.12</td>\\n    </tr>\\n    <tr>\\n      <th>446</th>\\n      <td>Caloundra</td>\\n      <td>AU</td>\\n      <td>2172710</td>\\n      <td>-26.80</td>\\n      <td>153.13</td>\\n      <td>57.99</td>\\n      <td>93</td>\\n      <td>59</td>\\n      <td>14.00</td>\\n    </tr>\\n    <tr>\\n      <th>447</th>\\n      <td>Chihuahua</td>\\n      <td>MX</td>\\n      <td>4014336</td>\\n      <td>28.50</td>\\n      <td>-106.00</td>\\n      <td>86.00</td>\\n      <td>16</td>\\n      <td>75</td>\\n      <td>9.17</td>\\n    </tr>\\n    <tr>\\n      <th>448</th>\\n      <td>Half Moon Bay</td>\\n      <td>US</td>\\n      <td>5354943</td>\\n      <td>37.46</td>\\n      <td>-122.43</td>\\n      <td>64.40</td>\\n      <td>93</td>\\n      <td>90</td>\\n      <td>13.87</td>\\n    </tr>\\n    <tr>\\n      <th>449</th>\\n      <td>Aksu</td>\\n      <td>CN</td>\\n      <td>1529660</td>\\n      <td>41.12</td>\\n      <td>80.26</td>\\n      <td>63.77</td>\\n      <td>35</td>\\n      <td>0</td>\\n      <td>2.33</td>\\n    </tr>\\n    <tr>\\n      <th>450</th>\\n      <td>Guangming</td>\\n      <td>CN</td>\\n      <td>2034497</td>\\n      <td>45.33</td>\\n      <td>122.78</td>\\n      <td>51.55</td>\\n      <td>48</td>\\n      <td>1</td>\\n      <td>14.45</td>\\n    </tr>\\n    <tr>\\n      <th>451</th>\\n      <td>Torbay</td>\\n      <td>CA</td>\\n      <td>6167817</td>\\n      <td>47.67</td>\\n      <td>-52.73</td>\\n      <td>44.60</td>\\n      <td>75</td>\\n      <td>20</td>\\n      <td>20.80</td>\\n    </tr>\\n    <tr>\\n      <th>452</th>\\n      <td>Srednekolymsk</td>\\n      <td>RU</td>\\n      <td>2121025</td>\\n      <td>67.45</td>\\n      <td>153.68</td>\\n      <td>35.38</td>\\n      <td>92</td>\\n      <td>93</td>\\n      <td>5.70</td>\\n    </tr>\\n    <tr>\\n      <th>453</th>\\n      <td>Damāvand</td>\\n      <td>IR</td>\\n      <td>138042</td>\\n      <td>35.72</td>\\n      <td>52.06</td>\\n      <td>59.00</td>\\n      <td>54</td>\\n      <td>0</td>\\n      <td>9.17</td>\\n    </tr>\\n    <tr>\\n      <th>454</th>\\n      <td>Timrå</td>\\n      <td>SE</td>\\n      <td>2669047</td>\\n      <td>62.49</td>\\n      <td>17.33</td>\\n      <td>36.00</td>\\n      <td>80</td>\\n      <td>1</td>\\n      <td>3.36</td>\\n    </tr>\\n    <tr>\\n      <th>455</th>\\n      <td>Lipin Bor</td>\\n      <td>RU</td>\\n      <td>535113</td>\\n      <td>60.26</td>\\n      <td>37.98</td>\\n      <td>50.56</td>\\n      <td>72</td>\\n      <td>96</td>\\n      <td>15.73</td>\\n    </tr>\\n    <tr>\\n      <th>456</th>\\n      <td>Puerto Asís</td>\\n      <td>CO</td>\\n      <td>3671549</td>\\n      <td>0.51</td>\\n      <td>-76.50</td>\\n      <td>82.40</td>\\n      <td>78</td>\\n      <td>75</td>\\n      <td>6.93</td>\\n    </tr>\\n    <tr>\\n      <th>457</th>\\n      <td>Colac</td>\\n      <td>AU</td>\\n      <td>2171069</td>\\n      <td>-38.33</td>\\n      <td>143.58</td>\\n      <td>46.99</td>\\n      <td>90</td>\\n      <td>100</td>\\n      <td>1.99</td>\\n    </tr>\\n    <tr>\\n      <th>458</th>\\n      <td>Lashio</td>\\n      <td>MM</td>\\n      <td>1314759</td>\\n      <td>22.93</td>\\n      <td>97.75</td>\\n      <td>66.18</td>\\n      <td>91</td>\\n      <td>1</td>\\n      <td>1.43</td>\\n    </tr>\\n    <tr>\\n      <th>459</th>\\n      <td>Birjand</td>\\n      <td>IR</td>\\n      <td>140463</td>\\n      <td>32.87</td>\\n      <td>59.22</td>\\n      <td>71.60</td>\\n      <td>21</td>\\n      <td>41</td>\\n      <td>18.34</td>\\n    </tr>\\n    <tr>\\n      <th>460</th>\\n      <td>Houma</td>\\n      <td>US</td>\\n      <td>4328010</td>\\n      <td>29.60</td>\\n      <td>-90.72</td>\\n      <td>82.99</td>\\n      <td>36</td>\\n      <td>1</td>\\n      <td>9.17</td>\\n    </tr>\\n    <tr>\\n      <th>461</th>\\n      <td>Novoanninskiy</td>\\n      <td>RU</td>\\n      <td>519062</td>\\n      <td>50.53</td>\\n      <td>42.67</td>\\n      <td>46.99</td>\\n      <td>88</td>\\n      <td>2</td>\\n      <td>3.67</td>\\n    </tr>\\n    <tr>\\n      <th>462</th>\\n      <td>Bilma</td>\\n      <td>NE</td>\\n      <td>2446796</td>\\n      <td>18.69</td>\\n      <td>12.92</td>\\n      <td>82.69</td>\\n      <td>12</td>\\n      <td>0</td>\\n      <td>4.03</td>\\n    </tr>\\n    <tr>\\n      <th>463</th>\\n      <td>Isla Aguada</td>\\n      <td>MX</td>\\n      <td>3526766</td>\\n      <td>18.78</td>\\n      <td>-91.47</td>\\n      <td>84.20</td>\\n      <td>70</td>\\n      <td>75</td>\\n      <td>12.75</td>\\n    </tr>\\n    <tr>\\n      <th>464</th>\\n      <td>Pedasí</td>\\n      <td>PA</td>\\n      <td>3703239</td>\\n      <td>7.53</td>\\n      <td>-80.03</td>\\n      <td>82.65</td>\\n      <td>79</td>\\n      <td>100</td>\\n      <td>7.31</td>\\n    </tr>\\n    <tr>\\n      <th>465</th>\\n      <td>Lumut</td>\\n      <td>MY</td>\\n      <td>1735450</td>\\n      <td>4.23</td>\\n      <td>100.63</td>\\n      <td>77.00</td>\\n      <td>100</td>\\n      <td>20</td>\\n      <td>3.76</td>\\n    </tr>\\n    <tr>\\n      <th>466</th>\\n      <td>Sechelt</td>\\n      <td>CA</td>\\n      <td>6143367</td>\\n      <td>49.47</td>\\n      <td>-123.77</td>\\n      <td>73.00</td>\\n      <td>41</td>\\n      <td>100</td>\\n      <td>1.99</td>\\n    </tr>\\n    <tr>\\n      <th>467</th>\\n      <td>Saint-Louis</td>\\n      <td>SN</td>\\n      <td>2246451</td>\\n      <td>16.33</td>\\n      <td>-15.00</td>\\n      <td>96.80</td>\\n      <td>28</td>\\n      <td>0</td>\\n      <td>4.70</td>\\n    </tr>\\n    <tr>\\n      <th>468</th>\\n      <td>Rangpur City</td>\\n      <td>BD</td>\\n      <td>1185188</td>\\n      <td>25.75</td>\\n      <td>89.25</td>\\n      <td>78.26</td>\\n      <td>60</td>\\n      <td>0</td>\\n      <td>3.76</td>\\n    </tr>\\n    <tr>\\n      <th>469</th>\\n      <td>Higuerón</td>\\n      <td>MX</td>\\n      <td>3761664</td>\\n      <td>18.58</td>\\n      <td>-99.17</td>\\n      <td>96.01</td>\\n      <td>25</td>\\n      <td>40</td>\\n      <td>10.29</td>\\n    </tr>\\n    <tr>\\n      <th>470</th>\\n      <td>Morondava</td>\\n      <td>MG</td>\\n      <td>1058381</td>\\n      <td>-20.28</td>\\n      <td>44.28</td>\\n      <td>78.19</td>\\n      <td>76</td>\\n      <td>100</td>\\n      <td>3.40</td>\\n    </tr>\\n    <tr>\\n      <th>471</th>\\n      <td>Aldama</td>\\n      <td>MX</td>\\n      <td>3533079</td>\\n      <td>22.92</td>\\n      <td>-98.07</td>\\n      <td>84.00</td>\\n      <td>66</td>\\n      <td>53</td>\\n      <td>7.00</td>\\n    </tr>\\n    <tr>\\n      <th>472</th>\\n      <td>Amapá</td>\\n      <td>BR</td>\\n      <td>3407762</td>\\n      <td>1.00</td>\\n      <td>-52.00</td>\\n      <td>75.38</td>\\n      <td>97</td>\\n      <td>82</td>\\n      <td>3.13</td>\\n    </tr>\\n    <tr>\\n      <th>473</th>\\n      <td>Ordynskoye</td>\\n      <td>RU</td>\\n      <td>1496100</td>\\n      <td>54.37</td>\\n      <td>81.90</td>\\n      <td>58.48</td>\\n      <td>74</td>\\n      <td>7</td>\\n      <td>6.29</td>\\n    </tr>\\n    <tr>\\n      <th>474</th>\\n      <td>Conceição da Barra</td>\\n      <td>BR</td>\\n      <td>3465769</td>\\n      <td>-18.59</td>\\n      <td>-39.73</td>\\n      <td>72.39</td>\\n      <td>72</td>\\n      <td>40</td>\\n      <td>4.43</td>\\n    </tr>\\n    <tr>\\n      <th>475</th>\\n      <td>Golden</td>\\n      <td>US</td>\\n      <td>5423294</td>\\n      <td>39.76</td>\\n      <td>-105.22</td>\\n      <td>51.01</td>\\n      <td>87</td>\\n      <td>75</td>\\n      <td>13.87</td>\\n    </tr>\\n    <tr>\\n      <th>476</th>\\n      <td>Bonnyville</td>\\n      <td>CA</td>\\n      <td>5905616</td>\\n      <td>54.27</td>\\n      <td>-110.73</td>\\n      <td>50.00</td>\\n      <td>25</td>\\n      <td>75</td>\\n      <td>11.41</td>\\n    </tr>\\n    <tr>\\n      <th>477</th>\\n      <td>Lamu</td>\\n      <td>KE</td>\\n      <td>189741</td>\\n      <td>-2.27</td>\\n      <td>40.90</td>\\n      <td>79.56</td>\\n      <td>86</td>\\n      <td>100</td>\\n      <td>15.21</td>\\n    </tr>\\n    <tr>\\n      <th>478</th>\\n      <td>Harper</td>\\n      <td>LR</td>\\n      <td>2276492</td>\\n      <td>4.38</td>\\n      <td>-7.72</td>\\n      <td>77.79</td>\\n      <td>91</td>\\n      <td>100</td>\\n      <td>11.39</td>\\n    </tr>\\n    <tr>\\n      <th>479</th>\\n      <td>Pontianak</td>\\n      <td>ID</td>\\n      <td>1630789</td>\\n      <td>-0.03</td>\\n      <td>109.33</td>\\n      <td>77.85</td>\\n      <td>93</td>\\n      <td>99</td>\\n      <td>2.35</td>\\n    </tr>\\n    <tr>\\n      <th>480</th>\\n      <td>Taoudenni</td>\\n      <td>ML</td>\\n      <td>2450173</td>\\n      <td>22.68</td>\\n      <td>-3.98</td>\\n      <td>95.49</td>\\n      <td>13</td>\\n      <td>46</td>\\n      <td>10.58</td>\\n    </tr>\\n    <tr>\\n      <th>481</th>\\n      <td>Praia</td>\\n      <td>CV</td>\\n      <td>3374333</td>\\n      <td>14.92</td>\\n      <td>-23.51</td>\\n      <td>73.40</td>\\n      <td>73</td>\\n      <td>20</td>\\n      <td>17.22</td>\\n    </tr>\\n    <tr>\\n      <th>482</th>\\n      <td>Dakar</td>\\n      <td>SN</td>\\n      <td>2253354</td>\\n      <td>14.69</td>\\n      <td>-17.44</td>\\n      <td>71.60</td>\\n      <td>88</td>\\n      <td>0</td>\\n      <td>6.93</td>\\n    </tr>\\n    <tr>\\n      <th>483</th>\\n      <td>Kvitok</td>\\n      <td>RU</td>\\n      <td>1501036</td>\\n      <td>56.07</td>\\n      <td>98.48</td>\\n      <td>52.86</td>\\n      <td>82</td>\\n      <td>94</td>\\n      <td>3.36</td>\\n    </tr>\\n    <tr>\\n      <th>484</th>\\n      <td>Largo</td>\\n      <td>US</td>\\n      <td>4161580</td>\\n      <td>27.91</td>\\n      <td>-82.79</td>\\n      <td>84.00</td>\\n      <td>54</td>\\n      <td>1</td>\\n      <td>11.41</td>\\n    </tr>\\n    <tr>\\n      <th>485</th>\\n      <td>Walvis Bay</td>\\n      <td>NaN</td>\\n      <td>3359638</td>\\n      <td>-22.96</td>\\n      <td>14.51</td>\\n      <td>72.25</td>\\n      <td>46</td>\\n      <td>0</td>\\n      <td>6.31</td>\\n    </tr>\\n    <tr>\\n      <th>486</th>\\n      <td>Beyneu</td>\\n      <td>KZ</td>\\n      <td>610298</td>\\n      <td>45.32</td>\\n      <td>55.20</td>\\n      <td>55.29</td>\\n      <td>71</td>\\n      <td>0</td>\\n      <td>9.93</td>\\n    </tr>\\n    <tr>\\n      <th>487</th>\\n      <td>Egvekinot</td>\\n      <td>RU</td>\\n      <td>4031742</td>\\n      <td>66.32</td>\\n      <td>-179.17</td>\\n      <td>33.22</td>\\n      <td>100</td>\\n      <td>91</td>\\n      <td>3.87</td>\\n    </tr>\\n    <tr>\\n      <th>488</th>\\n      <td>Belpasso</td>\\n      <td>IT</td>\\n      <td>6541966</td>\\n      <td>37.59</td>\\n      <td>14.98</td>\\n      <td>64.00</td>\\n      <td>82</td>\\n      <td>21</td>\\n      <td>4.70</td>\\n    </tr>\\n    <tr>\\n      <th>489</th>\\n      <td>Port Shepstone</td>\\n      <td>ZA</td>\\n      <td>964406</td>\\n      <td>-30.74</td>\\n      <td>30.45</td>\\n      <td>69.26</td>\\n      <td>59</td>\\n      <td>0</td>\\n      <td>10.78</td>\\n    </tr>\\n    <tr>\\n      <th>490</th>\\n      <td>Khovd</td>\\n      <td>MN</td>\\n      <td>1516048</td>\\n      <td>48.01</td>\\n      <td>91.64</td>\\n      <td>50.23</td>\\n      <td>37</td>\\n      <td>90</td>\\n      <td>0.81</td>\\n    </tr>\\n    <tr>\\n      <th>491</th>\\n      <td>Sistranda</td>\\n      <td>NO</td>\\n      <td>3139597</td>\\n      <td>63.73</td>\\n      <td>8.83</td>\\n      <td>35.60</td>\\n      <td>80</td>\\n      <td>75</td>\\n      <td>8.05</td>\\n    </tr>\\n    <tr>\\n      <th>492</th>\\n      <td>Yangi Marg`ilon</td>\\n      <td>UZ</td>\\n      <td>1513491</td>\\n      <td>40.43</td>\\n      <td>71.72</td>\\n      <td>68.00</td>\\n      <td>49</td>\\n      <td>59</td>\\n      <td>6.93</td>\\n    </tr>\\n    <tr>\\n      <th>493</th>\\n      <td>Yumen</td>\\n      <td>CN</td>\\n      <td>1528998</td>\\n      <td>40.28</td>\\n      <td>97.20</td>\\n      <td>47.53</td>\\n      <td>38</td>\\n      <td>56</td>\\n      <td>5.50</td>\\n    </tr>\\n    <tr>\\n      <th>494</th>\\n      <td>Formosa</td>\\n      <td>AR</td>\\n      <td>3433899</td>\\n      <td>-26.18</td>\\n      <td>-58.18</td>\\n      <td>82.40</td>\\n      <td>74</td>\\n      <td>75</td>\\n      <td>2.24</td>\\n    </tr>\\n    <tr>\\n      <th>495</th>\\n      <td>Ossora</td>\\n      <td>RU</td>\\n      <td>2122389</td>\\n      <td>59.24</td>\\n      <td>163.07</td>\\n      <td>33.64</td>\\n      <td>97</td>\\n      <td>100</td>\\n      <td>5.12</td>\\n    </tr>\\n    <tr>\\n      <th>496</th>\\n      <td>Aktobe</td>\\n      <td>KZ</td>\\n      <td>610611</td>\\n      <td>50.28</td>\\n      <td>57.21</td>\\n      <td>50.00</td>\\n      <td>93</td>\\n      <td>20</td>\\n      <td>6.71</td>\\n    </tr>\\n    <tr>\\n      <th>497</th>\\n      <td>Rocha</td>\\n      <td>UY</td>\\n      <td>3440777</td>\\n      <td>-34.48</td>\\n      <td>-54.33</td>\\n      <td>51.78</td>\\n      <td>74</td>\\n      <td>84</td>\\n      <td>5.77</td>\\n    </tr>\\n    <tr>\\n      <th>498</th>\\n      <td>Avera</td>\\n      <td>US</td>\\n      <td>4231997</td>\\n      <td>33.19</td>\\n      <td>-82.53</td>\\n      <td>71.60</td>\\n      <td>35</td>\\n      <td>1</td>\\n      <td>13.87</td>\\n    </tr>\\n    <tr>\\n      <th>499</th>\\n      <td>Yulara</td>\\n      <td>AU</td>\\n      <td>6355222</td>\\n      <td>-25.24</td>\\n      <td>130.99</td>\\n      <td>50.00</td>\\n      <td>43</td>\\n      <td>0</td>\\n      <td>5.82</td>\\n    </tr>\\n    <tr>\\n      <th>500</th>\\n      <td>Acapulco de Juárez</td>\\n      <td>MX</td>\\n      <td>3533462</td>\\n      <td>16.86</td>\\n      <td>-99.89</td>\\n      <td>87.80</td>\\n      <td>62</td>\\n      <td>75</td>\\n      <td>12.75</td>\\n    </tr>\\n    <tr>\\n      <th>501</th>\\n      <td>Prestea</td>\\n      <td>GH</td>\\n      <td>2295840</td>\\n      <td>5.43</td>\\n      <td>-2.14</td>\\n      <td>74.71</td>\\n      <td>94</td>\\n      <td>100</td>\\n      <td>2.53</td>\\n    </tr>\\n    <tr>\\n      <th>502</th>\\n      <td>Tegul\\'det</td>\\n      <td>RU</td>\\n      <td>1489822</td>\\n      <td>57.31</td>\\n      <td>88.17</td>\\n      <td>57.40</td>\\n      <td>64</td>\\n      <td>43</td>\\n      <td>1.95</td>\\n    </tr>\\n    <tr>\\n      <th>503</th>\\n      <td>Mokhsogollokh</td>\\n      <td>RU</td>\\n      <td>2019867</td>\\n      <td>61.47</td>\\n      <td>128.92</td>\\n      <td>32.65</td>\\n      <td>92</td>\\n      <td>100</td>\\n      <td>5.93</td>\\n    </tr>\\n    <tr>\\n      <th>504</th>\\n      <td>Nova Russas</td>\\n      <td>BR</td>\\n      <td>3393832</td>\\n      <td>-4.71</td>\\n      <td>-40.56</td>\\n      <td>74.59</td>\\n      <td>88</td>\\n      <td>13</td>\\n      <td>3.53</td>\\n    </tr>\\n    <tr>\\n      <th>505</th>\\n      <td>Borovoy</td>\\n      <td>RU</td>\\n      <td>1508894</td>\\n      <td>55.43</td>\\n      <td>86.08</td>\\n      <td>60.80</td>\\n      <td>51</td>\\n      <td>49</td>\\n      <td>6.71</td>\\n    </tr>\\n    <tr>\\n      <th>506</th>\\n      <td>Alice Town</td>\\n      <td>BS</td>\\n      <td>3572924</td>\\n      <td>25.72</td>\\n      <td>-79.30</td>\\n      <td>77.04</td>\\n      <td>78</td>\\n      <td>100</td>\\n      <td>23.02</td>\\n    </tr>\\n    <tr>\\n      <th>507</th>\\n      <td>Beipiao</td>\\n      <td>CN</td>\\n      <td>2038342</td>\\n      <td>41.79</td>\\n      <td>120.78</td>\\n      <td>52.41</td>\\n      <td>42</td>\\n      <td>0</td>\\n      <td>13.76</td>\\n    </tr>\\n    <tr>\\n      <th>508</th>\\n      <td>Boma</td>\\n      <td>GH</td>\\n      <td>2303258</td>\\n      <td>7.08</td>\\n      <td>-2.17</td>\\n      <td>73.60</td>\\n      <td>97</td>\\n      <td>100</td>\\n      <td>2.51</td>\\n    </tr>\\n    <tr>\\n      <th>509</th>\\n      <td>Huanren</td>\\n      <td>CN</td>\\n      <td>2036713</td>\\n      <td>41.26</td>\\n      <td>125.37</td>\\n      <td>46.36</td>\\n      <td>82</td>\\n      <td>82</td>\\n      <td>3.78</td>\\n    </tr>\\n    <tr>\\n      <th>510</th>\\n      <td>Cortez</td>\\n      <td>US</td>\\n      <td>5418104</td>\\n      <td>37.35</td>\\n      <td>-108.59</td>\\n      <td>69.80</td>\\n      <td>37</td>\\n      <td>75</td>\\n      <td>10.29</td>\\n    </tr>\\n    <tr>\\n      <th>511</th>\\n      <td>Antofagasta</td>\\n      <td>CL</td>\\n      <td>3899539</td>\\n      <td>-23.65</td>\\n      <td>-70.40</td>\\n      <td>62.60</td>\\n      <td>72</td>\\n      <td>90</td>\\n      <td>10.29</td>\\n    </tr>\\n    <tr>\\n      <th>512</th>\\n      <td>Kasulu</td>\\n      <td>TZ</td>\\n      <td>158214</td>\\n      <td>-4.58</td>\\n      <td>30.10</td>\\n      <td>73.40</td>\\n      <td>83</td>\\n      <td>20</td>\\n      <td>2.73</td>\\n    </tr>\\n    <tr>\\n      <th>513</th>\\n      <td>Coyhaique</td>\\n      <td>CL</td>\\n      <td>3894426</td>\\n      <td>-45.58</td>\\n      <td>-72.07</td>\\n      <td>48.20</td>\\n      <td>70</td>\\n      <td>75</td>\\n      <td>3.36</td>\\n    </tr>\\n    <tr>\\n      <th>514</th>\\n      <td>Bubaque</td>\\n      <td>GW</td>\\n      <td>2374583</td>\\n      <td>11.28</td>\\n      <td>-15.83</td>\\n      <td>77.99</td>\\n      <td>79</td>\\n      <td>90</td>\\n      <td>13.94</td>\\n    </tr>\\n    <tr>\\n      <th>515</th>\\n      <td>Carman</td>\\n      <td>CA</td>\\n      <td>5917275</td>\\n      <td>49.50</td>\\n      <td>-98.00</td>\\n      <td>48.00</td>\\n      <td>28</td>\\n      <td>5</td>\\n      <td>18.34</td>\\n    </tr>\\n    <tr>\\n      <th>516</th>\\n      <td>Skibotn</td>\\n      <td>NO</td>\\n      <td>7626405</td>\\n      <td>69.39</td>\\n      <td>20.27</td>\\n      <td>32.00</td>\\n      <td>93</td>\\n      <td>75</td>\\n      <td>12.75</td>\\n    </tr>\\n    <tr>\\n      <th>517</th>\\n      <td>Sarakhs</td>\\n      <td>IR</td>\\n      <td>1159716</td>\\n      <td>36.54</td>\\n      <td>61.16</td>\\n      <td>64.40</td>\\n      <td>77</td>\\n      <td>63</td>\\n      <td>9.17</td>\\n    </tr>\\n    <tr>\\n      <th>518</th>\\n      <td>Dickinson</td>\\n      <td>US</td>\\n      <td>4686163</td>\\n      <td>29.46</td>\\n      <td>-95.05</td>\\n      <td>81.00</td>\\n      <td>54</td>\\n      <td>40</td>\\n      <td>16.11</td>\\n    </tr>\\n    <tr>\\n      <th>519</th>\\n      <td>Vila Franca do Campo</td>\\n      <td>PT</td>\\n      <td>3372472</td>\\n      <td>37.72</td>\\n      <td>-25.43</td>\\n      <td>59.00</td>\\n      <td>72</td>\\n      <td>20</td>\\n      <td>4.70</td>\\n    </tr>\\n    <tr>\\n      <th>520</th>\\n      <td>Langsa</td>\\n      <td>ID</td>\\n      <td>1214724</td>\\n      <td>4.47</td>\\n      <td>97.97</td>\\n      <td>74.84</td>\\n      <td>96</td>\\n      <td>75</td>\\n      <td>2.82</td>\\n    </tr>\\n    <tr>\\n      <th>521</th>\\n      <td>Kibaya</td>\\n      <td>TZ</td>\\n      <td>158006</td>\\n      <td>-5.30</td>\\n      <td>36.57</td>\\n      <td>57.78</td>\\n      <td>100</td>\\n      <td>87</td>\\n      <td>3.74</td>\\n    </tr>\\n    <tr>\\n      <th>522</th>\\n      <td>Usinsk</td>\\n      <td>RU</td>\\n      <td>863061</td>\\n      <td>65.99</td>\\n      <td>57.53</td>\\n      <td>45.91</td>\\n      <td>89</td>\\n      <td>82</td>\\n      <td>10.31</td>\\n    </tr>\\n    <tr>\\n      <th>523</th>\\n      <td>Kuching</td>\\n      <td>MY</td>\\n      <td>1735634</td>\\n      <td>1.55</td>\\n      <td>110.33</td>\\n      <td>77.00</td>\\n      <td>100</td>\\n      <td>40</td>\\n      <td>2.24</td>\\n    </tr>\\n    <tr>\\n      <th>524</th>\\n      <td>Ust\\'-Karsk</td>\\n      <td>RU</td>\\n      <td>2013942</td>\\n      <td>52.70</td>\\n      <td>118.81</td>\\n      <td>40.64</td>\\n      <td>64</td>\\n      <td>100</td>\\n      <td>2.66</td>\\n    </tr>\\n    <tr>\\n      <th>525</th>\\n      <td>Luganville</td>\\n      <td>VU</td>\\n      <td>2136150</td>\\n      <td>-15.53</td>\\n      <td>167.17</td>\\n      <td>78.80</td>\\n      <td>74</td>\\n      <td>75</td>\\n      <td>5.82</td>\\n    </tr>\\n    <tr>\\n      <th>526</th>\\n      <td>Kaili</td>\\n      <td>ID</td>\\n      <td>1638368</td>\\n      <td>-3.46</td>\\n      <td>120.21</td>\\n      <td>69.19</td>\\n      <td>94</td>\\n      <td>30</td>\\n      <td>1.88</td>\\n    </tr>\\n    <tr>\\n      <th>527</th>\\n      <td>Cabras</td>\\n      <td>IT</td>\\n      <td>2525478</td>\\n      <td>39.93</td>\\n      <td>8.53</td>\\n      <td>57.99</td>\\n      <td>89</td>\\n      <td>0</td>\\n      <td>10.00</td>\\n    </tr>\\n    <tr>\\n      <th>528</th>\\n      <td>Linhares</td>\\n      <td>BR</td>\\n      <td>3458498</td>\\n      <td>-19.39</td>\\n      <td>-40.07</td>\\n      <td>69.03</td>\\n      <td>82</td>\\n      <td>60</td>\\n      <td>3.69</td>\\n    </tr>\\n    <tr>\\n      <th>529</th>\\n      <td>Ngama</td>\\n      <td>TD</td>\\n      <td>2427036</td>\\n      <td>11.78</td>\\n      <td>17.17</td>\\n      <td>92.32</td>\\n      <td>33</td>\\n      <td>72</td>\\n      <td>7.05</td>\\n    </tr>\\n    <tr>\\n      <th>530</th>\\n      <td>Marquette</td>\\n      <td>US</td>\\n      <td>5000950</td>\\n      <td>46.53</td>\\n      <td>-87.63</td>\\n      <td>39.99</td>\\n      <td>39</td>\\n      <td>0</td>\\n      <td>4.00</td>\\n    </tr>\\n    <tr>\\n      <th>531</th>\\n      <td>Kununurra</td>\\n      <td>AU</td>\\n      <td>2068110</td>\\n      <td>-15.77</td>\\n      <td>128.73</td>\\n      <td>60.80</td>\\n      <td>67</td>\\n      <td>0</td>\\n      <td>4.70</td>\\n    </tr>\\n    <tr>\\n      <th>532</th>\\n      <td>Port Moresby</td>\\n      <td>PG</td>\\n      <td>2088122</td>\\n      <td>-9.44</td>\\n      <td>147.18</td>\\n      <td>78.80</td>\\n      <td>83</td>\\n      <td>40</td>\\n      <td>11.41</td>\\n    </tr>\\n    <tr>\\n      <th>533</th>\\n      <td>Salalah</td>\\n      <td>OM</td>\\n      <td>286621</td>\\n      <td>17.02</td>\\n      <td>54.09</td>\\n      <td>84.20</td>\\n      <td>83</td>\\n      <td>0</td>\\n      <td>2.24</td>\\n    </tr>\\n    <tr>\\n      <th>534</th>\\n      <td>Pundaguitan</td>\\n      <td>PH</td>\\n      <td>1698289</td>\\n      <td>6.37</td>\\n      <td>126.17</td>\\n      <td>81.43</td>\\n      <td>81</td>\\n      <td>100</td>\\n      <td>6.17</td>\\n    </tr>\\n    <tr>\\n      <th>535</th>\\n      <td>Nizwá</td>\\n      <td>OM</td>\\n      <td>286987</td>\\n      <td>22.93</td>\\n      <td>57.53</td>\\n      <td>83.59</td>\\n      <td>41</td>\\n      <td>0</td>\\n      <td>1.59</td>\\n    </tr>\\n    <tr>\\n      <th>536</th>\\n      <td>Mehrān</td>\\n      <td>IR</td>\\n      <td>124291</td>\\n      <td>33.12</td>\\n      <td>46.16</td>\\n      <td>51.80</td>\\n      <td>50</td>\\n      <td>0</td>\\n      <td>2.24</td>\\n    </tr>\\n    <tr>\\n      <th>537</th>\\n      <td>Djibouti</td>\\n      <td>DJ</td>\\n      <td>223816</td>\\n      <td>11.50</td>\\n      <td>42.50</td>\\n      <td>86.00</td>\\n      <td>66</td>\\n      <td>1</td>\\n      <td>3.36</td>\\n    </tr>\\n    <tr>\\n      <th>538</th>\\n      <td>Scarborough</td>\\n      <td>GB</td>\\n      <td>2638419</td>\\n      <td>54.28</td>\\n      <td>-0.40</td>\\n      <td>39.00</td>\\n      <td>77</td>\\n      <td>0</td>\\n      <td>5.66</td>\\n    </tr>\\n    <tr>\\n      <th>539</th>\\n      <td>Cockburn Town</td>\\n      <td>TC</td>\\n      <td>3576994</td>\\n      <td>21.46</td>\\n      <td>-71.14</td>\\n      <td>80.74</td>\\n      <td>83</td>\\n      <td>66</td>\\n      <td>15.21</td>\\n    </tr>\\n    <tr>\\n      <th>540</th>\\n      <td>Savonlinna</td>\\n      <td>FI</td>\\n      <td>637292</td>\\n      <td>61.87</td>\\n      <td>28.88</td>\\n      <td>32.00</td>\\n      <td>94</td>\\n      <td>90</td>\\n      <td>12.75</td>\\n    </tr>\\n    <tr>\\n      <th>541</th>\\n      <td>Niquero</td>\\n      <td>CU</td>\\n      <td>3545981</td>\\n      <td>20.04</td>\\n      <td>-77.58</td>\\n      <td>83.48</td>\\n      <td>70</td>\\n      <td>100</td>\\n      <td>6.85</td>\\n    </tr>\\n    <tr>\\n      <th>542</th>\\n      <td>Smithers</td>\\n      <td>CA</td>\\n      <td>6149996</td>\\n      <td>54.78</td>\\n      <td>-127.17</td>\\n      <td>60.80</td>\\n      <td>25</td>\\n      <td>5</td>\\n      <td>10.29</td>\\n    </tr>\\n    <tr>\\n      <th>543</th>\\n      <td>Padang</td>\\n      <td>ID</td>\\n      <td>1633419</td>\\n      <td>-0.95</td>\\n      <td>100.35</td>\\n      <td>78.96</td>\\n      <td>70</td>\\n      <td>100</td>\\n      <td>4.36</td>\\n    </tr>\\n    <tr>\\n      <th>544</th>\\n      <td>Tura</td>\\n      <td>IN</td>\\n      <td>1254046</td>\\n      <td>25.52</td>\\n      <td>90.22</td>\\n      <td>74.37</td>\\n      <td>62</td>\\n      <td>5</td>\\n      <td>0.94</td>\\n    </tr>\\n    <tr>\\n      <th>545</th>\\n      <td>San Quintín</td>\\n      <td>MX</td>\\n      <td>3984997</td>\\n      <td>30.48</td>\\n      <td>-115.95</td>\\n      <td>68.09</td>\\n      <td>65</td>\\n      <td>0</td>\\n      <td>15.68</td>\\n    </tr>\\n    <tr>\\n      <th>546</th>\\n      <td>Seoul</td>\\n      <td>KR</td>\\n      <td>1835848</td>\\n      <td>37.57</td>\\n      <td>126.98</td>\\n      <td>51.80</td>\\n      <td>93</td>\\n      <td>17</td>\\n      <td>6.93</td>\\n    </tr>\\n    <tr>\\n      <th>547</th>\\n      <td>Verkh-Usugli</td>\\n      <td>RU</td>\\n      <td>2013459</td>\\n      <td>52.70</td>\\n      <td>115.17</td>\\n      <td>32.65</td>\\n      <td>80</td>\\n      <td>14</td>\\n      <td>3.67</td>\\n    </tr>\\n    <tr>\\n      <th>548</th>\\n      <td>San Miguel de Cauri</td>\\n      <td>PE</td>\\n      <td>3929389</td>\\n      <td>-10.10</td>\\n      <td>-76.58</td>\\n      <td>51.12</td>\\n      <td>79</td>\\n      <td>75</td>\\n      <td>3.02</td>\\n    </tr>\\n    <tr>\\n      <th>549</th>\\n      <td>Baykit</td>\\n      <td>RU</td>\\n      <td>1510689</td>\\n      <td>61.67</td>\\n      <td>96.37</td>\\n      <td>51.84</td>\\n      <td>81</td>\\n      <td>91</td>\\n      <td>4.56</td>\\n    </tr>\\n    <tr>\\n      <th>550</th>\\n      <td>Karaton</td>\\n      <td>ID</td>\\n      <td>1630058</td>\\n      <td>-6.34</td>\\n      <td>106.10</td>\\n      <td>82.40</td>\\n      <td>83</td>\\n      <td>40</td>\\n      <td>2.24</td>\\n    </tr>\\n    <tr>\\n      <th>551</th>\\n      <td>Baharly</td>\\n      <td>TM</td>\\n      <td>162158</td>\\n      <td>38.44</td>\\n      <td>57.43</td>\\n      <td>66.54</td>\\n      <td>49</td>\\n      <td>67</td>\\n      <td>11.72</td>\\n    </tr>\\n    <tr>\\n      <th>552</th>\\n      <td>Laguna</td>\\n      <td>US</td>\\n      <td>5364271</td>\\n      <td>38.42</td>\\n      <td>-121.42</td>\\n      <td>81.00</td>\\n      <td>23</td>\\n      <td>75</td>\\n      <td>10.29</td>\\n    </tr>\\n    <tr>\\n      <th>553</th>\\n      <td>Yarmouth</td>\\n      <td>US</td>\\n      <td>4956335</td>\\n      <td>41.71</td>\\n      <td>-70.23</td>\\n      <td>55.40</td>\\n      <td>76</td>\\n      <td>75</td>\\n      <td>8.05</td>\\n    </tr>\\n    <tr>\\n      <th>554</th>\\n      <td>Zabid</td>\\n      <td>YE</td>\\n      <td>69500</td>\\n      <td>14.20</td>\\n      <td>43.32</td>\\n      <td>92.39</td>\\n      <td>39</td>\\n      <td>0</td>\\n      <td>3.60</td>\\n    </tr>\\n    <tr>\\n      <th>555</th>\\n      <td>Qasigiannguit</td>\\n      <td>GL</td>\\n      <td>3420768</td>\\n      <td>68.82</td>\\n      <td>-51.19</td>\\n      <td>55.40</td>\\n      <td>37</td>\\n      <td>10</td>\\n      <td>13.87</td>\\n    </tr>\\n    <tr>\\n      <th>556</th>\\n      <td>Chapais</td>\\n      <td>CA</td>\\n      <td>5919850</td>\\n      <td>49.78</td>\\n      <td>-74.85</td>\\n      <td>28.40</td>\\n      <td>39</td>\\n      <td>1</td>\\n      <td>9.17</td>\\n    </tr>\\n    <tr>\\n      <th>557</th>\\n      <td>Hauterive</td>\\n      <td>FR</td>\\n      <td>3013748</td>\\n      <td>46.09</td>\\n      <td>3.45</td>\\n      <td>42.80</td>\\n      <td>93</td>\\n      <td>90</td>\\n      <td>10.29</td>\\n    </tr>\\n    <tr>\\n      <th>558</th>\\n      <td>Tieling</td>\\n      <td>CN</td>\\n      <td>2034439</td>\\n      <td>42.29</td>\\n      <td>123.84</td>\\n      <td>50.09</td>\\n      <td>70</td>\\n      <td>55</td>\\n      <td>12.30</td>\\n    </tr>\\n    <tr>\\n      <th>559</th>\\n      <td>Salinas</td>\\n      <td>US</td>\\n      <td>5391295</td>\\n      <td>36.68</td>\\n      <td>-121.66</td>\\n      <td>73.99</td>\\n      <td>35</td>\\n      <td>1</td>\\n      <td>3.36</td>\\n    </tr>\\n    <tr>\\n      <th>560</th>\\n      <td>Gari</td>\\n      <td>RU</td>\\n      <td>1506676</td>\\n      <td>59.43</td>\\n      <td>62.35</td>\\n      <td>55.44</td>\\n      <td>87</td>\\n      <td>64</td>\\n      <td>1.92</td>\\n    </tr>\\n    <tr>\\n      <th>561</th>\\n      <td>Buraidah</td>\\n      <td>SA</td>\\n      <td>107304</td>\\n      <td>26.33</td>\\n      <td>43.98</td>\\n      <td>82.40</td>\\n      <td>37</td>\\n      <td>20</td>\\n      <td>3.36</td>\\n    </tr>\\n    <tr>\\n      <th>562</th>\\n      <td>Andrychów</td>\\n      <td>PL</td>\\n      <td>3104115</td>\\n      <td>49.85</td>\\n      <td>19.34</td>\\n      <td>51.80</td>\\n      <td>93</td>\\n      <td>75</td>\\n      <td>20.80</td>\\n    </tr>\\n    <tr>\\n      <th>563</th>\\n      <td>Keti Bandar</td>\\n      <td>PK</td>\\n      <td>1174451</td>\\n      <td>24.14</td>\\n      <td>67.45</td>\\n      <td>80.67</td>\\n      <td>88</td>\\n      <td>90</td>\\n      <td>12.86</td>\\n    </tr>\\n    <tr>\\n      <th>564</th>\\n      <td>Abu Dhabi</td>\\n      <td>AE</td>\\n      <td>292968</td>\\n      <td>24.47</td>\\n      <td>54.37</td>\\n      <td>86.00</td>\\n      <td>51</td>\\n      <td>23</td>\\n      <td>12.75</td>\\n    </tr>\\n    <tr>\\n      <th>565</th>\\n      <td>Ibrā’</td>\\n      <td>OM</td>\\n      <td>287832</td>\\n      <td>22.69</td>\\n      <td>58.53</td>\\n      <td>81.95</td>\\n      <td>54</td>\\n      <td>2</td>\\n      <td>2.37</td>\\n    </tr>\\n    <tr>\\n      <th>566</th>\\n      <td>Grand-Santi</td>\\n      <td>GF</td>\\n      <td>3381538</td>\\n      <td>4.25</td>\\n      <td>-54.38</td>\\n      <td>74.79</td>\\n      <td>96</td>\\n      <td>100</td>\\n      <td>4.85</td>\\n    </tr>\\n  </tbody>\\n</table>'"
      ]
     },
     "execution_count": 10,
     "metadata": {},
     "output_type": "execute_result"
    }
   ],
   "source": [
    "data = pd.DataFrame.to_html(data_df)\n",
    "data"
   ]
  },
  {
   "cell_type": "code",
   "execution_count": 12,
   "metadata": {},
   "outputs": [],
   "source": [
    "with open('Data.html', 'w') as fo:\n",
    "    data_df.to_html(fo)"
   ]
  },
  {
   "cell_type": "markdown",
   "metadata": {},
   "source": [
    "### Humidity Heatmap\n",
    "* Configure gmaps.\n",
    "* Use the Lat and Lng as locations and Humidity as the weight.\n",
    "* Add Heatmap layer to map."
   ]
  },
  {
   "cell_type": "code",
   "execution_count": 23,
   "metadata": {},
   "outputs": [
    {
     "data": {
      "text/plain": [
       "pandas.core.frame.DataFrame"
      ]
     },
     "execution_count": 23,
     "metadata": {},
     "output_type": "execute_result"
    }
   ],
   "source": [
    "gmaps.configure(api_key=g_key)\n",
    "data_df = data_df.dropna()\n",
    "\n",
    "locations = data_df[[\"Latitude\", \"Longitude\"]].astype(float)\n",
    "humidity = data_df[\"Humidity\"].astype(float)\n",
    "type(locations)"
   ]
  },
  {
   "cell_type": "code",
   "execution_count": 24,
   "metadata": {},
   "outputs": [
    {
     "data": {
      "application/vnd.jupyter.widget-view+json": {
       "model_id": "1af2a5eb2d4c4eb1b3160cbcc54f9201",
       "version_major": 2,
       "version_minor": 0
      },
      "text/plain": [
       "Figure(layout=FigureLayout(height='420px'))"
      ]
     },
     "metadata": {},
     "output_type": "display_data"
    }
   ],
   "source": [
    "fig = gmaps.figure()\n",
    "heat_layer = gmaps.heatmap_layer(locations, weights=humidity, dissipating=False, max_intensity=100, point_radius = 1)\n",
    "fig.add_layer(heat_layer)\n",
    "fig"
   ]
  },
  {
   "cell_type": "markdown",
   "metadata": {},
   "source": [
    "### Create new DataFrame fitting weather criteria\n",
    "* Narrow down the cities to fit weather conditions.\n",
    "* Drop any rows will null values."
   ]
  },
  {
   "cell_type": "code",
   "execution_count": 25,
   "metadata": {},
   "outputs": [
    {
     "data": {
      "text/html": [
       "<div>\n",
       "<style scoped>\n",
       "    .dataframe tbody tr th:only-of-type {\n",
       "        vertical-align: middle;\n",
       "    }\n",
       "\n",
       "    .dataframe tbody tr th {\n",
       "        vertical-align: top;\n",
       "    }\n",
       "\n",
       "    .dataframe thead th {\n",
       "        text-align: right;\n",
       "    }\n",
       "</style>\n",
       "<table border=\"1\" class=\"dataframe\">\n",
       "  <thead>\n",
       "    <tr style=\"text-align: right;\">\n",
       "      <th></th>\n",
       "      <th>City Name</th>\n",
       "      <th>Country</th>\n",
       "      <th>City ID</th>\n",
       "      <th>Latitude</th>\n",
       "      <th>Longitude</th>\n",
       "      <th>Max Temperature</th>\n",
       "      <th>Humidity</th>\n",
       "      <th>Cloudiness (%)</th>\n",
       "      <th>Wind Speed</th>\n",
       "    </tr>\n",
       "  </thead>\n",
       "  <tbody>\n",
       "    <tr>\n",
       "      <th>104</th>\n",
       "      <td>Linxia Chengguanzhen</td>\n",
       "      <td>CN</td>\n",
       "      <td>1803331</td>\n",
       "      <td>35.60</td>\n",
       "      <td>103.21</td>\n",
       "      <td>44.94</td>\n",
       "      <td>57</td>\n",
       "      <td>0</td>\n",
       "      <td>2.04</td>\n",
       "    </tr>\n",
       "    <tr>\n",
       "      <th>250</th>\n",
       "      <td>Karakol</td>\n",
       "      <td>KG</td>\n",
       "      <td>1528121</td>\n",
       "      <td>42.49</td>\n",
       "      <td>78.39</td>\n",
       "      <td>49.48</td>\n",
       "      <td>50</td>\n",
       "      <td>0</td>\n",
       "      <td>3.27</td>\n",
       "    </tr>\n",
       "    <tr>\n",
       "      <th>372</th>\n",
       "      <td>Kamennomostskiy</td>\n",
       "      <td>RU</td>\n",
       "      <td>553514</td>\n",
       "      <td>44.30</td>\n",
       "      <td>40.19</td>\n",
       "      <td>47.35</td>\n",
       "      <td>68</td>\n",
       "      <td>0</td>\n",
       "      <td>4.90</td>\n",
       "    </tr>\n",
       "    <tr>\n",
       "      <th>445</th>\n",
       "      <td>Mount Isa</td>\n",
       "      <td>AU</td>\n",
       "      <td>2065594</td>\n",
       "      <td>-20.73</td>\n",
       "      <td>139.50</td>\n",
       "      <td>44.60</td>\n",
       "      <td>45</td>\n",
       "      <td>0</td>\n",
       "      <td>1.12</td>\n",
       "    </tr>\n",
       "    <tr>\n",
       "      <th>530</th>\n",
       "      <td>Marquette</td>\n",
       "      <td>US</td>\n",
       "      <td>5000950</td>\n",
       "      <td>46.53</td>\n",
       "      <td>-87.63</td>\n",
       "      <td>39.99</td>\n",
       "      <td>39</td>\n",
       "      <td>0</td>\n",
       "      <td>4.00</td>\n",
       "    </tr>\n",
       "    <tr>\n",
       "      <th>536</th>\n",
       "      <td>Mehrān</td>\n",
       "      <td>IR</td>\n",
       "      <td>124291</td>\n",
       "      <td>33.12</td>\n",
       "      <td>46.16</td>\n",
       "      <td>51.80</td>\n",
       "      <td>50</td>\n",
       "      <td>0</td>\n",
       "      <td>2.24</td>\n",
       "    </tr>\n",
       "  </tbody>\n",
       "</table>\n",
       "</div>"
      ],
      "text/plain": [
       "                City Name Country  City ID  Latitude  Longitude  \\\n",
       "104  Linxia Chengguanzhen      CN  1803331     35.60     103.21   \n",
       "250               Karakol      KG  1528121     42.49      78.39   \n",
       "372       Kamennomostskiy      RU   553514     44.30      40.19   \n",
       "445             Mount Isa      AU  2065594    -20.73     139.50   \n",
       "530             Marquette      US  5000950     46.53     -87.63   \n",
       "536                Mehrān      IR   124291     33.12      46.16   \n",
       "\n",
       "     Max Temperature  Humidity  Cloudiness (%)  Wind Speed  \n",
       "104            44.94        57               0        2.04  \n",
       "250            49.48        50               0        3.27  \n",
       "372            47.35        68               0        4.90  \n",
       "445            44.60        45               0        1.12  \n",
       "530            39.99        39               0        4.00  \n",
       "536            51.80        50               0        2.24  "
      ]
     },
     "execution_count": 25,
     "metadata": {},
     "output_type": "execute_result"
    }
   ],
   "source": [
    "Hotel_df = data_df.loc[(data_df[\"Humidity\"]<70)& (data_df[\"Max Temperature\"]<55)& (data_df[\"Max Temperature\"]\n",
    "                                       >25) & (data_df[\"Wind Speed\"]<5) & (data_df[\"Cloudiness (%)\"]<10)]\n",
    "\n",
    "Hotel_df"
   ]
  },
  {
   "cell_type": "code",
   "execution_count": null,
   "metadata": {},
   "outputs": [],
   "source": [
    "\n"
   ]
  },
  {
   "cell_type": "markdown",
   "metadata": {},
   "source": [
    "### Hotel Map\n",
    "* Store into variable named `hotel_df`.\n",
    "* Add a \"Hotel Name\" column to the DataFrame.\n",
    "* Set parameters to search for hotels with 5000 meters.\n",
    "* Hit the Google Places API for each city's coordinates.\n",
    "* Store the first Hotel result into the DataFrame.\n",
    "* Plot markers on top of the heatmap."
   ]
  },
  {
   "cell_type": "code",
   "execution_count": 26,
   "metadata": {},
   "outputs": [
    {
     "name": "stdout",
     "output_type": "stream",
     "text": [
      "33.12,46.16, No results for this location\n",
      "['Linxia Hotel', 'Snow Leopard Hostel', 'Отдых в горах Адыгеи - Барская усадьба', 'Burke & Wills Motel Mt Isa', 'Jasper Ridge Inn Ishpeming', 'No Hotel near this location']\n"
     ]
    }
   ],
   "source": [
    "# FIND THE HOTEL INFORMATION. THIS IS THE SHORTENED CODE, I COMMENTED OUT A BIT\n",
    "# lat_list = []\n",
    "# long_list = []\n",
    "# coordinates_list = []\n",
    "#Hotel_Location_List = []\n",
    "\n",
    "Hotel_Name_List = []\n",
    "\n",
    "locations = Hotel_df[[\"Latitude\", \"Longitude\"]].astype(float)\n",
    "for x in range (len(locations)):\n",
    "    lat=locations.iloc[x,0]\n",
    "    long=locations.iloc[x,1]\n",
    "#     lat_list.append(lat)\n",
    "#     long_list.append(long)\n",
    "#     coordinates = str(lat_list[x]) + \",\" + str(long_list[x]) \n",
    "#     coordinates_list.append(coordinates)\n",
    "    \n",
    "    base_url = \"https://maps.googleapis.com/maps/api/place/nearbysearch/json\"\n",
    "\n",
    "    params = {\n",
    "            \"location\": f\"{lat},{long}\",\n",
    "            \"radius\": 5000,\n",
    "            \"keyword\" : \"hotel\",\n",
    "            \"type\": \"hotel\",\n",
    "            \"key\": g_key,\n",
    "    }\n",
    "\n",
    "\n",
    "    response = requests.get(base_url, params=params).json()\n",
    "    results=response[\"results\"]\n",
    "    try: \n",
    "        Hotel_Name = results[1][\"name\"]  \n",
    "        Hotel_Name_List.append(Hotel_Name)\n",
    "#         Hotel_Location = results[0]['plus_code'][\"compound_code\"]\n",
    "#         Hotel_Location_List.append(Hotel_Location)\n",
    "    except:\n",
    "        print(f\"{lat},{long}, No results for this location\")\n",
    "        \n",
    "        No_Hotel = \"No Hotel near this location\"\n",
    "        Hotel_Name_List.append(No_Hotel)\n",
    "\n",
    "print(Hotel_Name_List)\n"
   ]
  },
  {
   "cell_type": "code",
   "execution_count": 27,
   "metadata": {},
   "outputs": [
    {
     "name": "stderr",
     "output_type": "stream",
     "text": [
      "/Users/imacmattimacmatt/Applications/anaconda3/lib/python3.7/site-packages/ipykernel_launcher.py:1: SettingWithCopyWarning: \n",
      "A value is trying to be set on a copy of a slice from a DataFrame.\n",
      "Try using .loc[row_indexer,col_indexer] = value instead\n",
      "\n",
      "See the caveats in the documentation: https://pandas.pydata.org/pandas-docs/stable/user_guide/indexing.html#returning-a-view-versus-a-copy\n",
      "  \"\"\"Entry point for launching an IPython kernel.\n"
     ]
    },
    {
     "data": {
      "text/html": [
       "<div>\n",
       "<style scoped>\n",
       "    .dataframe tbody tr th:only-of-type {\n",
       "        vertical-align: middle;\n",
       "    }\n",
       "\n",
       "    .dataframe tbody tr th {\n",
       "        vertical-align: top;\n",
       "    }\n",
       "\n",
       "    .dataframe thead th {\n",
       "        text-align: right;\n",
       "    }\n",
       "</style>\n",
       "<table border=\"1\" class=\"dataframe\">\n",
       "  <thead>\n",
       "    <tr style=\"text-align: right;\">\n",
       "      <th></th>\n",
       "      <th>City Name</th>\n",
       "      <th>Country</th>\n",
       "      <th>City ID</th>\n",
       "      <th>Latitude</th>\n",
       "      <th>Longitude</th>\n",
       "      <th>Max Temperature</th>\n",
       "      <th>Humidity</th>\n",
       "      <th>Cloudiness (%)</th>\n",
       "      <th>Wind Speed</th>\n",
       "      <th>Hotel Name</th>\n",
       "    </tr>\n",
       "  </thead>\n",
       "  <tbody>\n",
       "    <tr>\n",
       "      <th>104</th>\n",
       "      <td>Linxia Chengguanzhen</td>\n",
       "      <td>CN</td>\n",
       "      <td>1803331</td>\n",
       "      <td>35.60</td>\n",
       "      <td>103.21</td>\n",
       "      <td>44.94</td>\n",
       "      <td>57</td>\n",
       "      <td>0</td>\n",
       "      <td>2.04</td>\n",
       "      <td>Linxia Hotel</td>\n",
       "    </tr>\n",
       "    <tr>\n",
       "      <th>250</th>\n",
       "      <td>Karakol</td>\n",
       "      <td>KG</td>\n",
       "      <td>1528121</td>\n",
       "      <td>42.49</td>\n",
       "      <td>78.39</td>\n",
       "      <td>49.48</td>\n",
       "      <td>50</td>\n",
       "      <td>0</td>\n",
       "      <td>3.27</td>\n",
       "      <td>Snow Leopard Hostel</td>\n",
       "    </tr>\n",
       "    <tr>\n",
       "      <th>372</th>\n",
       "      <td>Kamennomostskiy</td>\n",
       "      <td>RU</td>\n",
       "      <td>553514</td>\n",
       "      <td>44.30</td>\n",
       "      <td>40.19</td>\n",
       "      <td>47.35</td>\n",
       "      <td>68</td>\n",
       "      <td>0</td>\n",
       "      <td>4.90</td>\n",
       "      <td>Отдых в горах Адыгеи - Барская усадьба</td>\n",
       "    </tr>\n",
       "    <tr>\n",
       "      <th>445</th>\n",
       "      <td>Mount Isa</td>\n",
       "      <td>AU</td>\n",
       "      <td>2065594</td>\n",
       "      <td>-20.73</td>\n",
       "      <td>139.50</td>\n",
       "      <td>44.60</td>\n",
       "      <td>45</td>\n",
       "      <td>0</td>\n",
       "      <td>1.12</td>\n",
       "      <td>Burke &amp; Wills Motel Mt Isa</td>\n",
       "    </tr>\n",
       "    <tr>\n",
       "      <th>530</th>\n",
       "      <td>Marquette</td>\n",
       "      <td>US</td>\n",
       "      <td>5000950</td>\n",
       "      <td>46.53</td>\n",
       "      <td>-87.63</td>\n",
       "      <td>39.99</td>\n",
       "      <td>39</td>\n",
       "      <td>0</td>\n",
       "      <td>4.00</td>\n",
       "      <td>Jasper Ridge Inn Ishpeming</td>\n",
       "    </tr>\n",
       "    <tr>\n",
       "      <th>536</th>\n",
       "      <td>Mehrān</td>\n",
       "      <td>IR</td>\n",
       "      <td>124291</td>\n",
       "      <td>33.12</td>\n",
       "      <td>46.16</td>\n",
       "      <td>51.80</td>\n",
       "      <td>50</td>\n",
       "      <td>0</td>\n",
       "      <td>2.24</td>\n",
       "      <td>No Hotel near this location</td>\n",
       "    </tr>\n",
       "  </tbody>\n",
       "</table>\n",
       "</div>"
      ],
      "text/plain": [
       "                City Name Country  City ID  Latitude  Longitude  \\\n",
       "104  Linxia Chengguanzhen      CN  1803331     35.60     103.21   \n",
       "250               Karakol      KG  1528121     42.49      78.39   \n",
       "372       Kamennomostskiy      RU   553514     44.30      40.19   \n",
       "445             Mount Isa      AU  2065594    -20.73     139.50   \n",
       "530             Marquette      US  5000950     46.53     -87.63   \n",
       "536                Mehrān      IR   124291     33.12      46.16   \n",
       "\n",
       "     Max Temperature  Humidity  Cloudiness (%)  Wind Speed  \\\n",
       "104            44.94        57               0        2.04   \n",
       "250            49.48        50               0        3.27   \n",
       "372            47.35        68               0        4.90   \n",
       "445            44.60        45               0        1.12   \n",
       "530            39.99        39               0        4.00   \n",
       "536            51.80        50               0        2.24   \n",
       "\n",
       "                                 Hotel Name  \n",
       "104                            Linxia Hotel  \n",
       "250                     Snow Leopard Hostel  \n",
       "372  Отдых в горах Адыгеи - Барская усадьба  \n",
       "445              Burke & Wills Motel Mt Isa  \n",
       "530              Jasper Ridge Inn Ishpeming  \n",
       "536             No Hotel near this location  "
      ]
     },
     "execution_count": 27,
     "metadata": {},
     "output_type": "execute_result"
    }
   ],
   "source": [
    "Hotel_df[\"Hotel Name\"] = Hotel_Name_List\n",
    "#Hotel = Hotel_Name_List\n",
    "# Hotel_df.loc[Hotel_df[\"Hotel Name\"] == Hotel_Name_List]\n",
    "# Hotel_df\n",
    "Hotel_df\n"
   ]
  },
  {
   "cell_type": "code",
   "execution_count": 28,
   "metadata": {},
   "outputs": [
    {
     "data": {
      "application/vnd.jupyter.widget-view+json": {
       "model_id": "95352d150e6648eda90bbf9501cb388b",
       "version_major": 2,
       "version_minor": 0
      },
      "text/plain": [
       "Figure(layout=FigureLayout(height='420px'))"
      ]
     },
     "metadata": {},
     "output_type": "display_data"
    }
   ],
   "source": [
    "# # # # #MAPPING\n",
    "\n",
    "Hotel_layer = gmaps.symbol_layer(\n",
    "    locations, fill_color='rgba(0, 150, 0, 0.4)',\n",
    "    stroke_color='rgba(0, 0, 150, 0.4)', scale=4,\n",
    "    info_box_content= [f\"Hotel Name: {name} \" for name in Hotel_Name_List]\n",
    ")\n",
    "\n",
    "\n",
    "fig = gmaps.figure()\n",
    "fig.add_layer(Hotel_layer)\n",
    "\n",
    "fig\n"
   ]
  },
  {
   "cell_type": "code",
   "execution_count": 29,
   "metadata": {},
   "outputs": [
    {
     "data": {
      "application/vnd.jupyter.widget-view+json": {
       "model_id": "a5a8c1905c58490bb76d3ea7a5b8c206",
       "version_major": 2,
       "version_minor": 0
      },
      "text/plain": [
       "Figure(layout=FigureLayout(height='420px'))"
      ]
     },
     "metadata": {},
     "output_type": "display_data"
    }
   ],
   "source": [
    "# Add marker layer ontop of heat map\n",
    "fig = gmaps.figure()\n",
    "\n",
    "fig.add_layer(heat_layer)\n",
    "fig.add_layer(Hotel_layer)\n",
    "\n",
    "fig\n",
    "\n",
    "# Display figure\n"
   ]
  },
  {
   "cell_type": "code",
   "execution_count": null,
   "metadata": {},
   "outputs": [],
   "source": []
  },
  {
   "cell_type": "code",
   "execution_count": null,
   "metadata": {},
   "outputs": [],
   "source": []
  },
  {
   "cell_type": "code",
   "execution_count": null,
   "metadata": {},
   "outputs": [],
   "source": []
  },
  {
   "cell_type": "code",
   "execution_count": null,
   "metadata": {},
   "outputs": [],
   "source": []
  },
  {
   "cell_type": "code",
   "execution_count": 101,
   "metadata": {},
   "outputs": [],
   "source": [
    "# THIS IS THE PART I TALKED TO MARK ABOUT AND THEN SKIPPED\n",
    "\n",
    "# # NOTE: Do not change any of the code in this cell\n",
    "\n",
    "# # Using the template add the hotel marks to the heatmap\n",
    "# info_box_template = \"\"\"\n",
    "# <dl>\n",
    "# <dt>Name</dt><dd>{Hotel Name}</dd>\n",
    "# <dt>City</dt><dd>{City Name}</dd>\n",
    "# <dt>Country</dt><dd>{Country}</dd>\n",
    "# </dl>\n",
    "# \"\"\"\n",
    "# # Store the DataFrame Row\n",
    "# # NOTE: be sure to update with your DataFrame name\n",
    "# hotel_info = [info_box_template.format(**row) for index, row in Hotel_df.iterrows()]\n",
    "# locations = Hotel_df[[\"Latitude\", \"Longitude\"]]"
   ]
  },
  {
   "cell_type": "code",
   "execution_count": null,
   "metadata": {},
   "outputs": [],
   "source": []
  }
 ],
 "metadata": {
  "kernelspec": {
   "display_name": "Python 3",
   "language": "python",
   "name": "python3"
  },
  "language_info": {
   "codemirror_mode": {
    "name": "ipython",
    "version": 3
   },
   "file_extension": ".py",
   "mimetype": "text/x-python",
   "name": "python",
   "nbconvert_exporter": "python",
   "pygments_lexer": "ipython3",
   "version": "3.7.6"
  },
  "latex_envs": {
   "LaTeX_envs_menu_present": true,
   "autoclose": false,
   "autocomplete": true,
   "bibliofile": "biblio.bib",
   "cite_by": "apalike",
   "current_citInitial": 1,
   "eqLabelWithNumbers": true,
   "eqNumInitial": 1,
   "hotkeys": {
    "equation": "Ctrl-E",
    "itemize": "Ctrl-I"
   },
   "labels_anchors": false,
   "latex_user_defs": false,
   "report_style_numbering": false,
   "user_envs_cfg": false
  }
 },
 "nbformat": 4,
 "nbformat_minor": 2
}
