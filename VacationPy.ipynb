{
 "cells": [
  {
   "cell_type": "markdown",
   "metadata": {},
   "source": [
    "# VacationPy\n",
    "----\n",
    "\n",
    "#### Note\n",
    "* Instructions have been included for each segment. You do not have to follow them exactly, but they are included to help you think through the steps."
   ]
  },
  {
   "cell_type": "code",
   "execution_count": 1,
   "metadata": {},
   "outputs": [],
   "source": [
    "# Dependencies and Setup\n",
    "#jupyter nbextension enable py gmaps\n",
    "import matplotlib.pyplot as plt\n",
    "import pandas as pd\n",
    "import numpy as np\n",
    "import requests\n",
    "\n",
    "import os\n",
    "\n",
    "# Import API key\n",
    "from api_keys import g_key"
   ]
  },
  {
   "cell_type": "code",
   "execution_count": 2,
   "metadata": {},
   "outputs": [],
   "source": [
    "import gmaps"
   ]
  },
  {
   "cell_type": "markdown",
   "metadata": {},
   "source": [
    "### Store Part I results into DataFrame\n",
    "* Load the csv exported in Part I to a DataFrame"
   ]
  },
  {
   "cell_type": "code",
   "execution_count": 3,
   "metadata": {},
   "outputs": [
    {
     "data": {
      "text/html": [
       "<div>\n",
       "<style scoped>\n",
       "    .dataframe tbody tr th:only-of-type {\n",
       "        vertical-align: middle;\n",
       "    }\n",
       "\n",
       "    .dataframe tbody tr th {\n",
       "        vertical-align: top;\n",
       "    }\n",
       "\n",
       "    .dataframe thead th {\n",
       "        text-align: right;\n",
       "    }\n",
       "</style>\n",
       "<table border=\"1\" class=\"dataframe\">\n",
       "  <thead>\n",
       "    <tr style=\"text-align: right;\">\n",
       "      <th></th>\n",
       "      <th>City Name</th>\n",
       "      <th>Country</th>\n",
       "      <th>City ID</th>\n",
       "      <th>Latitude</th>\n",
       "      <th>Longitude</th>\n",
       "      <th>Max Temperature</th>\n",
       "      <th>Humidity</th>\n",
       "      <th>Cloudiness (%)</th>\n",
       "      <th>Wind Speed</th>\n",
       "    </tr>\n",
       "  </thead>\n",
       "  <tbody>\n",
       "    <tr>\n",
       "      <th>0</th>\n",
       "      <td>Lebu</td>\n",
       "      <td>CL</td>\n",
       "      <td>3883457</td>\n",
       "      <td>-37.62</td>\n",
       "      <td>-73.65</td>\n",
       "      <td>52.83</td>\n",
       "      <td>82</td>\n",
       "      <td>100</td>\n",
       "      <td>8.48</td>\n",
       "    </tr>\n",
       "    <tr>\n",
       "      <th>1</th>\n",
       "      <td>Rikitea</td>\n",
       "      <td>PF</td>\n",
       "      <td>4030556</td>\n",
       "      <td>-23.12</td>\n",
       "      <td>-134.97</td>\n",
       "      <td>75.20</td>\n",
       "      <td>84</td>\n",
       "      <td>100</td>\n",
       "      <td>30.02</td>\n",
       "    </tr>\n",
       "    <tr>\n",
       "      <th>2</th>\n",
       "      <td>Khatanga</td>\n",
       "      <td>RU</td>\n",
       "      <td>2022572</td>\n",
       "      <td>71.97</td>\n",
       "      <td>102.50</td>\n",
       "      <td>37.81</td>\n",
       "      <td>73</td>\n",
       "      <td>100</td>\n",
       "      <td>11.65</td>\n",
       "    </tr>\n",
       "    <tr>\n",
       "      <th>3</th>\n",
       "      <td>Hong Kong</td>\n",
       "      <td>HK</td>\n",
       "      <td>1819729</td>\n",
       "      <td>22.29</td>\n",
       "      <td>114.16</td>\n",
       "      <td>84.00</td>\n",
       "      <td>83</td>\n",
       "      <td>100</td>\n",
       "      <td>11.01</td>\n",
       "    </tr>\n",
       "    <tr>\n",
       "      <th>4</th>\n",
       "      <td>Skjervøy</td>\n",
       "      <td>NO</td>\n",
       "      <td>777682</td>\n",
       "      <td>70.03</td>\n",
       "      <td>20.97</td>\n",
       "      <td>54.19</td>\n",
       "      <td>71</td>\n",
       "      <td>0</td>\n",
       "      <td>14.67</td>\n",
       "    </tr>\n",
       "    <tr>\n",
       "      <th>...</th>\n",
       "      <td>...</td>\n",
       "      <td>...</td>\n",
       "      <td>...</td>\n",
       "      <td>...</td>\n",
       "      <td>...</td>\n",
       "      <td>...</td>\n",
       "      <td>...</td>\n",
       "      <td>...</td>\n",
       "      <td>...</td>\n",
       "    </tr>\n",
       "    <tr>\n",
       "      <th>575</th>\n",
       "      <td>Lagoa</td>\n",
       "      <td>PT</td>\n",
       "      <td>3372964</td>\n",
       "      <td>39.05</td>\n",
       "      <td>-27.98</td>\n",
       "      <td>63.23</td>\n",
       "      <td>73</td>\n",
       "      <td>18</td>\n",
       "      <td>6.62</td>\n",
       "    </tr>\n",
       "    <tr>\n",
       "      <th>576</th>\n",
       "      <td>Rafaela</td>\n",
       "      <td>AR</td>\n",
       "      <td>3839479</td>\n",
       "      <td>-31.25</td>\n",
       "      <td>-61.49</td>\n",
       "      <td>68.00</td>\n",
       "      <td>51</td>\n",
       "      <td>27</td>\n",
       "      <td>1.99</td>\n",
       "    </tr>\n",
       "    <tr>\n",
       "      <th>577</th>\n",
       "      <td>Atbasar</td>\n",
       "      <td>KZ</td>\n",
       "      <td>1526038</td>\n",
       "      <td>51.80</td>\n",
       "      <td>68.33</td>\n",
       "      <td>58.35</td>\n",
       "      <td>56</td>\n",
       "      <td>0</td>\n",
       "      <td>7.34</td>\n",
       "    </tr>\n",
       "    <tr>\n",
       "      <th>578</th>\n",
       "      <td>Portales</td>\n",
       "      <td>US</td>\n",
       "      <td>5484874</td>\n",
       "      <td>34.19</td>\n",
       "      <td>-103.33</td>\n",
       "      <td>91.99</td>\n",
       "      <td>29</td>\n",
       "      <td>1</td>\n",
       "      <td>18.34</td>\n",
       "    </tr>\n",
       "    <tr>\n",
       "      <th>579</th>\n",
       "      <td>General Roca</td>\n",
       "      <td>AR</td>\n",
       "      <td>3855065</td>\n",
       "      <td>-39.03</td>\n",
       "      <td>-67.58</td>\n",
       "      <td>51.80</td>\n",
       "      <td>62</td>\n",
       "      <td>100</td>\n",
       "      <td>6.93</td>\n",
       "    </tr>\n",
       "  </tbody>\n",
       "</table>\n",
       "<p>580 rows × 9 columns</p>\n",
       "</div>"
      ],
      "text/plain": [
       "        City Name Country  City ID  Latitude  Longitude  Max Temperature  \\\n",
       "0            Lebu      CL  3883457    -37.62     -73.65            52.83   \n",
       "1         Rikitea      PF  4030556    -23.12    -134.97            75.20   \n",
       "2        Khatanga      RU  2022572     71.97     102.50            37.81   \n",
       "3       Hong Kong      HK  1819729     22.29     114.16            84.00   \n",
       "4        Skjervøy      NO   777682     70.03      20.97            54.19   \n",
       "..            ...     ...      ...       ...        ...              ...   \n",
       "575         Lagoa      PT  3372964     39.05     -27.98            63.23   \n",
       "576       Rafaela      AR  3839479    -31.25     -61.49            68.00   \n",
       "577       Atbasar      KZ  1526038     51.80      68.33            58.35   \n",
       "578      Portales      US  5484874     34.19    -103.33            91.99   \n",
       "579  General Roca      AR  3855065    -39.03     -67.58            51.80   \n",
       "\n",
       "     Humidity  Cloudiness (%)  Wind Speed  \n",
       "0          82             100        8.48  \n",
       "1          84             100       30.02  \n",
       "2          73             100       11.65  \n",
       "3          83             100       11.01  \n",
       "4          71               0       14.67  \n",
       "..        ...             ...         ...  \n",
       "575        73              18        6.62  \n",
       "576        51              27        1.99  \n",
       "577        56               0        7.34  \n",
       "578        29               1       18.34  \n",
       "579        62             100        6.93  \n",
       "\n",
       "[580 rows x 9 columns]"
      ]
     },
     "execution_count": 3,
     "metadata": {},
     "output_type": "execute_result"
    }
   ],
   "source": [
    "data = \"../output_data/WeatherPy_Log.csv\"\n",
    "data_df= pd.read_csv(data)\n",
    "data_df"
   ]
  },
  {
   "cell_type": "code",
   "execution_count": 4,
   "metadata": {},
   "outputs": [
    {
     "data": {
      "text/plain": [
       "'<table border=\"1\" class=\"dataframe\">\\n  <thead>\\n    <tr style=\"text-align: right;\">\\n      <th></th>\\n      <th>City Name</th>\\n      <th>Country</th>\\n      <th>City ID</th>\\n      <th>Latitude</th>\\n      <th>Longitude</th>\\n      <th>Max Temperature</th>\\n      <th>Humidity</th>\\n      <th>Cloudiness (%)</th>\\n      <th>Wind Speed</th>\\n    </tr>\\n  </thead>\\n  <tbody>\\n    <tr>\\n      <th>0</th>\\n      <td>Lebu</td>\\n      <td>CL</td>\\n      <td>3883457</td>\\n      <td>-37.62</td>\\n      <td>-73.65</td>\\n      <td>52.83</td>\\n      <td>82</td>\\n      <td>100</td>\\n      <td>8.48</td>\\n    </tr>\\n    <tr>\\n      <th>1</th>\\n      <td>Rikitea</td>\\n      <td>PF</td>\\n      <td>4030556</td>\\n      <td>-23.12</td>\\n      <td>-134.97</td>\\n      <td>75.20</td>\\n      <td>84</td>\\n      <td>100</td>\\n      <td>30.02</td>\\n    </tr>\\n    <tr>\\n      <th>2</th>\\n      <td>Khatanga</td>\\n      <td>RU</td>\\n      <td>2022572</td>\\n      <td>71.97</td>\\n      <td>102.50</td>\\n      <td>37.81</td>\\n      <td>73</td>\\n      <td>100</td>\\n      <td>11.65</td>\\n    </tr>\\n    <tr>\\n      <th>3</th>\\n      <td>Hong Kong</td>\\n      <td>HK</td>\\n      <td>1819729</td>\\n      <td>22.29</td>\\n      <td>114.16</td>\\n      <td>84.00</td>\\n      <td>83</td>\\n      <td>100</td>\\n      <td>11.01</td>\\n    </tr>\\n    <tr>\\n      <th>4</th>\\n      <td>Skjervøy</td>\\n      <td>NO</td>\\n      <td>777682</td>\\n      <td>70.03</td>\\n      <td>20.97</td>\\n      <td>54.19</td>\\n      <td>71</td>\\n      <td>0</td>\\n      <td>14.67</td>\\n    </tr>\\n    <tr>\\n      <th>5</th>\\n      <td>George Town</td>\\n      <td>MY</td>\\n      <td>1735106</td>\\n      <td>5.41</td>\\n      <td>100.34</td>\\n      <td>80.60</td>\\n      <td>94</td>\\n      <td>20</td>\\n      <td>4.70</td>\\n    </tr>\\n    <tr>\\n      <th>6</th>\\n      <td>Saint George</td>\\n      <td>US</td>\\n      <td>5546220</td>\\n      <td>37.10</td>\\n      <td>-113.58</td>\\n      <td>82.40</td>\\n      <td>18</td>\\n      <td>1</td>\\n      <td>31.09</td>\\n    </tr>\\n    <tr>\\n      <th>7</th>\\n      <td>Dikson</td>\\n      <td>RU</td>\\n      <td>1507390</td>\\n      <td>73.51</td>\\n      <td>80.55</td>\\n      <td>30.43</td>\\n      <td>96</td>\\n      <td>100</td>\\n      <td>7.47</td>\\n    </tr>\\n    <tr>\\n      <th>8</th>\\n      <td>Bethel</td>\\n      <td>US</td>\\n      <td>5282297</td>\\n      <td>41.37</td>\\n      <td>-73.41</td>\\n      <td>88.00</td>\\n      <td>54</td>\\n      <td>75</td>\\n      <td>9.17</td>\\n    </tr>\\n    <tr>\\n      <th>9</th>\\n      <td>Horasan</td>\\n      <td>TR</td>\\n      <td>745527</td>\\n      <td>40.05</td>\\n      <td>42.17</td>\\n      <td>53.62</td>\\n      <td>42</td>\\n      <td>0</td>\\n      <td>4.81</td>\\n    </tr>\\n    <tr>\\n      <th>10</th>\\n      <td>Narsaq</td>\\n      <td>GL</td>\\n      <td>3421719</td>\\n      <td>60.92</td>\\n      <td>-46.05</td>\\n      <td>60.80</td>\\n      <td>29</td>\\n      <td>75</td>\\n      <td>11.41</td>\\n    </tr>\\n    <tr>\\n      <th>11</th>\\n      <td>Mataura</td>\\n      <td>NZ</td>\\n      <td>6201424</td>\\n      <td>-46.19</td>\\n      <td>168.86</td>\\n      <td>39.20</td>\\n      <td>86</td>\\n      <td>71</td>\\n      <td>7.31</td>\\n    </tr>\\n    <tr>\\n      <th>12</th>\\n      <td>Saint-Philippe</td>\\n      <td>RE</td>\\n      <td>935215</td>\\n      <td>-21.36</td>\\n      <td>55.77</td>\\n      <td>68.00</td>\\n      <td>68</td>\\n      <td>20</td>\\n      <td>9.17</td>\\n    </tr>\\n    <tr>\\n      <th>13</th>\\n      <td>Dire Dawa</td>\\n      <td>ET</td>\\n      <td>338832</td>\\n      <td>9.59</td>\\n      <td>41.87</td>\\n      <td>74.95</td>\\n      <td>57</td>\\n      <td>99</td>\\n      <td>10.40</td>\\n    </tr>\\n    <tr>\\n      <th>14</th>\\n      <td>Anori</td>\\n      <td>BR</td>\\n      <td>3665315</td>\\n      <td>-3.77</td>\\n      <td>-61.64</td>\\n      <td>83.68</td>\\n      <td>85</td>\\n      <td>74</td>\\n      <td>2.86</td>\\n    </tr>\\n    <tr>\\n      <th>15</th>\\n      <td>Severo-Kuril\\'sk</td>\\n      <td>RU</td>\\n      <td>2121385</td>\\n      <td>50.68</td>\\n      <td>156.12</td>\\n      <td>43.79</td>\\n      <td>92</td>\\n      <td>100</td>\\n      <td>16.37</td>\\n    </tr>\\n    <tr>\\n      <th>16</th>\\n      <td>Ushuaia</td>\\n      <td>AR</td>\\n      <td>3833367</td>\\n      <td>-54.80</td>\\n      <td>-68.30</td>\\n      <td>44.60</td>\\n      <td>70</td>\\n      <td>75</td>\\n      <td>3.36</td>\\n    </tr>\\n    <tr>\\n      <th>17</th>\\n      <td>Cherskiy</td>\\n      <td>RU</td>\\n      <td>2126199</td>\\n      <td>68.75</td>\\n      <td>161.30</td>\\n      <td>49.66</td>\\n      <td>64</td>\\n      <td>100</td>\\n      <td>6.67</td>\\n    </tr>\\n    <tr>\\n      <th>18</th>\\n      <td>Avarua</td>\\n      <td>CK</td>\\n      <td>4035715</td>\\n      <td>-21.21</td>\\n      <td>-159.78</td>\\n      <td>68.00</td>\\n      <td>82</td>\\n      <td>98</td>\\n      <td>1.12</td>\\n    </tr>\\n    <tr>\\n      <th>19</th>\\n      <td>Fairbanks</td>\\n      <td>US</td>\\n      <td>5861897</td>\\n      <td>64.84</td>\\n      <td>-147.72</td>\\n      <td>64.99</td>\\n      <td>51</td>\\n      <td>1</td>\\n      <td>4.34</td>\\n    </tr>\\n    <tr>\\n      <th>20</th>\\n      <td>Ayní</td>\\n      <td>TJ</td>\\n      <td>1222222</td>\\n      <td>39.39</td>\\n      <td>68.54</td>\\n      <td>64.26</td>\\n      <td>46</td>\\n      <td>0</td>\\n      <td>3.27</td>\\n    </tr>\\n    <tr>\\n      <th>21</th>\\n      <td>Hilo</td>\\n      <td>US</td>\\n      <td>5855927</td>\\n      <td>19.73</td>\\n      <td>-155.09</td>\\n      <td>78.80</td>\\n      <td>65</td>\\n      <td>1</td>\\n      <td>4.70</td>\\n    </tr>\\n    <tr>\\n      <th>22</th>\\n      <td>Harbour Breton</td>\\n      <td>CA</td>\\n      <td>5970478</td>\\n      <td>47.48</td>\\n      <td>-55.80</td>\\n      <td>48.25</td>\\n      <td>94</td>\\n      <td>100</td>\\n      <td>6.71</td>\\n    </tr>\\n    <tr>\\n      <th>23</th>\\n      <td>Chui</td>\\n      <td>UY</td>\\n      <td>3443061</td>\\n      <td>-33.70</td>\\n      <td>-53.46</td>\\n      <td>58.93</td>\\n      <td>82</td>\\n      <td>68</td>\\n      <td>6.42</td>\\n    </tr>\\n    <tr>\\n      <th>24</th>\\n      <td>Port Blair</td>\\n      <td>IN</td>\\n      <td>1259385</td>\\n      <td>11.67</td>\\n      <td>92.75</td>\\n      <td>80.78</td>\\n      <td>84</td>\\n      <td>100</td>\\n      <td>17.83</td>\\n    </tr>\\n    <tr>\\n      <th>25</th>\\n      <td>Nelson Bay</td>\\n      <td>AU</td>\\n      <td>2155562</td>\\n      <td>-32.72</td>\\n      <td>152.15</td>\\n      <td>46.00</td>\\n      <td>100</td>\\n      <td>90</td>\\n      <td>5.82</td>\\n    </tr>\\n    <tr>\\n      <th>26</th>\\n      <td>Mackenzie</td>\\n      <td>CA</td>\\n      <td>6063191</td>\\n      <td>55.30</td>\\n      <td>-123.17</td>\\n      <td>50.00</td>\\n      <td>81</td>\\n      <td>90</td>\\n      <td>6.93</td>\\n    </tr>\\n    <tr>\\n      <th>27</th>\\n      <td>Ariquemes</td>\\n      <td>BR</td>\\n      <td>3665199</td>\\n      <td>-9.91</td>\\n      <td>-63.04</td>\\n      <td>87.30</td>\\n      <td>66</td>\\n      <td>24</td>\\n      <td>2.35</td>\\n    </tr>\\n    <tr>\\n      <th>28</th>\\n      <td>Arraial do Cabo</td>\\n      <td>BR</td>\\n      <td>3471451</td>\\n      <td>-22.97</td>\\n      <td>-42.03</td>\\n      <td>77.00</td>\\n      <td>73</td>\\n      <td>40</td>\\n      <td>13.87</td>\\n    </tr>\\n    <tr>\\n      <th>29</th>\\n      <td>Kaitangata</td>\\n      <td>NZ</td>\\n      <td>2208248</td>\\n      <td>-46.28</td>\\n      <td>169.85</td>\\n      <td>42.01</td>\\n      <td>55</td>\\n      <td>35</td>\\n      <td>14.56</td>\\n    </tr>\\n    <tr>\\n      <th>30</th>\\n      <td>Upernavik</td>\\n      <td>GL</td>\\n      <td>3418910</td>\\n      <td>72.79</td>\\n      <td>-56.15</td>\\n      <td>31.48</td>\\n      <td>95</td>\\n      <td>100</td>\\n      <td>12.30</td>\\n    </tr>\\n    <tr>\\n      <th>31</th>\\n      <td>Ilulissat</td>\\n      <td>GL</td>\\n      <td>3423146</td>\\n      <td>69.22</td>\\n      <td>-51.10</td>\\n      <td>39.20</td>\\n      <td>86</td>\\n      <td>75</td>\\n      <td>6.93</td>\\n    </tr>\\n    <tr>\\n      <th>32</th>\\n      <td>Bāndarban</td>\\n      <td>BD</td>\\n      <td>1185270</td>\\n      <td>22.20</td>\\n      <td>92.23</td>\\n      <td>78.51</td>\\n      <td>87</td>\\n      <td>98</td>\\n      <td>2.71</td>\\n    </tr>\\n    <tr>\\n      <th>33</th>\\n      <td>Bluff</td>\\n      <td>NZ</td>\\n      <td>2206939</td>\\n      <td>-46.60</td>\\n      <td>168.33</td>\\n      <td>47.98</td>\\n      <td>79</td>\\n      <td>92</td>\\n      <td>28.01</td>\\n    </tr>\\n    <tr>\\n      <th>34</th>\\n      <td>Cuamba</td>\\n      <td>MZ</td>\\n      <td>1047660</td>\\n      <td>-14.80</td>\\n      <td>36.54</td>\\n      <td>63.68</td>\\n      <td>70</td>\\n      <td>0</td>\\n      <td>6.38</td>\\n    </tr>\\n    <tr>\\n      <th>35</th>\\n      <td>Grindavik</td>\\n      <td>IS</td>\\n      <td>3416888</td>\\n      <td>63.84</td>\\n      <td>-22.43</td>\\n      <td>51.80</td>\\n      <td>43</td>\\n      <td>99</td>\\n      <td>14.99</td>\\n    </tr>\\n    <tr>\\n      <th>36</th>\\n      <td>Medina</td>\\n      <td>SA</td>\\n      <td>109223</td>\\n      <td>24.47</td>\\n      <td>39.61</td>\\n      <td>95.00</td>\\n      <td>20</td>\\n      <td>75</td>\\n      <td>9.17</td>\\n    </tr>\\n    <tr>\\n      <th>37</th>\\n      <td>Hobart</td>\\n      <td>AU</td>\\n      <td>2163355</td>\\n      <td>-42.88</td>\\n      <td>147.33</td>\\n      <td>39.20</td>\\n      <td>80</td>\\n      <td>8</td>\\n      <td>10.29</td>\\n    </tr>\\n    <tr>\\n      <th>38</th>\\n      <td>Mahon</td>\\n      <td>ES</td>\\n      <td>2514301</td>\\n      <td>39.89</td>\\n      <td>4.27</td>\\n      <td>71.60</td>\\n      <td>83</td>\\n      <td>20</td>\\n      <td>11.41</td>\\n    </tr>\\n    <tr>\\n      <th>39</th>\\n      <td>Puerto Ayora</td>\\n      <td>EC</td>\\n      <td>3652764</td>\\n      <td>-0.74</td>\\n      <td>-90.35</td>\\n      <td>80.60</td>\\n      <td>65</td>\\n      <td>40</td>\\n      <td>19.46</td>\\n    </tr>\\n    <tr>\\n      <th>40</th>\\n      <td>Mabaruma</td>\\n      <td>GY</td>\\n      <td>3377301</td>\\n      <td>8.20</td>\\n      <td>-59.78</td>\\n      <td>87.57</td>\\n      <td>59</td>\\n      <td>20</td>\\n      <td>7.43</td>\\n    </tr>\\n    <tr>\\n      <th>41</th>\\n      <td>Tuktoyaktuk</td>\\n      <td>CA</td>\\n      <td>6170031</td>\\n      <td>69.45</td>\\n      <td>-133.04</td>\\n      <td>46.40</td>\\n      <td>61</td>\\n      <td>20</td>\\n      <td>16.11</td>\\n    </tr>\\n    <tr>\\n      <th>42</th>\\n      <td>Matara</td>\\n      <td>LK</td>\\n      <td>1235846</td>\\n      <td>5.95</td>\\n      <td>80.54</td>\\n      <td>79.09</td>\\n      <td>87</td>\\n      <td>100</td>\\n      <td>9.89</td>\\n    </tr>\\n    <tr>\\n      <th>43</th>\\n      <td>Punta Arenas</td>\\n      <td>CL</td>\\n      <td>3874787</td>\\n      <td>-53.15</td>\\n      <td>-70.92</td>\\n      <td>41.00</td>\\n      <td>86</td>\\n      <td>75</td>\\n      <td>4.70</td>\\n    </tr>\\n    <tr>\\n      <th>44</th>\\n      <td>Tilichiki</td>\\n      <td>RU</td>\\n      <td>2120591</td>\\n      <td>60.47</td>\\n      <td>166.10</td>\\n      <td>46.38</td>\\n      <td>75</td>\\n      <td>0</td>\\n      <td>2.48</td>\\n    </tr>\\n    <tr>\\n      <th>45</th>\\n      <td>Tosya</td>\\n      <td>TR</td>\\n      <td>738662</td>\\n      <td>41.02</td>\\n      <td>34.04</td>\\n      <td>65.05</td>\\n      <td>42</td>\\n      <td>100</td>\\n      <td>4.29</td>\\n    </tr>\\n    <tr>\\n      <th>46</th>\\n      <td>Norman Wells</td>\\n      <td>CA</td>\\n      <td>6089245</td>\\n      <td>65.28</td>\\n      <td>-126.83</td>\\n      <td>57.20</td>\\n      <td>58</td>\\n      <td>40</td>\\n      <td>11.41</td>\\n    </tr>\\n    <tr>\\n      <th>47</th>\\n      <td>Vaini</td>\\n      <td>TO</td>\\n      <td>4032243</td>\\n      <td>-21.20</td>\\n      <td>-175.20</td>\\n      <td>73.40</td>\\n      <td>100</td>\\n      <td>90</td>\\n      <td>3.36</td>\\n    </tr>\\n    <tr>\\n      <th>48</th>\\n      <td>Olinda</td>\\n      <td>BR</td>\\n      <td>3393536</td>\\n      <td>-8.01</td>\\n      <td>-34.86</td>\\n      <td>80.60</td>\\n      <td>83</td>\\n      <td>75</td>\\n      <td>10.29</td>\\n    </tr>\\n    <tr>\\n      <th>49</th>\\n      <td>Airai</td>\\n      <td>TL</td>\\n      <td>1651810</td>\\n      <td>-8.93</td>\\n      <td>125.41</td>\\n      <td>53.58</td>\\n      <td>100</td>\\n      <td>98</td>\\n      <td>2.51</td>\\n    </tr>\\n    <tr>\\n      <th>50</th>\\n      <td>Tura</td>\\n      <td>IN</td>\\n      <td>1254046</td>\\n      <td>25.52</td>\\n      <td>90.22</td>\\n      <td>73.85</td>\\n      <td>96</td>\\n      <td>0</td>\\n      <td>4.03</td>\\n    </tr>\\n    <tr>\\n      <th>51</th>\\n      <td>Champerico</td>\\n      <td>GT</td>\\n      <td>3598787</td>\\n      <td>14.30</td>\\n      <td>-91.92</td>\\n      <td>82.40</td>\\n      <td>78</td>\\n      <td>75</td>\\n      <td>4.70</td>\\n    </tr>\\n    <tr>\\n      <th>52</th>\\n      <td>Qaanaaq</td>\\n      <td>GL</td>\\n      <td>3831208</td>\\n      <td>77.48</td>\\n      <td>-69.36</td>\\n      <td>29.84</td>\\n      <td>88</td>\\n      <td>0</td>\\n      <td>1.79</td>\\n    </tr>\\n    <tr>\\n      <th>53</th>\\n      <td>Kilemary</td>\\n      <td>RU</td>\\n      <td>548715</td>\\n      <td>56.78</td>\\n      <td>46.87</td>\\n      <td>55.98</td>\\n      <td>93</td>\\n      <td>100</td>\\n      <td>1.95</td>\\n    </tr>\\n    <tr>\\n      <th>54</th>\\n      <td>Albany</td>\\n      <td>US</td>\\n      <td>5106841</td>\\n      <td>42.60</td>\\n      <td>-73.97</td>\\n      <td>84.00</td>\\n      <td>33</td>\\n      <td>0</td>\\n      <td>1.01</td>\\n    </tr>\\n    <tr>\\n      <th>55</th>\\n      <td>Lopburi</td>\\n      <td>TH</td>\\n      <td>1609032</td>\\n      <td>14.80</td>\\n      <td>100.65</td>\\n      <td>80.01</td>\\n      <td>86</td>\\n      <td>100</td>\\n      <td>2.08</td>\\n    </tr>\\n    <tr>\\n      <th>56</th>\\n      <td>Bengkulu</td>\\n      <td>ID</td>\\n      <td>1649150</td>\\n      <td>-3.80</td>\\n      <td>102.27</td>\\n      <td>75.00</td>\\n      <td>88</td>\\n      <td>28</td>\\n      <td>5.23</td>\\n    </tr>\\n    <tr>\\n      <th>57</th>\\n      <td>Necochea</td>\\n      <td>AR</td>\\n      <td>3430443</td>\\n      <td>-38.55</td>\\n      <td>-58.74</td>\\n      <td>64.00</td>\\n      <td>80</td>\\n      <td>24</td>\\n      <td>4.00</td>\\n    </tr>\\n    <tr>\\n      <th>58</th>\\n      <td>Kapaa</td>\\n      <td>US</td>\\n      <td>5848280</td>\\n      <td>22.08</td>\\n      <td>-159.32</td>\\n      <td>78.01</td>\\n      <td>83</td>\\n      <td>40</td>\\n      <td>13.87</td>\\n    </tr>\\n    <tr>\\n      <th>59</th>\\n      <td>Shirokiy</td>\\n      <td>RU</td>\\n      <td>2016680</td>\\n      <td>49.76</td>\\n      <td>129.52</td>\\n      <td>54.90</td>\\n      <td>98</td>\\n      <td>95</td>\\n      <td>7.76</td>\\n    </tr>\\n    <tr>\\n      <th>60</th>\\n      <td>Busselton</td>\\n      <td>AU</td>\\n      <td>2075265</td>\\n      <td>-33.65</td>\\n      <td>115.33</td>\\n      <td>60.01</td>\\n      <td>87</td>\\n      <td>100</td>\\n      <td>10.36</td>\\n    </tr>\\n    <tr>\\n      <th>61</th>\\n      <td>Santo Antônio do Içá</td>\\n      <td>BR</td>\\n      <td>3662395</td>\\n      <td>-3.10</td>\\n      <td>-67.94</td>\\n      <td>90.52</td>\\n      <td>50</td>\\n      <td>98</td>\\n      <td>3.29</td>\\n    </tr>\\n    <tr>\\n      <th>62</th>\\n      <td>Čačak</td>\\n      <td>RS</td>\\n      <td>792078</td>\\n      <td>43.89</td>\\n      <td>20.35</td>\\n      <td>71.60</td>\\n      <td>68</td>\\n      <td>77</td>\\n      <td>4.70</td>\\n    </tr>\\n    <tr>\\n      <th>63</th>\\n      <td>Sitka</td>\\n      <td>US</td>\\n      <td>5557293</td>\\n      <td>57.05</td>\\n      <td>-135.33</td>\\n      <td>53.60</td>\\n      <td>76</td>\\n      <td>40</td>\\n      <td>5.82</td>\\n    </tr>\\n    <tr>\\n      <th>64</th>\\n      <td>Muzhi</td>\\n      <td>RU</td>\\n      <td>1498161</td>\\n      <td>65.37</td>\\n      <td>64.67</td>\\n      <td>66.52</td>\\n      <td>49</td>\\n      <td>97</td>\\n      <td>12.86</td>\\n    </tr>\\n    <tr>\\n      <th>65</th>\\n      <td>Yellowknife</td>\\n      <td>CA</td>\\n      <td>6185377</td>\\n      <td>62.46</td>\\n      <td>-114.35</td>\\n      <td>62.60</td>\\n      <td>39</td>\\n      <td>20</td>\\n      <td>9.17</td>\\n    </tr>\\n    <tr>\\n      <th>66</th>\\n      <td>Provideniya</td>\\n      <td>RU</td>\\n      <td>4031574</td>\\n      <td>64.38</td>\\n      <td>-173.30</td>\\n      <td>44.80</td>\\n      <td>68</td>\\n      <td>0</td>\\n      <td>3.38</td>\\n    </tr>\\n    <tr>\\n      <th>67</th>\\n      <td>Lavrentiya</td>\\n      <td>RU</td>\\n      <td>4031637</td>\\n      <td>65.58</td>\\n      <td>-171.00</td>\\n      <td>43.16</td>\\n      <td>68</td>\\n      <td>0</td>\\n      <td>5.32</td>\\n    </tr>\\n    <tr>\\n      <th>68</th>\\n      <td>Ancud</td>\\n      <td>CL</td>\\n      <td>3899695</td>\\n      <td>-41.87</td>\\n      <td>-73.82</td>\\n      <td>48.99</td>\\n      <td>87</td>\\n      <td>75</td>\\n      <td>8.05</td>\\n    </tr>\\n    <tr>\\n      <th>69</th>\\n      <td>Tessalit</td>\\n      <td>ML</td>\\n      <td>2449893</td>\\n      <td>20.20</td>\\n      <td>1.01</td>\\n      <td>98.65</td>\\n      <td>24</td>\\n      <td>48</td>\\n      <td>19.42</td>\\n    </tr>\\n    <tr>\\n      <th>70</th>\\n      <td>Potam</td>\\n      <td>MX</td>\\n      <td>3992154</td>\\n      <td>27.60</td>\\n      <td>-110.38</td>\\n      <td>95.00</td>\\n      <td>29</td>\\n      <td>5</td>\\n      <td>3.36</td>\\n    </tr>\\n    <tr>\\n      <th>71</th>\\n      <td>Bathsheba</td>\\n      <td>BB</td>\\n      <td>3374083</td>\\n      <td>13.22</td>\\n      <td>-59.52</td>\\n      <td>80.60</td>\\n      <td>78</td>\\n      <td>75</td>\\n      <td>9.17</td>\\n    </tr>\\n    <tr>\\n      <th>72</th>\\n      <td>Pevek</td>\\n      <td>RU</td>\\n      <td>2122090</td>\\n      <td>69.70</td>\\n      <td>170.31</td>\\n      <td>46.71</td>\\n      <td>55</td>\\n      <td>99</td>\\n      <td>14.45</td>\\n    </tr>\\n    <tr>\\n      <th>73</th>\\n      <td>Tasiilaq</td>\\n      <td>GL</td>\\n      <td>3424607</td>\\n      <td>65.61</td>\\n      <td>-37.64</td>\\n      <td>39.20</td>\\n      <td>88</td>\\n      <td>75</td>\\n      <td>17.22</td>\\n    </tr>\\n    <tr>\\n      <th>74</th>\\n      <td>Hasaki</td>\\n      <td>JP</td>\\n      <td>2112802</td>\\n      <td>35.73</td>\\n      <td>140.83</td>\\n      <td>66.20</td>\\n      <td>88</td>\\n      <td>75</td>\\n      <td>11.41</td>\\n    </tr>\\n    <tr>\\n      <th>75</th>\\n      <td>Amherstburg</td>\\n      <td>CA</td>\\n      <td>5884473</td>\\n      <td>42.12</td>\\n      <td>-83.05</td>\\n      <td>86.00</td>\\n      <td>73</td>\\n      <td>40</td>\\n      <td>8.05</td>\\n    </tr>\\n    <tr>\\n      <th>76</th>\\n      <td>Leh</td>\\n      <td>IN</td>\\n      <td>1264976</td>\\n      <td>34.17</td>\\n      <td>77.58</td>\\n      <td>51.89</td>\\n      <td>45</td>\\n      <td>97</td>\\n      <td>3.42</td>\\n    </tr>\\n    <tr>\\n      <th>77</th>\\n      <td>Pierre</td>\\n      <td>US</td>\\n      <td>5767918</td>\\n      <td>44.37</td>\\n      <td>-100.35</td>\\n      <td>75.20</td>\\n      <td>60</td>\\n      <td>1</td>\\n      <td>25.28</td>\\n    </tr>\\n    <tr>\\n      <th>78</th>\\n      <td>Saskylakh</td>\\n      <td>RU</td>\\n      <td>2017155</td>\\n      <td>71.92</td>\\n      <td>114.08</td>\\n      <td>41.16</td>\\n      <td>65</td>\\n      <td>99</td>\\n      <td>8.63</td>\\n    </tr>\\n    <tr>\\n      <th>79</th>\\n      <td>Sinnamary</td>\\n      <td>GF</td>\\n      <td>3380290</td>\\n      <td>5.38</td>\\n      <td>-52.95</td>\\n      <td>82.98</td>\\n      <td>77</td>\\n      <td>100</td>\\n      <td>10.83</td>\\n    </tr>\\n    <tr>\\n      <th>80</th>\\n      <td>Channel-Port aux Basques</td>\\n      <td>CA</td>\\n      <td>5919815</td>\\n      <td>47.57</td>\\n      <td>-59.14</td>\\n      <td>52.05</td>\\n      <td>62</td>\\n      <td>100</td>\\n      <td>11.45</td>\\n    </tr>\\n    <tr>\\n      <th>81</th>\\n      <td>Turan</td>\\n      <td>VN</td>\\n      <td>1583992</td>\\n      <td>16.07</td>\\n      <td>108.22</td>\\n      <td>82.40</td>\\n      <td>78</td>\\n      <td>20</td>\\n      <td>1.12</td>\\n    </tr>\\n    <tr>\\n      <th>82</th>\\n      <td>Bāglung</td>\\n      <td>NP</td>\\n      <td>1283711</td>\\n      <td>28.27</td>\\n      <td>83.59</td>\\n      <td>66.97</td>\\n      <td>73</td>\\n      <td>40</td>\\n      <td>3.22</td>\\n    </tr>\\n    <tr>\\n      <th>83</th>\\n      <td>Tegul\\'det</td>\\n      <td>RU</td>\\n      <td>1489822</td>\\n      <td>57.31</td>\\n      <td>88.17</td>\\n      <td>47.89</td>\\n      <td>97</td>\\n      <td>47</td>\\n      <td>6.26</td>\\n    </tr>\\n    <tr>\\n      <th>84</th>\\n      <td>Kavieng</td>\\n      <td>PG</td>\\n      <td>2094342</td>\\n      <td>-2.57</td>\\n      <td>150.80</td>\\n      <td>82.53</td>\\n      <td>62</td>\\n      <td>100</td>\\n      <td>3.98</td>\\n    </tr>\\n    <tr>\\n      <th>85</th>\\n      <td>East London</td>\\n      <td>ZA</td>\\n      <td>1006984</td>\\n      <td>-33.02</td>\\n      <td>27.91</td>\\n      <td>66.42</td>\\n      <td>74</td>\\n      <td>0</td>\\n      <td>4.29</td>\\n    </tr>\\n    <tr>\\n      <th>86</th>\\n      <td>Vila</td>\\n      <td>PT</td>\\n      <td>7117100</td>\\n      <td>42.03</td>\\n      <td>-8.16</td>\\n      <td>63.00</td>\\n      <td>77</td>\\n      <td>75</td>\\n      <td>10.29</td>\\n    </tr>\\n    <tr>\\n      <th>87</th>\\n      <td>Olafsvik</td>\\n      <td>IS</td>\\n      <td>3414079</td>\\n      <td>64.89</td>\\n      <td>-23.71</td>\\n      <td>46.26</td>\\n      <td>56</td>\\n      <td>98</td>\\n      <td>6.24</td>\\n    </tr>\\n    <tr>\\n      <th>88</th>\\n      <td>Novikovo</td>\\n      <td>RU</td>\\n      <td>487928</td>\\n      <td>51.15</td>\\n      <td>37.89</td>\\n      <td>65.23</td>\\n      <td>84</td>\\n      <td>100</td>\\n      <td>7.99</td>\\n    </tr>\\n    <tr>\\n      <th>89</th>\\n      <td>La Ronge</td>\\n      <td>CA</td>\\n      <td>6050066</td>\\n      <td>55.10</td>\\n      <td>-105.28</td>\\n      <td>57.20</td>\\n      <td>58</td>\\n      <td>90</td>\\n      <td>16.11</td>\\n    </tr>\\n    <tr>\\n      <th>90</th>\\n      <td>Cidreira</td>\\n      <td>BR</td>\\n      <td>3466165</td>\\n      <td>-30.18</td>\\n      <td>-50.21</td>\\n      <td>63.23</td>\\n      <td>68</td>\\n      <td>100</td>\\n      <td>10.04</td>\\n    </tr>\\n    <tr>\\n      <th>91</th>\\n      <td>Mahébourg</td>\\n      <td>MU</td>\\n      <td>934322</td>\\n      <td>-20.41</td>\\n      <td>57.70</td>\\n      <td>71.60</td>\\n      <td>78</td>\\n      <td>40</td>\\n      <td>14.99</td>\\n    </tr>\\n    <tr>\\n      <th>92</th>\\n      <td>Shache</td>\\n      <td>CN</td>\\n      <td>1280037</td>\\n      <td>38.42</td>\\n      <td>77.24</td>\\n      <td>76.08</td>\\n      <td>19</td>\\n      <td>100</td>\\n      <td>13.82</td>\\n    </tr>\\n    <tr>\\n      <th>93</th>\\n      <td>Kodinsk</td>\\n      <td>RU</td>\\n      <td>1503037</td>\\n      <td>58.69</td>\\n      <td>99.18</td>\\n      <td>50.34</td>\\n      <td>57</td>\\n      <td>100</td>\\n      <td>4.41</td>\\n    </tr>\\n    <tr>\\n      <th>94</th>\\n      <td>Torbay</td>\\n      <td>CA</td>\\n      <td>6167817</td>\\n      <td>47.67</td>\\n      <td>-52.73</td>\\n      <td>71.01</td>\\n      <td>72</td>\\n      <td>75</td>\\n      <td>19.46</td>\\n    </tr>\\n    <tr>\\n      <th>95</th>\\n      <td>Saryg-Sep</td>\\n      <td>RU</td>\\n      <td>1492948</td>\\n      <td>51.50</td>\\n      <td>95.60</td>\\n      <td>41.54</td>\\n      <td>83</td>\\n      <td>100</td>\\n      <td>7.52</td>\\n    </tr>\\n    <tr>\\n      <th>96</th>\\n      <td>Myre</td>\\n      <td>NO</td>\\n      <td>3145148</td>\\n      <td>69.10</td>\\n      <td>15.95</td>\\n      <td>57.20</td>\\n      <td>67</td>\\n      <td>100</td>\\n      <td>11.41</td>\\n    </tr>\\n    <tr>\\n      <th>97</th>\\n      <td>Bredasdorp</td>\\n      <td>ZA</td>\\n      <td>1015776</td>\\n      <td>-34.53</td>\\n      <td>20.04</td>\\n      <td>57.20</td>\\n      <td>87</td>\\n      <td>0</td>\\n      <td>3.06</td>\\n    </tr>\\n    <tr>\\n      <th>98</th>\\n      <td>Nishihara</td>\\n      <td>JP</td>\\n      <td>1855342</td>\\n      <td>26.18</td>\\n      <td>127.76</td>\\n      <td>77.00</td>\\n      <td>94</td>\\n      <td>75</td>\\n      <td>6.93</td>\\n    </tr>\\n    <tr>\\n      <th>99</th>\\n      <td>Saint Paul Harbor</td>\\n      <td>US</td>\\n      <td>5866583</td>\\n      <td>57.79</td>\\n      <td>-152.41</td>\\n      <td>51.80</td>\\n      <td>66</td>\\n      <td>90</td>\\n      <td>11.41</td>\\n    </tr>\\n    <tr>\\n      <th>100</th>\\n      <td>Zyryanskoye</td>\\n      <td>RU</td>\\n      <td>1484892</td>\\n      <td>56.83</td>\\n      <td>86.63</td>\\n      <td>50.52</td>\\n      <td>93</td>\\n      <td>70</td>\\n      <td>8.12</td>\\n    </tr>\\n    <tr>\\n      <th>101</th>\\n      <td>Butaritari</td>\\n      <td>KI</td>\\n      <td>2110227</td>\\n      <td>3.07</td>\\n      <td>172.79</td>\\n      <td>82.63</td>\\n      <td>77</td>\\n      <td>1</td>\\n      <td>10.09</td>\\n    </tr>\\n    <tr>\\n      <th>102</th>\\n      <td>Las Vegas</td>\\n      <td>US</td>\\n      <td>5506956</td>\\n      <td>36.17</td>\\n      <td>-115.14</td>\\n      <td>80.60</td>\\n      <td>30</td>\\n      <td>1</td>\\n      <td>23.04</td>\\n    </tr>\\n    <tr>\\n      <th>103</th>\\n      <td>Kiryat Gat</td>\\n      <td>IL</td>\\n      <td>293842</td>\\n      <td>31.61</td>\\n      <td>34.76</td>\\n      <td>75.99</td>\\n      <td>74</td>\\n      <td>0</td>\\n      <td>4.14</td>\\n    </tr>\\n    <tr>\\n      <th>104</th>\\n      <td>Nikolskoye</td>\\n      <td>RU</td>\\n      <td>546105</td>\\n      <td>59.70</td>\\n      <td>30.79</td>\\n      <td>63.00</td>\\n      <td>87</td>\\n      <td>75</td>\\n      <td>4.47</td>\\n    </tr>\\n    <tr>\\n      <th>105</th>\\n      <td>Sioux Lookout</td>\\n      <td>CA</td>\\n      <td>6148373</td>\\n      <td>50.10</td>\\n      <td>-91.92</td>\\n      <td>59.00</td>\\n      <td>47</td>\\n      <td>75</td>\\n      <td>3.36</td>\\n    </tr>\\n    <tr>\\n      <th>106</th>\\n      <td>Cape Town</td>\\n      <td>ZA</td>\\n      <td>3369157</td>\\n      <td>-33.93</td>\\n      <td>18.42</td>\\n      <td>62.01</td>\\n      <td>82</td>\\n      <td>0</td>\\n      <td>6.93</td>\\n    </tr>\\n    <tr>\\n      <th>107</th>\\n      <td>Leningradskiy</td>\\n      <td>RU</td>\\n      <td>2123814</td>\\n      <td>69.38</td>\\n      <td>178.42</td>\\n      <td>42.39</td>\\n      <td>72</td>\\n      <td>0</td>\\n      <td>6.49</td>\\n    </tr>\\n    <tr>\\n      <th>108</th>\\n      <td>Pasni</td>\\n      <td>PK</td>\\n      <td>1168312</td>\\n      <td>25.26</td>\\n      <td>63.47</td>\\n      <td>83.19</td>\\n      <td>87</td>\\n      <td>60</td>\\n      <td>5.75</td>\\n    </tr>\\n    <tr>\\n      <th>109</th>\\n      <td>Makkah al Mukarramah</td>\\n      <td>SA</td>\\n      <td>104515</td>\\n      <td>21.43</td>\\n      <td>39.83</td>\\n      <td>96.64</td>\\n      <td>22</td>\\n      <td>100</td>\\n      <td>2.30</td>\\n    </tr>\\n    <tr>\\n      <th>110</th>\\n      <td>Kenai</td>\\n      <td>US</td>\\n      <td>5866063</td>\\n      <td>60.55</td>\\n      <td>-151.26</td>\\n      <td>55.99</td>\\n      <td>71</td>\\n      <td>1</td>\\n      <td>10.29</td>\\n    </tr>\\n    <tr>\\n      <th>111</th>\\n      <td>Bom Jesus da Lapa</td>\\n      <td>BR</td>\\n      <td>3469437</td>\\n      <td>-13.26</td>\\n      <td>-43.42</td>\\n      <td>86.00</td>\\n      <td>48</td>\\n      <td>56</td>\\n      <td>8.05</td>\\n    </tr>\\n    <tr>\\n      <th>112</th>\\n      <td>Port Alfred</td>\\n      <td>ZA</td>\\n      <td>964432</td>\\n      <td>-33.59</td>\\n      <td>26.89</td>\\n      <td>63.00</td>\\n      <td>94</td>\\n      <td>47</td>\\n      <td>3.00</td>\\n    </tr>\\n    <tr>\\n      <th>113</th>\\n      <td>Meulaboh</td>\\n      <td>ID</td>\\n      <td>1214488</td>\\n      <td>4.14</td>\\n      <td>96.13</td>\\n      <td>76.35</td>\\n      <td>89</td>\\n      <td>97</td>\\n      <td>4.38</td>\\n    </tr>\\n    <tr>\\n      <th>114</th>\\n      <td>Atuona</td>\\n      <td>PF</td>\\n      <td>4020109</td>\\n      <td>-9.80</td>\\n      <td>-139.03</td>\\n      <td>81.50</td>\\n      <td>77</td>\\n      <td>0</td>\\n      <td>15.73</td>\\n    </tr>\\n    <tr>\\n      <th>115</th>\\n      <td>Codrington</td>\\n      <td>AU</td>\\n      <td>2171099</td>\\n      <td>-38.27</td>\\n      <td>141.97</td>\\n      <td>48.25</td>\\n      <td>70</td>\\n      <td>100</td>\\n      <td>5.10</td>\\n    </tr>\\n    <tr>\\n      <th>116</th>\\n      <td>Waddān</td>\\n      <td>LY</td>\\n      <td>2209055</td>\\n      <td>29.16</td>\\n      <td>16.14</td>\\n      <td>86.58</td>\\n      <td>22</td>\\n      <td>5</td>\\n      <td>11.95</td>\\n    </tr>\\n    <tr>\\n      <th>117</th>\\n      <td>Chanute</td>\\n      <td>US</td>\\n      <td>4269392</td>\\n      <td>37.68</td>\\n      <td>-95.46</td>\\n      <td>93.20</td>\\n      <td>55</td>\\n      <td>75</td>\\n      <td>9.17</td>\\n    </tr>\\n    <tr>\\n      <th>118</th>\\n      <td>Okhotsk</td>\\n      <td>RU</td>\\n      <td>2122605</td>\\n      <td>59.38</td>\\n      <td>143.30</td>\\n      <td>42.42</td>\\n      <td>93</td>\\n      <td>100</td>\\n      <td>5.19</td>\\n    </tr>\\n    <tr>\\n      <th>119</th>\\n      <td>Datong</td>\\n      <td>CN</td>\\n      <td>2037799</td>\\n      <td>40.09</td>\\n      <td>113.29</td>\\n      <td>69.28</td>\\n      <td>48</td>\\n      <td>75</td>\\n      <td>5.57</td>\\n    </tr>\\n    <tr>\\n      <th>120</th>\\n      <td>Aklavik</td>\\n      <td>CA</td>\\n      <td>5882953</td>\\n      <td>68.22</td>\\n      <td>-135.01</td>\\n      <td>55.40</td>\\n      <td>50</td>\\n      <td>40</td>\\n      <td>9.17</td>\\n    </tr>\\n    <tr>\\n      <th>121</th>\\n      <td>Ribeira Grande</td>\\n      <td>PT</td>\\n      <td>3372707</td>\\n      <td>38.52</td>\\n      <td>-28.70</td>\\n      <td>68.00</td>\\n      <td>64</td>\\n      <td>40</td>\\n      <td>9.17</td>\\n    </tr>\\n    <tr>\\n      <th>122</th>\\n      <td>Cayenne</td>\\n      <td>GF</td>\\n      <td>3382160</td>\\n      <td>4.93</td>\\n      <td>-52.33</td>\\n      <td>84.20</td>\\n      <td>74</td>\\n      <td>75</td>\\n      <td>9.17</td>\\n    </tr>\\n    <tr>\\n      <th>123</th>\\n      <td>Fowa</td>\\n      <td>NG</td>\\n      <td>2352175</td>\\n      <td>8.92</td>\\n      <td>6.40</td>\\n      <td>84.36</td>\\n      <td>66</td>\\n      <td>99</td>\\n      <td>4.56</td>\\n    </tr>\\n    <tr>\\n      <th>124</th>\\n      <td>Boralday</td>\\n      <td>KZ</td>\\n      <td>1526384</td>\\n      <td>43.36</td>\\n      <td>76.86</td>\\n      <td>53.60</td>\\n      <td>54</td>\\n      <td>20</td>\\n      <td>6.71</td>\\n    </tr>\\n    <tr>\\n      <th>125</th>\\n      <td>Haines Junction</td>\\n      <td>CA</td>\\n      <td>5969025</td>\\n      <td>60.75</td>\\n      <td>-137.51</td>\\n      <td>63.00</td>\\n      <td>30</td>\\n      <td>100</td>\\n      <td>3.13</td>\\n    </tr>\\n    <tr>\\n      <th>126</th>\\n      <td>Chicama</td>\\n      <td>PE</td>\\n      <td>3698359</td>\\n      <td>-7.84</td>\\n      <td>-79.15</td>\\n      <td>75.49</td>\\n      <td>58</td>\\n      <td>4</td>\\n      <td>10.54</td>\\n    </tr>\\n    <tr>\\n      <th>127</th>\\n      <td>Fukuechō</td>\\n      <td>JP</td>\\n      <td>1863997</td>\\n      <td>32.69</td>\\n      <td>128.84</td>\\n      <td>68.36</td>\\n      <td>89</td>\\n      <td>30</td>\\n      <td>12.15</td>\\n    </tr>\\n    <tr>\\n      <th>128</th>\\n      <td>Nemuro</td>\\n      <td>JP</td>\\n      <td>2128975</td>\\n      <td>43.32</td>\\n      <td>145.57</td>\\n      <td>49.35</td>\\n      <td>92</td>\\n      <td>64</td>\\n      <td>6.42</td>\\n    </tr>\\n    <tr>\\n      <th>129</th>\\n      <td>Katsuura</td>\\n      <td>JP</td>\\n      <td>2112309</td>\\n      <td>35.13</td>\\n      <td>140.30</td>\\n      <td>69.01</td>\\n      <td>77</td>\\n      <td>100</td>\\n      <td>4.00</td>\\n    </tr>\\n    <tr>\\n      <th>130</th>\\n      <td>Morón</td>\\n      <td>AR</td>\\n      <td>3430545</td>\\n      <td>-34.65</td>\\n      <td>-58.62</td>\\n      <td>61.00</td>\\n      <td>98</td>\\n      <td>37</td>\\n      <td>5.99</td>\\n    </tr>\\n    <tr>\\n      <th>131</th>\\n      <td>Gazli</td>\\n      <td>UZ</td>\\n      <td>1513990</td>\\n      <td>40.13</td>\\n      <td>63.45</td>\\n      <td>83.26</td>\\n      <td>13</td>\\n      <td>5</td>\\n      <td>12.01</td>\\n    </tr>\\n    <tr>\\n      <th>132</th>\\n      <td>Road Town</td>\\n      <td>VG</td>\\n      <td>3577430</td>\\n      <td>18.42</td>\\n      <td>-64.62</td>\\n      <td>87.80</td>\\n      <td>58</td>\\n      <td>40</td>\\n      <td>13.87</td>\\n    </tr>\\n    <tr>\\n      <th>133</th>\\n      <td>Jamestown</td>\\n      <td>US</td>\\n      <td>5122534</td>\\n      <td>42.10</td>\\n      <td>-79.24</td>\\n      <td>71.60</td>\\n      <td>37</td>\\n      <td>75</td>\\n      <td>9.17</td>\\n    </tr>\\n    <tr>\\n      <th>134</th>\\n      <td>Iqaluit</td>\\n      <td>CA</td>\\n      <td>5983720</td>\\n      <td>63.75</td>\\n      <td>-68.51</td>\\n      <td>39.20</td>\\n      <td>76</td>\\n      <td>90</td>\\n      <td>3.36</td>\\n    </tr>\\n    <tr>\\n      <th>135</th>\\n      <td>Nizhniy Kuranakh</td>\\n      <td>RU</td>\\n      <td>2019135</td>\\n      <td>58.84</td>\\n      <td>125.49</td>\\n      <td>46.72</td>\\n      <td>77</td>\\n      <td>0</td>\\n      <td>1.16</td>\\n    </tr>\\n    <tr>\\n      <th>136</th>\\n      <td>Mahajanga</td>\\n      <td>MG</td>\\n      <td>1062663</td>\\n      <td>-15.72</td>\\n      <td>46.32</td>\\n      <td>75.20</td>\\n      <td>83</td>\\n      <td>20</td>\\n      <td>2.24</td>\\n    </tr>\\n    <tr>\\n      <th>137</th>\\n      <td>Esperance</td>\\n      <td>AU</td>\\n      <td>2071860</td>\\n      <td>-33.87</td>\\n      <td>121.90</td>\\n      <td>55.40</td>\\n      <td>82</td>\\n      <td>100</td>\\n      <td>12.75</td>\\n    </tr>\\n    <tr>\\n      <th>138</th>\\n      <td>Moose Factory</td>\\n      <td>CA</td>\\n      <td>6078372</td>\\n      <td>51.26</td>\\n      <td>-80.61</td>\\n      <td>42.80</td>\\n      <td>75</td>\\n      <td>90</td>\\n      <td>9.17</td>\\n    </tr>\\n    <tr>\\n      <th>139</th>\\n      <td>Kuybyshevo</td>\\n      <td>RU</td>\\n      <td>538061</td>\\n      <td>47.81</td>\\n      <td>38.91</td>\\n      <td>62.82</td>\\n      <td>66</td>\\n      <td>0</td>\\n      <td>1.36</td>\\n    </tr>\\n    <tr>\\n      <th>140</th>\\n      <td>Juegang</td>\\n      <td>CN</td>\\n      <td>1804979</td>\\n      <td>32.32</td>\\n      <td>121.19</td>\\n      <td>66.40</td>\\n      <td>88</td>\\n      <td>94</td>\\n      <td>8.05</td>\\n    </tr>\\n    <tr>\\n      <th>141</th>\\n      <td>Saint Anthony</td>\\n      <td>US</td>\\n      <td>5044290</td>\\n      <td>45.02</td>\\n      <td>-93.22</td>\\n      <td>75.99</td>\\n      <td>36</td>\\n      <td>1</td>\\n      <td>10.29</td>\\n    </tr>\\n    <tr>\\n      <th>142</th>\\n      <td>Dhankutā</td>\\n      <td>NP</td>\\n      <td>1283465</td>\\n      <td>26.98</td>\\n      <td>87.33</td>\\n      <td>69.01</td>\\n      <td>85</td>\\n      <td>0</td>\\n      <td>1.68</td>\\n    </tr>\\n    <tr>\\n      <th>143</th>\\n      <td>Kyrylivka</td>\\n      <td>UA</td>\\n      <td>705852</td>\\n      <td>46.38</td>\\n      <td>35.37</td>\\n      <td>66.76</td>\\n      <td>70</td>\\n      <td>0</td>\\n      <td>12.39</td>\\n    </tr>\\n    <tr>\\n      <th>144</th>\\n      <td>Barrow</td>\\n      <td>US</td>\\n      <td>5880054</td>\\n      <td>71.29</td>\\n      <td>-156.79</td>\\n      <td>30.20</td>\\n      <td>92</td>\\n      <td>90</td>\\n      <td>14.99</td>\\n    </tr>\\n    <tr>\\n      <th>145</th>\\n      <td>Thompson</td>\\n      <td>CA</td>\\n      <td>6165406</td>\\n      <td>55.74</td>\\n      <td>-97.86</td>\\n      <td>66.20</td>\\n      <td>22</td>\\n      <td>20</td>\\n      <td>9.17</td>\\n    </tr>\\n    <tr>\\n      <th>146</th>\\n      <td>Carnarvon</td>\\n      <td>AU</td>\\n      <td>2074865</td>\\n      <td>-24.87</td>\\n      <td>113.63</td>\\n      <td>70.66</td>\\n      <td>34</td>\\n      <td>0</td>\\n      <td>8.25</td>\\n    </tr>\\n    <tr>\\n      <th>147</th>\\n      <td>Lambari</td>\\n      <td>BR</td>\\n      <td>3458881</td>\\n      <td>-21.98</td>\\n      <td>-45.35</td>\\n      <td>70.97</td>\\n      <td>71</td>\\n      <td>100</td>\\n      <td>4.29</td>\\n    </tr>\\n    <tr>\\n      <th>148</th>\\n      <td>Isangel</td>\\n      <td>VU</td>\\n      <td>2136825</td>\\n      <td>-19.55</td>\\n      <td>169.27</td>\\n      <td>69.51</td>\\n      <td>74</td>\\n      <td>100</td>\\n      <td>15.37</td>\\n    </tr>\\n    <tr>\\n      <th>149</th>\\n      <td>Paicol</td>\\n      <td>CO</td>\\n      <td>3673386</td>\\n      <td>2.45</td>\\n      <td>-75.78</td>\\n      <td>80.44</td>\\n      <td>61</td>\\n      <td>22</td>\\n      <td>4.45</td>\\n    </tr>\\n    <tr>\\n      <th>150</th>\\n      <td>Lysyye Gory</td>\\n      <td>RU</td>\\n      <td>532664</td>\\n      <td>51.55</td>\\n      <td>44.84</td>\\n      <td>61.99</td>\\n      <td>91</td>\\n      <td>100</td>\\n      <td>8.03</td>\\n    </tr>\\n    <tr>\\n      <th>151</th>\\n      <td>Constitución</td>\\n      <td>CL</td>\\n      <td>3893726</td>\\n      <td>-35.33</td>\\n      <td>-72.42</td>\\n      <td>55.42</td>\\n      <td>73</td>\\n      <td>100</td>\\n      <td>10.69</td>\\n    </tr>\\n    <tr>\\n      <th>152</th>\\n      <td>Aksu</td>\\n      <td>CN</td>\\n      <td>1529660</td>\\n      <td>41.12</td>\\n      <td>80.26</td>\\n      <td>68.94</td>\\n      <td>35</td>\\n      <td>100</td>\\n      <td>10.71</td>\\n    </tr>\\n    <tr>\\n      <th>153</th>\\n      <td>Rome</td>\\n      <td>US</td>\\n      <td>5134295</td>\\n      <td>43.21</td>\\n      <td>-75.46</td>\\n      <td>78.80</td>\\n      <td>39</td>\\n      <td>1</td>\\n      <td>18.34</td>\\n    </tr>\\n    <tr>\\n      <th>154</th>\\n      <td>Richards Bay</td>\\n      <td>ZA</td>\\n      <td>962367</td>\\n      <td>-28.78</td>\\n      <td>32.04</td>\\n      <td>64.80</td>\\n      <td>89</td>\\n      <td>0</td>\\n      <td>7.52</td>\\n    </tr>\\n    <tr>\\n      <th>155</th>\\n      <td>Ukiah</td>\\n      <td>US</td>\\n      <td>5404476</td>\\n      <td>39.15</td>\\n      <td>-123.21</td>\\n      <td>66.20</td>\\n      <td>37</td>\\n      <td>1</td>\\n      <td>11.41</td>\\n    </tr>\\n    <tr>\\n      <th>156</th>\\n      <td>Abhā</td>\\n      <td>SA</td>\\n      <td>110690</td>\\n      <td>18.22</td>\\n      <td>42.51</td>\\n      <td>69.80</td>\\n      <td>64</td>\\n      <td>20</td>\\n      <td>5.82</td>\\n    </tr>\\n    <tr>\\n      <th>157</th>\\n      <td>Yangambi</td>\\n      <td>CD</td>\\n      <td>203717</td>\\n      <td>0.81</td>\\n      <td>24.43</td>\\n      <td>75.88</td>\\n      <td>80</td>\\n      <td>100</td>\\n      <td>0.13</td>\\n    </tr>\\n    <tr>\\n      <th>158</th>\\n      <td>Geraldton</td>\\n      <td>AU</td>\\n      <td>2070998</td>\\n      <td>-28.77</td>\\n      <td>114.60</td>\\n      <td>62.60</td>\\n      <td>77</td>\\n      <td>75</td>\\n      <td>3.36</td>\\n    </tr>\\n    <tr>\\n      <th>159</th>\\n      <td>Gorontalo</td>\\n      <td>ID</td>\\n      <td>1643837</td>\\n      <td>0.54</td>\\n      <td>123.06</td>\\n      <td>74.73</td>\\n      <td>89</td>\\n      <td>98</td>\\n      <td>2.57</td>\\n    </tr>\\n    <tr>\\n      <th>160</th>\\n      <td>Cockburn Town</td>\\n      <td>TC</td>\\n      <td>3576994</td>\\n      <td>21.46</td>\\n      <td>-71.14</td>\\n      <td>87.80</td>\\n      <td>58</td>\\n      <td>40</td>\\n      <td>13.87</td>\\n    </tr>\\n    <tr>\\n      <th>161</th>\\n      <td>Husavik</td>\\n      <td>IS</td>\\n      <td>2629833</td>\\n      <td>66.04</td>\\n      <td>-17.34</td>\\n      <td>44.60</td>\\n      <td>65</td>\\n      <td>20</td>\\n      <td>19.46</td>\\n    </tr>\\n    <tr>\\n      <th>162</th>\\n      <td>Vysokogornyy</td>\\n      <td>RU</td>\\n      <td>2013216</td>\\n      <td>50.12</td>\\n      <td>139.15</td>\\n      <td>42.03</td>\\n      <td>93</td>\\n      <td>8</td>\\n      <td>1.32</td>\\n    </tr>\\n    <tr>\\n      <th>163</th>\\n      <td>Norman</td>\\n      <td>US</td>\\n      <td>4543762</td>\\n      <td>35.22</td>\\n      <td>-97.44</td>\\n      <td>93.99</td>\\n      <td>52</td>\\n      <td>1</td>\\n      <td>6.93</td>\\n    </tr>\\n    <tr>\\n      <th>164</th>\\n      <td>Nogliki</td>\\n      <td>RU</td>\\n      <td>2122783</td>\\n      <td>51.83</td>\\n      <td>143.17</td>\\n      <td>42.15</td>\\n      <td>95</td>\\n      <td>100</td>\\n      <td>7.87</td>\\n    </tr>\\n    <tr>\\n      <th>165</th>\\n      <td>Anchorage</td>\\n      <td>US</td>\\n      <td>5879400</td>\\n      <td>61.22</td>\\n      <td>-149.90</td>\\n      <td>57.20</td>\\n      <td>67</td>\\n      <td>20</td>\\n      <td>8.05</td>\\n    </tr>\\n    <tr>\\n      <th>166</th>\\n      <td>Whitehaven</td>\\n      <td>GB</td>\\n      <td>2634096</td>\\n      <td>54.55</td>\\n      <td>-3.58</td>\\n      <td>59.00</td>\\n      <td>69</td>\\n      <td>7</td>\\n      <td>4.45</td>\\n    </tr>\\n    <tr>\\n      <th>167</th>\\n      <td>Elliot</td>\\n      <td>ZA</td>\\n      <td>1005781</td>\\n      <td>-31.33</td>\\n      <td>27.85</td>\\n      <td>49.73</td>\\n      <td>46</td>\\n      <td>0</td>\\n      <td>4.94</td>\\n    </tr>\\n    <tr>\\n      <th>168</th>\\n      <td>Namatanai</td>\\n      <td>PG</td>\\n      <td>2090021</td>\\n      <td>-3.67</td>\\n      <td>152.43</td>\\n      <td>78.76</td>\\n      <td>75</td>\\n      <td>67</td>\\n      <td>0.29</td>\\n    </tr>\\n    <tr>\\n      <th>169</th>\\n      <td>Pacific Grove</td>\\n      <td>US</td>\\n      <td>5380437</td>\\n      <td>36.62</td>\\n      <td>-121.92</td>\\n      <td>64.99</td>\\n      <td>52</td>\\n      <td>20</td>\\n      <td>9.17</td>\\n    </tr>\\n    <tr>\\n      <th>170</th>\\n      <td>Yolombó</td>\\n      <td>CO</td>\\n      <td>3665693</td>\\n      <td>6.60</td>\\n      <td>-75.01</td>\\n      <td>69.80</td>\\n      <td>60</td>\\n      <td>90</td>\\n      <td>4.70</td>\\n    </tr>\\n    <tr>\\n      <th>171</th>\\n      <td>Port-Gentil</td>\\n      <td>GA</td>\\n      <td>2396518</td>\\n      <td>-0.72</td>\\n      <td>8.78</td>\\n      <td>80.60</td>\\n      <td>88</td>\\n      <td>20</td>\\n      <td>8.05</td>\\n    </tr>\\n    <tr>\\n      <th>172</th>\\n      <td>Santiago</td>\\n      <td>CL</td>\\n      <td>3871336</td>\\n      <td>-33.46</td>\\n      <td>-70.65</td>\\n      <td>62.60</td>\\n      <td>36</td>\\n      <td>100</td>\\n      <td>5.82</td>\\n    </tr>\\n    <tr>\\n      <th>173</th>\\n      <td>Hamilton</td>\\n      <td>US</td>\\n      <td>4513583</td>\\n      <td>39.18</td>\\n      <td>-84.53</td>\\n      <td>90.00</td>\\n      <td>52</td>\\n      <td>20</td>\\n      <td>8.05</td>\\n    </tr>\\n    <tr>\\n      <th>174</th>\\n      <td>Chiredzi</td>\\n      <td>ZW</td>\\n      <td>893485</td>\\n      <td>-21.05</td>\\n      <td>31.67</td>\\n      <td>57.67</td>\\n      <td>95</td>\\n      <td>0</td>\\n      <td>2.37</td>\\n    </tr>\\n    <tr>\\n      <th>175</th>\\n      <td>Longyearbyen</td>\\n      <td>SJ</td>\\n      <td>2729907</td>\\n      <td>78.22</td>\\n      <td>15.64</td>\\n      <td>33.80</td>\\n      <td>74</td>\\n      <td>75</td>\\n      <td>23.04</td>\\n    </tr>\\n    <tr>\\n      <th>176</th>\\n      <td>Tautira</td>\\n      <td>PF</td>\\n      <td>4033557</td>\\n      <td>-17.73</td>\\n      <td>-149.15</td>\\n      <td>77.00</td>\\n      <td>61</td>\\n      <td>20</td>\\n      <td>4.70</td>\\n    </tr>\\n    <tr>\\n      <th>177</th>\\n      <td>Samarai</td>\\n      <td>PG</td>\\n      <td>2132606</td>\\n      <td>-10.62</td>\\n      <td>150.67</td>\\n      <td>78.58</td>\\n      <td>83</td>\\n      <td>50</td>\\n      <td>17.13</td>\\n    </tr>\\n    <tr>\\n      <th>178</th>\\n      <td>Padang</td>\\n      <td>ID</td>\\n      <td>1633419</td>\\n      <td>-0.95</td>\\n      <td>100.35</td>\\n      <td>77.36</td>\\n      <td>74</td>\\n      <td>72</td>\\n      <td>4.29</td>\\n    </tr>\\n    <tr>\\n      <th>179</th>\\n      <td>Emmett</td>\\n      <td>US</td>\\n      <td>5592562</td>\\n      <td>43.87</td>\\n      <td>-116.50</td>\\n      <td>63.00</td>\\n      <td>51</td>\\n      <td>100</td>\\n      <td>1.99</td>\\n    </tr>\\n    <tr>\\n      <th>180</th>\\n      <td>Shihezi</td>\\n      <td>CN</td>\\n      <td>1529195</td>\\n      <td>44.30</td>\\n      <td>86.03</td>\\n      <td>59.61</td>\\n      <td>39</td>\\n      <td>0</td>\\n      <td>1.63</td>\\n    </tr>\\n    <tr>\\n      <th>181</th>\\n      <td>Chokurdakh</td>\\n      <td>RU</td>\\n      <td>2126123</td>\\n      <td>70.63</td>\\n      <td>147.92</td>\\n      <td>56.10</td>\\n      <td>47</td>\\n      <td>91</td>\\n      <td>8.61</td>\\n    </tr>\\n    <tr>\\n      <th>182</th>\\n      <td>Barguzin</td>\\n      <td>RU</td>\\n      <td>2027109</td>\\n      <td>53.62</td>\\n      <td>109.62</td>\\n      <td>52.39</td>\\n      <td>85</td>\\n      <td>100</td>\\n      <td>5.19</td>\\n    </tr>\\n    <tr>\\n      <th>183</th>\\n      <td>Palmer</td>\\n      <td>US</td>\\n      <td>4946620</td>\\n      <td>42.16</td>\\n      <td>-72.33</td>\\n      <td>84.00</td>\\n      <td>94</td>\\n      <td>75</td>\\n      <td>5.82</td>\\n    </tr>\\n    <tr>\\n      <th>184</th>\\n      <td>Hambantota</td>\\n      <td>LK</td>\\n      <td>1244926</td>\\n      <td>6.12</td>\\n      <td>81.12</td>\\n      <td>78.80</td>\\n      <td>94</td>\\n      <td>40</td>\\n      <td>5.82</td>\\n    </tr>\\n    <tr>\\n      <th>185</th>\\n      <td>Hervey Bay</td>\\n      <td>AU</td>\\n      <td>2146219</td>\\n      <td>-25.30</td>\\n      <td>152.85</td>\\n      <td>55.99</td>\\n      <td>90</td>\\n      <td>49</td>\\n      <td>4.00</td>\\n    </tr>\\n    <tr>\\n      <th>186</th>\\n      <td>Mount Gambier</td>\\n      <td>AU</td>\\n      <td>2156643</td>\\n      <td>-37.83</td>\\n      <td>140.77</td>\\n      <td>46.40</td>\\n      <td>87</td>\\n      <td>90</td>\\n      <td>6.93</td>\\n    </tr>\\n    <tr>\\n      <th>187</th>\\n      <td>Faanui</td>\\n      <td>PF</td>\\n      <td>4034551</td>\\n      <td>-16.48</td>\\n      <td>-151.75</td>\\n      <td>76.33</td>\\n      <td>50</td>\\n      <td>0</td>\\n      <td>2.84</td>\\n    </tr>\\n    <tr>\\n      <th>188</th>\\n      <td>Salalah</td>\\n      <td>OM</td>\\n      <td>286621</td>\\n      <td>17.02</td>\\n      <td>54.09</td>\\n      <td>86.00</td>\\n      <td>89</td>\\n      <td>20</td>\\n      <td>5.82</td>\\n    </tr>\\n    <tr>\\n      <th>189</th>\\n      <td>Hithadhoo</td>\\n      <td>MV</td>\\n      <td>1282256</td>\\n      <td>-0.60</td>\\n      <td>73.08</td>\\n      <td>84.99</td>\\n      <td>71</td>\\n      <td>100</td>\\n      <td>9.10</td>\\n    </tr>\\n    <tr>\\n      <th>190</th>\\n      <td>Marabu</td>\\n      <td>MY</td>\\n      <td>1738050</td>\\n      <td>4.41</td>\\n      <td>114.01</td>\\n      <td>75.20</td>\\n      <td>100</td>\\n      <td>75</td>\\n      <td>5.21</td>\\n    </tr>\\n    <tr>\\n      <th>191</th>\\n      <td>Lüderitz</td>\\n      <td>NaN</td>\\n      <td>3355672</td>\\n      <td>-26.65</td>\\n      <td>15.16</td>\\n      <td>64.40</td>\\n      <td>55</td>\\n      <td>0</td>\\n      <td>13.87</td>\\n    </tr>\\n    <tr>\\n      <th>192</th>\\n      <td>Hermanus</td>\\n      <td>ZA</td>\\n      <td>3366880</td>\\n      <td>-34.42</td>\\n      <td>19.23</td>\\n      <td>53.01</td>\\n      <td>92</td>\\n      <td>0</td>\\n      <td>8.61</td>\\n    </tr>\\n    <tr>\\n      <th>193</th>\\n      <td>Baraguá</td>\\n      <td>CU</td>\\n      <td>3567823</td>\\n      <td>21.70</td>\\n      <td>-78.63</td>\\n      <td>89.49</td>\\n      <td>59</td>\\n      <td>100</td>\\n      <td>11.79</td>\\n    </tr>\\n    <tr>\\n      <th>194</th>\\n      <td>Sechura</td>\\n      <td>PE</td>\\n      <td>3691954</td>\\n      <td>-5.56</td>\\n      <td>-80.82</td>\\n      <td>77.47</td>\\n      <td>54</td>\\n      <td>5</td>\\n      <td>12.46</td>\\n    </tr>\\n    <tr>\\n      <th>195</th>\\n      <td>Qaqortoq</td>\\n      <td>GL</td>\\n      <td>3420846</td>\\n      <td>60.72</td>\\n      <td>-46.03</td>\\n      <td>60.80</td>\\n      <td>29</td>\\n      <td>75</td>\\n      <td>11.41</td>\\n    </tr>\\n    <tr>\\n      <th>196</th>\\n      <td>Port Lincoln</td>\\n      <td>AU</td>\\n      <td>2063036</td>\\n      <td>-34.73</td>\\n      <td>135.87</td>\\n      <td>53.92</td>\\n      <td>81</td>\\n      <td>59</td>\\n      <td>13.65</td>\\n    </tr>\\n    <tr>\\n      <th>197</th>\\n      <td>Resende</td>\\n      <td>BR</td>\\n      <td>3451668</td>\\n      <td>-22.47</td>\\n      <td>-44.45</td>\\n      <td>75.88</td>\\n      <td>77</td>\\n      <td>100</td>\\n      <td>1.39</td>\\n    </tr>\\n    <tr>\\n      <th>198</th>\\n      <td>Wad Rāwah</td>\\n      <td>SD</td>\\n      <td>364071</td>\\n      <td>15.16</td>\\n      <td>33.14</td>\\n      <td>96.69</td>\\n      <td>10</td>\\n      <td>3</td>\\n      <td>7.05</td>\\n    </tr>\\n    <tr>\\n      <th>199</th>\\n      <td>Pitimbu</td>\\n      <td>BR</td>\\n      <td>3391889</td>\\n      <td>-7.47</td>\\n      <td>-34.81</td>\\n      <td>80.60</td>\\n      <td>83</td>\\n      <td>75</td>\\n      <td>12.75</td>\\n    </tr>\\n    <tr>\\n      <th>200</th>\\n      <td>New Norfolk</td>\\n      <td>AU</td>\\n      <td>2155415</td>\\n      <td>-42.78</td>\\n      <td>147.06</td>\\n      <td>37.99</td>\\n      <td>89</td>\\n      <td>64</td>\\n      <td>2.93</td>\\n    </tr>\\n    <tr>\\n      <th>201</th>\\n      <td>Shahr-e Bābak</td>\\n      <td>IR</td>\\n      <td>115781</td>\\n      <td>30.12</td>\\n      <td>55.12</td>\\n      <td>83.01</td>\\n      <td>14</td>\\n      <td>63</td>\\n      <td>4.52</td>\\n    </tr>\\n    <tr>\\n      <th>202</th>\\n      <td>Taltal</td>\\n      <td>CL</td>\\n      <td>3870243</td>\\n      <td>-25.40</td>\\n      <td>-70.48</td>\\n      <td>69.24</td>\\n      <td>40</td>\\n      <td>1</td>\\n      <td>3.98</td>\\n    </tr>\\n    <tr>\\n      <th>203</th>\\n      <td>Kampen</td>\\n      <td>NL</td>\\n      <td>2753106</td>\\n      <td>52.55</td>\\n      <td>5.91</td>\\n      <td>55.99</td>\\n      <td>64</td>\\n      <td>99</td>\\n      <td>1.99</td>\\n    </tr>\\n    <tr>\\n      <th>204</th>\\n      <td>Faya</td>\\n      <td>SA</td>\\n      <td>110690</td>\\n      <td>18.39</td>\\n      <td>42.45</td>\\n      <td>69.80</td>\\n      <td>64</td>\\n      <td>20</td>\\n      <td>5.82</td>\\n    </tr>\\n    <tr>\\n      <th>205</th>\\n      <td>Balikpapan</td>\\n      <td>ID</td>\\n      <td>1650527</td>\\n      <td>-1.27</td>\\n      <td>116.83</td>\\n      <td>77.70</td>\\n      <td>91</td>\\n      <td>100</td>\\n      <td>8.90</td>\\n    </tr>\\n    <tr>\\n      <th>206</th>\\n      <td>Kruisfontein</td>\\n      <td>ZA</td>\\n      <td>986717</td>\\n      <td>-34.00</td>\\n      <td>24.73</td>\\n      <td>55.96</td>\\n      <td>96</td>\\n      <td>0</td>\\n      <td>3.42</td>\\n    </tr>\\n    <tr>\\n      <th>207</th>\\n      <td>Sorong</td>\\n      <td>ID</td>\\n      <td>1626542</td>\\n      <td>-0.88</td>\\n      <td>131.25</td>\\n      <td>78.71</td>\\n      <td>86</td>\\n      <td>100</td>\\n      <td>5.61</td>\\n    </tr>\\n    <tr>\\n      <th>208</th>\\n      <td>Jalu</td>\\n      <td>LY</td>\\n      <td>86049</td>\\n      <td>29.03</td>\\n      <td>21.55</td>\\n      <td>79.97</td>\\n      <td>28</td>\\n      <td>0</td>\\n      <td>18.14</td>\\n    </tr>\\n    <tr>\\n      <th>209</th>\\n      <td>Kemijärvi</td>\\n      <td>FI</td>\\n      <td>653272</td>\\n      <td>66.71</td>\\n      <td>27.43</td>\\n      <td>57.22</td>\\n      <td>79</td>\\n      <td>100</td>\\n      <td>4.90</td>\\n    </tr>\\n    <tr>\\n      <th>210</th>\\n      <td>Meadow Lake</td>\\n      <td>US</td>\\n      <td>5478673</td>\\n      <td>34.80</td>\\n      <td>-106.54</td>\\n      <td>91.99</td>\\n      <td>22</td>\\n      <td>20</td>\\n      <td>31.09</td>\\n    </tr>\\n    <tr>\\n      <th>211</th>\\n      <td>Goderich</td>\\n      <td>CA</td>\\n      <td>5962442</td>\\n      <td>43.75</td>\\n      <td>-81.72</td>\\n      <td>60.01</td>\\n      <td>74</td>\\n      <td>1</td>\\n      <td>11.63</td>\\n    </tr>\\n    <tr>\\n      <th>212</th>\\n      <td>Cabedelo</td>\\n      <td>BR</td>\\n      <td>3404558</td>\\n      <td>-6.98</td>\\n      <td>-34.83</td>\\n      <td>80.60</td>\\n      <td>83</td>\\n      <td>75</td>\\n      <td>12.75</td>\\n    </tr>\\n    <tr>\\n      <th>213</th>\\n      <td>Tucumã</td>\\n      <td>BR</td>\\n      <td>3385980</td>\\n      <td>-0.18</td>\\n      <td>-50.05</td>\\n      <td>83.17</td>\\n      <td>81</td>\\n      <td>89</td>\\n      <td>5.88</td>\\n    </tr>\\n    <tr>\\n      <th>214</th>\\n      <td>Okahandja</td>\\n      <td>NaN</td>\\n      <td>3354898</td>\\n      <td>-21.98</td>\\n      <td>16.92</td>\\n      <td>64.00</td>\\n      <td>25</td>\\n      <td>0</td>\\n      <td>5.82</td>\\n    </tr>\\n    <tr>\\n      <th>215</th>\\n      <td>Mar del Plata</td>\\n      <td>AR</td>\\n      <td>3430863</td>\\n      <td>-38.00</td>\\n      <td>-57.56</td>\\n      <td>62.60</td>\\n      <td>77</td>\\n      <td>0</td>\\n      <td>11.41</td>\\n    </tr>\\n    <tr>\\n      <th>216</th>\\n      <td>Marakkanam</td>\\n      <td>IN</td>\\n      <td>1263564</td>\\n      <td>12.20</td>\\n      <td>79.95</td>\\n      <td>80.91</td>\\n      <td>81</td>\\n      <td>100</td>\\n      <td>17.22</td>\\n    </tr>\\n    <tr>\\n      <th>217</th>\\n      <td>Ponta do Sol</td>\\n      <td>PT</td>\\n      <td>2264557</td>\\n      <td>32.67</td>\\n      <td>-17.10</td>\\n      <td>69.80</td>\\n      <td>83</td>\\n      <td>40</td>\\n      <td>6.93</td>\\n    </tr>\\n    <tr>\\n      <th>218</th>\\n      <td>Vanavara</td>\\n      <td>RU</td>\\n      <td>2013727</td>\\n      <td>60.34</td>\\n      <td>102.28</td>\\n      <td>48.72</td>\\n      <td>86</td>\\n      <td>100</td>\\n      <td>4.23</td>\\n    </tr>\\n    <tr>\\n      <th>219</th>\\n      <td>Klaksvík</td>\\n      <td>FO</td>\\n      <td>2618795</td>\\n      <td>62.23</td>\\n      <td>-6.59</td>\\n      <td>42.80</td>\\n      <td>87</td>\\n      <td>100</td>\\n      <td>29.97</td>\\n    </tr>\\n    <tr>\\n      <th>220</th>\\n      <td>Newport</td>\\n      <td>GB</td>\\n      <td>2641598</td>\\n      <td>51.59</td>\\n      <td>-3.00</td>\\n      <td>57.00</td>\\n      <td>70</td>\\n      <td>2</td>\\n      <td>4.00</td>\\n    </tr>\\n    <tr>\\n      <th>221</th>\\n      <td>San Cristobal</td>\\n      <td>VE</td>\\n      <td>3628473</td>\\n      <td>7.77</td>\\n      <td>-72.22</td>\\n      <td>86.00</td>\\n      <td>51</td>\\n      <td>75</td>\\n      <td>27.51</td>\\n    </tr>\\n    <tr>\\n      <th>222</th>\\n      <td>Te Anau</td>\\n      <td>NZ</td>\\n      <td>2181625</td>\\n      <td>-45.42</td>\\n      <td>167.72</td>\\n      <td>41.45</td>\\n      <td>87</td>\\n      <td>100</td>\\n      <td>6.69</td>\\n    </tr>\\n    <tr>\\n      <th>223</th>\\n      <td>Los Llanos de Aridane</td>\\n      <td>ES</td>\\n      <td>2514651</td>\\n      <td>28.66</td>\\n      <td>-17.92</td>\\n      <td>75.20</td>\\n      <td>69</td>\\n      <td>40</td>\\n      <td>5.82</td>\\n    </tr>\\n    <tr>\\n      <th>224</th>\\n      <td>Thinadhoo</td>\\n      <td>MV</td>\\n      <td>1337610</td>\\n      <td>0.53</td>\\n      <td>72.93</td>\\n      <td>84.24</td>\\n      <td>77</td>\\n      <td>100</td>\\n      <td>12.71</td>\\n    </tr>\\n    <tr>\\n      <th>225</th>\\n      <td>Vila Franca do Campo</td>\\n      <td>PT</td>\\n      <td>3372472</td>\\n      <td>37.72</td>\\n      <td>-25.43</td>\\n      <td>66.20</td>\\n      <td>63</td>\\n      <td>20</td>\\n      <td>11.41</td>\\n    </tr>\\n    <tr>\\n      <th>226</th>\\n      <td>Dunedin</td>\\n      <td>NZ</td>\\n      <td>2191562</td>\\n      <td>-45.87</td>\\n      <td>170.50</td>\\n      <td>46.00</td>\\n      <td>56</td>\\n      <td>48</td>\\n      <td>11.36</td>\\n    </tr>\\n    <tr>\\n      <th>227</th>\\n      <td>Eureka</td>\\n      <td>US</td>\\n      <td>5563397</td>\\n      <td>40.80</td>\\n      <td>-124.16</td>\\n      <td>61.00</td>\\n      <td>51</td>\\n      <td>96</td>\\n      <td>3.00</td>\\n    </tr>\\n    <tr>\\n      <th>228</th>\\n      <td>Luau</td>\\n      <td>AO</td>\\n      <td>876177</td>\\n      <td>-10.71</td>\\n      <td>22.22</td>\\n      <td>65.16</td>\\n      <td>38</td>\\n      <td>0</td>\\n      <td>5.41</td>\\n    </tr>\\n    <tr>\\n      <th>229</th>\\n      <td>Srednekolymsk</td>\\n      <td>RU</td>\\n      <td>2121025</td>\\n      <td>67.45</td>\\n      <td>153.68</td>\\n      <td>60.46</td>\\n      <td>44</td>\\n      <td>32</td>\\n      <td>5.46</td>\\n    </tr>\\n    <tr>\\n      <th>230</th>\\n      <td>Tiksi</td>\\n      <td>RU</td>\\n      <td>2015306</td>\\n      <td>71.69</td>\\n      <td>128.87</td>\\n      <td>33.58</td>\\n      <td>92</td>\\n      <td>0</td>\\n      <td>2.26</td>\\n    </tr>\\n    <tr>\\n      <th>231</th>\\n      <td>Mehrān</td>\\n      <td>IR</td>\\n      <td>124291</td>\\n      <td>33.12</td>\\n      <td>46.16</td>\\n      <td>69.80</td>\\n      <td>21</td>\\n      <td>0</td>\\n      <td>2.24</td>\\n    </tr>\\n    <tr>\\n      <th>232</th>\\n      <td>Kainantu</td>\\n      <td>PG</td>\\n      <td>2095038</td>\\n      <td>-6.29</td>\\n      <td>145.87</td>\\n      <td>59.47</td>\\n      <td>95</td>\\n      <td>100</td>\\n      <td>1.81</td>\\n    </tr>\\n    <tr>\\n      <th>233</th>\\n      <td>Kalmunai</td>\\n      <td>LK</td>\\n      <td>1242110</td>\\n      <td>7.42</td>\\n      <td>81.82</td>\\n      <td>82.42</td>\\n      <td>73</td>\\n      <td>100</td>\\n      <td>7.23</td>\\n    </tr>\\n    <tr>\\n      <th>234</th>\\n      <td>Taoudenni</td>\\n      <td>ML</td>\\n      <td>2450173</td>\\n      <td>22.68</td>\\n      <td>-3.98</td>\\n      <td>105.80</td>\\n      <td>13</td>\\n      <td>0</td>\\n      <td>11.07</td>\\n    </tr>\\n    <tr>\\n      <th>235</th>\\n      <td>Inuvik</td>\\n      <td>CA</td>\\n      <td>5983607</td>\\n      <td>68.35</td>\\n      <td>-133.72</td>\\n      <td>55.40</td>\\n      <td>38</td>\\n      <td>40</td>\\n      <td>5.82</td>\\n    </tr>\\n    <tr>\\n      <th>236</th>\\n      <td>Honningsvåg</td>\\n      <td>NO</td>\\n      <td>779554</td>\\n      <td>70.98</td>\\n      <td>25.97</td>\\n      <td>52.25</td>\\n      <td>79</td>\\n      <td>37</td>\\n      <td>10.89</td>\\n    </tr>\\n    <tr>\\n      <th>237</th>\\n      <td>Seddon</td>\\n      <td>AU</td>\\n      <td>7281807</td>\\n      <td>-37.81</td>\\n      <td>144.89</td>\\n      <td>50.00</td>\\n      <td>76</td>\\n      <td>90</td>\\n      <td>1.12</td>\\n    </tr>\\n    <tr>\\n      <th>238</th>\\n      <td>Stykkisholmur</td>\\n      <td>IS</td>\\n      <td>3412888</td>\\n      <td>65.08</td>\\n      <td>-22.73</td>\\n      <td>46.22</td>\\n      <td>56</td>\\n      <td>66</td>\\n      <td>6.73</td>\\n    </tr>\\n    <tr>\\n      <th>239</th>\\n      <td>Nekā</td>\\n      <td>IR</td>\\n      <td>122397</td>\\n      <td>36.65</td>\\n      <td>53.30</td>\\n      <td>71.60</td>\\n      <td>78</td>\\n      <td>75</td>\\n      <td>6.93</td>\\n    </tr>\\n    <tr>\\n      <th>240</th>\\n      <td>Katherine</td>\\n      <td>AU</td>\\n      <td>2068655</td>\\n      <td>-14.47</td>\\n      <td>132.27</td>\\n      <td>68.00</td>\\n      <td>60</td>\\n      <td>90</td>\\n      <td>5.82</td>\\n    </tr>\\n    <tr>\\n      <th>241</th>\\n      <td>Roald</td>\\n      <td>NO</td>\\n      <td>3141667</td>\\n      <td>62.58</td>\\n      <td>6.13</td>\\n      <td>57.00</td>\\n      <td>82</td>\\n      <td>99</td>\\n      <td>5.82</td>\\n    </tr>\\n    <tr>\\n      <th>242</th>\\n      <td>Yangi Marg`ilon</td>\\n      <td>UZ</td>\\n      <td>1513491</td>\\n      <td>40.43</td>\\n      <td>71.72</td>\\n      <td>80.60</td>\\n      <td>18</td>\\n      <td>0</td>\\n      <td>13.87</td>\\n    </tr>\\n    <tr>\\n      <th>243</th>\\n      <td>Ivnya</td>\\n      <td>RU</td>\\n      <td>554973</td>\\n      <td>51.06</td>\\n      <td>36.13</td>\\n      <td>71.60</td>\\n      <td>56</td>\\n      <td>100</td>\\n      <td>4.47</td>\\n    </tr>\\n    <tr>\\n      <th>244</th>\\n      <td>Marsabit</td>\\n      <td>KE</td>\\n      <td>187585</td>\\n      <td>2.33</td>\\n      <td>37.99</td>\\n      <td>73.17</td>\\n      <td>58</td>\\n      <td>100</td>\\n      <td>16.82</td>\\n    </tr>\\n    <tr>\\n      <th>245</th>\\n      <td>Saint-Pierre</td>\\n      <td>RE</td>\\n      <td>935214</td>\\n      <td>-21.34</td>\\n      <td>55.48</td>\\n      <td>68.00</td>\\n      <td>68</td>\\n      <td>20</td>\\n      <td>9.17</td>\\n    </tr>\\n    <tr>\\n      <th>246</th>\\n      <td>The Valley</td>\\n      <td>AI</td>\\n      <td>3573374</td>\\n      <td>18.22</td>\\n      <td>-63.06</td>\\n      <td>87.80</td>\\n      <td>58</td>\\n      <td>40</td>\\n      <td>17.22</td>\\n    </tr>\\n    <tr>\\n      <th>247</th>\\n      <td>Vila do Maio</td>\\n      <td>CV</td>\\n      <td>3374120</td>\\n      <td>15.13</td>\\n      <td>-23.22</td>\\n      <td>82.40</td>\\n      <td>51</td>\\n      <td>0</td>\\n      <td>20.80</td>\\n    </tr>\\n    <tr>\\n      <th>248</th>\\n      <td>Villa Guerrero</td>\\n      <td>MX</td>\\n      <td>3514675</td>\\n      <td>18.87</td>\\n      <td>-99.65</td>\\n      <td>80.60</td>\\n      <td>47</td>\\n      <td>75</td>\\n      <td>3.96</td>\\n    </tr>\\n    <tr>\\n      <th>249</th>\\n      <td>Pouébo</td>\\n      <td>NC</td>\\n      <td>2138607</td>\\n      <td>-20.40</td>\\n      <td>164.57</td>\\n      <td>66.04</td>\\n      <td>76</td>\\n      <td>25</td>\\n      <td>11.14</td>\\n    </tr>\\n    <tr>\\n      <th>250</th>\\n      <td>Omsukchan</td>\\n      <td>RU</td>\\n      <td>2122493</td>\\n      <td>62.53</td>\\n      <td>155.80</td>\\n      <td>51.24</td>\\n      <td>60</td>\\n      <td>33</td>\\n      <td>6.51</td>\\n    </tr>\\n    <tr>\\n      <th>251</th>\\n      <td>Puerto Colombia</td>\\n      <td>CO</td>\\n      <td>3671497</td>\\n      <td>10.99</td>\\n      <td>-74.95</td>\\n      <td>86.00</td>\\n      <td>70</td>\\n      <td>75</td>\\n      <td>9.17</td>\\n    </tr>\\n    <tr>\\n      <th>252</th>\\n      <td>Bubaque</td>\\n      <td>GW</td>\\n      <td>2374583</td>\\n      <td>11.28</td>\\n      <td>-15.83</td>\\n      <td>80.55</td>\\n      <td>76</td>\\n      <td>100</td>\\n      <td>13.71</td>\\n    </tr>\\n    <tr>\\n      <th>253</th>\\n      <td>Kahului</td>\\n      <td>US</td>\\n      <td>5847411</td>\\n      <td>20.89</td>\\n      <td>-156.47</td>\\n      <td>82.40</td>\\n      <td>61</td>\\n      <td>20</td>\\n      <td>14.99</td>\\n    </tr>\\n    <tr>\\n      <th>254</th>\\n      <td>Catabola</td>\\n      <td>AO</td>\\n      <td>3350372</td>\\n      <td>-12.15</td>\\n      <td>17.28</td>\\n      <td>60.93</td>\\n      <td>34</td>\\n      <td>0</td>\\n      <td>3.11</td>\\n    </tr>\\n    <tr>\\n      <th>255</th>\\n      <td>Toora-Khem</td>\\n      <td>RU</td>\\n      <td>1489401</td>\\n      <td>52.47</td>\\n      <td>96.11</td>\\n      <td>38.68</td>\\n      <td>92</td>\\n      <td>100</td>\\n      <td>3.58</td>\\n    </tr>\\n    <tr>\\n      <th>256</th>\\n      <td>Visnes</td>\\n      <td>NO</td>\\n      <td>3131500</td>\\n      <td>59.36</td>\\n      <td>5.22</td>\\n      <td>51.80</td>\\n      <td>93</td>\\n      <td>100</td>\\n      <td>13.87</td>\\n    </tr>\\n    <tr>\\n      <th>257</th>\\n      <td>Rabak</td>\\n      <td>SD</td>\\n      <td>368277</td>\\n      <td>13.18</td>\\n      <td>32.74</td>\\n      <td>95.49</td>\\n      <td>16</td>\\n      <td>0</td>\\n      <td>4.94</td>\\n    </tr>\\n    <tr>\\n      <th>258</th>\\n      <td>Narasannapeta</td>\\n      <td>IN</td>\\n      <td>1261853</td>\\n      <td>18.42</td>\\n      <td>84.05</td>\\n      <td>87.33</td>\\n      <td>67</td>\\n      <td>100</td>\\n      <td>8.99</td>\\n    </tr>\\n    <tr>\\n      <th>259</th>\\n      <td>Cabo San Lucas</td>\\n      <td>MX</td>\\n      <td>3985710</td>\\n      <td>22.89</td>\\n      <td>-109.91</td>\\n      <td>87.80</td>\\n      <td>48</td>\\n      <td>5</td>\\n      <td>6.93</td>\\n    </tr>\\n    <tr>\\n      <th>260</th>\\n      <td>Kawalu</td>\\n      <td>ID</td>\\n      <td>1640902</td>\\n      <td>-7.38</td>\\n      <td>108.21</td>\\n      <td>71.58</td>\\n      <td>92</td>\\n      <td>100</td>\\n      <td>0.11</td>\\n    </tr>\\n    <tr>\\n      <th>261</th>\\n      <td>Urucará</td>\\n      <td>BR</td>\\n      <td>3385670</td>\\n      <td>-2.54</td>\\n      <td>-57.76</td>\\n      <td>89.37</td>\\n      <td>58</td>\\n      <td>7</td>\\n      <td>3.58</td>\\n    </tr>\\n    <tr>\\n      <th>262</th>\\n      <td>Maniitsoq</td>\\n      <td>GL</td>\\n      <td>3421982</td>\\n      <td>65.42</td>\\n      <td>-52.90</td>\\n      <td>46.24</td>\\n      <td>72</td>\\n      <td>100</td>\\n      <td>11.16</td>\\n    </tr>\\n    <tr>\\n      <th>263</th>\\n      <td>Mwene-Ditu</td>\\n      <td>CD</td>\\n      <td>207570</td>\\n      <td>-7.00</td>\\n      <td>23.45</td>\\n      <td>77.54</td>\\n      <td>46</td>\\n      <td>89</td>\\n      <td>2.57</td>\\n    </tr>\\n    <tr>\\n      <th>264</th>\\n      <td>Tsotíli</td>\\n      <td>GR</td>\\n      <td>733986</td>\\n      <td>40.27</td>\\n      <td>21.32</td>\\n      <td>57.20</td>\\n      <td>100</td>\\n      <td>79</td>\\n      <td>4.70</td>\\n    </tr>\\n    <tr>\\n      <th>265</th>\\n      <td>St. George\\'s</td>\\n      <td>GD</td>\\n      <td>3579925</td>\\n      <td>12.06</td>\\n      <td>-61.75</td>\\n      <td>82.40</td>\\n      <td>88</td>\\n      <td>75</td>\\n      <td>6.93</td>\\n    </tr>\\n    <tr>\\n      <th>266</th>\\n      <td>Taylor</td>\\n      <td>US</td>\\n      <td>4735729</td>\\n      <td>32.30</td>\\n      <td>-99.83</td>\\n      <td>91.99</td>\\n      <td>36</td>\\n      <td>40</td>\\n      <td>8.05</td>\\n    </tr>\\n    <tr>\\n      <th>267</th>\\n      <td>Chihuahua</td>\\n      <td>MX</td>\\n      <td>4014336</td>\\n      <td>28.50</td>\\n      <td>-106.00</td>\\n      <td>93.20</td>\\n      <td>26</td>\\n      <td>5</td>\\n      <td>8.05</td>\\n    </tr>\\n    <tr>\\n      <th>268</th>\\n      <td>San Andrés</td>\\n      <td>CO</td>\\n      <td>3670218</td>\\n      <td>12.58</td>\\n      <td>-81.70</td>\\n      <td>87.80</td>\\n      <td>74</td>\\n      <td>40</td>\\n      <td>8.05</td>\\n    </tr>\\n    <tr>\\n      <th>269</th>\\n      <td>São Filipe</td>\\n      <td>CV</td>\\n      <td>3374210</td>\\n      <td>14.90</td>\\n      <td>-24.50</td>\\n      <td>75.76</td>\\n      <td>75</td>\\n      <td>15</td>\\n      <td>8.70</td>\\n    </tr>\\n    <tr>\\n      <th>270</th>\\n      <td>Vestmannaeyjar</td>\\n      <td>IS</td>\\n      <td>3412093</td>\\n      <td>63.44</td>\\n      <td>-20.27</td>\\n      <td>55.40</td>\\n      <td>32</td>\\n      <td>19</td>\\n      <td>17.22</td>\\n    </tr>\\n    <tr>\\n      <th>271</th>\\n      <td>Great Falls</td>\\n      <td>US</td>\\n      <td>5655240</td>\\n      <td>47.50</td>\\n      <td>-111.30</td>\\n      <td>68.00</td>\\n      <td>48</td>\\n      <td>20</td>\\n      <td>4.70</td>\\n    </tr>\\n    <tr>\\n      <th>272</th>\\n      <td>Barbacoas</td>\\n      <td>CO</td>\\n      <td>3689228</td>\\n      <td>1.67</td>\\n      <td>-78.14</td>\\n      <td>83.17</td>\\n      <td>77</td>\\n      <td>92</td>\\n      <td>5.75</td>\\n    </tr>\\n    <tr>\\n      <th>273</th>\\n      <td>Tres Picos</td>\\n      <td>MX</td>\\n      <td>3515120</td>\\n      <td>15.87</td>\\n      <td>-93.53</td>\\n      <td>81.91</td>\\n      <td>76</td>\\n      <td>100</td>\\n      <td>10.49</td>\\n    </tr>\\n    <tr>\\n      <th>274</th>\\n      <td>Omboué</td>\\n      <td>GA</td>\\n      <td>2396853</td>\\n      <td>-1.57</td>\\n      <td>9.26</td>\\n      <td>76.24</td>\\n      <td>93</td>\\n      <td>100</td>\\n      <td>6.38</td>\\n    </tr>\\n    <tr>\\n      <th>275</th>\\n      <td>Macamic</td>\\n      <td>CA</td>\\n      <td>6062563</td>\\n      <td>48.75</td>\\n      <td>-79.00</td>\\n      <td>53.60</td>\\n      <td>58</td>\\n      <td>75</td>\\n      <td>13.87</td>\\n    </tr>\\n    <tr>\\n      <th>276</th>\\n      <td>Shahr-e Kord</td>\\n      <td>IR</td>\\n      <td>115770</td>\\n      <td>32.33</td>\\n      <td>50.86</td>\\n      <td>66.20</td>\\n      <td>20</td>\\n      <td>6</td>\\n      <td>4.70</td>\\n    </tr>\\n    <tr>\\n      <th>277</th>\\n      <td>Kabalo</td>\\n      <td>CD</td>\\n      <td>215668</td>\\n      <td>-6.05</td>\\n      <td>26.92</td>\\n      <td>77.92</td>\\n      <td>45</td>\\n      <td>0</td>\\n      <td>3.85</td>\\n    </tr>\\n    <tr>\\n      <th>278</th>\\n      <td>Caucayá</td>\\n      <td>CO</td>\\n      <td>3671437</td>\\n      <td>-0.19</td>\\n      <td>-74.78</td>\\n      <td>83.05</td>\\n      <td>74</td>\\n      <td>19</td>\\n      <td>2.08</td>\\n    </tr>\\n    <tr>\\n      <th>279</th>\\n      <td>Shaunavon</td>\\n      <td>CA</td>\\n      <td>6145425</td>\\n      <td>49.65</td>\\n      <td>-108.42</td>\\n      <td>68.54</td>\\n      <td>72</td>\\n      <td>100</td>\\n      <td>13.76</td>\\n    </tr>\\n    <tr>\\n      <th>280</th>\\n      <td>Jijiang</td>\\n      <td>CN</td>\\n      <td>1805798</td>\\n      <td>29.29</td>\\n      <td>106.25</td>\\n      <td>80.01</td>\\n      <td>76</td>\\n      <td>95</td>\\n      <td>1.41</td>\\n    </tr>\\n    <tr>\\n      <th>281</th>\\n      <td>Whitehorse</td>\\n      <td>CA</td>\\n      <td>6180550</td>\\n      <td>60.72</td>\\n      <td>-135.05</td>\\n      <td>55.00</td>\\n      <td>50</td>\\n      <td>75</td>\\n      <td>5.82</td>\\n    </tr>\\n    <tr>\\n      <th>282</th>\\n      <td>Malakal</td>\\n      <td>SS</td>\\n      <td>370737</td>\\n      <td>9.53</td>\\n      <td>31.66</td>\\n      <td>89.46</td>\\n      <td>38</td>\\n      <td>71</td>\\n      <td>3.44</td>\\n    </tr>\\n    <tr>\\n      <th>283</th>\\n      <td>Dauriya</td>\\n      <td>RU</td>\\n      <td>2025099</td>\\n      <td>49.93</td>\\n      <td>116.87</td>\\n      <td>57.72</td>\\n      <td>73</td>\\n      <td>100</td>\\n      <td>11.90</td>\\n    </tr>\\n    <tr>\\n      <th>284</th>\\n      <td>Dolores</td>\\n      <td>AR</td>\\n      <td>3435038</td>\\n      <td>-36.31</td>\\n      <td>-57.68</td>\\n      <td>64.71</td>\\n      <td>67</td>\\n      <td>22</td>\\n      <td>10.74</td>\\n    </tr>\\n    <tr>\\n      <th>285</th>\\n      <td>Liku</td>\\n      <td>ID</td>\\n      <td>1633034</td>\\n      <td>-0.73</td>\\n      <td>119.89</td>\\n      <td>75.18</td>\\n      <td>84</td>\\n      <td>100</td>\\n      <td>2.13</td>\\n    </tr>\\n    <tr>\\n      <th>286</th>\\n      <td>Kirkuk</td>\\n      <td>IQ</td>\\n      <td>94787</td>\\n      <td>35.47</td>\\n      <td>44.39</td>\\n      <td>82.71</td>\\n      <td>14</td>\\n      <td>0</td>\\n      <td>7.18</td>\\n    </tr>\\n    <tr>\\n      <th>287</th>\\n      <td>Abū Zabad</td>\\n      <td>SD</td>\\n      <td>380348</td>\\n      <td>12.35</td>\\n      <td>29.25</td>\\n      <td>90.64</td>\\n      <td>18</td>\\n      <td>0</td>\\n      <td>2.86</td>\\n    </tr>\\n    <tr>\\n      <th>288</th>\\n      <td>Solnechnyy</td>\\n      <td>RU</td>\\n      <td>2016307</td>\\n      <td>50.72</td>\\n      <td>136.63</td>\\n      <td>48.33</td>\\n      <td>88</td>\\n      <td>65</td>\\n      <td>3.02</td>\\n    </tr>\\n    <tr>\\n      <th>289</th>\\n      <td>Fortuna</td>\\n      <td>US</td>\\n      <td>5563839</td>\\n      <td>40.60</td>\\n      <td>-124.16</td>\\n      <td>60.01</td>\\n      <td>76</td>\\n      <td>40</td>\\n      <td>12.75</td>\\n    </tr>\\n    <tr>\\n      <th>290</th>\\n      <td>Guerrero Negro</td>\\n      <td>MX</td>\\n      <td>4021858</td>\\n      <td>27.98</td>\\n      <td>-114.06</td>\\n      <td>73.76</td>\\n      <td>53</td>\\n      <td>0</td>\\n      <td>18.23</td>\\n    </tr>\\n    <tr>\\n      <th>291</th>\\n      <td>Castro</td>\\n      <td>BR</td>\\n      <td>3466704</td>\\n      <td>-24.79</td>\\n      <td>-50.01</td>\\n      <td>63.57</td>\\n      <td>61</td>\\n      <td>0</td>\\n      <td>10.22</td>\\n    </tr>\\n    <tr>\\n      <th>292</th>\\n      <td>Aranos</td>\\n      <td>NaN</td>\\n      <td>3358666</td>\\n      <td>-24.13</td>\\n      <td>19.12</td>\\n      <td>59.27</td>\\n      <td>34</td>\\n      <td>0</td>\\n      <td>11.99</td>\\n    </tr>\\n    <tr>\\n      <th>293</th>\\n      <td>Bud</td>\\n      <td>US</td>\\n      <td>4255151</td>\\n      <td>39.45</td>\\n      <td>-86.18</td>\\n      <td>87.01</td>\\n      <td>45</td>\\n      <td>1</td>\\n      <td>5.82</td>\\n    </tr>\\n    <tr>\\n      <th>294</th>\\n      <td>Tuatapere</td>\\n      <td>NZ</td>\\n      <td>2180815</td>\\n      <td>-46.13</td>\\n      <td>167.68</td>\\n      <td>43.05</td>\\n      <td>85</td>\\n      <td>81</td>\\n      <td>9.60</td>\\n    </tr>\\n    <tr>\\n      <th>295</th>\\n      <td>Havelock</td>\\n      <td>US</td>\\n      <td>4470244</td>\\n      <td>34.88</td>\\n      <td>-76.90</td>\\n      <td>87.80</td>\\n      <td>58</td>\\n      <td>75</td>\\n      <td>14.99</td>\\n    </tr>\\n    <tr>\\n      <th>296</th>\\n      <td>Kadaya</td>\\n      <td>RU</td>\\n      <td>2023324</td>\\n      <td>50.93</td>\\n      <td>119.29</td>\\n      <td>49.30</td>\\n      <td>91</td>\\n      <td>100</td>\\n      <td>3.22</td>\\n    </tr>\\n    <tr>\\n      <th>297</th>\\n      <td>Havre-St-Pierre</td>\\n      <td>CA</td>\\n      <td>5972291</td>\\n      <td>50.23</td>\\n      <td>-63.60</td>\\n      <td>57.20</td>\\n      <td>44</td>\\n      <td>90</td>\\n      <td>17.22</td>\\n    </tr>\\n    <tr>\\n      <th>298</th>\\n      <td>Vardø</td>\\n      <td>NO</td>\\n      <td>777019</td>\\n      <td>70.37</td>\\n      <td>31.11</td>\\n      <td>51.55</td>\\n      <td>79</td>\\n      <td>99</td>\\n      <td>8.46</td>\\n    </tr>\\n    <tr>\\n      <th>299</th>\\n      <td>Beni Mazar</td>\\n      <td>EG</td>\\n      <td>359212</td>\\n      <td>28.50</td>\\n      <td>30.80</td>\\n      <td>85.15</td>\\n      <td>13</td>\\n      <td>0</td>\\n      <td>6.73</td>\\n    </tr>\\n    <tr>\\n      <th>300</th>\\n      <td>Hofn</td>\\n      <td>IS</td>\\n      <td>2630299</td>\\n      <td>64.25</td>\\n      <td>-15.21</td>\\n      <td>44.96</td>\\n      <td>69</td>\\n      <td>50</td>\\n      <td>10.83</td>\\n    </tr>\\n    <tr>\\n      <th>301</th>\\n      <td>Orlik</td>\\n      <td>RU</td>\\n      <td>1496073</td>\\n      <td>52.52</td>\\n      <td>99.83</td>\\n      <td>34.88</td>\\n      <td>82</td>\\n      <td>35</td>\\n      <td>5.17</td>\\n    </tr>\\n    <tr>\\n      <th>302</th>\\n      <td>Tabuk</td>\\n      <td>PH</td>\\n      <td>1684803</td>\\n      <td>17.42</td>\\n      <td>121.44</td>\\n      <td>75.54</td>\\n      <td>86</td>\\n      <td>14</td>\\n      <td>1.77</td>\\n    </tr>\\n    <tr>\\n      <th>303</th>\\n      <td>Ransang</td>\\n      <td>PH</td>\\n      <td>1691872</td>\\n      <td>8.96</td>\\n      <td>117.58</td>\\n      <td>80.38</td>\\n      <td>78</td>\\n      <td>86</td>\\n      <td>1.74</td>\\n    </tr>\\n    <tr>\\n      <th>304</th>\\n      <td>San Patricio</td>\\n      <td>MX</td>\\n      <td>3985168</td>\\n      <td>19.22</td>\\n      <td>-104.70</td>\\n      <td>82.40</td>\\n      <td>74</td>\\n      <td>75</td>\\n      <td>11.41</td>\\n    </tr>\\n    <tr>\\n      <th>305</th>\\n      <td>Laguna</td>\\n      <td>US</td>\\n      <td>5364271</td>\\n      <td>38.42</td>\\n      <td>-121.42</td>\\n      <td>73.99</td>\\n      <td>40</td>\\n      <td>1</td>\\n      <td>10.29</td>\\n    </tr>\\n    <tr>\\n      <th>306</th>\\n      <td>Hobyo</td>\\n      <td>SO</td>\\n      <td>57000</td>\\n      <td>5.35</td>\\n      <td>48.53</td>\\n      <td>82.45</td>\\n      <td>75</td>\\n      <td>58</td>\\n      <td>25.08</td>\\n    </tr>\\n    <tr>\\n      <th>307</th>\\n      <td>Auki</td>\\n      <td>SB</td>\\n      <td>2109701</td>\\n      <td>-8.77</td>\\n      <td>160.70</td>\\n      <td>77.45</td>\\n      <td>83</td>\\n      <td>100</td>\\n      <td>0.76</td>\\n    </tr>\\n    <tr>\\n      <th>308</th>\\n      <td>Ahipara</td>\\n      <td>NZ</td>\\n      <td>2194098</td>\\n      <td>-35.17</td>\\n      <td>173.17</td>\\n      <td>56.01</td>\\n      <td>87</td>\\n      <td>33</td>\\n      <td>8.05</td>\\n    </tr>\\n    <tr>\\n      <th>309</th>\\n      <td>Minas</td>\\n      <td>UY</td>\\n      <td>3441665</td>\\n      <td>-34.38</td>\\n      <td>-55.24</td>\\n      <td>60.80</td>\\n      <td>93</td>\\n      <td>90</td>\\n      <td>14.99</td>\\n    </tr>\\n    <tr>\\n      <th>310</th>\\n      <td>Brae</td>\\n      <td>GB</td>\\n      <td>2654970</td>\\n      <td>60.40</td>\\n      <td>-1.35</td>\\n      <td>50.00</td>\\n      <td>87</td>\\n      <td>100</td>\\n      <td>24.16</td>\\n    </tr>\\n    <tr>\\n      <th>311</th>\\n      <td>Shenjiamen</td>\\n      <td>CN</td>\\n      <td>1795632</td>\\n      <td>29.96</td>\\n      <td>122.30</td>\\n      <td>70.02</td>\\n      <td>92</td>\\n      <td>100</td>\\n      <td>12.28</td>\\n    </tr>\\n    <tr>\\n      <th>312</th>\\n      <td>Yamada</td>\\n      <td>JP</td>\\n      <td>2110560</td>\\n      <td>39.47</td>\\n      <td>141.95</td>\\n      <td>55.00</td>\\n      <td>87</td>\\n      <td>100</td>\\n      <td>6.17</td>\\n    </tr>\\n    <tr>\\n      <th>313</th>\\n      <td>Altay</td>\\n      <td>CN</td>\\n      <td>1529651</td>\\n      <td>47.87</td>\\n      <td>88.12</td>\\n      <td>40.95</td>\\n      <td>66</td>\\n      <td>0</td>\\n      <td>3.33</td>\\n    </tr>\\n    <tr>\\n      <th>314</th>\\n      <td>Campo Verde</td>\\n      <td>BR</td>\\n      <td>3467673</td>\\n      <td>-20.42</td>\\n      <td>-54.07</td>\\n      <td>68.00</td>\\n      <td>72</td>\\n      <td>75</td>\\n      <td>4.70</td>\\n    </tr>\\n    <tr>\\n      <th>315</th>\\n      <td>Poum</td>\\n      <td>NC</td>\\n      <td>2138555</td>\\n      <td>-20.23</td>\\n      <td>164.02</td>\\n      <td>70.52</td>\\n      <td>68</td>\\n      <td>24</td>\\n      <td>11.10</td>\\n    </tr>\\n    <tr>\\n      <th>316</th>\\n      <td>Saint-Prosper</td>\\n      <td>CA</td>\\n      <td>6137631</td>\\n      <td>46.21</td>\\n      <td>-70.48</td>\\n      <td>66.00</td>\\n      <td>28</td>\\n      <td>9</td>\\n      <td>1.99</td>\\n    </tr>\\n    <tr>\\n      <th>317</th>\\n      <td>Raudeberg</td>\\n      <td>NO</td>\\n      <td>3146487</td>\\n      <td>61.99</td>\\n      <td>5.14</td>\\n      <td>57.99</td>\\n      <td>78</td>\\n      <td>100</td>\\n      <td>19.77</td>\\n    </tr>\\n    <tr>\\n      <th>318</th>\\n      <td>Keminmaa</td>\\n      <td>FI</td>\\n      <td>653257</td>\\n      <td>65.86</td>\\n      <td>24.82</td>\\n      <td>59.00</td>\\n      <td>77</td>\\n      <td>100</td>\\n      <td>5.82</td>\\n    </tr>\\n    <tr>\\n      <th>319</th>\\n      <td>Keti Bandar</td>\\n      <td>PK</td>\\n      <td>1174451</td>\\n      <td>24.14</td>\\n      <td>67.45</td>\\n      <td>84.52</td>\\n      <td>83</td>\\n      <td>0</td>\\n      <td>12.39</td>\\n    </tr>\\n    <tr>\\n      <th>320</th>\\n      <td>Puli</td>\\n      <td>TW</td>\\n      <td>1670310</td>\\n      <td>23.97</td>\\n      <td>120.97</td>\\n      <td>82.00</td>\\n      <td>83</td>\\n      <td>75</td>\\n      <td>9.17</td>\\n    </tr>\\n    <tr>\\n      <th>321</th>\\n      <td>Baykit</td>\\n      <td>RU</td>\\n      <td>1510689</td>\\n      <td>61.67</td>\\n      <td>96.37</td>\\n      <td>49.17</td>\\n      <td>88</td>\\n      <td>43</td>\\n      <td>3.76</td>\\n    </tr>\\n    <tr>\\n      <th>322</th>\\n      <td>Ilembula</td>\\n      <td>TZ</td>\\n      <td>159218</td>\\n      <td>-8.90</td>\\n      <td>34.58</td>\\n      <td>62.28</td>\\n      <td>75</td>\\n      <td>5</td>\\n      <td>11.21</td>\\n    </tr>\\n    <tr>\\n      <th>323</th>\\n      <td>Susanville</td>\\n      <td>US</td>\\n      <td>5572400</td>\\n      <td>40.42</td>\\n      <td>-120.65</td>\\n      <td>64.40</td>\\n      <td>28</td>\\n      <td>75</td>\\n      <td>18.34</td>\\n    </tr>\\n    <tr>\\n      <th>324</th>\\n      <td>Belyy Yar</td>\\n      <td>RU</td>\\n      <td>1510377</td>\\n      <td>53.60</td>\\n      <td>91.39</td>\\n      <td>48.20</td>\\n      <td>87</td>\\n      <td>100</td>\\n      <td>4.47</td>\\n    </tr>\\n    <tr>\\n      <th>325</th>\\n      <td>Camacha</td>\\n      <td>PT</td>\\n      <td>2270385</td>\\n      <td>33.08</td>\\n      <td>-16.33</td>\\n      <td>69.80</td>\\n      <td>77</td>\\n      <td>40</td>\\n      <td>18.34</td>\\n    </tr>\\n    <tr>\\n      <th>326</th>\\n      <td>Grand Gaube</td>\\n      <td>MU</td>\\n      <td>934479</td>\\n      <td>-20.01</td>\\n      <td>57.66</td>\\n      <td>71.60</td>\\n      <td>78</td>\\n      <td>40</td>\\n      <td>14.99</td>\\n    </tr>\\n    <tr>\\n      <th>327</th>\\n      <td>Kudahuvadhoo</td>\\n      <td>MV</td>\\n      <td>1337607</td>\\n      <td>2.67</td>\\n      <td>72.89</td>\\n      <td>83.57</td>\\n      <td>78</td>\\n      <td>100</td>\\n      <td>10.33</td>\\n    </tr>\\n    <tr>\\n      <th>328</th>\\n      <td>Port Elizabeth</td>\\n      <td>ZA</td>\\n      <td>964420</td>\\n      <td>-33.92</td>\\n      <td>25.57</td>\\n      <td>57.20</td>\\n      <td>93</td>\\n      <td>24</td>\\n      <td>5.82</td>\\n    </tr>\\n    <tr>\\n      <th>329</th>\\n      <td>Hailar</td>\\n      <td>CN</td>\\n      <td>2037078</td>\\n      <td>49.20</td>\\n      <td>119.70</td>\\n      <td>57.67</td>\\n      <td>82</td>\\n      <td>95</td>\\n      <td>8.08</td>\\n    </tr>\\n    <tr>\\n      <th>330</th>\\n      <td>Intipucá</td>\\n      <td>SV</td>\\n      <td>3585480</td>\\n      <td>13.20</td>\\n      <td>-88.05</td>\\n      <td>84.20</td>\\n      <td>83</td>\\n      <td>75</td>\\n      <td>2.24</td>\\n    </tr>\\n    <tr>\\n      <th>331</th>\\n      <td>Arrondissement de Rochefort</td>\\n      <td>FR</td>\\n      <td>2983272</td>\\n      <td>45.92</td>\\n      <td>-1.00</td>\\n      <td>59.00</td>\\n      <td>54</td>\\n      <td>100</td>\\n      <td>18.34</td>\\n    </tr>\\n    <tr>\\n      <th>332</th>\\n      <td>Saint-Augustin</td>\\n      <td>CA</td>\\n      <td>6137462</td>\\n      <td>51.23</td>\\n      <td>-58.65</td>\\n      <td>60.44</td>\\n      <td>37</td>\\n      <td>72</td>\\n      <td>9.91</td>\\n    </tr>\\n    <tr>\\n      <th>333</th>\\n      <td>Mildura</td>\\n      <td>AU</td>\\n      <td>2157698</td>\\n      <td>-34.20</td>\\n      <td>142.15</td>\\n      <td>46.40</td>\\n      <td>81</td>\\n      <td>90</td>\\n      <td>5.82</td>\\n    </tr>\\n    <tr>\\n      <th>334</th>\\n      <td>Sørland</td>\\n      <td>NO</td>\\n      <td>3137469</td>\\n      <td>67.67</td>\\n      <td>12.69</td>\\n      <td>52.00</td>\\n      <td>79</td>\\n      <td>0</td>\\n      <td>8.75</td>\\n    </tr>\\n    <tr>\\n      <th>335</th>\\n      <td>Bima</td>\\n      <td>ID</td>\\n      <td>1648759</td>\\n      <td>-8.47</td>\\n      <td>118.72</td>\\n      <td>73.49</td>\\n      <td>90</td>\\n      <td>9</td>\\n      <td>3.85</td>\\n    </tr>\\n    <tr>\\n      <th>336</th>\\n      <td>Nanortalik</td>\\n      <td>GL</td>\\n      <td>3421765</td>\\n      <td>60.14</td>\\n      <td>-45.24</td>\\n      <td>48.22</td>\\n      <td>76</td>\\n      <td>100</td>\\n      <td>20.94</td>\\n    </tr>\\n    <tr>\\n      <th>337</th>\\n      <td>Bilibino</td>\\n      <td>RU</td>\\n      <td>2126682</td>\\n      <td>68.05</td>\\n      <td>166.44</td>\\n      <td>57.81</td>\\n      <td>47</td>\\n      <td>100</td>\\n      <td>9.44</td>\\n    </tr>\\n    <tr>\\n      <th>338</th>\\n      <td>Mweka</td>\\n      <td>CD</td>\\n      <td>207596</td>\\n      <td>-4.85</td>\\n      <td>21.57</td>\\n      <td>77.07</td>\\n      <td>61</td>\\n      <td>69</td>\\n      <td>0.65</td>\\n    </tr>\\n    <tr>\\n      <th>339</th>\\n      <td>Chaman</td>\\n      <td>PK</td>\\n      <td>1181611</td>\\n      <td>30.92</td>\\n      <td>66.45</td>\\n      <td>80.19</td>\\n      <td>15</td>\\n      <td>0</td>\\n      <td>1.74</td>\\n    </tr>\\n    <tr>\\n      <th>340</th>\\n      <td>Northam</td>\\n      <td>GB</td>\\n      <td>2641434</td>\\n      <td>51.03</td>\\n      <td>-4.22</td>\\n      <td>55.00</td>\\n      <td>90</td>\\n      <td>100</td>\\n      <td>4.00</td>\\n    </tr>\\n    <tr>\\n      <th>341</th>\\n      <td>Miyako</td>\\n      <td>JP</td>\\n      <td>2111884</td>\\n      <td>39.64</td>\\n      <td>141.95</td>\\n      <td>54.77</td>\\n      <td>87</td>\\n      <td>100</td>\\n      <td>6.40</td>\\n    </tr>\\n    <tr>\\n      <th>342</th>\\n      <td>Marshall</td>\\n      <td>US</td>\\n      <td>4074736</td>\\n      <td>34.38</td>\\n      <td>-86.33</td>\\n      <td>88.00</td>\\n      <td>55</td>\\n      <td>40</td>\\n      <td>3.36</td>\\n    </tr>\\n    <tr>\\n      <th>343</th>\\n      <td>Fairview</td>\\n      <td>US</td>\\n      <td>5097801</td>\\n      <td>40.81</td>\\n      <td>-74.00</td>\\n      <td>90.00</td>\\n      <td>58</td>\\n      <td>40</td>\\n      <td>10.92</td>\\n    </tr>\\n    <tr>\\n      <th>344</th>\\n      <td>Kamenka</td>\\n      <td>RU</td>\\n      <td>553766</td>\\n      <td>51.32</td>\\n      <td>42.77</td>\\n      <td>69.01</td>\\n      <td>66</td>\\n      <td>100</td>\\n      <td>1.99</td>\\n    </tr>\\n    <tr>\\n      <th>345</th>\\n      <td>Province of Groningen</td>\\n      <td>NL</td>\\n      <td>2755249</td>\\n      <td>53.25</td>\\n      <td>6.75</td>\\n      <td>57.00</td>\\n      <td>62</td>\\n      <td>100</td>\\n      <td>13.87</td>\\n    </tr>\\n    <tr>\\n      <th>346</th>\\n      <td>Huadian</td>\\n      <td>CN</td>\\n      <td>2036776</td>\\n      <td>42.96</td>\\n      <td>126.75</td>\\n      <td>54.82</td>\\n      <td>80</td>\\n      <td>99</td>\\n      <td>3.42</td>\\n    </tr>\\n    <tr>\\n      <th>347</th>\\n      <td>Mehamn</td>\\n      <td>NO</td>\\n      <td>778707</td>\\n      <td>71.04</td>\\n      <td>27.85</td>\\n      <td>52.41</td>\\n      <td>80</td>\\n      <td>32</td>\\n      <td>13.76</td>\\n    </tr>\\n    <tr>\\n      <th>348</th>\\n      <td>Neiafu</td>\\n      <td>TO</td>\\n      <td>4032420</td>\\n      <td>-18.65</td>\\n      <td>-173.98</td>\\n      <td>77.00</td>\\n      <td>94</td>\\n      <td>75</td>\\n      <td>2.24</td>\\n    </tr>\\n    <tr>\\n      <th>349</th>\\n      <td>Chimoré</td>\\n      <td>BO</td>\\n      <td>3920736</td>\\n      <td>-16.98</td>\\n      <td>-65.13</td>\\n      <td>77.52</td>\\n      <td>57</td>\\n      <td>49</td>\\n      <td>2.15</td>\\n    </tr>\\n    <tr>\\n      <th>350</th>\\n      <td>Géri</td>\\n      <td>CY</td>\\n      <td>145964</td>\\n      <td>35.10</td>\\n      <td>33.42</td>\\n      <td>79.00</td>\\n      <td>44</td>\\n      <td>0</td>\\n      <td>13.87</td>\\n    </tr>\\n    <tr>\\n      <th>351</th>\\n      <td>Otofuke</td>\\n      <td>JP</td>\\n      <td>2128558</td>\\n      <td>42.99</td>\\n      <td>143.20</td>\\n      <td>49.26</td>\\n      <td>90</td>\\n      <td>21</td>\\n      <td>3.65</td>\\n    </tr>\\n    <tr>\\n      <th>352</th>\\n      <td>Saldanha</td>\\n      <td>ZA</td>\\n      <td>3361934</td>\\n      <td>-33.01</td>\\n      <td>17.94</td>\\n      <td>57.20</td>\\n      <td>82</td>\\n      <td>0</td>\\n      <td>5.82</td>\\n    </tr>\\n    <tr>\\n      <th>353</th>\\n      <td>Avera</td>\\n      <td>US</td>\\n      <td>4231997</td>\\n      <td>33.19</td>\\n      <td>-82.53</td>\\n      <td>87.80</td>\\n      <td>70</td>\\n      <td>1</td>\\n      <td>3.36</td>\\n    </tr>\\n    <tr>\\n      <th>354</th>\\n      <td>Gouyave</td>\\n      <td>GD</td>\\n      <td>3580279</td>\\n      <td>12.16</td>\\n      <td>-61.73</td>\\n      <td>82.40</td>\\n      <td>88</td>\\n      <td>75</td>\\n      <td>6.93</td>\\n    </tr>\\n    <tr>\\n      <th>355</th>\\n      <td>Ambatolampy</td>\\n      <td>MG</td>\\n      <td>1082992</td>\\n      <td>-19.38</td>\\n      <td>47.42</td>\\n      <td>59.00</td>\\n      <td>87</td>\\n      <td>75</td>\\n      <td>9.17</td>\\n    </tr>\\n    <tr>\\n      <th>356</th>\\n      <td>Yining</td>\\n      <td>CN</td>\\n      <td>1786538</td>\\n      <td>29.04</td>\\n      <td>114.56</td>\\n      <td>70.30</td>\\n      <td>92</td>\\n      <td>84</td>\\n      <td>1.61</td>\\n    </tr>\\n    <tr>\\n      <th>357</th>\\n      <td>Mercedes</td>\\n      <td>AR</td>\\n      <td>3430708</td>\\n      <td>-34.65</td>\\n      <td>-59.43</td>\\n      <td>63.00</td>\\n      <td>95</td>\\n      <td>98</td>\\n      <td>1.99</td>\\n    </tr>\\n    <tr>\\n      <th>358</th>\\n      <td>Hirara</td>\\n      <td>JP</td>\\n      <td>1862505</td>\\n      <td>24.80</td>\\n      <td>125.28</td>\\n      <td>82.51</td>\\n      <td>85</td>\\n      <td>95</td>\\n      <td>12.77</td>\\n    </tr>\\n    <tr>\\n      <th>359</th>\\n      <td>Raja</td>\\n      <td>SS</td>\\n      <td>368246</td>\\n      <td>8.46</td>\\n      <td>25.68</td>\\n      <td>75.00</td>\\n      <td>74</td>\\n      <td>100</td>\\n      <td>5.77</td>\\n    </tr>\\n    <tr>\\n      <th>360</th>\\n      <td>Shimanovsk</td>\\n      <td>RU</td>\\n      <td>2016701</td>\\n      <td>52.00</td>\\n      <td>127.70</td>\\n      <td>53.29</td>\\n      <td>93</td>\\n      <td>100</td>\\n      <td>0.58</td>\\n    </tr>\\n    <tr>\\n      <th>361</th>\\n      <td>Aksarka</td>\\n      <td>RU</td>\\n      <td>1512019</td>\\n      <td>66.56</td>\\n      <td>67.80</td>\\n      <td>49.55</td>\\n      <td>49</td>\\n      <td>100</td>\\n      <td>12.06</td>\\n    </tr>\\n    <tr>\\n      <th>362</th>\\n      <td>Yugorsk</td>\\n      <td>RU</td>\\n      <td>1502725</td>\\n      <td>61.31</td>\\n      <td>63.33</td>\\n      <td>64.09</td>\\n      <td>69</td>\\n      <td>28</td>\\n      <td>6.62</td>\\n    </tr>\\n    <tr>\\n      <th>363</th>\\n      <td>Qasigiannguit</td>\\n      <td>GL</td>\\n      <td>3420768</td>\\n      <td>68.82</td>\\n      <td>-51.19</td>\\n      <td>39.20</td>\\n      <td>86</td>\\n      <td>75</td>\\n      <td>6.93</td>\\n    </tr>\\n    <tr>\\n      <th>364</th>\\n      <td>Vostok</td>\\n      <td>RU</td>\\n      <td>2013279</td>\\n      <td>46.49</td>\\n      <td>135.88</td>\\n      <td>44.78</td>\\n      <td>98</td>\\n      <td>100</td>\\n      <td>3.02</td>\\n    </tr>\\n    <tr>\\n      <th>365</th>\\n      <td>Port Hedland</td>\\n      <td>AU</td>\\n      <td>2063042</td>\\n      <td>-20.32</td>\\n      <td>118.57</td>\\n      <td>57.20</td>\\n      <td>58</td>\\n      <td>0</td>\\n      <td>5.82</td>\\n    </tr>\\n    <tr>\\n      <th>366</th>\\n      <td>Pisco</td>\\n      <td>PE</td>\\n      <td>3932145</td>\\n      <td>-13.70</td>\\n      <td>-76.22</td>\\n      <td>68.00</td>\\n      <td>77</td>\\n      <td>40</td>\\n      <td>11.41</td>\\n    </tr>\\n    <tr>\\n      <th>367</th>\\n      <td>Yur’yevets</td>\\n      <td>RU</td>\\n      <td>466258</td>\\n      <td>57.32</td>\\n      <td>43.10</td>\\n      <td>56.07</td>\\n      <td>81</td>\\n      <td>0</td>\\n      <td>0.96</td>\\n    </tr>\\n    <tr>\\n      <th>368</th>\\n      <td>Prince Rupert</td>\\n      <td>CA</td>\\n      <td>6113406</td>\\n      <td>54.32</td>\\n      <td>-130.32</td>\\n      <td>51.80</td>\\n      <td>87</td>\\n      <td>90</td>\\n      <td>5.82</td>\\n    </tr>\\n    <tr>\\n      <th>369</th>\\n      <td>Gobabis</td>\\n      <td>NaN</td>\\n      <td>3357247</td>\\n      <td>-22.45</td>\\n      <td>18.97</td>\\n      <td>60.80</td>\\n      <td>36</td>\\n      <td>0</td>\\n      <td>2.24</td>\\n    </tr>\\n    <tr>\\n      <th>370</th>\\n      <td>Callander</td>\\n      <td>GB</td>\\n      <td>2653989</td>\\n      <td>56.24</td>\\n      <td>-4.22</td>\\n      <td>61.00</td>\\n      <td>66</td>\\n      <td>100</td>\\n      <td>8.01</td>\\n    </tr>\\n    <tr>\\n      <th>371</th>\\n      <td>Shiyan</td>\\n      <td>CN</td>\\n      <td>1794903</td>\\n      <td>32.65</td>\\n      <td>110.78</td>\\n      <td>70.02</td>\\n      <td>59</td>\\n      <td>91</td>\\n      <td>2.08</td>\\n    </tr>\\n    <tr>\\n      <th>372</th>\\n      <td>Caravelas</td>\\n      <td>BR</td>\\n      <td>3466980</td>\\n      <td>-17.71</td>\\n      <td>-39.25</td>\\n      <td>73.17</td>\\n      <td>90</td>\\n      <td>99</td>\\n      <td>6.44</td>\\n    </tr>\\n    <tr>\\n      <th>373</th>\\n      <td>Manacapuru</td>\\n      <td>BR</td>\\n      <td>3663529</td>\\n      <td>-3.30</td>\\n      <td>-60.62</td>\\n      <td>86.00</td>\\n      <td>70</td>\\n      <td>40</td>\\n      <td>11.41</td>\\n    </tr>\\n    <tr>\\n      <th>374</th>\\n      <td>Cap-aux-Meules</td>\\n      <td>CA</td>\\n      <td>5915327</td>\\n      <td>47.38</td>\\n      <td>-61.86</td>\\n      <td>51.80</td>\\n      <td>81</td>\\n      <td>75</td>\\n      <td>10.29</td>\\n    </tr>\\n    <tr>\\n      <th>375</th>\\n      <td>Samoded</td>\\n      <td>RU</td>\\n      <td>499025</td>\\n      <td>63.61</td>\\n      <td>40.51</td>\\n      <td>60.37</td>\\n      <td>83</td>\\n      <td>94</td>\\n      <td>5.57</td>\\n    </tr>\\n    <tr>\\n      <th>376</th>\\n      <td>Ipanguaçu</td>\\n      <td>BR</td>\\n      <td>3398145</td>\\n      <td>-5.50</td>\\n      <td>-36.85</td>\\n      <td>93.20</td>\\n      <td>56</td>\\n      <td>40</td>\\n      <td>3.36</td>\\n    </tr>\\n    <tr>\\n      <th>377</th>\\n      <td>Shizunai-furukawachō</td>\\n      <td>JP</td>\\n      <td>2128025</td>\\n      <td>42.33</td>\\n      <td>142.37</td>\\n      <td>51.82</td>\\n      <td>89</td>\\n      <td>34</td>\\n      <td>8.99</td>\\n    </tr>\\n    <tr>\\n      <th>378</th>\\n      <td>Concordia</td>\\n      <td>AR</td>\\n      <td>3435261</td>\\n      <td>-31.39</td>\\n      <td>-58.02</td>\\n      <td>63.00</td>\\n      <td>93</td>\\n      <td>75</td>\\n      <td>8.05</td>\\n    </tr>\\n    <tr>\\n      <th>379</th>\\n      <td>Nuuk</td>\\n      <td>GL</td>\\n      <td>3421319</td>\\n      <td>64.18</td>\\n      <td>-51.72</td>\\n      <td>46.40</td>\\n      <td>87</td>\\n      <td>75</td>\\n      <td>4.70</td>\\n    </tr>\\n    <tr>\\n      <th>380</th>\\n      <td>Castrovillari</td>\\n      <td>IT</td>\\n      <td>6540785</td>\\n      <td>39.82</td>\\n      <td>16.21</td>\\n      <td>66.99</td>\\n      <td>69</td>\\n      <td>9</td>\\n      <td>8.99</td>\\n    </tr>\\n    <tr>\\n      <th>381</th>\\n      <td>Nara</td>\\n      <td>JP</td>\\n      <td>1855612</td>\\n      <td>34.69</td>\\n      <td>135.80</td>\\n      <td>70.00</td>\\n      <td>28</td>\\n      <td>100</td>\\n      <td>4.43</td>\\n    </tr>\\n    <tr>\\n      <th>382</th>\\n      <td>Karpinsk</td>\\n      <td>RU</td>\\n      <td>1504343</td>\\n      <td>59.77</td>\\n      <td>60.01</td>\\n      <td>57.99</td>\\n      <td>79</td>\\n      <td>0</td>\\n      <td>4.68</td>\\n    </tr>\\n    <tr>\\n      <th>383</th>\\n      <td>Westlock</td>\\n      <td>CA</td>\\n      <td>6179138</td>\\n      <td>54.15</td>\\n      <td>-113.87</td>\\n      <td>51.80</td>\\n      <td>87</td>\\n      <td>90</td>\\n      <td>14.99</td>\\n    </tr>\\n    <tr>\\n      <th>384</th>\\n      <td>Arteaga</td>\\n      <td>MX</td>\\n      <td>4018128</td>\\n      <td>18.47</td>\\n      <td>-102.42</td>\\n      <td>88.74</td>\\n      <td>40</td>\\n      <td>40</td>\\n      <td>6.38</td>\\n    </tr>\\n    <tr>\\n      <th>385</th>\\n      <td>Chara</td>\\n      <td>RU</td>\\n      <td>2025630</td>\\n      <td>56.91</td>\\n      <td>118.26</td>\\n      <td>51.39</td>\\n      <td>55</td>\\n      <td>95</td>\\n      <td>1.95</td>\\n    </tr>\\n    <tr>\\n      <th>386</th>\\n      <td>Sur</td>\\n      <td>OM</td>\\n      <td>286245</td>\\n      <td>22.57</td>\\n      <td>59.53</td>\\n      <td>82.98</td>\\n      <td>81</td>\\n      <td>0</td>\\n      <td>10.58</td>\\n    </tr>\\n    <tr>\\n      <th>387</th>\\n      <td>Kántorjánosi</td>\\n      <td>HU</td>\\n      <td>719466</td>\\n      <td>47.93</td>\\n      <td>22.15</td>\\n      <td>71.60</td>\\n      <td>88</td>\\n      <td>100</td>\\n      <td>6.93</td>\\n    </tr>\\n    <tr>\\n      <th>388</th>\\n      <td>Daru</td>\\n      <td>PG</td>\\n      <td>2098329</td>\\n      <td>-9.08</td>\\n      <td>143.21</td>\\n      <td>77.72</td>\\n      <td>85</td>\\n      <td>100</td>\\n      <td>16.58</td>\\n    </tr>\\n    <tr>\\n      <th>389</th>\\n      <td>Alyangula</td>\\n      <td>AU</td>\\n      <td>2079582</td>\\n      <td>-13.85</td>\\n      <td>136.42</td>\\n      <td>75.20</td>\\n      <td>94</td>\\n      <td>40</td>\\n      <td>11.50</td>\\n    </tr>\\n    <tr>\\n      <th>390</th>\\n      <td>Kutum</td>\\n      <td>SD</td>\\n      <td>371745</td>\\n      <td>14.20</td>\\n      <td>24.67</td>\\n      <td>78.85</td>\\n      <td>17</td>\\n      <td>0</td>\\n      <td>5.88</td>\\n    </tr>\\n    <tr>\\n      <th>391</th>\\n      <td>Brasília de Minas</td>\\n      <td>BR</td>\\n      <td>3469057</td>\\n      <td>-16.21</td>\\n      <td>-44.43</td>\\n      <td>78.57</td>\\n      <td>48</td>\\n      <td>0</td>\\n      <td>3.62</td>\\n    </tr>\\n    <tr>\\n      <th>392</th>\\n      <td>Nome</td>\\n      <td>US</td>\\n      <td>5870133</td>\\n      <td>64.50</td>\\n      <td>-165.41</td>\\n      <td>57.00</td>\\n      <td>66</td>\\n      <td>75</td>\\n      <td>3.44</td>\\n    </tr>\\n    <tr>\\n      <th>393</th>\\n      <td>Egvekinot</td>\\n      <td>RU</td>\\n      <td>4031742</td>\\n      <td>66.32</td>\\n      <td>-179.17</td>\\n      <td>47.97</td>\\n      <td>66</td>\\n      <td>65</td>\\n      <td>2.51</td>\\n    </tr>\\n    <tr>\\n      <th>394</th>\\n      <td>Alexandria</td>\\n      <td>EG</td>\\n      <td>361058</td>\\n      <td>31.22</td>\\n      <td>29.96</td>\\n      <td>75.20</td>\\n      <td>69</td>\\n      <td>75</td>\\n      <td>8.05</td>\\n    </tr>\\n    <tr>\\n      <th>395</th>\\n      <td>Cap Malheureux</td>\\n      <td>MU</td>\\n      <td>934649</td>\\n      <td>-19.98</td>\\n      <td>57.61</td>\\n      <td>71.60</td>\\n      <td>78</td>\\n      <td>40</td>\\n      <td>14.99</td>\\n    </tr>\\n    <tr>\\n      <th>396</th>\\n      <td>Labuhan</td>\\n      <td>ID</td>\\n      <td>8079926</td>\\n      <td>-6.88</td>\\n      <td>112.21</td>\\n      <td>77.36</td>\\n      <td>87</td>\\n      <td>100</td>\\n      <td>4.59</td>\\n    </tr>\\n    <tr>\\n      <th>397</th>\\n      <td>Payakumbuh</td>\\n      <td>ID</td>\\n      <td>1631905</td>\\n      <td>-0.22</td>\\n      <td>100.63</td>\\n      <td>68.25</td>\\n      <td>88</td>\\n      <td>7</td>\\n      <td>3.18</td>\\n    </tr>\\n    <tr>\\n      <th>398</th>\\n      <td>Makakilo City</td>\\n      <td>US</td>\\n      <td>5850554</td>\\n      <td>21.35</td>\\n      <td>-158.09</td>\\n      <td>80.60</td>\\n      <td>65</td>\\n      <td>20</td>\\n      <td>8.05</td>\\n    </tr>\\n    <tr>\\n      <th>399</th>\\n      <td>San Buenaventura</td>\\n      <td>MX</td>\\n      <td>3987500</td>\\n      <td>27.08</td>\\n      <td>-101.53</td>\\n      <td>91.02</td>\\n      <td>36</td>\\n      <td>26</td>\\n      <td>7.20</td>\\n    </tr>\\n    <tr>\\n      <th>400</th>\\n      <td>Mezen\\'</td>\\n      <td>RU</td>\\n      <td>527321</td>\\n      <td>65.85</td>\\n      <td>44.24</td>\\n      <td>58.35</td>\\n      <td>84</td>\\n      <td>0</td>\\n      <td>6.42</td>\\n    </tr>\\n    <tr>\\n      <th>401</th>\\n      <td>Lata</td>\\n      <td>PT</td>\\n      <td>2738381</td>\\n      <td>40.16</td>\\n      <td>-8.33</td>\\n      <td>64.00</td>\\n      <td>73</td>\\n      <td>100</td>\\n      <td>5.99</td>\\n    </tr>\\n    <tr>\\n      <th>402</th>\\n      <td>Kondinskoye</td>\\n      <td>RU</td>\\n      <td>1502697</td>\\n      <td>59.65</td>\\n      <td>67.41</td>\\n      <td>58.87</td>\\n      <td>59</td>\\n      <td>49</td>\\n      <td>6.55</td>\\n    </tr>\\n    <tr>\\n      <th>403</th>\\n      <td>Tselinnoye</td>\\n      <td>RU</td>\\n      <td>1489138</td>\\n      <td>53.08</td>\\n      <td>85.67</td>\\n      <td>44.06</td>\\n      <td>91</td>\\n      <td>23</td>\\n      <td>6.80</td>\\n    </tr>\\n    <tr>\\n      <th>404</th>\\n      <td>Dingzhou</td>\\n      <td>CN</td>\\n      <td>1812728</td>\\n      <td>38.51</td>\\n      <td>115.00</td>\\n      <td>73.40</td>\\n      <td>64</td>\\n      <td>0</td>\\n      <td>4.47</td>\\n    </tr>\\n    <tr>\\n      <th>405</th>\\n      <td>Khanbari</td>\\n      <td>NP</td>\\n      <td>1283217</td>\\n      <td>27.37</td>\\n      <td>87.20</td>\\n      <td>71.11</td>\\n      <td>73</td>\\n      <td>6</td>\\n      <td>1.45</td>\\n    </tr>\\n    <tr>\\n      <th>406</th>\\n      <td>Bambous Virieux</td>\\n      <td>MU</td>\\n      <td>1106677</td>\\n      <td>-20.34</td>\\n      <td>57.76</td>\\n      <td>71.60</td>\\n      <td>78</td>\\n      <td>40</td>\\n      <td>14.99</td>\\n    </tr>\\n    <tr>\\n      <th>407</th>\\n      <td>Katangli</td>\\n      <td>RU</td>\\n      <td>2122783</td>\\n      <td>51.71</td>\\n      <td>143.23</td>\\n      <td>41.76</td>\\n      <td>97</td>\\n      <td>100</td>\\n      <td>7.74</td>\\n    </tr>\\n    <tr>\\n      <th>408</th>\\n      <td>Nhamundá</td>\\n      <td>BR</td>\\n      <td>3393929</td>\\n      <td>-2.19</td>\\n      <td>-56.71</td>\\n      <td>88.23</td>\\n      <td>64</td>\\n      <td>25</td>\\n      <td>4.34</td>\\n    </tr>\\n    <tr>\\n      <th>409</th>\\n      <td>Baghdad</td>\\n      <td>IQ</td>\\n      <td>98182</td>\\n      <td>33.34</td>\\n      <td>44.40</td>\\n      <td>89.60</td>\\n      <td>22</td>\\n      <td>0</td>\\n      <td>5.82</td>\\n    </tr>\\n    <tr>\\n      <th>410</th>\\n      <td>Dokri</td>\\n      <td>PK</td>\\n      <td>1179660</td>\\n      <td>27.37</td>\\n      <td>68.10</td>\\n      <td>96.69</td>\\n      <td>34</td>\\n      <td>0</td>\\n      <td>13.02</td>\\n    </tr>\\n    <tr>\\n      <th>411</th>\\n      <td>Bereda</td>\\n      <td>ES</td>\\n      <td>3105522</td>\\n      <td>43.27</td>\\n      <td>-7.54</td>\\n      <td>57.99</td>\\n      <td>99</td>\\n      <td>100</td>\\n      <td>5.01</td>\\n    </tr>\\n    <tr>\\n      <th>412</th>\\n      <td>Sambava</td>\\n      <td>MG</td>\\n      <td>1056899</td>\\n      <td>-14.27</td>\\n      <td>50.17</td>\\n      <td>72.55</td>\\n      <td>80</td>\\n      <td>44</td>\\n      <td>15.93</td>\\n    </tr>\\n    <tr>\\n      <th>413</th>\\n      <td>Saint-Joseph</td>\\n      <td>RE</td>\\n      <td>6690296</td>\\n      <td>-21.37</td>\\n      <td>55.62</td>\\n      <td>68.00</td>\\n      <td>68</td>\\n      <td>20</td>\\n      <td>9.17</td>\\n    </tr>\\n    <tr>\\n      <th>414</th>\\n      <td>Holme</td>\\n      <td>DK</td>\\n      <td>2624652</td>\\n      <td>56.11</td>\\n      <td>10.17</td>\\n      <td>57.20</td>\\n      <td>54</td>\\n      <td>0</td>\\n      <td>6.93</td>\\n    </tr>\\n    <tr>\\n      <th>415</th>\\n      <td>Scarborough</td>\\n      <td>GB</td>\\n      <td>2638419</td>\\n      <td>54.28</td>\\n      <td>-0.40</td>\\n      <td>50.00</td>\\n      <td>88</td>\\n      <td>13</td>\\n      <td>3.00</td>\\n    </tr>\\n    <tr>\\n      <th>416</th>\\n      <td>Henties Bay</td>\\n      <td>NaN</td>\\n      <td>3356832</td>\\n      <td>-22.12</td>\\n      <td>14.28</td>\\n      <td>64.00</td>\\n      <td>82</td>\\n      <td>0</td>\\n      <td>12.21</td>\\n    </tr>\\n    <tr>\\n      <th>417</th>\\n      <td>Ahome</td>\\n      <td>MX</td>\\n      <td>4019098</td>\\n      <td>25.92</td>\\n      <td>-109.18</td>\\n      <td>84.20</td>\\n      <td>58</td>\\n      <td>40</td>\\n      <td>5.82</td>\\n    </tr>\\n    <tr>\\n      <th>418</th>\\n      <td>Isla Mujeres</td>\\n      <td>MX</td>\\n      <td>3526756</td>\\n      <td>21.23</td>\\n      <td>-86.73</td>\\n      <td>86.00</td>\\n      <td>74</td>\\n      <td>75</td>\\n      <td>10.29</td>\\n    </tr>\\n    <tr>\\n      <th>419</th>\\n      <td>Bandarbeyla</td>\\n      <td>SO</td>\\n      <td>64814</td>\\n      <td>9.49</td>\\n      <td>50.81</td>\\n      <td>84.40</td>\\n      <td>72</td>\\n      <td>0</td>\\n      <td>23.53</td>\\n    </tr>\\n    <tr>\\n      <th>420</th>\\n      <td>Oriximiná</td>\\n      <td>BR</td>\\n      <td>3393471</td>\\n      <td>-1.77</td>\\n      <td>-55.87</td>\\n      <td>84.90</td>\\n      <td>80</td>\\n      <td>100</td>\\n      <td>4.16</td>\\n    </tr>\\n    <tr>\\n      <th>421</th>\\n      <td>Bairiki Village</td>\\n      <td>KI</td>\\n      <td>7601762</td>\\n      <td>1.33</td>\\n      <td>172.98</td>\\n      <td>80.60</td>\\n      <td>83</td>\\n      <td>20</td>\\n      <td>1.12</td>\\n    </tr>\\n    <tr>\\n      <th>422</th>\\n      <td>Lahad Datu</td>\\n      <td>MY</td>\\n      <td>1733953</td>\\n      <td>5.03</td>\\n      <td>118.33</td>\\n      <td>76.06</td>\\n      <td>91</td>\\n      <td>100</td>\\n      <td>3.38</td>\\n    </tr>\\n    <tr>\\n      <th>423</th>\\n      <td>Bernal</td>\\n      <td>PE</td>\\n      <td>3699350</td>\\n      <td>-5.45</td>\\n      <td>-80.75</td>\\n      <td>82.85</td>\\n      <td>44</td>\\n      <td>0</td>\\n      <td>12.80</td>\\n    </tr>\\n    <tr>\\n      <th>424</th>\\n      <td>Tynset</td>\\n      <td>NO</td>\\n      <td>3133498</td>\\n      <td>62.28</td>\\n      <td>10.78</td>\\n      <td>48.20</td>\\n      <td>100</td>\\n      <td>100</td>\\n      <td>11.41</td>\\n    </tr>\\n    <tr>\\n      <th>425</th>\\n      <td>Gīdam</td>\\n      <td>IN</td>\\n      <td>1271215</td>\\n      <td>18.98</td>\\n      <td>81.40</td>\\n      <td>84.40</td>\\n      <td>56</td>\\n      <td>85</td>\\n      <td>0.36</td>\\n    </tr>\\n    <tr>\\n      <th>426</th>\\n      <td>Lishan</td>\\n      <td>CN</td>\\n      <td>1803267</td>\\n      <td>31.86</td>\\n      <td>113.30</td>\\n      <td>72.93</td>\\n      <td>76</td>\\n      <td>99</td>\\n      <td>3.71</td>\\n    </tr>\\n    <tr>\\n      <th>427</th>\\n      <td>Shangqiu</td>\\n      <td>CN</td>\\n      <td>1783934</td>\\n      <td>34.45</td>\\n      <td>115.65</td>\\n      <td>75.54</td>\\n      <td>63</td>\\n      <td>100</td>\\n      <td>6.62</td>\\n    </tr>\\n    <tr>\\n      <th>428</th>\\n      <td>Bānsdīh</td>\\n      <td>IN</td>\\n      <td>1277238</td>\\n      <td>25.88</td>\\n      <td>84.22</td>\\n      <td>85.35</td>\\n      <td>63</td>\\n      <td>0</td>\\n      <td>3.11</td>\\n    </tr>\\n    <tr>\\n      <th>429</th>\\n      <td>Luanda</td>\\n      <td>AO</td>\\n      <td>2240449</td>\\n      <td>-8.84</td>\\n      <td>13.23</td>\\n      <td>77.00</td>\\n      <td>83</td>\\n      <td>0</td>\\n      <td>6.93</td>\\n    </tr>\\n    <tr>\\n      <th>430</th>\\n      <td>Kapoeta</td>\\n      <td>SS</td>\\n      <td>372884</td>\\n      <td>4.77</td>\\n      <td>33.59</td>\\n      <td>82.06</td>\\n      <td>51</td>\\n      <td>100</td>\\n      <td>4.47</td>\\n    </tr>\\n    <tr>\\n      <th>431</th>\\n      <td>Sola</td>\\n      <td>VU</td>\\n      <td>2134814</td>\\n      <td>-13.88</td>\\n      <td>167.55</td>\\n      <td>80.80</td>\\n      <td>83</td>\\n      <td>100</td>\\n      <td>25.41</td>\\n    </tr>\\n    <tr>\\n      <th>432</th>\\n      <td>Świdnik</td>\\n      <td>PL</td>\\n      <td>757692</td>\\n      <td>51.22</td>\\n      <td>22.70</td>\\n      <td>69.80</td>\\n      <td>68</td>\\n      <td>14</td>\\n      <td>2.24</td>\\n    </tr>\\n    <tr>\\n      <th>433</th>\\n      <td>Erdenet</td>\\n      <td>MN</td>\\n      <td>2031405</td>\\n      <td>49.03</td>\\n      <td>104.08</td>\\n      <td>50.25</td>\\n      <td>46</td>\\n      <td>100</td>\\n      <td>3.18</td>\\n    </tr>\\n    <tr>\\n      <th>434</th>\\n      <td>Ust-Nera</td>\\n      <td>RU</td>\\n      <td>2120048</td>\\n      <td>64.57</td>\\n      <td>143.20</td>\\n      <td>55.02</td>\\n      <td>53</td>\\n      <td>29</td>\\n      <td>3.13</td>\\n    </tr>\\n    <tr>\\n      <th>435</th>\\n      <td>Abu Dhabi</td>\\n      <td>AE</td>\\n      <td>292968</td>\\n      <td>24.47</td>\\n      <td>54.37</td>\\n      <td>91.40</td>\\n      <td>75</td>\\n      <td>0</td>\\n      <td>5.82</td>\\n    </tr>\\n    <tr>\\n      <th>436</th>\\n      <td>Tomatlán</td>\\n      <td>MX</td>\\n      <td>3981391</td>\\n      <td>19.93</td>\\n      <td>-105.25</td>\\n      <td>87.69</td>\\n      <td>54</td>\\n      <td>57</td>\\n      <td>10.18</td>\\n    </tr>\\n    <tr>\\n      <th>437</th>\\n      <td>Mana</td>\\n      <td>GF</td>\\n      <td>3381041</td>\\n      <td>5.66</td>\\n      <td>-53.78</td>\\n      <td>83.50</td>\\n      <td>75</td>\\n      <td>39</td>\\n      <td>10.71</td>\\n    </tr>\\n    <tr>\\n      <th>438</th>\\n      <td>Buala</td>\\n      <td>SB</td>\\n      <td>2109528</td>\\n      <td>-8.14</td>\\n      <td>159.59</td>\\n      <td>77.70</td>\\n      <td>86</td>\\n      <td>100</td>\\n      <td>2.59</td>\\n    </tr>\\n    <tr>\\n      <th>439</th>\\n      <td>Deep River</td>\\n      <td>CA</td>\\n      <td>5937073</td>\\n      <td>46.10</td>\\n      <td>-77.50</td>\\n      <td>64.40</td>\\n      <td>68</td>\\n      <td>40</td>\\n      <td>14.99</td>\\n    </tr>\\n    <tr>\\n      <th>440</th>\\n      <td>Araouane</td>\\n      <td>ML</td>\\n      <td>2460954</td>\\n      <td>18.90</td>\\n      <td>-3.53</td>\\n      <td>107.08</td>\\n      <td>10</td>\\n      <td>97</td>\\n      <td>6.26</td>\\n    </tr>\\n    <tr>\\n      <th>441</th>\\n      <td>Fort Morgan</td>\\n      <td>US</td>\\n      <td>5577158</td>\\n      <td>40.25</td>\\n      <td>-103.80</td>\\n      <td>84.20</td>\\n      <td>21</td>\\n      <td>40</td>\\n      <td>29.97</td>\\n    </tr>\\n    <tr>\\n      <th>442</th>\\n      <td>Changji</td>\\n      <td>CN</td>\\n      <td>1529569</td>\\n      <td>44.02</td>\\n      <td>87.32</td>\\n      <td>60.80</td>\\n      <td>44</td>\\n      <td>0</td>\\n      <td>4.47</td>\\n    </tr>\\n    <tr>\\n      <th>443</th>\\n      <td>Una</td>\\n      <td>IN</td>\\n      <td>1253783</td>\\n      <td>20.82</td>\\n      <td>71.03</td>\\n      <td>85.06</td>\\n      <td>76</td>\\n      <td>0</td>\\n      <td>11.52</td>\\n    </tr>\\n    <tr>\\n      <th>444</th>\\n      <td>Port Pirie</td>\\n      <td>AU</td>\\n      <td>2063030</td>\\n      <td>-33.18</td>\\n      <td>138.02</td>\\n      <td>50.00</td>\\n      <td>81</td>\\n      <td>0</td>\\n      <td>9.17</td>\\n    </tr>\\n    <tr>\\n      <th>445</th>\\n      <td>Muros</td>\\n      <td>ES</td>\\n      <td>3115824</td>\\n      <td>42.78</td>\\n      <td>-9.06</td>\\n      <td>66.99</td>\\n      <td>69</td>\\n      <td>99</td>\\n      <td>5.01</td>\\n    </tr>\\n    <tr>\\n      <th>446</th>\\n      <td>Okakarara</td>\\n      <td>NaN</td>\\n      <td>3354876</td>\\n      <td>-20.58</td>\\n      <td>17.43</td>\\n      <td>57.45</td>\\n      <td>36</td>\\n      <td>0</td>\\n      <td>7.05</td>\\n    </tr>\\n    <tr>\\n      <th>447</th>\\n      <td>Nushki</td>\\n      <td>PK</td>\\n      <td>1168749</td>\\n      <td>29.55</td>\\n      <td>66.02</td>\\n      <td>82.36</td>\\n      <td>14</td>\\n      <td>0</td>\\n      <td>2.08</td>\\n    </tr>\\n    <tr>\\n      <th>448</th>\\n      <td>Touros</td>\\n      <td>BR</td>\\n      <td>3386213</td>\\n      <td>-5.20</td>\\n      <td>-35.46</td>\\n      <td>82.40</td>\\n      <td>78</td>\\n      <td>75</td>\\n      <td>13.87</td>\\n    </tr>\\n    <tr>\\n      <th>449</th>\\n      <td>Santiago del Estero</td>\\n      <td>AR</td>\\n      <td>3835869</td>\\n      <td>-27.80</td>\\n      <td>-64.26</td>\\n      <td>72.64</td>\\n      <td>31</td>\\n      <td>0</td>\\n      <td>8.52</td>\\n    </tr>\\n    <tr>\\n      <th>450</th>\\n      <td>Christchurch</td>\\n      <td>NZ</td>\\n      <td>2192362</td>\\n      <td>-43.53</td>\\n      <td>172.63</td>\\n      <td>33.01</td>\\n      <td>92</td>\\n      <td>0</td>\\n      <td>4.43</td>\\n    </tr>\\n    <tr>\\n      <th>451</th>\\n      <td>Amalāpuram</td>\\n      <td>IN</td>\\n      <td>1278935</td>\\n      <td>16.58</td>\\n      <td>82.02</td>\\n      <td>86.92</td>\\n      <td>71</td>\\n      <td>100</td>\\n      <td>8.39</td>\\n    </tr>\\n    <tr>\\n      <th>452</th>\\n      <td>Lere</td>\\n      <td>NG</td>\\n      <td>2332079</td>\\n      <td>10.39</td>\\n      <td>8.57</td>\\n      <td>75.25</td>\\n      <td>77</td>\\n      <td>99</td>\\n      <td>7.58</td>\\n    </tr>\\n    <tr>\\n      <th>453</th>\\n      <td>Berlevåg</td>\\n      <td>NO</td>\\n      <td>780687</td>\\n      <td>70.86</td>\\n      <td>29.09</td>\\n      <td>52.30</td>\\n      <td>78</td>\\n      <td>42</td>\\n      <td>15.97</td>\\n    </tr>\\n    <tr>\\n      <th>454</th>\\n      <td>São Caetano de Odivelas</td>\\n      <td>BR</td>\\n      <td>3388926</td>\\n      <td>-0.75</td>\\n      <td>-48.02</td>\\n      <td>81.10</td>\\n      <td>89</td>\\n      <td>100</td>\\n      <td>4.85</td>\\n    </tr>\\n    <tr>\\n      <th>455</th>\\n      <td>Caborca</td>\\n      <td>MX</td>\\n      <td>3996893</td>\\n      <td>30.58</td>\\n      <td>-111.10</td>\\n      <td>87.01</td>\\n      <td>31</td>\\n      <td>0</td>\\n      <td>1.99</td>\\n    </tr>\\n    <tr>\\n      <th>456</th>\\n      <td>Oodweyne</td>\\n      <td>SO</td>\\n      <td>53372</td>\\n      <td>9.41</td>\\n      <td>45.06</td>\\n      <td>77.99</td>\\n      <td>62</td>\\n      <td>0</td>\\n      <td>9.35</td>\\n    </tr>\\n    <tr>\\n      <th>457</th>\\n      <td>Azul</td>\\n      <td>AR</td>\\n      <td>3436199</td>\\n      <td>-36.78</td>\\n      <td>-59.86</td>\\n      <td>62.01</td>\\n      <td>79</td>\\n      <td>37</td>\\n      <td>3.00</td>\\n    </tr>\\n    <tr>\\n      <th>458</th>\\n      <td>Beira</td>\\n      <td>MZ</td>\\n      <td>1052373</td>\\n      <td>-19.84</td>\\n      <td>34.84</td>\\n      <td>73.40</td>\\n      <td>69</td>\\n      <td>20</td>\\n      <td>10.29</td>\\n    </tr>\\n    <tr>\\n      <th>459</th>\\n      <td>Margate</td>\\n      <td>GB</td>\\n      <td>2643044</td>\\n      <td>51.38</td>\\n      <td>1.39</td>\\n      <td>51.01</td>\\n      <td>90</td>\\n      <td>90</td>\\n      <td>1.99</td>\\n    </tr>\\n    <tr>\\n      <th>460</th>\\n      <td>Severnyy</td>\\n      <td>RU</td>\\n      <td>496358</td>\\n      <td>50.68</td>\\n      <td>36.55</td>\\n      <td>71.60</td>\\n      <td>56</td>\\n      <td>100</td>\\n      <td>4.47</td>\\n    </tr>\\n    <tr>\\n      <th>461</th>\\n      <td>Ostrovnoy</td>\\n      <td>RU</td>\\n      <td>556268</td>\\n      <td>68.05</td>\\n      <td>39.51</td>\\n      <td>60.04</td>\\n      <td>64</td>\\n      <td>0</td>\\n      <td>9.15</td>\\n    </tr>\\n    <tr>\\n      <th>462</th>\\n      <td>Manjacaze</td>\\n      <td>MZ</td>\\n      <td>1040938</td>\\n      <td>-24.71</td>\\n      <td>33.88</td>\\n      <td>62.08</td>\\n      <td>90</td>\\n      <td>0</td>\\n      <td>4.03</td>\\n    </tr>\\n    <tr>\\n      <th>463</th>\\n      <td>San Vicente</td>\\n      <td>AR</td>\\n      <td>3428068</td>\\n      <td>-26.62</td>\\n      <td>-54.13</td>\\n      <td>57.25</td>\\n      <td>75</td>\\n      <td>100</td>\\n      <td>4.25</td>\\n    </tr>\\n    <tr>\\n      <th>464</th>\\n      <td>Montes Claros</td>\\n      <td>BR</td>\\n      <td>3456814</td>\\n      <td>-16.73</td>\\n      <td>-43.86</td>\\n      <td>78.76</td>\\n      <td>46</td>\\n      <td>0</td>\\n      <td>5.28</td>\\n    </tr>\\n    <tr>\\n      <th>465</th>\\n      <td>Bousso</td>\\n      <td>TD</td>\\n      <td>2434584</td>\\n      <td>10.48</td>\\n      <td>16.71</td>\\n      <td>94.08</td>\\n      <td>34</td>\\n      <td>80</td>\\n      <td>4.45</td>\\n    </tr>\\n    <tr>\\n      <th>466</th>\\n      <td>Port Hardy</td>\\n      <td>CA</td>\\n      <td>6111862</td>\\n      <td>50.70</td>\\n      <td>-127.42</td>\\n      <td>53.60</td>\\n      <td>81</td>\\n      <td>75</td>\\n      <td>5.82</td>\\n    </tr>\\n    <tr>\\n      <th>467</th>\\n      <td>Jining</td>\\n      <td>CN</td>\\n      <td>1805518</td>\\n      <td>35.41</td>\\n      <td>116.58</td>\\n      <td>78.26</td>\\n      <td>45</td>\\n      <td>100</td>\\n      <td>7.20</td>\\n    </tr>\\n    <tr>\\n      <th>468</th>\\n      <td>Solton</td>\\n      <td>RU</td>\\n      <td>1491428</td>\\n      <td>52.84</td>\\n      <td>86.48</td>\\n      <td>43.29</td>\\n      <td>93</td>\\n      <td>0</td>\\n      <td>3.91</td>\\n    </tr>\\n    <tr>\\n      <th>469</th>\\n      <td>Le Port</td>\\n      <td>RE</td>\\n      <td>935616</td>\\n      <td>-20.94</td>\\n      <td>55.29</td>\\n      <td>68.00</td>\\n      <td>88</td>\\n      <td>18</td>\\n      <td>6.93</td>\\n    </tr>\\n    <tr>\\n      <th>470</th>\\n      <td>Ozernovskiy</td>\\n      <td>RU</td>\\n      <td>2122293</td>\\n      <td>51.50</td>\\n      <td>156.52</td>\\n      <td>46.00</td>\\n      <td>84</td>\\n      <td>100</td>\\n      <td>8.23</td>\\n    </tr>\\n    <tr>\\n      <th>471</th>\\n      <td>Balabac</td>\\n      <td>PH</td>\\n      <td>1728675</td>\\n      <td>7.99</td>\\n      <td>117.06</td>\\n      <td>81.86</td>\\n      <td>77</td>\\n      <td>86</td>\\n      <td>3.31</td>\\n    </tr>\\n    <tr>\\n      <th>472</th>\\n      <td>Kismayo</td>\\n      <td>SO</td>\\n      <td>55671</td>\\n      <td>-0.36</td>\\n      <td>42.55</td>\\n      <td>80.55</td>\\n      <td>83</td>\\n      <td>100</td>\\n      <td>17.25</td>\\n    </tr>\\n    <tr>\\n      <th>473</th>\\n      <td>San Ramon</td>\\n      <td>US</td>\\n      <td>5392593</td>\\n      <td>37.78</td>\\n      <td>-121.98</td>\\n      <td>69.01</td>\\n      <td>52</td>\\n      <td>1</td>\\n      <td>16.11</td>\\n    </tr>\\n    <tr>\\n      <th>474</th>\\n      <td>Roswell</td>\\n      <td>US</td>\\n      <td>4219934</td>\\n      <td>34.02</td>\\n      <td>-84.36</td>\\n      <td>87.01</td>\\n      <td>58</td>\\n      <td>75</td>\\n      <td>3.36</td>\\n    </tr>\\n    <tr>\\n      <th>475</th>\\n      <td>Alofi</td>\\n      <td>NU</td>\\n      <td>4036284</td>\\n      <td>-19.06</td>\\n      <td>-169.92</td>\\n      <td>64.40</td>\\n      <td>100</td>\\n      <td>75</td>\\n      <td>1.12</td>\\n    </tr>\\n    <tr>\\n      <th>476</th>\\n      <td>North Myrtle Beach</td>\\n      <td>US</td>\\n      <td>4589446</td>\\n      <td>33.82</td>\\n      <td>-78.68</td>\\n      <td>89.01</td>\\n      <td>62</td>\\n      <td>20</td>\\n      <td>12.75</td>\\n    </tr>\\n    <tr>\\n      <th>477</th>\\n      <td>Anadyr</td>\\n      <td>RU</td>\\n      <td>2127202</td>\\n      <td>64.75</td>\\n      <td>177.48</td>\\n      <td>51.80</td>\\n      <td>62</td>\\n      <td>0</td>\\n      <td>2.24</td>\\n    </tr>\\n    <tr>\\n      <th>478</th>\\n      <td>São João da Barra</td>\\n      <td>BR</td>\\n      <td>3448903</td>\\n      <td>-21.64</td>\\n      <td>-41.05</td>\\n      <td>80.60</td>\\n      <td>61</td>\\n      <td>100</td>\\n      <td>16.11</td>\\n    </tr>\\n    <tr>\\n      <th>479</th>\\n      <td>Ilhabela</td>\\n      <td>BR</td>\\n      <td>3461425</td>\\n      <td>-23.78</td>\\n      <td>-45.36</td>\\n      <td>75.70</td>\\n      <td>77</td>\\n      <td>99</td>\\n      <td>5.75</td>\\n    </tr>\\n    <tr>\\n      <th>480</th>\\n      <td>Show Low</td>\\n      <td>US</td>\\n      <td>5314245</td>\\n      <td>34.25</td>\\n      <td>-110.03</td>\\n      <td>73.40</td>\\n      <td>12</td>\\n      <td>1</td>\\n      <td>23.04</td>\\n    </tr>\\n    <tr>\\n      <th>481</th>\\n      <td>Zabul Province</td>\\n      <td>AF</td>\\n      <td>1121143</td>\\n      <td>32.25</td>\\n      <td>67.25</td>\\n      <td>74.91</td>\\n      <td>18</td>\\n      <td>0</td>\\n      <td>17.45</td>\\n    </tr>\\n    <tr>\\n      <th>482</th>\\n      <td>Diriamba</td>\\n      <td>NI</td>\\n      <td>3620170</td>\\n      <td>11.86</td>\\n      <td>-86.24</td>\\n      <td>80.71</td>\\n      <td>78</td>\\n      <td>64</td>\\n      <td>6.26</td>\\n    </tr>\\n    <tr>\\n      <th>483</th>\\n      <td>St. Pete Beach</td>\\n      <td>US</td>\\n      <td>4171522</td>\\n      <td>27.73</td>\\n      <td>-82.74</td>\\n      <td>81.00</td>\\n      <td>94</td>\\n      <td>75</td>\\n      <td>11.41</td>\\n    </tr>\\n    <tr>\\n      <th>484</th>\\n      <td>Jiwani</td>\\n      <td>PK</td>\\n      <td>1175712</td>\\n      <td>25.05</td>\\n      <td>61.74</td>\\n      <td>83.84</td>\\n      <td>87</td>\\n      <td>0</td>\\n      <td>4.88</td>\\n    </tr>\\n    <tr>\\n      <th>485</th>\\n      <td>Phek</td>\\n      <td>IN</td>\\n      <td>1259784</td>\\n      <td>25.67</td>\\n      <td>94.50</td>\\n      <td>59.41</td>\\n      <td>100</td>\\n      <td>66</td>\\n      <td>1.57</td>\\n    </tr>\\n    <tr>\\n      <th>486</th>\\n      <td>Trelew</td>\\n      <td>AR</td>\\n      <td>3833883</td>\\n      <td>-43.25</td>\\n      <td>-65.31</td>\\n      <td>68.81</td>\\n      <td>23</td>\\n      <td>100</td>\\n      <td>28.16</td>\\n    </tr>\\n    <tr>\\n      <th>487</th>\\n      <td>Dharmanagar</td>\\n      <td>IN</td>\\n      <td>1272852</td>\\n      <td>24.37</td>\\n      <td>92.17</td>\\n      <td>76.10</td>\\n      <td>96</td>\\n      <td>100</td>\\n      <td>2.26</td>\\n    </tr>\\n    <tr>\\n      <th>488</th>\\n      <td>Riverton</td>\\n      <td>US</td>\\n      <td>5780557</td>\\n      <td>40.52</td>\\n      <td>-111.94</td>\\n      <td>73.00</td>\\n      <td>33</td>\\n      <td>40</td>\\n      <td>17.22</td>\\n    </tr>\\n    <tr>\\n      <th>489</th>\\n      <td>Putina</td>\\n      <td>PE</td>\\n      <td>3931137</td>\\n      <td>-15.47</td>\\n      <td>-69.43</td>\\n      <td>49.24</td>\\n      <td>54</td>\\n      <td>15</td>\\n      <td>4.07</td>\\n    </tr>\\n    <tr>\\n      <th>490</th>\\n      <td>Bat Khela</td>\\n      <td>PK</td>\\n      <td>1183090</td>\\n      <td>34.62</td>\\n      <td>71.97</td>\\n      <td>78.58</td>\\n      <td>55</td>\\n      <td>0</td>\\n      <td>2.35</td>\\n    </tr>\\n    <tr>\\n      <th>491</th>\\n      <td>Kupang</td>\\n      <td>ID</td>\\n      <td>2057087</td>\\n      <td>-10.17</td>\\n      <td>123.58</td>\\n      <td>73.76</td>\\n      <td>77</td>\\n      <td>1</td>\\n      <td>10.69</td>\\n    </tr>\\n    <tr>\\n      <th>492</th>\\n      <td>Mt. Pleasant</td>\\n      <td>US</td>\\n      <td>4588165</td>\\n      <td>32.79</td>\\n      <td>-79.86</td>\\n      <td>87.80</td>\\n      <td>66</td>\\n      <td>75</td>\\n      <td>12.75</td>\\n    </tr>\\n    <tr>\\n      <th>493</th>\\n      <td>Vao</td>\\n      <td>NC</td>\\n      <td>2137773</td>\\n      <td>-22.67</td>\\n      <td>167.48</td>\\n      <td>69.22</td>\\n      <td>66</td>\\n      <td>100</td>\\n      <td>16.15</td>\\n    </tr>\\n    <tr>\\n      <th>494</th>\\n      <td>Alice Springs</td>\\n      <td>AU</td>\\n      <td>2077895</td>\\n      <td>-23.70</td>\\n      <td>133.88</td>\\n      <td>41.00</td>\\n      <td>70</td>\\n      <td>0</td>\\n      <td>3.36</td>\\n    </tr>\\n    <tr>\\n      <th>495</th>\\n      <td>Usinsk</td>\\n      <td>RU</td>\\n      <td>863061</td>\\n      <td>65.99</td>\\n      <td>57.53</td>\\n      <td>61.27</td>\\n      <td>83</td>\\n      <td>94</td>\\n      <td>9.75</td>\\n    </tr>\\n    <tr>\\n      <th>496</th>\\n      <td>Mergen</td>\\n      <td>CN</td>\\n      <td>2035601</td>\\n      <td>49.18</td>\\n      <td>125.22</td>\\n      <td>53.64</td>\\n      <td>95</td>\\n      <td>40</td>\\n      <td>3.74</td>\\n    </tr>\\n    <tr>\\n      <th>497</th>\\n      <td>Ranot</td>\\n      <td>TH</td>\\n      <td>1607068</td>\\n      <td>7.78</td>\\n      <td>100.32</td>\\n      <td>81.79</td>\\n      <td>80</td>\\n      <td>100</td>\\n      <td>10.92</td>\\n    </tr>\\n    <tr>\\n      <th>498</th>\\n      <td>Umluj</td>\\n      <td>SA</td>\\n      <td>100926</td>\\n      <td>25.02</td>\\n      <td>37.27</td>\\n      <td>87.94</td>\\n      <td>40</td>\\n      <td>0</td>\\n      <td>4.61</td>\\n    </tr>\\n    <tr>\\n      <th>499</th>\\n      <td>Ardakān</td>\\n      <td>IR</td>\\n      <td>143073</td>\\n      <td>32.31</td>\\n      <td>54.02</td>\\n      <td>93.20</td>\\n      <td>13</td>\\n      <td>20</td>\\n      <td>13.87</td>\\n    </tr>\\n    <tr>\\n      <th>500</th>\\n      <td>Capaccio Paestum</td>\\n      <td>IT</td>\\n      <td>6538810</td>\\n      <td>40.42</td>\\n      <td>15.08</td>\\n      <td>66.99</td>\\n      <td>85</td>\\n      <td>1</td>\\n      <td>5.99</td>\\n    </tr>\\n    <tr>\\n      <th>501</th>\\n      <td>Tashara</td>\\n      <td>RU</td>\\n      <td>1490054</td>\\n      <td>55.52</td>\\n      <td>83.51</td>\\n      <td>49.23</td>\\n      <td>95</td>\\n      <td>8</td>\\n      <td>5.37</td>\\n    </tr>\\n    <tr>\\n      <th>502</th>\\n      <td>Ekibastuz</td>\\n      <td>KZ</td>\\n      <td>1524325</td>\\n      <td>51.67</td>\\n      <td>75.37</td>\\n      <td>60.89</td>\\n      <td>58</td>\\n      <td>0</td>\\n      <td>5.93</td>\\n    </tr>\\n    <tr>\\n      <th>503</th>\\n      <td>Mongar</td>\\n      <td>BT</td>\\n      <td>1252514</td>\\n      <td>27.27</td>\\n      <td>91.24</td>\\n      <td>59.34</td>\\n      <td>94</td>\\n      <td>65</td>\\n      <td>2.35</td>\\n    </tr>\\n    <tr>\\n      <th>504</th>\\n      <td>Naze</td>\\n      <td>JP</td>\\n      <td>1855540</td>\\n      <td>28.37</td>\\n      <td>129.48</td>\\n      <td>75.20</td>\\n      <td>100</td>\\n      <td>75</td>\\n      <td>8.05</td>\\n    </tr>\\n    <tr>\\n      <th>505</th>\\n      <td>Aswān</td>\\n      <td>EG</td>\\n      <td>359792</td>\\n      <td>24.09</td>\\n      <td>32.91</td>\\n      <td>88.61</td>\\n      <td>11</td>\\n      <td>0</td>\\n      <td>8.05</td>\\n    </tr>\\n    <tr>\\n      <th>506</th>\\n      <td>Snyder</td>\\n      <td>US</td>\\n      <td>5530921</td>\\n      <td>32.72</td>\\n      <td>-100.92</td>\\n      <td>89.60</td>\\n      <td>38</td>\\n      <td>1</td>\\n      <td>10.29</td>\\n    </tr>\\n    <tr>\\n      <th>507</th>\\n      <td>Florence</td>\\n      <td>IT</td>\\n      <td>3176959</td>\\n      <td>43.77</td>\\n      <td>11.25</td>\\n      <td>69.80</td>\\n      <td>64</td>\\n      <td>40</td>\\n      <td>10.29</td>\\n    </tr>\\n    <tr>\\n      <th>508</th>\\n      <td>Luena</td>\\n      <td>AO</td>\\n      <td>3347719</td>\\n      <td>-11.78</td>\\n      <td>19.92</td>\\n      <td>58.33</td>\\n      <td>47</td>\\n      <td>0</td>\\n      <td>3.42</td>\\n    </tr>\\n    <tr>\\n      <th>509</th>\\n      <td>Praia</td>\\n      <td>CV</td>\\n      <td>3374333</td>\\n      <td>14.92</td>\\n      <td>-23.51</td>\\n      <td>82.40</td>\\n      <td>51</td>\\n      <td>7</td>\\n      <td>20.80</td>\\n    </tr>\\n    <tr>\\n      <th>510</th>\\n      <td>Ürümqi</td>\\n      <td>CN</td>\\n      <td>1529102</td>\\n      <td>43.80</td>\\n      <td>87.60</td>\\n      <td>60.80</td>\\n      <td>44</td>\\n      <td>0</td>\\n      <td>4.47</td>\\n    </tr>\\n    <tr>\\n      <th>511</th>\\n      <td>Madang</td>\\n      <td>PG</td>\\n      <td>2091996</td>\\n      <td>-5.22</td>\\n      <td>145.80</td>\\n      <td>76.86</td>\\n      <td>87</td>\\n      <td>99</td>\\n      <td>4.99</td>\\n    </tr>\\n    <tr>\\n      <th>512</th>\\n      <td>Pinega</td>\\n      <td>RU</td>\\n      <td>509483</td>\\n      <td>64.70</td>\\n      <td>43.39</td>\\n      <td>59.07</td>\\n      <td>87</td>\\n      <td>0</td>\\n      <td>6.62</td>\\n    </tr>\\n    <tr>\\n      <th>513</th>\\n      <td>Mudgee</td>\\n      <td>AU</td>\\n      <td>2156404</td>\\n      <td>-32.59</td>\\n      <td>149.59</td>\\n      <td>28.40</td>\\n      <td>100</td>\\n      <td>13</td>\\n      <td>3.02</td>\\n    </tr>\\n    <tr>\\n      <th>514</th>\\n      <td>Bonthe</td>\\n      <td>SL</td>\\n      <td>2409914</td>\\n      <td>7.53</td>\\n      <td>-12.51</td>\\n      <td>81.01</td>\\n      <td>81</td>\\n      <td>100</td>\\n      <td>8.93</td>\\n    </tr>\\n    <tr>\\n      <th>515</th>\\n      <td>Verāval</td>\\n      <td>IN</td>\\n      <td>1253237</td>\\n      <td>20.90</td>\\n      <td>70.37</td>\\n      <td>85.17</td>\\n      <td>80</td>\\n      <td>0</td>\\n      <td>11.59</td>\\n    </tr>\\n    <tr>\\n      <th>516</th>\\n      <td>Qeshm</td>\\n      <td>IR</td>\\n      <td>119374</td>\\n      <td>26.96</td>\\n      <td>56.27</td>\\n      <td>89.60</td>\\n      <td>79</td>\\n      <td>0</td>\\n      <td>9.17</td>\\n    </tr>\\n    <tr>\\n      <th>517</th>\\n      <td>Lompoc</td>\\n      <td>US</td>\\n      <td>5367788</td>\\n      <td>34.64</td>\\n      <td>-120.46</td>\\n      <td>68.00</td>\\n      <td>56</td>\\n      <td>44</td>\\n      <td>17.22</td>\\n    </tr>\\n    <tr>\\n      <th>518</th>\\n      <td>Souillac</td>\\n      <td>MU</td>\\n      <td>933995</td>\\n      <td>-20.52</td>\\n      <td>57.52</td>\\n      <td>71.60</td>\\n      <td>78</td>\\n      <td>40</td>\\n      <td>14.99</td>\\n    </tr>\\n    <tr>\\n      <th>519</th>\\n      <td>Hilton Head</td>\\n      <td>US</td>\\n      <td>4581833</td>\\n      <td>32.22</td>\\n      <td>-80.75</td>\\n      <td>86.00</td>\\n      <td>66</td>\\n      <td>40</td>\\n      <td>6.93</td>\\n    </tr>\\n    <tr>\\n      <th>520</th>\\n      <td>Knittelfeld</td>\\n      <td>AT</td>\\n      <td>2773887</td>\\n      <td>47.22</td>\\n      <td>14.82</td>\\n      <td>68.00</td>\\n      <td>60</td>\\n      <td>100</td>\\n      <td>3.36</td>\\n    </tr>\\n    <tr>\\n      <th>521</th>\\n      <td>Dharangaon</td>\\n      <td>IN</td>\\n      <td>1272874</td>\\n      <td>21.02</td>\\n      <td>75.27</td>\\n      <td>86.16</td>\\n      <td>58</td>\\n      <td>0</td>\\n      <td>6.51</td>\\n    </tr>\\n    <tr>\\n      <th>522</th>\\n      <td>Plettenberg Bay</td>\\n      <td>ZA</td>\\n      <td>964712</td>\\n      <td>-34.05</td>\\n      <td>23.37</td>\\n      <td>60.21</td>\\n      <td>89</td>\\n      <td>27</td>\\n      <td>3.09</td>\\n    </tr>\\n    <tr>\\n      <th>523</th>\\n      <td>Atar</td>\\n      <td>MR</td>\\n      <td>2381334</td>\\n      <td>20.52</td>\\n      <td>-13.05</td>\\n      <td>102.20</td>\\n      <td>21</td>\\n      <td>100</td>\\n      <td>24.16</td>\\n    </tr>\\n    <tr>\\n      <th>524</th>\\n      <td>Tvøroyri</td>\\n      <td>FO</td>\\n      <td>2611060</td>\\n      <td>61.56</td>\\n      <td>-6.81</td>\\n      <td>42.80</td>\\n      <td>87</td>\\n      <td>100</td>\\n      <td>29.97</td>\\n    </tr>\\n    <tr>\\n      <th>525</th>\\n      <td>Morshansk</td>\\n      <td>RU</td>\\n      <td>525138</td>\\n      <td>53.44</td>\\n      <td>41.81</td>\\n      <td>61.23</td>\\n      <td>92</td>\\n      <td>97</td>\\n      <td>3.09</td>\\n    </tr>\\n    <tr>\\n      <th>526</th>\\n      <td>Krasnosel\\'kup</td>\\n      <td>RU</td>\\n      <td>1502073</td>\\n      <td>65.70</td>\\n      <td>82.47</td>\\n      <td>45.00</td>\\n      <td>59</td>\\n      <td>0</td>\\n      <td>12.50</td>\\n    </tr>\\n    <tr>\\n      <th>527</th>\\n      <td>Nantucket</td>\\n      <td>US</td>\\n      <td>4944903</td>\\n      <td>41.28</td>\\n      <td>-70.10</td>\\n      <td>62.60</td>\\n      <td>93</td>\\n      <td>90</td>\\n      <td>10.29</td>\\n    </tr>\\n    <tr>\\n      <th>528</th>\\n      <td>Laas</td>\\n      <td>IT</td>\\n      <td>3175096</td>\\n      <td>46.62</td>\\n      <td>10.70</td>\\n      <td>55.40</td>\\n      <td>82</td>\\n      <td>75</td>\\n      <td>4.70</td>\\n    </tr>\\n    <tr>\\n      <th>529</th>\\n      <td>Yellandu</td>\\n      <td>IN</td>\\n      <td>1252745</td>\\n      <td>17.60</td>\\n      <td>80.33</td>\\n      <td>87.31</td>\\n      <td>51</td>\\n      <td>0</td>\\n      <td>1.36</td>\\n    </tr>\\n    <tr>\\n      <th>530</th>\\n      <td>Evensk</td>\\n      <td>RU</td>\\n      <td>2125693</td>\\n      <td>61.95</td>\\n      <td>159.23</td>\\n      <td>54.43</td>\\n      <td>45</td>\\n      <td>0</td>\\n      <td>2.35</td>\\n    </tr>\\n    <tr>\\n      <th>531</th>\\n      <td>Saddiqabad</td>\\n      <td>PK</td>\\n      <td>1166652</td>\\n      <td>28.31</td>\\n      <td>70.13</td>\\n      <td>100.54</td>\\n      <td>24</td>\\n      <td>0</td>\\n      <td>10.98</td>\\n    </tr>\\n    <tr>\\n      <th>532</th>\\n      <td>Imbituba</td>\\n      <td>BR</td>\\n      <td>3461370</td>\\n      <td>-28.24</td>\\n      <td>-48.67</td>\\n      <td>75.20</td>\\n      <td>69</td>\\n      <td>66</td>\\n      <td>13.87</td>\\n    </tr>\\n    <tr>\\n      <th>533</th>\\n      <td>Saint Simons</td>\\n      <td>US</td>\\n      <td>4220862</td>\\n      <td>31.14</td>\\n      <td>-81.39</td>\\n      <td>82.40</td>\\n      <td>78</td>\\n      <td>40</td>\\n      <td>6.93</td>\\n    </tr>\\n    <tr>\\n      <th>534</th>\\n      <td>Malbork</td>\\n      <td>PL</td>\\n      <td>3092472</td>\\n      <td>54.04</td>\\n      <td>19.03</td>\\n      <td>62.01</td>\\n      <td>51</td>\\n      <td>58</td>\\n      <td>6.93</td>\\n    </tr>\\n    <tr>\\n      <th>535</th>\\n      <td>Tiznit Province</td>\\n      <td>MA</td>\\n      <td>2527087</td>\\n      <td>29.58</td>\\n      <td>-9.50</td>\\n      <td>74.37</td>\\n      <td>52</td>\\n      <td>0</td>\\n      <td>8.21</td>\\n    </tr>\\n    <tr>\\n      <th>536</th>\\n      <td>Irecê</td>\\n      <td>BR</td>\\n      <td>3461013</td>\\n      <td>-11.30</td>\\n      <td>-41.86</td>\\n      <td>76.55</td>\\n      <td>58</td>\\n      <td>97</td>\\n      <td>11.36</td>\\n    </tr>\\n    <tr>\\n      <th>537</th>\\n      <td>Ponta Delgada</td>\\n      <td>PT</td>\\n      <td>3372783</td>\\n      <td>37.73</td>\\n      <td>-25.67</td>\\n      <td>66.20</td>\\n      <td>63</td>\\n      <td>20</td>\\n      <td>11.41</td>\\n    </tr>\\n    <tr>\\n      <th>538</th>\\n      <td>Dingle</td>\\n      <td>PH</td>\\n      <td>1714733</td>\\n      <td>11.00</td>\\n      <td>122.67</td>\\n      <td>78.84</td>\\n      <td>73</td>\\n      <td>100</td>\\n      <td>3.24</td>\\n    </tr>\\n    <tr>\\n      <th>539</th>\\n      <td>Pimentel</td>\\n      <td>PE</td>\\n      <td>3693584</td>\\n      <td>-6.84</td>\\n      <td>-79.93</td>\\n      <td>75.20</td>\\n      <td>60</td>\\n      <td>6</td>\\n      <td>13.87</td>\\n    </tr>\\n    <tr>\\n      <th>540</th>\\n      <td>Kommunisticheskiy</td>\\n      <td>RU</td>\\n      <td>1502750</td>\\n      <td>61.68</td>\\n      <td>64.48</td>\\n      <td>63.82</td>\\n      <td>70</td>\\n      <td>15</td>\\n      <td>6.93</td>\\n    </tr>\\n    <tr>\\n      <th>541</th>\\n      <td>Manggar</td>\\n      <td>ID</td>\\n      <td>1636426</td>\\n      <td>-2.88</td>\\n      <td>108.27</td>\\n      <td>81.01</td>\\n      <td>83</td>\\n      <td>100</td>\\n      <td>8.75</td>\\n    </tr>\\n    <tr>\\n      <th>542</th>\\n      <td>Kovūr</td>\\n      <td>IN</td>\\n      <td>1265888</td>\\n      <td>14.48</td>\\n      <td>79.98</td>\\n      <td>88.36</td>\\n      <td>58</td>\\n      <td>87</td>\\n      <td>17.13</td>\\n    </tr>\\n    <tr>\\n      <th>543</th>\\n      <td>Vaitape</td>\\n      <td>PF</td>\\n      <td>4033077</td>\\n      <td>-16.52</td>\\n      <td>-151.75</td>\\n      <td>77.13</td>\\n      <td>49</td>\\n      <td>0</td>\\n      <td>2.30</td>\\n    </tr>\\n    <tr>\\n      <th>544</th>\\n      <td>Witu</td>\\n      <td>KE</td>\\n      <td>178093</td>\\n      <td>-2.39</td>\\n      <td>40.44</td>\\n      <td>79.70</td>\\n      <td>79</td>\\n      <td>100</td>\\n      <td>16.15</td>\\n    </tr>\\n    <tr>\\n      <th>545</th>\\n      <td>Karasjok</td>\\n      <td>NO</td>\\n      <td>779350</td>\\n      <td>69.47</td>\\n      <td>25.51</td>\\n      <td>55.40</td>\\n      <td>82</td>\\n      <td>97</td>\\n      <td>19.46</td>\\n    </tr>\\n    <tr>\\n      <th>546</th>\\n      <td>Diamantino</td>\\n      <td>BR</td>\\n      <td>3464724</td>\\n      <td>-14.41</td>\\n      <td>-56.45</td>\\n      <td>88.34</td>\\n      <td>50</td>\\n      <td>83</td>\\n      <td>3.69</td>\\n    </tr>\\n    <tr>\\n      <th>547</th>\\n      <td>Kavaratti</td>\\n      <td>IN</td>\\n      <td>1267390</td>\\n      <td>10.57</td>\\n      <td>72.64</td>\\n      <td>82.71</td>\\n      <td>75</td>\\n      <td>100</td>\\n      <td>9.82</td>\\n    </tr>\\n    <tr>\\n      <th>548</th>\\n      <td>Kumul</td>\\n      <td>CN</td>\\n      <td>1529484</td>\\n      <td>42.80</td>\\n      <td>93.45</td>\\n      <td>63.84</td>\\n      <td>27</td>\\n      <td>100</td>\\n      <td>13.47</td>\\n    </tr>\\n    <tr>\\n      <th>549</th>\\n      <td>Vestmanna</td>\\n      <td>FO</td>\\n      <td>2610343</td>\\n      <td>62.16</td>\\n      <td>-7.17</td>\\n      <td>42.80</td>\\n      <td>87</td>\\n      <td>100</td>\\n      <td>29.97</td>\\n    </tr>\\n    <tr>\\n      <th>550</th>\\n      <td>Talnakh</td>\\n      <td>RU</td>\\n      <td>1490256</td>\\n      <td>69.49</td>\\n      <td>88.40</td>\\n      <td>33.80</td>\\n      <td>69</td>\\n      <td>75</td>\\n      <td>24.61</td>\\n    </tr>\\n    <tr>\\n      <th>551</th>\\n      <td>Linxia Chengguanzhen</td>\\n      <td>CN</td>\\n      <td>1803331</td>\\n      <td>35.60</td>\\n      <td>103.21</td>\\n      <td>56.66</td>\\n      <td>70</td>\\n      <td>100</td>\\n      <td>2.26</td>\\n    </tr>\\n    <tr>\\n      <th>552</th>\\n      <td>Yerofey Pavlovich</td>\\n      <td>RU</td>\\n      <td>2012938</td>\\n      <td>53.97</td>\\n      <td>121.97</td>\\n      <td>48.47</td>\\n      <td>78</td>\\n      <td>99</td>\\n      <td>3.31</td>\\n    </tr>\\n    <tr>\\n      <th>553</th>\\n      <td>Oparino</td>\\n      <td>RU</td>\\n      <td>515175</td>\\n      <td>59.85</td>\\n      <td>48.28</td>\\n      <td>54.48</td>\\n      <td>96</td>\\n      <td>66</td>\\n      <td>5.99</td>\\n    </tr>\\n    <tr>\\n      <th>554</th>\\n      <td>Ayagoz</td>\\n      <td>KZ</td>\\n      <td>1525988</td>\\n      <td>47.97</td>\\n      <td>80.44</td>\\n      <td>46.98</td>\\n      <td>77</td>\\n      <td>0</td>\\n      <td>4.79</td>\\n    </tr>\\n    <tr>\\n      <th>555</th>\\n      <td>Tagusao</td>\\n      <td>PH</td>\\n      <td>1684245</td>\\n      <td>9.19</td>\\n      <td>117.81</td>\\n      <td>80.94</td>\\n      <td>77</td>\\n      <td>93</td>\\n      <td>3.20</td>\\n    </tr>\\n    <tr>\\n      <th>556</th>\\n      <td>Half Moon Bay</td>\\n      <td>US</td>\\n      <td>5354943</td>\\n      <td>37.46</td>\\n      <td>-122.43</td>\\n      <td>69.01</td>\\n      <td>77</td>\\n      <td>90</td>\\n      <td>10.29</td>\\n    </tr>\\n    <tr>\\n      <th>557</th>\\n      <td>Hīt</td>\\n      <td>IQ</td>\\n      <td>95788</td>\\n      <td>33.64</td>\\n      <td>42.83</td>\\n      <td>90.86</td>\\n      <td>14</td>\\n      <td>0</td>\\n      <td>7.65</td>\\n    </tr>\\n    <tr>\\n      <th>558</th>\\n      <td>Masumbwe</td>\\n      <td>TZ</td>\\n      <td>154654</td>\\n      <td>-3.63</td>\\n      <td>32.18</td>\\n      <td>70.14</td>\\n      <td>53</td>\\n      <td>21</td>\\n      <td>2.75</td>\\n    </tr>\\n    <tr>\\n      <th>559</th>\\n      <td>Powell River</td>\\n      <td>CA</td>\\n      <td>6112608</td>\\n      <td>49.85</td>\\n      <td>-124.54</td>\\n      <td>60.80</td>\\n      <td>62</td>\\n      <td>75</td>\\n      <td>6.93</td>\\n    </tr>\\n    <tr>\\n      <th>560</th>\\n      <td>Guarapari</td>\\n      <td>BR</td>\\n      <td>3461888</td>\\n      <td>-20.67</td>\\n      <td>-40.50</td>\\n      <td>79.00</td>\\n      <td>65</td>\\n      <td>0</td>\\n      <td>10.25</td>\\n    </tr>\\n    <tr>\\n      <th>561</th>\\n      <td>Burnie</td>\\n      <td>AU</td>\\n      <td>2173125</td>\\n      <td>-41.07</td>\\n      <td>145.92</td>\\n      <td>44.01</td>\\n      <td>79</td>\\n      <td>7</td>\\n      <td>8.01</td>\\n    </tr>\\n    <tr>\\n      <th>562</th>\\n      <td>Anloga</td>\\n      <td>GH</td>\\n      <td>2304548</td>\\n      <td>5.79</td>\\n      <td>0.90</td>\\n      <td>82.40</td>\\n      <td>83</td>\\n      <td>40</td>\\n      <td>13.87</td>\\n    </tr>\\n    <tr>\\n      <th>563</th>\\n      <td>Weinan</td>\\n      <td>CN</td>\\n      <td>1791636</td>\\n      <td>34.50</td>\\n      <td>109.51</td>\\n      <td>84.00</td>\\n      <td>44</td>\\n      <td>100</td>\\n      <td>4.47</td>\\n    </tr>\\n    <tr>\\n      <th>564</th>\\n      <td>Manzhouli</td>\\n      <td>CN</td>\\n      <td>2035836</td>\\n      <td>49.60</td>\\n      <td>117.43</td>\\n      <td>56.95</td>\\n      <td>81</td>\\n      <td>100</td>\\n      <td>10.76</td>\\n    </tr>\\n    <tr>\\n      <th>565</th>\\n      <td>Preobrazheniye</td>\\n      <td>RU</td>\\n      <td>2017658</td>\\n      <td>42.90</td>\\n      <td>133.91</td>\\n      <td>51.82</td>\\n      <td>88</td>\\n      <td>28</td>\\n      <td>3.33</td>\\n    </tr>\\n    <tr>\\n      <th>566</th>\\n      <td>Kaili</td>\\n      <td>ID</td>\\n      <td>1638368</td>\\n      <td>-3.46</td>\\n      <td>120.21</td>\\n      <td>68.41</td>\\n      <td>96</td>\\n      <td>100</td>\\n      <td>1.48</td>\\n    </tr>\\n    <tr>\\n      <th>567</th>\\n      <td>Mathathane</td>\\n      <td>BW</td>\\n      <td>933383</td>\\n      <td>-22.27</td>\\n      <td>28.75</td>\\n      <td>58.15</td>\\n      <td>73</td>\\n      <td>0</td>\\n      <td>7.85</td>\\n    </tr>\\n    <tr>\\n      <th>568</th>\\n      <td>Naryan-Mar</td>\\n      <td>RU</td>\\n      <td>523392</td>\\n      <td>67.67</td>\\n      <td>53.09</td>\\n      <td>66.13</td>\\n      <td>63</td>\\n      <td>100</td>\\n      <td>10.27</td>\\n    </tr>\\n    <tr>\\n      <th>569</th>\\n      <td>Beyneu</td>\\n      <td>KZ</td>\\n      <td>610298</td>\\n      <td>45.32</td>\\n      <td>55.20</td>\\n      <td>75.79</td>\\n      <td>27</td>\\n      <td>100</td>\\n      <td>11.34</td>\\n    </tr>\\n    <tr>\\n      <th>570</th>\\n      <td>Methóni</td>\\n      <td>GR</td>\\n      <td>257122</td>\\n      <td>36.82</td>\\n      <td>21.70</td>\\n      <td>71.01</td>\\n      <td>60</td>\\n      <td>40</td>\\n      <td>7.16</td>\\n    </tr>\\n    <tr>\\n      <th>571</th>\\n      <td>Teknāf</td>\\n      <td>BD</td>\\n      <td>1185095</td>\\n      <td>20.86</td>\\n      <td>92.31</td>\\n      <td>83.16</td>\\n      <td>82</td>\\n      <td>100</td>\\n      <td>5.30</td>\\n    </tr>\\n    <tr>\\n      <th>572</th>\\n      <td>Huarmey</td>\\n      <td>PE</td>\\n      <td>3939168</td>\\n      <td>-10.07</td>\\n      <td>-78.15</td>\\n      <td>71.65</td>\\n      <td>66</td>\\n      <td>42</td>\\n      <td>10.63</td>\\n    </tr>\\n    <tr>\\n      <th>573</th>\\n      <td>Meridian</td>\\n      <td>US</td>\\n      <td>5600685</td>\\n      <td>43.61</td>\\n      <td>-116.39</td>\\n      <td>62.01</td>\\n      <td>72</td>\\n      <td>1</td>\\n      <td>5.82</td>\\n    </tr>\\n    <tr>\\n      <th>574</th>\\n      <td>San-Pédro</td>\\n      <td>CI</td>\\n      <td>2282006</td>\\n      <td>4.75</td>\\n      <td>-6.64</td>\\n      <td>78.87</td>\\n      <td>84</td>\\n      <td>100</td>\\n      <td>7.14</td>\\n    </tr>\\n    <tr>\\n      <th>575</th>\\n      <td>Lagoa</td>\\n      <td>PT</td>\\n      <td>3372964</td>\\n      <td>39.05</td>\\n      <td>-27.98</td>\\n      <td>63.23</td>\\n      <td>73</td>\\n      <td>18</td>\\n      <td>6.62</td>\\n    </tr>\\n    <tr>\\n      <th>576</th>\\n      <td>Rafaela</td>\\n      <td>AR</td>\\n      <td>3839479</td>\\n      <td>-31.25</td>\\n      <td>-61.49</td>\\n      <td>68.00</td>\\n      <td>51</td>\\n      <td>27</td>\\n      <td>1.99</td>\\n    </tr>\\n    <tr>\\n      <th>577</th>\\n      <td>Atbasar</td>\\n      <td>KZ</td>\\n      <td>1526038</td>\\n      <td>51.80</td>\\n      <td>68.33</td>\\n      <td>58.35</td>\\n      <td>56</td>\\n      <td>0</td>\\n      <td>7.34</td>\\n    </tr>\\n    <tr>\\n      <th>578</th>\\n      <td>Portales</td>\\n      <td>US</td>\\n      <td>5484874</td>\\n      <td>34.19</td>\\n      <td>-103.33</td>\\n      <td>91.99</td>\\n      <td>29</td>\\n      <td>1</td>\\n      <td>18.34</td>\\n    </tr>\\n    <tr>\\n      <th>579</th>\\n      <td>General Roca</td>\\n      <td>AR</td>\\n      <td>3855065</td>\\n      <td>-39.03</td>\\n      <td>-67.58</td>\\n      <td>51.80</td>\\n      <td>62</td>\\n      <td>100</td>\\n      <td>6.93</td>\\n    </tr>\\n  </tbody>\\n</table>'"
      ]
     },
     "execution_count": 4,
     "metadata": {},
     "output_type": "execute_result"
    }
   ],
   "source": [
    "data = pd.DataFrame.to_html(data_df)\n",
    "data"
   ]
  },
  {
   "cell_type": "code",
   "execution_count": 5,
   "metadata": {},
   "outputs": [],
   "source": [
    "with open('Data.html', 'w') as fo:\n",
    "    data_df.to_html(fo)"
   ]
  },
  {
   "cell_type": "markdown",
   "metadata": {},
   "source": [
    "### Humidity Heatmap\n",
    "* Configure gmaps.\n",
    "* Use the Lat and Lng as locations and Humidity as the weight.\n",
    "* Add Heatmap layer to map."
   ]
  },
  {
   "cell_type": "code",
   "execution_count": 6,
   "metadata": {},
   "outputs": [
    {
     "data": {
      "text/plain": [
       "pandas.core.frame.DataFrame"
      ]
     },
     "execution_count": 6,
     "metadata": {},
     "output_type": "execute_result"
    }
   ],
   "source": [
    "gmaps.configure(api_key=g_key)\n",
    "data_df = data_df.dropna()\n",
    "\n",
    "locations = data_df[[\"Latitude\", \"Longitude\"]].astype(float)\n",
    "humidity = data_df[\"Humidity\"].astype(float)\n",
    "type(locations)"
   ]
  },
  {
   "cell_type": "code",
   "execution_count": 13,
   "metadata": {},
   "outputs": [
    {
     "name": "stdout",
     "output_type": "stream",
     "text": [
      "Requirement already up-to-date: gmaps in /Users/imacmattimacmatt/Applications/anaconda3/lib/python3.7/site-packages (0.9.0)\n",
      "Requirement already satisfied, skipping upgrade: geojson>=2.0.0 in /Users/imacmattimacmatt/Applications/anaconda3/lib/python3.7/site-packages (from gmaps) (2.5.0)\n",
      "Requirement already satisfied, skipping upgrade: six in /Users/imacmattimacmatt/Applications/anaconda3/lib/python3.7/site-packages (from gmaps) (1.14.0)\n",
      "Requirement already satisfied, skipping upgrade: ipywidgets>=7.0.0 in /Users/imacmattimacmatt/Applications/anaconda3/lib/python3.7/site-packages (from gmaps) (7.5.1)\n",
      "Requirement already satisfied, skipping upgrade: traitlets>=4.3.0 in /Users/imacmattimacmatt/Applications/anaconda3/lib/python3.7/site-packages (from gmaps) (4.3.3)\n",
      "Requirement already satisfied, skipping upgrade: ipython>=5.3.0 in /Users/imacmattimacmatt/Applications/anaconda3/lib/python3.7/site-packages (from gmaps) (7.12.0)\n",
      "Requirement already satisfied, skipping upgrade: widgetsnbextension~=3.5.0 in /Users/imacmattimacmatt/Applications/anaconda3/lib/python3.7/site-packages (from ipywidgets>=7.0.0->gmaps) (3.5.1)\n",
      "Requirement already satisfied, skipping upgrade: ipykernel>=4.5.1 in /Users/imacmattimacmatt/Applications/anaconda3/lib/python3.7/site-packages (from ipywidgets>=7.0.0->gmaps) (5.1.4)\n",
      "Requirement already satisfied, skipping upgrade: nbformat>=4.2.0 in /Users/imacmattimacmatt/Applications/anaconda3/lib/python3.7/site-packages (from ipywidgets>=7.0.0->gmaps) (5.0.4)\n",
      "Requirement already satisfied, skipping upgrade: decorator in /Users/imacmattimacmatt/Applications/anaconda3/lib/python3.7/site-packages (from traitlets>=4.3.0->gmaps) (4.4.1)\n",
      "Requirement already satisfied, skipping upgrade: ipython-genutils in /Users/imacmattimacmatt/Applications/anaconda3/lib/python3.7/site-packages (from traitlets>=4.3.0->gmaps) (0.2.0)\n",
      "Requirement already satisfied, skipping upgrade: jedi>=0.10 in /Users/imacmattimacmatt/Applications/anaconda3/lib/python3.7/site-packages (from ipython>=5.3.0->gmaps) (0.14.1)\n",
      "Requirement already satisfied, skipping upgrade: prompt-toolkit!=3.0.0,!=3.0.1,<3.1.0,>=2.0.0 in /Users/imacmattimacmatt/Applications/anaconda3/lib/python3.7/site-packages (from ipython>=5.3.0->gmaps) (3.0.3)\n",
      "Requirement already satisfied, skipping upgrade: appnope; sys_platform == \"darwin\" in /Users/imacmattimacmatt/Applications/anaconda3/lib/python3.7/site-packages (from ipython>=5.3.0->gmaps) (0.1.0)\n",
      "Requirement already satisfied, skipping upgrade: pexpect; sys_platform != \"win32\" in /Users/imacmattimacmatt/Applications/anaconda3/lib/python3.7/site-packages (from ipython>=5.3.0->gmaps) (4.8.0)\n",
      "Requirement already satisfied, skipping upgrade: setuptools>=18.5 in /Users/imacmattimacmatt/Applications/anaconda3/lib/python3.7/site-packages (from ipython>=5.3.0->gmaps) (46.0.0.post20200309)\n",
      "Requirement already satisfied, skipping upgrade: backcall in /Users/imacmattimacmatt/Applications/anaconda3/lib/python3.7/site-packages (from ipython>=5.3.0->gmaps) (0.1.0)\n",
      "Requirement already satisfied, skipping upgrade: pygments in /Users/imacmattimacmatt/Applications/anaconda3/lib/python3.7/site-packages (from ipython>=5.3.0->gmaps) (2.5.2)\n",
      "Requirement already satisfied, skipping upgrade: pickleshare in /Users/imacmattimacmatt/Applications/anaconda3/lib/python3.7/site-packages (from ipython>=5.3.0->gmaps) (0.7.5)\n",
      "Requirement already satisfied, skipping upgrade: notebook>=4.4.1 in /Users/imacmattimacmatt/Applications/anaconda3/lib/python3.7/site-packages (from widgetsnbextension~=3.5.0->ipywidgets>=7.0.0->gmaps) (6.0.3)\n",
      "Requirement already satisfied, skipping upgrade: jupyter-client in /Users/imacmattimacmatt/Applications/anaconda3/lib/python3.7/site-packages (from ipykernel>=4.5.1->ipywidgets>=7.0.0->gmaps) (5.3.4)\n",
      "Requirement already satisfied, skipping upgrade: tornado>=4.2 in /Users/imacmattimacmatt/Applications/anaconda3/lib/python3.7/site-packages (from ipykernel>=4.5.1->ipywidgets>=7.0.0->gmaps) (6.0.3)\n",
      "Requirement already satisfied, skipping upgrade: jupyter-core in /Users/imacmattimacmatt/Applications/anaconda3/lib/python3.7/site-packages (from nbformat>=4.2.0->ipywidgets>=7.0.0->gmaps) (4.6.1)\n",
      "Requirement already satisfied, skipping upgrade: jsonschema!=2.5.0,>=2.4 in /Users/imacmattimacmatt/Applications/anaconda3/lib/python3.7/site-packages (from nbformat>=4.2.0->ipywidgets>=7.0.0->gmaps) (3.2.0)\n",
      "Requirement already satisfied, skipping upgrade: parso>=0.5.0 in /Users/imacmattimacmatt/Applications/anaconda3/lib/python3.7/site-packages (from jedi>=0.10->ipython>=5.3.0->gmaps) (0.5.2)\n",
      "Requirement already satisfied, skipping upgrade: wcwidth in /Users/imacmattimacmatt/Applications/anaconda3/lib/python3.7/site-packages (from prompt-toolkit!=3.0.0,!=3.0.1,<3.1.0,>=2.0.0->ipython>=5.3.0->gmaps) (0.1.8)\n",
      "Requirement already satisfied, skipping upgrade: ptyprocess>=0.5 in /Users/imacmattimacmatt/Applications/anaconda3/lib/python3.7/site-packages (from pexpect; sys_platform != \"win32\"->ipython>=5.3.0->gmaps) (0.6.0)\n",
      "Requirement already satisfied, skipping upgrade: terminado>=0.8.1 in /Users/imacmattimacmatt/Applications/anaconda3/lib/python3.7/site-packages (from notebook>=4.4.1->widgetsnbextension~=3.5.0->ipywidgets>=7.0.0->gmaps) (0.8.3)\n",
      "Requirement already satisfied, skipping upgrade: Send2Trash in /Users/imacmattimacmatt/Applications/anaconda3/lib/python3.7/site-packages (from notebook>=4.4.1->widgetsnbextension~=3.5.0->ipywidgets>=7.0.0->gmaps) (1.5.0)\n",
      "Requirement already satisfied, skipping upgrade: pyzmq>=17 in /Users/imacmattimacmatt/Applications/anaconda3/lib/python3.7/site-packages (from notebook>=4.4.1->widgetsnbextension~=3.5.0->ipywidgets>=7.0.0->gmaps) (18.1.1)\n",
      "Requirement already satisfied, skipping upgrade: prometheus-client in /Users/imacmattimacmatt/Applications/anaconda3/lib/python3.7/site-packages (from notebook>=4.4.1->widgetsnbextension~=3.5.0->ipywidgets>=7.0.0->gmaps) (0.7.1)\n",
      "Requirement already satisfied, skipping upgrade: nbconvert in /Users/imacmattimacmatt/Applications/anaconda3/lib/python3.7/site-packages (from notebook>=4.4.1->widgetsnbextension~=3.5.0->ipywidgets>=7.0.0->gmaps) (5.6.1)\n",
      "Requirement already satisfied, skipping upgrade: jinja2 in /Users/imacmattimacmatt/Applications/anaconda3/lib/python3.7/site-packages (from notebook>=4.4.1->widgetsnbextension~=3.5.0->ipywidgets>=7.0.0->gmaps) (2.11.1)\n",
      "Requirement already satisfied, skipping upgrade: python-dateutil>=2.1 in /Users/imacmattimacmatt/Applications/anaconda3/lib/python3.7/site-packages (from jupyter-client->ipykernel>=4.5.1->ipywidgets>=7.0.0->gmaps) (2.8.1)\n",
      "Requirement already satisfied, skipping upgrade: importlib-metadata; python_version < \"3.8\" in /Users/imacmattimacmatt/Applications/anaconda3/lib/python3.7/site-packages (from jsonschema!=2.5.0,>=2.4->nbformat>=4.2.0->ipywidgets>=7.0.0->gmaps) (1.5.0)\n",
      "Requirement already satisfied, skipping upgrade: pyrsistent>=0.14.0 in /Users/imacmattimacmatt/Applications/anaconda3/lib/python3.7/site-packages (from jsonschema!=2.5.0,>=2.4->nbformat>=4.2.0->ipywidgets>=7.0.0->gmaps) (0.15.7)\n",
      "Requirement already satisfied, skipping upgrade: attrs>=17.4.0 in /Users/imacmattimacmatt/Applications/anaconda3/lib/python3.7/site-packages (from jsonschema!=2.5.0,>=2.4->nbformat>=4.2.0->ipywidgets>=7.0.0->gmaps) (19.3.0)\n",
      "Requirement already satisfied, skipping upgrade: pandocfilters>=1.4.1 in /Users/imacmattimacmatt/Applications/anaconda3/lib/python3.7/site-packages (from nbconvert->notebook>=4.4.1->widgetsnbextension~=3.5.0->ipywidgets>=7.0.0->gmaps) (1.4.2)\n",
      "Requirement already satisfied, skipping upgrade: testpath in /Users/imacmattimacmatt/Applications/anaconda3/lib/python3.7/site-packages (from nbconvert->notebook>=4.4.1->widgetsnbextension~=3.5.0->ipywidgets>=7.0.0->gmaps) (0.4.4)\n",
      "Requirement already satisfied, skipping upgrade: bleach in /Users/imacmattimacmatt/Applications/anaconda3/lib/python3.7/site-packages (from nbconvert->notebook>=4.4.1->widgetsnbextension~=3.5.0->ipywidgets>=7.0.0->gmaps) (3.1.0)\n",
      "Requirement already satisfied, skipping upgrade: defusedxml in /Users/imacmattimacmatt/Applications/anaconda3/lib/python3.7/site-packages (from nbconvert->notebook>=4.4.1->widgetsnbextension~=3.5.0->ipywidgets>=7.0.0->gmaps) (0.6.0)\n",
      "Requirement already satisfied, skipping upgrade: entrypoints>=0.2.2 in /Users/imacmattimacmatt/Applications/anaconda3/lib/python3.7/site-packages (from nbconvert->notebook>=4.4.1->widgetsnbextension~=3.5.0->ipywidgets>=7.0.0->gmaps) (0.3)\n",
      "Requirement already satisfied, skipping upgrade: mistune<2,>=0.8.1 in /Users/imacmattimacmatt/Applications/anaconda3/lib/python3.7/site-packages (from nbconvert->notebook>=4.4.1->widgetsnbextension~=3.5.0->ipywidgets>=7.0.0->gmaps) (0.8.4)\n",
      "Requirement already satisfied, skipping upgrade: MarkupSafe>=0.23 in /Users/imacmattimacmatt/Applications/anaconda3/lib/python3.7/site-packages (from jinja2->notebook>=4.4.1->widgetsnbextension~=3.5.0->ipywidgets>=7.0.0->gmaps) (1.1.1)\n"
     ]
    },
    {
     "name": "stdout",
     "output_type": "stream",
     "text": [
      "Requirement already satisfied, skipping upgrade: zipp>=0.5 in /Users/imacmattimacmatt/Applications/anaconda3/lib/python3.7/site-packages (from importlib-metadata; python_version < \"3.8\"->jsonschema!=2.5.0,>=2.4->nbformat>=4.2.0->ipywidgets>=7.0.0->gmaps) (2.2.0)\n",
      "Requirement already satisfied, skipping upgrade: webencodings in /Users/imacmattimacmatt/Applications/anaconda3/lib/python3.7/site-packages (from bleach->nbconvert->notebook>=4.4.1->widgetsnbextension~=3.5.0->ipywidgets>=7.0.0->gmaps) (0.5.1)\n",
      "Enabling notebook extension jupyter-gmaps/extension...\n",
      "      - Validating: \u001b[32mOK\u001b[0m\n"
     ]
    },
    {
     "data": {
      "application/vnd.jupyter.widget-view+json": {
       "model_id": "c01d0057d8a949d4b64f9e23d3b22837",
       "version_major": 2,
       "version_minor": 0
      },
      "text/plain": [
       "Figure(layout=FigureLayout(height='420px'))"
      ]
     },
     "metadata": {},
     "output_type": "display_data"
    }
   ],
   "source": [
    "! pip install -U gmaps\n",
    "! jupyter nbextension enable --py --sys-prefix gmaps\n",
    "\n",
    "fig = gmaps.figure()\n",
    "heat_layer = gmaps.heatmap_layer(locations, weights=humidity, dissipating=False, max_intensity=100, point_radius = 3)\n",
    "fig.add_layer(heat_layer)\n",
    "fig\n"
   ]
  },
  {
   "cell_type": "markdown",
   "metadata": {},
   "source": [
    "### Create new DataFrame fitting weather criteria\n",
    "* Narrow down the cities to fit weather conditions.\n",
    "* Drop any rows will null values."
   ]
  },
  {
   "cell_type": "code",
   "execution_count": 15,
   "metadata": {},
   "outputs": [
    {
     "data": {
      "text/html": [
       "<div>\n",
       "<style scoped>\n",
       "    .dataframe tbody tr th:only-of-type {\n",
       "        vertical-align: middle;\n",
       "    }\n",
       "\n",
       "    .dataframe tbody tr th {\n",
       "        vertical-align: top;\n",
       "    }\n",
       "\n",
       "    .dataframe thead th {\n",
       "        text-align: right;\n",
       "    }\n",
       "</style>\n",
       "<table border=\"1\" class=\"dataframe\">\n",
       "  <thead>\n",
       "    <tr style=\"text-align: right;\">\n",
       "      <th></th>\n",
       "      <th>City Name</th>\n",
       "      <th>Country</th>\n",
       "      <th>City ID</th>\n",
       "      <th>Latitude</th>\n",
       "      <th>Longitude</th>\n",
       "      <th>Max Temperature</th>\n",
       "      <th>Humidity</th>\n",
       "      <th>Cloudiness (%)</th>\n",
       "      <th>Wind Speed</th>\n",
       "    </tr>\n",
       "  </thead>\n",
       "  <tbody>\n",
       "    <tr>\n",
       "      <th>9</th>\n",
       "      <td>Horasan</td>\n",
       "      <td>TR</td>\n",
       "      <td>745527</td>\n",
       "      <td>40.05</td>\n",
       "      <td>42.17</td>\n",
       "      <td>53.62</td>\n",
       "      <td>42</td>\n",
       "      <td>0</td>\n",
       "      <td>4.81</td>\n",
       "    </tr>\n",
       "    <tr>\n",
       "      <th>66</th>\n",
       "      <td>Provideniya</td>\n",
       "      <td>RU</td>\n",
       "      <td>4031574</td>\n",
       "      <td>64.38</td>\n",
       "      <td>-173.30</td>\n",
       "      <td>44.80</td>\n",
       "      <td>68</td>\n",
       "      <td>0</td>\n",
       "      <td>3.38</td>\n",
       "    </tr>\n",
       "    <tr>\n",
       "      <th>167</th>\n",
       "      <td>Elliot</td>\n",
       "      <td>ZA</td>\n",
       "      <td>1005781</td>\n",
       "      <td>-31.33</td>\n",
       "      <td>27.85</td>\n",
       "      <td>49.73</td>\n",
       "      <td>46</td>\n",
       "      <td>0</td>\n",
       "      <td>4.94</td>\n",
       "    </tr>\n",
       "    <tr>\n",
       "      <th>313</th>\n",
       "      <td>Altay</td>\n",
       "      <td>CN</td>\n",
       "      <td>1529651</td>\n",
       "      <td>47.87</td>\n",
       "      <td>88.12</td>\n",
       "      <td>40.95</td>\n",
       "      <td>66</td>\n",
       "      <td>0</td>\n",
       "      <td>3.33</td>\n",
       "    </tr>\n",
       "    <tr>\n",
       "      <th>477</th>\n",
       "      <td>Anadyr</td>\n",
       "      <td>RU</td>\n",
       "      <td>2127202</td>\n",
       "      <td>64.75</td>\n",
       "      <td>177.48</td>\n",
       "      <td>51.80</td>\n",
       "      <td>62</td>\n",
       "      <td>0</td>\n",
       "      <td>2.24</td>\n",
       "    </tr>\n",
       "    <tr>\n",
       "      <th>530</th>\n",
       "      <td>Evensk</td>\n",
       "      <td>RU</td>\n",
       "      <td>2125693</td>\n",
       "      <td>61.95</td>\n",
       "      <td>159.23</td>\n",
       "      <td>54.43</td>\n",
       "      <td>45</td>\n",
       "      <td>0</td>\n",
       "      <td>2.35</td>\n",
       "    </tr>\n",
       "  </tbody>\n",
       "</table>\n",
       "</div>"
      ],
      "text/plain": [
       "       City Name Country  City ID  Latitude  Longitude  Max Temperature  \\\n",
       "9        Horasan      TR   745527     40.05      42.17            53.62   \n",
       "66   Provideniya      RU  4031574     64.38    -173.30            44.80   \n",
       "167       Elliot      ZA  1005781    -31.33      27.85            49.73   \n",
       "313        Altay      CN  1529651     47.87      88.12            40.95   \n",
       "477       Anadyr      RU  2127202     64.75     177.48            51.80   \n",
       "530       Evensk      RU  2125693     61.95     159.23            54.43   \n",
       "\n",
       "     Humidity  Cloudiness (%)  Wind Speed  \n",
       "9          42               0        4.81  \n",
       "66         68               0        3.38  \n",
       "167        46               0        4.94  \n",
       "313        66               0        3.33  \n",
       "477        62               0        2.24  \n",
       "530        45               0        2.35  "
      ]
     },
     "execution_count": 15,
     "metadata": {},
     "output_type": "execute_result"
    }
   ],
   "source": [
    "Hotel_df = data_df.loc[(data_df[\"Humidity\"]<70)& (data_df[\"Max Temperature\"]<55)& (data_df[\"Max Temperature\"]\n",
    "                                       >25) & (data_df[\"Wind Speed\"]<5) & (data_df[\"Cloudiness (%)\"]<10)]\n",
    "\n",
    "Hotel_df"
   ]
  },
  {
   "cell_type": "code",
   "execution_count": null,
   "metadata": {},
   "outputs": [],
   "source": [
    "\n"
   ]
  },
  {
   "cell_type": "markdown",
   "metadata": {},
   "source": [
    "### Hotel Map\n",
    "* Store into variable named `hotel_df`.\n",
    "* Add a \"Hotel Name\" column to the DataFrame.\n",
    "* Set parameters to search for hotels with 5000 meters.\n",
    "* Hit the Google Places API for each city's coordinates.\n",
    "* Store the first Hotel result into the DataFrame.\n",
    "* Plot markers on top of the heatmap."
   ]
  },
  {
   "cell_type": "code",
   "execution_count": 16,
   "metadata": {},
   "outputs": [
    {
     "name": "stdout",
     "output_type": "stream",
     "text": [
      "64.38,-173.3, No results for this location\n",
      "61.95,159.23, No results for this location\n",
      "['Aydıner Resort Otel', 'No Hotel near this location', 'The Guardians Lodge', 'Altay Hengfeng Hotel', 'Motel Bar Hut ,, ,,', 'No Hotel near this location']\n"
     ]
    }
   ],
   "source": [
    "# FIND THE HOTEL INFORMATION\n",
    "\n",
    "#Create a Hotel Name List\n",
    "Hotel_Name_List = []\n",
    "#Find Hotels Using Google Maps nearby search\n",
    "locations = Hotel_df[[\"Latitude\", \"Longitude\"]].astype(float)\n",
    "for x in range (len(locations)):\n",
    "    lat=locations.iloc[x,0]\n",
    "    long=locations.iloc[x,1]\n",
    "    \n",
    "    base_url = \"https://maps.googleapis.com/maps/api/place/nearbysearch/json\"\n",
    "\n",
    "    params = {\n",
    "            \"location\": f\"{lat},{long}\",\n",
    "            \"radius\": 5000,\n",
    "            \"keyword\" : \"hotel\",\n",
    "            \"type\": \"hotel\",\n",
    "            \"key\": g_key,\n",
    "    }\n",
    "\n",
    "# Filter out Null Results\n",
    "    response = requests.get(base_url, params=params).json()\n",
    "    results=response[\"results\"]\n",
    "    try: \n",
    "        Hotel_Name = results[1][\"name\"]  \n",
    "        Hotel_Name_List.append(Hotel_Name)\n",
    "    except:\n",
    "        print(f\"{lat},{long}, No results for this location\")\n",
    "        \n",
    "        No_Hotel = \"No Hotel near this location\"\n",
    "        Hotel_Name_List.append(No_Hotel)\n",
    "\n",
    "print(Hotel_Name_List)\n"
   ]
  },
  {
   "cell_type": "code",
   "execution_count": 17,
   "metadata": {},
   "outputs": [
    {
     "name": "stderr",
     "output_type": "stream",
     "text": [
      "/Users/imacmattimacmatt/Applications/anaconda3/lib/python3.7/site-packages/ipykernel_launcher.py:2: SettingWithCopyWarning: \n",
      "A value is trying to be set on a copy of a slice from a DataFrame.\n",
      "Try using .loc[row_indexer,col_indexer] = value instead\n",
      "\n",
      "See the caveats in the documentation: https://pandas.pydata.org/pandas-docs/stable/user_guide/indexing.html#returning-a-view-versus-a-copy\n",
      "  \n"
     ]
    },
    {
     "data": {
      "text/html": [
       "<div>\n",
       "<style scoped>\n",
       "    .dataframe tbody tr th:only-of-type {\n",
       "        vertical-align: middle;\n",
       "    }\n",
       "\n",
       "    .dataframe tbody tr th {\n",
       "        vertical-align: top;\n",
       "    }\n",
       "\n",
       "    .dataframe thead th {\n",
       "        text-align: right;\n",
       "    }\n",
       "</style>\n",
       "<table border=\"1\" class=\"dataframe\">\n",
       "  <thead>\n",
       "    <tr style=\"text-align: right;\">\n",
       "      <th></th>\n",
       "      <th>City Name</th>\n",
       "      <th>Country</th>\n",
       "      <th>City ID</th>\n",
       "      <th>Latitude</th>\n",
       "      <th>Longitude</th>\n",
       "      <th>Max Temperature</th>\n",
       "      <th>Humidity</th>\n",
       "      <th>Cloudiness (%)</th>\n",
       "      <th>Wind Speed</th>\n",
       "      <th>Hotel Name</th>\n",
       "    </tr>\n",
       "  </thead>\n",
       "  <tbody>\n",
       "    <tr>\n",
       "      <th>9</th>\n",
       "      <td>Horasan</td>\n",
       "      <td>TR</td>\n",
       "      <td>745527</td>\n",
       "      <td>40.05</td>\n",
       "      <td>42.17</td>\n",
       "      <td>53.62</td>\n",
       "      <td>42</td>\n",
       "      <td>0</td>\n",
       "      <td>4.81</td>\n",
       "      <td>Aydıner Resort Otel</td>\n",
       "    </tr>\n",
       "    <tr>\n",
       "      <th>66</th>\n",
       "      <td>Provideniya</td>\n",
       "      <td>RU</td>\n",
       "      <td>4031574</td>\n",
       "      <td>64.38</td>\n",
       "      <td>-173.30</td>\n",
       "      <td>44.80</td>\n",
       "      <td>68</td>\n",
       "      <td>0</td>\n",
       "      <td>3.38</td>\n",
       "      <td>No Hotel near this location</td>\n",
       "    </tr>\n",
       "    <tr>\n",
       "      <th>167</th>\n",
       "      <td>Elliot</td>\n",
       "      <td>ZA</td>\n",
       "      <td>1005781</td>\n",
       "      <td>-31.33</td>\n",
       "      <td>27.85</td>\n",
       "      <td>49.73</td>\n",
       "      <td>46</td>\n",
       "      <td>0</td>\n",
       "      <td>4.94</td>\n",
       "      <td>The Guardians Lodge</td>\n",
       "    </tr>\n",
       "    <tr>\n",
       "      <th>313</th>\n",
       "      <td>Altay</td>\n",
       "      <td>CN</td>\n",
       "      <td>1529651</td>\n",
       "      <td>47.87</td>\n",
       "      <td>88.12</td>\n",
       "      <td>40.95</td>\n",
       "      <td>66</td>\n",
       "      <td>0</td>\n",
       "      <td>3.33</td>\n",
       "      <td>Altay Hengfeng Hotel</td>\n",
       "    </tr>\n",
       "    <tr>\n",
       "      <th>477</th>\n",
       "      <td>Anadyr</td>\n",
       "      <td>RU</td>\n",
       "      <td>2127202</td>\n",
       "      <td>64.75</td>\n",
       "      <td>177.48</td>\n",
       "      <td>51.80</td>\n",
       "      <td>62</td>\n",
       "      <td>0</td>\n",
       "      <td>2.24</td>\n",
       "      <td>Motel Bar Hut ,, ,,</td>\n",
       "    </tr>\n",
       "    <tr>\n",
       "      <th>530</th>\n",
       "      <td>Evensk</td>\n",
       "      <td>RU</td>\n",
       "      <td>2125693</td>\n",
       "      <td>61.95</td>\n",
       "      <td>159.23</td>\n",
       "      <td>54.43</td>\n",
       "      <td>45</td>\n",
       "      <td>0</td>\n",
       "      <td>2.35</td>\n",
       "      <td>No Hotel near this location</td>\n",
       "    </tr>\n",
       "  </tbody>\n",
       "</table>\n",
       "</div>"
      ],
      "text/plain": [
       "       City Name Country  City ID  Latitude  Longitude  Max Temperature  \\\n",
       "9        Horasan      TR   745527     40.05      42.17            53.62   \n",
       "66   Provideniya      RU  4031574     64.38    -173.30            44.80   \n",
       "167       Elliot      ZA  1005781    -31.33      27.85            49.73   \n",
       "313        Altay      CN  1529651     47.87      88.12            40.95   \n",
       "477       Anadyr      RU  2127202     64.75     177.48            51.80   \n",
       "530       Evensk      RU  2125693     61.95     159.23            54.43   \n",
       "\n",
       "     Humidity  Cloudiness (%)  Wind Speed                   Hotel Name  \n",
       "9          42               0        4.81          Aydıner Resort Otel  \n",
       "66         68               0        3.38  No Hotel near this location  \n",
       "167        46               0        4.94          The Guardians Lodge  \n",
       "313        66               0        3.33         Altay Hengfeng Hotel  \n",
       "477        62               0        2.24          Motel Bar Hut ,, ,,  \n",
       "530        45               0        2.35  No Hotel near this location  "
      ]
     },
     "execution_count": 17,
     "metadata": {},
     "output_type": "execute_result"
    }
   ],
   "source": [
    "# Check the Hotel DataFrame\n",
    "Hotel_df[\"Hotel Name\"] = Hotel_Name_List\n",
    "Hotel_df\n"
   ]
  },
  {
   "cell_type": "code",
   "execution_count": 18,
   "metadata": {},
   "outputs": [
    {
     "data": {
      "application/vnd.jupyter.widget-view+json": {
       "model_id": "11633f693e544b4bacad529758acab83",
       "version_major": 2,
       "version_minor": 0
      },
      "text/plain": [
       "Figure(layout=FigureLayout(height='420px'))"
      ]
     },
     "metadata": {},
     "output_type": "display_data"
    }
   ],
   "source": [
    "# Map the Top Six Hotels\n",
    "\n",
    "Hotel_layer = gmaps.symbol_layer(\n",
    "    locations, fill_color='rgba(0, 150, 0, 0.4)',\n",
    "    stroke_color='rgba(0, 0, 150, 0.4)', scale=4,\n",
    "    info_box_content= [f\"Hotel Name: {name} \" for name in Hotel_Name_List]\n",
    ")\n",
    "\n",
    "\n",
    "fig = gmaps.figure()\n",
    "fig.add_layer(Hotel_layer)\n",
    "\n",
    "fig\n"
   ]
  },
  {
   "cell_type": "code",
   "execution_count": 19,
   "metadata": {},
   "outputs": [
    {
     "data": {
      "application/vnd.jupyter.widget-view+json": {
       "model_id": "e64c740768574be6bbdca661899b0579",
       "version_major": 2,
       "version_minor": 0
      },
      "text/plain": [
       "Figure(layout=FigureLayout(height='420px'))"
      ]
     },
     "metadata": {},
     "output_type": "display_data"
    }
   ],
   "source": [
    "# Add the Hotel marker layer on top of the heat map\n",
    "fig = gmaps.figure()\n",
    "\n",
    "fig.add_layer(heat_layer)\n",
    "fig.add_layer(Hotel_layer)\n",
    "\n",
    "fig\n",
    "\n",
    "# Display figure\n"
   ]
  },
  {
   "cell_type": "code",
   "execution_count": null,
   "metadata": {},
   "outputs": [],
   "source": []
  },
  {
   "cell_type": "code",
   "execution_count": null,
   "metadata": {},
   "outputs": [],
   "source": []
  },
  {
   "cell_type": "code",
   "execution_count": null,
   "metadata": {},
   "outputs": [],
   "source": []
  },
  {
   "cell_type": "code",
   "execution_count": null,
   "metadata": {},
   "outputs": [],
   "source": []
  },
  {
   "cell_type": "code",
   "execution_count": 101,
   "metadata": {},
   "outputs": [],
   "source": [
    "# THIS IS THE PART I TALKED TO MARK ABOUT AND THEN SKIPPED\n",
    "\n",
    "# # NOTE: Do not change any of the code in this cell\n",
    "\n",
    "# # Using the template add the hotel marks to the heatmap\n",
    "# info_box_template = \"\"\"\n",
    "# <dl>\n",
    "# <dt>Name</dt><dd>{Hotel Name}</dd>\n",
    "# <dt>City</dt><dd>{City Name}</dd>\n",
    "# <dt>Country</dt><dd>{Country}</dd>\n",
    "# </dl>\n",
    "# \"\"\"\n",
    "# # Store the DataFrame Row\n",
    "# # NOTE: be sure to update with your DataFrame name\n",
    "# hotel_info = [info_box_template.format(**row) for index, row in Hotel_df.iterrows()]\n",
    "# locations = Hotel_df[[\"Latitude\", \"Longitude\"]]"
   ]
  },
  {
   "cell_type": "code",
   "execution_count": null,
   "metadata": {},
   "outputs": [],
   "source": []
  }
 ],
 "metadata": {
  "kernelspec": {
   "display_name": "Python 3",
   "language": "python",
   "name": "python3"
  },
  "language_info": {
   "codemirror_mode": {
    "name": "ipython",
    "version": 3
   },
   "file_extension": ".py",
   "mimetype": "text/x-python",
   "name": "python",
   "nbconvert_exporter": "python",
   "pygments_lexer": "ipython3",
   "version": "3.7.6"
  },
  "latex_envs": {
   "LaTeX_envs_menu_present": true,
   "autoclose": false,
   "autocomplete": true,
   "bibliofile": "biblio.bib",
   "cite_by": "apalike",
   "current_citInitial": 1,
   "eqLabelWithNumbers": true,
   "eqNumInitial": 1,
   "hotkeys": {
    "equation": "Ctrl-E",
    "itemize": "Ctrl-I"
   },
   "labels_anchors": false,
   "latex_user_defs": false,
   "report_style_numbering": false,
   "user_envs_cfg": false
  }
 },
 "nbformat": 4,
 "nbformat_minor": 2
}
